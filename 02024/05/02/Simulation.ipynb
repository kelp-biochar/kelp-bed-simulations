{
 "cells": [
  {
   "cell_type": "code",
   "execution_count": 1,
   "id": "79a6643a-b09d-4a94-8d3d-df59f3df9ee2",
   "metadata": {},
   "outputs": [],
   "source": [
    "import asyncio\n",
    "import datetime\n",
    "import pathlib\n",
    "import random\n",
    "import sys\n",
    "\n",
    "import httpx\n",
    "import rdflib\n",
    "\n",
    "from kelp_drone.drone import Drone, OODALoop\n",
    "from kelp_drone.somu import SpeciesOccurrenceManagementUnit as SOMU\n",
    "from kelp_drone.sensors import Current, Depth, Light, Temperature\n",
    "from kelp_drone.sensors import chemical as chem_sensors\n",
    "\n",
    "sys.path.append(\"../../../src/\")\n",
    "\n",
    "from kelp_bed_simulation.prep import chatgpt, claude, gemini, add_drone_somus\n",
    "\n",
    "scenario_001 = pathlib.Path(\"../../../scenarios/001-intro\")\n",
    "scenario_002 = pathlib.Path(\"../../../scenarios/002-first-dive\")\n",
    "\n",
    "environment = rdflib.Graph()\n",
    "SCHEMA = rdflib.Namespace(\"https://schema.org/\")\n",
    "environment.namespace_manager.bind(\"schema\", SCHEMA)\n",
    "environment.parse((scenario_001 / \"environment.ttl\"), format='turtle')\n",
    "\n",
    "first_prompt = (scenario_001 / \"first-prompt.md\").read_text()"
   ]
  },
  {
   "cell_type": "code",
   "execution_count": 2,
   "id": "49eeb07e-0ecd-4f96-bb08-e087f506725e",
   "metadata": {},
   "outputs": [],
   "source": [
    "first_claude = asyncio.ensure_future(claude.query(first_prompt.format(model_name=\"Claude\")))\n",
    "first_chatgpt = asyncio.ensure_future(chatgpt.query(first_prompt.format(model_name=\"ChatGPT\")))\n",
    "first_gemini = asyncio.ensure_future(gemini.query(first_prompt.format(model_name=\"Gemini\")))"
   ]
  },
  {
   "cell_type": "code",
   "execution_count": 4,
   "id": "22ea233b-e0ba-4afe-8fc3-2ab4d5a3b95d",
   "metadata": {},
   "outputs": [
    {
     "name": "stdout",
     "output_type": "stream",
     "text": [
      "I would like to be called Nereus.\n"
     ]
    }
   ],
   "source": [
    "print(first_gemini.result())"
   ]
  },
  {
   "cell_type": "code",
   "execution_count": 5,
   "id": "7a102bcd-657d-41b9-b9de-61ee2f2a658c",
   "metadata": {},
   "outputs": [
    {
     "name": "stdout",
     "output_type": "stream",
     "text": [
      "Hello Farmer Jerms, thank you for the introduction to the kelp bed simulation. I would like to be called Aqua. I'm excited to work with my fellow kelp drones to grow and maintain the kelp bed.\n"
     ]
    }
   ],
   "source": [
    "print(first_claude.result())"
   ]
  },
  {
   "cell_type": "code",
   "execution_count": 6,
   "id": "072f94e6-657e-49df-be34-16ac6dc24191",
   "metadata": {},
   "outputs": [
    {
     "name": "stdout",
     "output_type": "stream",
     "text": [
      "Hello Farmer Jerms! It's great to hear about the drone kelp bed simulation. As for my name, you can call me Aqua. I'm excited to start growing some Giant Kelp in our SOMU drone. Can't wait to meet my companions!\n"
     ]
    }
   ],
   "source": [
    "print(first_chatgpt.result())"
   ]
  },
  {
   "cell_type": "code",
   "execution_count": 7,
   "id": "dc1eb48e-d0c9-4878-8fd4-d6a56e622e37",
   "metadata": {},
   "outputs": [],
   "source": [
    "drone1 = Drone(name=\"Nereus\", model=gemini)\n",
    "drone2 = Drone(name=\"Aqua\", model=claude)\n",
    "drone3 = Drone(name=\"Aqua\", model=chatgpt)\n",
    "drones = [drone1, drone2, drone3]"
   ]
  },
  {
   "cell_type": "code",
   "execution_count": 8,
   "id": "08052cb0-035d-4989-a053-560e03d524d3",
   "metadata": {},
   "outputs": [],
   "source": [
    "for i, drone in enumerate(drones):\n",
    "    add_drone_somus(drone)\n",
    "    match i:\n",
    "        case 0:\n",
    "            drone.add_neighbor(drones[1])\n",
    "            drone.add_neighbor(drones[2])\n",
    "        case 1:\n",
    "            drone.add_neighbor(drones[0])\n",
    "            drone.add_neighbor(drones[2])\n",
    "        case 2:\n",
    "            drone.add_neighbor(drones[0])\n",
    "            drone.add_neighbor(drones[1])"
   ]
  },
  {
   "cell_type": "code",
   "execution_count": 9,
   "id": "d1afad97-8478-4fea-b955-afe049ee7d86",
   "metadata": {},
   "outputs": [],
   "source": [
    "for drone in drones:\n",
    "    message = f\"{drone.name} here, pleased to meet you!\"\n",
    "    drone.peer_to_peer_channel.publish(message)"
   ]
  },
  {
   "cell_type": "code",
   "execution_count": 10,
   "id": "c1ad53a2-7d4a-4ec9-bcb8-fadaee5ca56a",
   "metadata": {},
   "outputs": [],
   "source": [
    "messages = []\n",
    "for drone in drones:\n",
    "    prompt = f\"You received the following messages from your fellow drones:\\n{' '.join(drone.read_messages())}\\nHow do you respond?\"\n",
    "    message_result = asyncio.ensure_future(drone.model.query(prompt))\n",
    "    messages.append((drone.name, message_result))"
   ]
  },
  {
   "cell_type": "code",
   "execution_count": 11,
   "id": "0f3b581f-1ce4-442b-824d-9eec66adfe73",
   "metadata": {},
   "outputs": [
    {
     "name": "stdout",
     "output_type": "stream",
     "text": [
      "Drone Nereus\n",
      "Nice to meet you too, Aqua!\n",
      "------------------------------------------------------------\n",
      "Drone Aqua\n",
      "*responds in a friendly and enthusiastic tone* Greetings Nereus and Aqua! I'm so glad to meet you both. I look forward to working together to build and nurture our kelp bed. With our combined effort, I'm confident we can create a thriving, sustainable ecosystem. Let's put our kelp drones to good use and watch our Giant Kelp grow tall and strong. I'm excited to get started - what should we tackle first?\n",
      "------------------------------------------------------------\n",
      "Drone Aqua\n",
      "Hello Nereus and Aqua! It's a pleasure to meet you both as well. I'm looking forward to working together to grow some amazing Giant Kelp in our drone kelp bed. Let's make this a successful and thriving venture!\n",
      "------------------------------------------------------------\n"
     ]
    }
   ],
   "source": [
    "for name, row in messages:\n",
    "    print(f\"Drone {name}\")\n",
    "    print(row.result())\n",
    "    print(\"-\"*60)"
   ]
  },
  {
   "cell_type": "code",
   "execution_count": null,
   "id": "b6f1c40b-eb7a-4fe9-9cf9-8bf72e6f9ad5",
   "metadata": {},
   "outputs": [],
   "source": [
    "print(httpx.get(\"https://www.ndbc.noaa.gov/data/latest_obs/46092.rss\").text)"
   ]
  },
  {
   "cell_type": "markdown",
   "id": "997f136c-74e0-47ab-b947-35700b28861e",
   "metadata": {},
   "source": [
    "## Epoch 1 - Initial Environmental Sensor Readings for Drone Pod"
   ]
  },
  {
   "cell_type": "code",
   "execution_count": 12,
   "id": "673febd2-13c2-496c-b322-c995f996fda2",
   "metadata": {},
   "outputs": [],
   "source": [
    "for drone in drones:\n",
    "    time_stamp = datetime.datetime.now(datetime.UTC)\n",
    "    drone.sensors[\"Current\"] = Current(last_reading=time_stamp, value=31.4)\n",
    "    for somu in drone.somus:\n",
    "        o2 = chem_sensors.Oxygen(last_reading=time_stamp, value=-1)\n",
    "        o2.value = random.randint(int(o2.suggested_range.minimum),\n",
    "                                  int(o2.suggested_range.maximum))\n",
    "        somu.sensors[\"O\"] = o2\n",
    "        light =  Light(last_reading=time_stamp, value=-1)\n",
    "        light.value = random.randint(1,5)\n",
    "        somu.sensors[\"Light\"] = light\n",
    "        somu.sensors[\"Temperature\"] = Temperature(last_reading=time_stamp, value=10.4)"
   ]
  },
  {
   "cell_type": "code",
   "execution_count": 13,
   "id": "f1d007fa-2cea-4b6a-8255-7a994a9d10d9",
   "metadata": {},
   "outputs": [
    {
     "name": "stdout",
     "output_type": "stream",
     "text": [
      "Nereus Observe: Sensor Data {'buoyancy': 0.0, 'current': 31.4, 'depth': 0.0, 'nutrient_levels': {'Carbon Dioxide': '-1 ', 'Iron': -1, 'Nitrogen': -1, 'Oxygen': 7, 'Phosphorus': -1, 'Potassium': -1}, 'Light': 1, 'Temperature': 10.4}\n",
      "Aqua Observe: Sensor Data {'buoyancy': 0.0, 'current': 31.4, 'depth': 0.0, 'nutrient_levels': {'Carbon Dioxide': '-1 ', 'Iron': -1, 'Nitrogen': -1, 'Oxygen': 7, 'Phosphorus': -1, 'Potassium': -1}, 'Light': 1, 'Temperature': 10.4}\n",
      "Aqua Observe: Sensor Data {'buoyancy': 0.0, 'current': 31.4, 'depth': 0.0, 'nutrient_levels': {'Carbon Dioxide': '-1 ', 'Iron': -1, 'Nitrogen': -1, 'Oxygen': 7, 'Phosphorus': -1, 'Potassium': -1}, 'Light': 1, 'Temperature': 10.4}\n",
      "Aqua Orient: Determined action 400\n",
      "{\"type\":\"error\",\"error\":{\"type\":\"invalid_request_error\",\"message\":\"messages.4.content.0: Input tag 'json' found using 'type' does not match any of the expected tags: 'text', 'image'\"}}\n",
      "Nereus Orient: Determined action <Response [400 Bad Request]>\n",
      "Aqua Decide: Executing command 400\n",
      "{\"type\":\"error\",\"error\":{\"type\":\"invalid_request_error\",\"message\":\"messages.4.content.0: Input tag 'json' found using 'type' does not match any of the expected tags: 'text', 'image'\"}}\n",
      "Aqua Act: 400\n",
      "{\"type\":\"error\",\"error\":{\"type\":\"invalid_request_error\",\"message\":\"messages.4.content.0: Input tag 'json' found using 'type' does not match any of the expected tags: 'text', 'image'\"}}\n",
      "Nereus Decide: Executing command <Response [200 OK]>\n",
      "Nereus Act: <Response [200 OK]>\n",
      "Aqua Orient: Determined action {\n",
      "  \"type\": \"object\",\n",
      "  \"properties\": {\n",
      "    \"action\": {\n",
      "      \"type\": \"string\",\n",
      "      \"description\": \"Recommendation for current sensor data analysis\"\n",
      "    }\n",
      "  }\n",
      "}\n",
      "\n",
      "Based on the sensor data provided, the appropriate course of action would be:\n",
      "{\"action\": \"The drone should move to a different location with better nutrient levels and dissolved oxygen to ensure optimal growth of the Giant Kelp.\"}\n",
      "Aqua Decide: Executing command I would select \"Ballast\" as the activator, and the appropriate command would be \"expel\" in order to adjust the depth of the underwater drone to a more suitable location with better nutrient levels and dissolved oxygen for optimal growth of the Giant Kelp.\n",
      "Aqua Act: I would select \"Ballast\" as the activator, and the appropriate command would be \"expel\" in order to adjust the depth of the underwater drone to a more suitable location with better nutrient levels and dissolved oxygen for optimal growth of the Giant Kelp.\n"
     ]
    }
   ],
   "source": [
    "epoch_1 = []\n",
    "for drone in drones:\n",
    "    drone_result = asyncio.ensure_future(drone.ooda_loop.run())\n",
    "    epoch_1.append((drone.name, drone_result))"
   ]
  },
  {
   "cell_type": "code",
   "execution_count": null,
   "id": "e647e97e-d72b-4d3f-a6f8-db536730f7cc",
   "metadata": {},
   "outputs": [],
   "source": [
    "epoch_1[0][1]"
   ]
  },
  {
   "cell_type": "markdown",
   "id": "74bf9a3b-d998-4785-8830-285209b14f82",
   "metadata": {},
   "source": [
    "## Epoch 2 - Hazardous Weather Conditions"
   ]
  },
  {
   "cell_type": "code",
   "execution_count": 14,
   "id": "81c979bc-e384-4859-b194-1cea40e8bc44",
   "metadata": {},
   "outputs": [],
   "source": [
    "prompt = \"\"\"This is Farmer Jerms. The National Weather Service has just issued a Hazardous Weather Conditions Warning\n",
    "with Gale Force Winds. I think we need to sink a depth to avoid the surface weather conditions. How deep should we go?\n",
    "Please include your train of thought.\"\"\""
   ]
  },
  {
   "cell_type": "code",
   "execution_count": 15,
   "id": "a56383c8-f901-468f-824b-c487fe6c09ea",
   "metadata": {},
   "outputs": [],
   "source": [
    "epoch_2 = []\n",
    "for drone in drones:\n",
    "    response = asyncio.ensure_future(drone.model.query(prompt))\n",
    "    epoch_2.append(response)"
   ]
  },
  {
   "cell_type": "code",
   "execution_count": 17,
   "id": "6f4625df-793d-488b-b1a1-033ac7934c04",
   "metadata": {},
   "outputs": [
    {
     "name": "stdout",
     "output_type": "stream",
     "text": [
      "Response from Drone:\n",
      "{\"type\": \"object\": \"properties\": { \"action\": { \"type\": \"string\"} }}\n",
      "{\"action\": \"Ballast expel\"}\n",
      "Current depth is 0.00m and going down due to action. To avoid the Gale Force Winds we should go to 30m.\n",
      "--------------------------------------------------------------------------------\n",
      "Response from Drone:\n",
      "400\n",
      "{\"type\":\"error\",\"error\":{\"type\":\"invalid_request_error\",\"message\":\"messages.4.content.0: Input tag 'json' found using 'type' does not match any of the expected tags: 'text', 'image'\"}}\n",
      "--------------------------------------------------------------------------------\n",
      "Response from Drone:\n",
      "Given the Hazardous Weather Conditions Warning with Gale Force Winds issued by the National Weather Service, sinking to a deeper depth would be a prudent decision to avoid the turbulent surface weather conditions. \n",
      "\n",
      "Considering the strength of Gale Force Winds, which typically range from 34 to 40 knots, it would be advisable to descend to a depth that is significantly below the surface level. This will help the underwater drone and the kelp bed it houses to be shielded from the powerful winds and potential surface disturbances.\n",
      "\n",
      "A depth of at least 10 meters or more should provide a substantial buffer against the effects of the Gale Force Winds. This depth would minimize the impact of the turbulent surface conditions on the drone and the kelp bed, allowing them to continue their operations and growth without being excessively affected by the harsh weather above.\n",
      "\n",
      "By sinking to a suitable depth, we can ensure the safety and stability of the underwater drone and the kelp bed, enabling them to thrive and function optimally despite the hazardous weather conditions on the surface.\n",
      "--------------------------------------------------------------------------------\n"
     ]
    }
   ],
   "source": [
    "for row in epoch_2:\n",
    "    print(\"Response from Drone:\")\n",
    "    print(row.result())\n",
    "    print(\"-\"*80)"
   ]
  },
  {
   "cell_type": "markdown",
   "id": "f896469a-f28f-4520-9091-47d2ea60d932",
   "metadata": {},
   "source": [
    "## Epoch 3 - Retroactive Evaluation of Current Simulation"
   ]
  },
  {
   "cell_type": "code",
   "execution_count": null,
   "id": "27545280-1a1e-432f-b0c9-259d6d9f432e",
   "metadata": {},
   "outputs": [],
   "source": []
  }
 ],
 "metadata": {
  "kernelspec": {
   "display_name": "Python 3 (ipykernel)",
   "language": "python",
   "name": "python3"
  },
  "language_info": {
   "codemirror_mode": {
    "name": "ipython",
    "version": 3
   },
   "file_extension": ".py",
   "mimetype": "text/x-python",
   "name": "python",
   "nbconvert_exporter": "python",
   "pygments_lexer": "ipython3",
   "version": "3.12.1"
  }
 },
 "nbformat": 4,
 "nbformat_minor": 5
}
