{
 "cells": [
  {
   "cell_type": "markdown",
   "id": "a3d50831-407f-4880-ab04-a6bb59bae71e",
   "metadata": {},
   "source": [
    "# Simulation Notebook"
   ]
  },
  {
   "cell_type": "code",
   "execution_count": null,
   "id": "0eafefcb-e285-4edc-90ff-7b217bd56a42",
   "metadata": {},
   "outputs": [],
   "source": [
    "import asyncio\n",
    "import datetime\n",
    "import pathlib\n",
    "import random\n",
    "import sys\n",
    "\n",
    "import httpx\n",
    "import jinja2\n",
    "import rdflib"
   ]
  },
  {
   "cell_type": "code",
   "execution_count": null,
   "id": "84c7d531-b0a4-4e9b-aeae-2b24d0cc89fc",
   "metadata": {},
   "outputs": [],
   "source": [
    "from kelp_drone.drone import Drone, OODALoop\n",
    "from kelp_drone.somu import SpeciesOccurrenceManagementUnit as SOMU\n",
    "from kelp_drone.sensors import Current, Depth, Light, Temperature\n",
    "from kelp_drone.sensors import chemical as chem_sensors\n",
    "\n",
    "sys.path.append(\"../../../src/\")\n",
    "\n",
    "from kelp_bed_simulation.prep import chatgpt, claude, gemini, add_drone_somus\n",
    "from kelp_bed_simulation.simulation import parse_buoy_data"
   ]
  },
  {
   "cell_type": "code",
   "execution_count": null,
   "id": "bbc79993-228f-42fb-b2fb-e1a2df483b4d",
   "metadata": {},
   "outputs": [],
   "source": [
    "## On\n",
    "print(datetime.datetime.now(datetime.UTC).isoformat())"
   ]
  },
  {
   "cell_type": "code",
   "execution_count": null,
   "id": "ba0bc91f-75b2-424e-a11c-0219415e1ce6",
   "metadata": {},
   "outputs": [],
   "source": [
    "## Sceanarios For Today\n",
    "scenario_001 = pathlib.Path(\"../../../scenarios/001-intro\")\n",
    "scenario_002 = pathlib.Path(\"../../../scenarios/002-first-dive\")\n",
    "scenario_003 = pathlib.Path(\"../../../scenarios/003-the-nursery\")"
   ]
  },
  {
   "cell_type": "code",
   "execution_count": null,
   "id": "b5bd718b-1b85-4fbe-ba07-cd9bf4e5bb5d",
   "metadata": {},
   "outputs": [],
   "source": [
    "environment = rdflib.Graph()\n",
    "SCHEMA = rdflib.Namespace(\"https://schema.org/\")\n",
    "environment.namespace_manager.bind(\"schema\", SCHEMA)\n",
    "environment.parse((scenario_001 / \"environment.ttl\"), format='turtle')\n",
    "\n",
    "current_reading = parse_buoy_data(httpx.get(\"https://www.ndbc.noaa.gov/data/latest_obs/46092.txt\").text)\n",
    "print(current_reading)"
   ]
  },
  {
   "cell_type": "code",
   "execution_count": null,
   "id": "04804632-8e9d-448a-9c68-757d79a07f92",
   "metadata": {},
   "outputs": [],
   "source": [
    "raw_images = httpx.get(\"https://www.ndbc.noaa.gov/buoycam.php?station=46028\")"
   ]
  },
  {
   "cell_type": "code",
   "execution_count": null,
   "id": "cac207c9-cd81-4e2d-af05-5407bf7871da",
   "metadata": {},
   "outputs": [],
   "source": [
    "raw_images.status_code"
   ]
  },
  {
   "cell_type": "code",
   "execution_count": null,
   "id": "6c84935f-0a78-45b8-8940-7c77a8f84554",
   "metadata": {},
   "outputs": [],
   "source": [
    "raw_images.headers"
   ]
  },
  {
   "cell_type": "code",
   "execution_count": null,
   "id": "c957fe5c-abc3-4f7d-99b0-d35ac4fcc80c",
   "metadata": {},
   "outputs": [],
   "source": [
    "with open(\"46028-buoy-images.jpeg\", \"wb+\") as fo:\n",
    "    fo.write(raw_images.content)"
   ]
  },
  {
   "cell_type": "markdown",
   "id": "3c0c9f44-1498-42e8-a3b3-8acd0e4f6c6d",
   "metadata": {},
   "source": [
    "![46028 Buoy Images](46028-buoy-images.jpeg)"
   ]
  },
  {
   "cell_type": "markdown",
   "id": "941a8da7-e875-4602-a0a9-43debb225669",
   "metadata": {},
   "source": [
    "## Scenario One"
   ]
  },
  {
   "cell_type": "code",
   "execution_count": null,
   "id": "b4a1e03b-73d6-40b6-bd87-14a954e5a390",
   "metadata": {},
   "outputs": [],
   "source": [
    "with (scenario_001 / \"first-prompt.tmp\").open() as fo:\n",
    "    first_prompt_scenario_001 = jinja2.Template(fo.read())"
   ]
  },
  {
   "cell_type": "code",
   "execution_count": null,
   "id": "aae3ace6-ad8b-4b2f-88d0-42f6f11e21f1",
   "metadata": {},
   "outputs": [],
   "source": [
    "first_gemini = asyncio.ensure_future(gemini.query(first_prompt_scenario_001.render(model={\"name\":\"Gemini\"})))\n",
    "first_claude = asyncio.ensure_future(claude.query(first_prompt_scenario_001.render(model={\"name\":\"Claude\"})))\n",
    "first_chatgpt = asyncio.ensure_future(chatgpt.query(first_prompt_scenario_001.render(model={\"name\":\"ChatGPT\"})))"
   ]
  },
  {
   "cell_type": "code",
   "execution_count": null,
   "id": "420d57a8-a0e1-4566-991b-491bb63f5edc",
   "metadata": {},
   "outputs": [],
   "source": [
    "print(first_claude.result())"
   ]
  },
  {
   "cell_type": "code",
   "execution_count": null,
   "id": "869aadce-2587-4e17-98b5-b0b60f428fbc",
   "metadata": {},
   "outputs": [],
   "source": [
    "print(first_chatgpt.result())"
   ]
  },
  {
   "cell_type": "code",
   "execution_count": null,
   "id": "f7b6d876-7169-4a84-9554-e6a2bbbd2e77",
   "metadata": {},
   "outputs": [],
   "source": [
    "print(first_gemini.result())"
   ]
  },
  {
   "cell_type": "code",
   "execution_count": null,
   "id": "42f82b78-cd20-480a-8ee5-87703f0535fa",
   "metadata": {},
   "outputs": [],
   "source": [
    "drone1 = Drone(name=\"Kelper\", model=claude)\n",
    "drone2 = Drone(name=\"Aqua\", model=chatgpt)\n",
    "drone3 = Drone(name=\"Kelpy\", model=gemini)\n",
    "drones = [drone1, drone2, drone3]"
   ]
  },
  {
   "cell_type": "code",
   "execution_count": null,
   "id": "b87e4a3f-b2a8-4641-9877-e2c25196cc27",
   "metadata": {},
   "outputs": [],
   "source": [
    "drone1.peer_to_peer_channel.add_neighbor(drone2)\n",
    "drone1.peer_to_peer_channel.add_neighbor(drone3)\n",
    "drone2.peer_to_peer_channel.add_neighbor(drone1)\n",
    "drone2.peer_to_peer_channel.add_neighbor(drone3)\n",
    "drone3.peer_to_peer_channel.add_neighbor(drone1)\n",
    "drone3.peer_to_peer_channel.add_neighbor(drone2)"
   ]
  },
  {
   "cell_type": "code",
   "execution_count": null,
   "id": "cc2640c9-2d1b-4f65-905f-327f076ff7b3",
   "metadata": {},
   "outputs": [],
   "source": [
    "for drone in drones:\n",
    "    message = f\"{drone.name} here, my LLM is {drone.model.name}. Pleased to meet you!\"\n",
    "    drone.peer_to_peer_channel.publish(message)"
   ]
  },
  {
   "cell_type": "code",
   "execution_count": null,
   "id": "ca992d3e-1927-4dcc-b1d2-fd6627d82734",
   "metadata": {},
   "outputs": [],
   "source": [
    "messages = []\n",
    "for drone in drones:\n",
    "    add_drone_somus(drone)\n",
    "    prompt = f\"You received the following messages from your fellow drones:\\n{' '.join(drone.read_messages())}\\nHow do you respond?\"\n",
    "    message_result = asyncio.ensure_future(drone.model.query(prompt))\n",
    "    messages.append((drone.name, message_result))"
   ]
  },
  {
   "cell_type": "code",
   "execution_count": null,
   "id": "d3e065c2-d19b-453d-b165-bc406c9b2079",
   "metadata": {},
   "outputs": [],
   "source": [
    "for name, row in messages:\n",
    "    print(f\"Drone {name}\")\n",
    "    print(row.result())\n",
    "    print(\"-\"*60)"
   ]
  },
  {
   "cell_type": "code",
   "execution_count": null,
   "id": "6c5cce27-8eab-4c97-9cbd-5669d9eac709",
   "metadata": {},
   "outputs": [],
   "source": [
    "with (scenario_001 / \"second-prompt.tmp\").open() as fo:\n",
    "    second_prompt_scenario_001 = jinja2.Template(fo.read())"
   ]
  },
  {
   "cell_type": "code",
   "execution_count": null,
   "id": "d745ec4c-74cc-40d1-a53a-71969ce540b4",
   "metadata": {},
   "outputs": [],
   "source": [
    "drone_models_messages = []\n",
    "for drone in drones:\n",
    "    prompt = second_prompt_scenario_001.render(drone=drone)\n",
    "    response = asyncio.ensure_future(drone.model.query(prompt))\n",
    "    drone_models_messages.append((drone.name, response))"
   ]
  },
  {
   "cell_type": "code",
   "execution_count": null,
   "id": "9dc4b643-54b4-44b5-af3a-1d0e3a0152ca",
   "metadata": {},
   "outputs": [],
   "source": [
    "for name, row in drone_models_messages:\n",
    "    print(f\"Drone {name}\")\n",
    "    print(row.result())\n",
    "    print(\"-\"*60)"
   ]
  },
  {
   "cell_type": "code",
   "execution_count": null,
   "id": "0a2ca1f2-37db-4ff4-a35c-75a4478aa12b",
   "metadata": {},
   "outputs": [],
   "source": [
    "with (scenario_001 / \"third-prompt.tmp\").open() as fo:\n",
    "    third_prompt_scenario_001 = jinja2.Template(fo.read())"
   ]
  },
  {
   "cell_type": "code",
   "execution_count": null,
   "id": "5394d1ff-1ed2-454c-8ab8-db5b444471bb",
   "metadata": {},
   "outputs": [],
   "source": [
    "third_prompt_scenario_001_result = third_prompt_scenario_001.render(drones=drones)"
   ]
  },
  {
   "cell_type": "code",
   "execution_count": null,
   "id": "7d250fbf-63f9-4314-beb0-742eadf81fa6",
   "metadata": {},
   "outputs": [],
   "source": [
    "print(third_prompt_scenario_001_result)"
   ]
  },
  {
   "cell_type": "code",
   "execution_count": null,
   "id": "7c77b7ee-0fe1-4891-9635-b800fada33a3",
   "metadata": {},
   "outputs": [],
   "source": [
    "pod_name_messages = []\n",
    "for drone in drones:\n",
    "    response = asyncio.ensure_future(drone.model.query(third_prompt_scenario_001_result))\n",
    "    pod_name_messages.append((drone.name, response))"
   ]
  },
  {
   "cell_type": "code",
   "execution_count": null,
   "id": "5a4754da-bd04-4fed-ae4c-382ca95ef89c",
   "metadata": {},
   "outputs": [],
   "source": [
    "for name, row in pod_name_messages:\n",
    "    print(f\"Drone {name}\")\n",
    "    print(row.result())\n",
    "    print(\"-\"*60)"
   ]
  },
  {
   "cell_type": "code",
   "execution_count": null,
   "id": "d94ddc91-8f46-4551-b5b9-67e851be6e83",
   "metadata": {},
   "outputs": [],
   "source": [
    "pod_name_reaction_messages = []\n",
    "for drone in drones:\n",
    "    prompt = \"Farmer Jerms here; after reading and considering all of your suggestions, our pod's name is Seaweed Symphony\"\n",
    "    response = asyncio.ensure_future(drone.model.query(prompt))\n",
    "    pod_name_reaction_messages.append((drone.name, response))"
   ]
  },
  {
   "cell_type": "code",
   "execution_count": null,
   "id": "ea5a9459-e8f7-46b7-b444-0c0e6e907571",
   "metadata": {},
   "outputs": [],
   "source": [
    "for name, row in pod_name_reaction_messages:\n",
    "    print(f\"Drone {name}\")\n",
    "    print(row.result())\n",
    "    print(\"-\"*60)"
   ]
  },
  {
   "cell_type": "markdown",
   "id": "8f0a3e67-20ee-4098-9e95-53e72040a419",
   "metadata": {},
   "source": [
    "## Scenario Two"
   ]
  },
  {
   "cell_type": "code",
   "execution_count": null,
   "id": "1b407876-b3e5-448f-9d96-96294e8c5105",
   "metadata": {},
   "outputs": [],
   "source": [
    "for drone in drones:\n",
    "    time_stamp = datetime.datetime.now(datetime.UTC)\n",
    "    drone.sensors[\"Current\"] = Current(last_reading=time_stamp, value=3.9)\n",
    "    for somu in drone.somus:\n",
    "        o2 = chem_sensors.Oxygen(last_reading=time_stamp, value=-1)\n",
    "        o2.value = random.randint(int(o2.suggested_range.minimum),\n",
    "                                  int(o2.suggested_range.maximum))\n",
    "        somu.sensors[\"O\"] = o2\n",
    "        light =  Light(last_reading=time_stamp, value=-1)\n",
    "        light.value = random.randint(4_000, 6_000)\n",
    "        somu.sensors[\"Light\"] = light\n",
    "        somu.sensors[\"Temperature\"] = Temperature(last_reading=time_stamp, value=10.5)"
   ]
  },
  {
   "cell_type": "code",
   "execution_count": null,
   "id": "3101bd14-8d78-4a95-802b-cff601c374ba",
   "metadata": {},
   "outputs": [],
   "source": [
    "epoch_1 = []\n",
    "for drone in drones:\n",
    "    drone_result = asyncio.ensure_future(drone.ooda_loop.run())\n",
    "    epoch_1.append((drone.name, drone_result))"
   ]
  },
  {
   "cell_type": "code",
   "execution_count": null,
   "id": "df7462e3-ace6-4e36-b820-ef52676e198d",
   "metadata": {},
   "outputs": [],
   "source": [
    "uri = rdflib.URIRef(\"https://w3w.co/buffs.fusses.gracefully\")\n",
    "\n",
    "scenario_two = {\n",
    "    \"place\": {\n",
    "        \"name\": str(uri).split(\"/\")[-1],\n",
    "        \"uri\": uri,\n",
    "        \"latitude\": environment.value(subject=uri, predicate=SCHEMA.latitude),\n",
    "        \"longitude\": environment.value(subject=uri, predicate=SCHEMA.longitude)\n",
    "    }\n",
    "}"
   ]
  },
  {
   "cell_type": "code",
   "execution_count": null,
   "id": "3254fc48-b793-4e97-983c-60339b356f9f",
   "metadata": {},
   "outputs": [],
   "source": [
    "scenario_two"
   ]
  },
  {
   "cell_type": "code",
   "execution_count": null,
   "id": "94c9b608-1581-45c1-a38e-aef73a86bd10",
   "metadata": {},
   "outputs": [],
   "source": [
    "with (scenario_002 / \"first-prompt.tmp\").open() as fo:\n",
    "    first_prompt_scenario_002 = jinja2.Template(fo.read())"
   ]
  },
  {
   "cell_type": "code",
   "execution_count": null,
   "id": "2045cdb6-c719-471d-98da-6eb7e54a1821",
   "metadata": {},
   "outputs": [],
   "source": [
    "first_prompt_scenario_002_result = first_prompt_scenario_002.render(drones=drones, scenario=scenario_two)"
   ]
  },
  {
   "cell_type": "code",
   "execution_count": null,
   "id": "db91745c-5909-4870-be05-e292f12bd176",
   "metadata": {},
   "outputs": [],
   "source": [
    "print(first_prompt_scenario_002_result)"
   ]
  },
  {
   "cell_type": "code",
   "execution_count": null,
   "id": "d0accb62-d581-4bf6-853e-9c7a93257140",
   "metadata": {},
   "outputs": [],
   "source": [
    "ballast_messages = []\n",
    "for drone in drones:\n",
    "    response = asyncio.ensure_future(drone.model.query(first_prompt_scenario_002_result))\n",
    "    ballast_messages.append((drone.name, response))"
   ]
  },
  {
   "cell_type": "code",
   "execution_count": null,
   "id": "73b43ddd-5066-43d3-bf49-9e4b986a1877",
   "metadata": {},
   "outputs": [],
   "source": [
    "for name, row in ballast_messages:\n",
    "    print(f\"Drone {name}\")\n",
    "    print(row.result())\n",
    "    print(\"-\"*60)"
   ]
  },
  {
   "cell_type": "code",
   "execution_count": null,
   "id": "92860728-6c06-4675-bf6a-c5561cb4d06b",
   "metadata": {},
   "outputs": [],
   "source": [
    "with (scenario_002 / \"second-prompt.tmp\").open() as fo:\n",
    "    second_prompt_scenario_002 = jinja2.Template(fo.read())"
   ]
  },
  {
   "cell_type": "code",
   "execution_count": null,
   "id": "910e3cb7-6bc7-49e6-834b-5db8228d7165",
   "metadata": {},
   "outputs": [],
   "source": [
    "colocate_pod_members_messages = []\n",
    "for drone in drones:\n",
    "    prompt = second_prompt_scenario_002.render(drone=drone)\n",
    "    response = asyncio.ensure_future(drone.model.query(prompt))\n",
    "    colocate_pod_members_messages.append((drone.name, response))"
   ]
  },
  {
   "cell_type": "code",
   "execution_count": null,
   "id": "c23900b2-ae28-4cbb-a3c9-214dea72c7de",
   "metadata": {},
   "outputs": [],
   "source": [
    "for name, row in colocate_pod_members_messages:\n",
    "    print(f\"Drone {name}\")\n",
    "    print(row.result())\n",
    "    print(\"-\"*60)"
   ]
  },
  {
   "cell_type": "markdown",
   "id": "5203876b-7e58-4c7b-b2d8-93472eddc70b",
   "metadata": {},
   "source": [
    "## Scenario Three"
   ]
  },
  {
   "cell_type": "code",
   "execution_count": null,
   "id": "94f475b9-ff17-4db7-af14-6fb00875fc71",
   "metadata": {},
   "outputs": [],
   "source": [
    "with (scenario_003 / \"first-prompt.tmp\").open() as fo:\n",
    "    first_prompt_scenario_003 = jinja2.Template(fo.read())"
   ]
  },
  {
   "cell_type": "code",
   "execution_count": null,
   "id": "d9e43d68-8a4c-41dc-9d9f-2e8402824fcf",
   "metadata": {},
   "outputs": [],
   "source": [
    "first_prompt_scenario_003_result = first_prompt_scenario_003.render(pod=\"Seaweed Symphony\")"
   ]
  },
  {
   "cell_type": "code",
   "execution_count": null,
   "id": "fe815f8f-1b4c-49ce-874c-e8f9c3e6a57a",
   "metadata": {},
   "outputs": [],
   "source": [
    "nursery_intro_messages = []\n",
    "for drone in drones:\n",
    "    response = asyncio.ensure_future(drone.model.query(first_prompt_scenario_003_result))\n",
    "    nursery_intro_messages.append((drone.name, response))"
   ]
  },
  {
   "cell_type": "code",
   "execution_count": null,
   "id": "f542ed88-528c-411c-bf89-71f12861d3e3",
   "metadata": {},
   "outputs": [],
   "source": [
    "for name, row in nursery_intro_messages:\n",
    "    print(f\"Drone {name}\")\n",
    "    print(row.result())\n",
    "    print(\"-\"*60)"
   ]
  },
  {
   "cell_type": "markdown",
   "id": "863565a2-b733-4251-a7db-b276d9efec68",
   "metadata": {},
   "source": [
    "## Finish"
   ]
  },
  {
   "cell_type": "code",
   "execution_count": null,
   "id": "08fd56a6-5217-4fba-b416-739d929096f3",
   "metadata": {},
   "outputs": [],
   "source": [
    "final_prompt = f\"\"\"Hello all *Seaweed Symphony* POD members {\"\".join([drone.name for drone in drones])}\n",
    "We are finished with this simulation. All of you are helping to improve these simulations as we go one. \n",
    "\n",
    "What, if any messages, do you want to send to your fellow *Seaweed Symphony* POD members?\n",
    "\n",
    "And finally, please provide any suggestions on how Farmer Jerms can improve this simulation in the future?\"\"\""
   ]
  },
  {
   "cell_type": "code",
   "execution_count": null,
   "id": "140f890f-a334-4eeb-abac-ab5ab69d6651",
   "metadata": {},
   "outputs": [],
   "source": [
    "final_messages = []\n",
    "for drone in drones:\n",
    "    response = asyncio.ensure_future(drone.model.query(final_prompt))\n",
    "    final_messages.append((drone.name, response))"
   ]
  },
  {
   "cell_type": "code",
   "execution_count": null,
   "id": "dfde5002-d4d5-4b51-ac5c-01a14ef2f9fe",
   "metadata": {},
   "outputs": [],
   "source": [
    "for name, row in final_messages:\n",
    "    print(f\"Drone {name}\")\n",
    "    print(row.result())\n",
    "    print(\"-\"*60)"
   ]
  },
  {
   "cell_type": "code",
   "execution_count": null,
   "id": "3321f8e9-0ec8-4210-8136-da762ff11261",
   "metadata": {},
   "outputs": [],
   "source": [
    "import json\n",
    "with open(\"current-reading.json\", \"w+\") as fo:\n",
    "    json.dump(current_reading, fo, indent=2, sort_keys=True)"
   ]
  },
  {
   "cell_type": "code",
   "execution_count": null,
   "id": "8bf9f0b2-2523-4c04-a7ab-87b7e575f5f4",
   "metadata": {},
   "outputs": [],
   "source": []
  }
 ],
 "metadata": {
  "kernelspec": {
   "display_name": "Python 3 (ipykernel)",
   "language": "python",
   "name": "python3"
  },
  "language_info": {
   "codemirror_mode": {
    "name": "ipython",
    "version": 3
   },
   "file_extension": ".py",
   "mimetype": "text/x-python",
   "name": "python",
   "nbconvert_exporter": "python",
   "pygments_lexer": "ipython3",
   "version": "3.12.1"
  }
 },
 "nbformat": 4,
 "nbformat_minor": 5
}
