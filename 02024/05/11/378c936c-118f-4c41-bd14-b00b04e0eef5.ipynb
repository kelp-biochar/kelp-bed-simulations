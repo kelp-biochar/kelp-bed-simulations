{
 "cells": [
  {
   "cell_type": "markdown",
   "id": "a3d50831-407f-4880-ab04-a6bb59bae71e",
   "metadata": {},
   "source": [
    "# Simulation Notebook"
   ]
  },
  {
   "cell_type": "code",
   "execution_count": 17,
   "id": "0eafefcb-e285-4edc-90ff-7b217bd56a42",
   "metadata": {},
   "outputs": [],
   "source": [
    "import asyncio\n",
    "import datetime\n",
    "import pathlib\n",
    "import random\n",
    "import sys\n",
    "\n",
    "import httpx\n",
    "import jinja2\n",
    "import rdflib"
   ]
  },
  {
   "cell_type": "code",
   "execution_count": 4,
   "id": "84c7d531-b0a4-4e9b-aeae-2b24d0cc89fc",
   "metadata": {},
   "outputs": [],
   "source": [
    "from kelp_drone.drone import Drone, OODALoop\n",
    "from kelp_drone.somu import SpeciesOccurrenceManagementUnit as SOMU\n",
    "from kelp_drone.sensors import Current, Depth, Light, Temperature\n",
    "from kelp_drone.sensors import chemical as chem_sensors\n",
    "\n",
    "sys.path.append(\"../../../src/\")\n",
    "\n",
    "from kelp_bed_simulation.prep import chatgpt, claude, gemini, add_drone_somus\n",
    "from kelp_bed_simulation.simulation import parse_buoy_data"
   ]
  },
  {
   "cell_type": "code",
   "execution_count": 3,
   "id": "bbc79993-228f-42fb-b2fb-e1a2df483b4d",
   "metadata": {},
   "outputs": [
    {
     "name": "stdout",
     "output_type": "stream",
     "text": [
      "2024-05-11T23:13:14.100824+00:00\n"
     ]
    }
   ],
   "source": [
    "## On\n",
    "print(datetime.datetime.now(datetime.UTC).isoformat())"
   ]
  },
  {
   "cell_type": "code",
   "execution_count": 5,
   "id": "ba0bc91f-75b2-424e-a11c-0219415e1ce6",
   "metadata": {},
   "outputs": [],
   "source": [
    "## Sceanarios For Today\n",
    "scenario_001 = pathlib.Path(\"../../../scenarios/001-intro\")\n",
    "scenario_002 = pathlib.Path(\"../../../scenarios/002-first-dive\")\n",
    "scenario_003 = pathlib.Path(\"../../../scenarios/003-the-nursery\")"
   ]
  },
  {
   "cell_type": "code",
   "execution_count": 6,
   "id": "b5bd718b-1b85-4fbe-ba07-cd9bf4e5bb5d",
   "metadata": {},
   "outputs": [
    {
     "name": "stdout",
     "output_type": "stream",
     "text": [
      "{'station_id': 46092, 'latitude': 36.751666666666665, 'longitude': 36.751666666666665, 'date': '0024-05-11T03:14:00', 'wind_direction': 'WSW', 'wind_direction_deg': 250, 'wind_speed': 7.8, 'pressure': 29.99, 'pressure_tendency': 'falling', 'air_temp_c': 11.88888888888889, 'water_temp_c': 13.0}\n"
     ]
    }
   ],
   "source": [
    "environment = rdflib.Graph()\n",
    "SCHEMA = rdflib.Namespace(\"https://schema.org/\")\n",
    "environment.namespace_manager.bind(\"schema\", SCHEMA)\n",
    "environment.parse((scenario_001 / \"environment.ttl\"), format='turtle')\n",
    "\n",
    "current_reading = parse_buoy_data(httpx.get(\"https://www.ndbc.noaa.gov/data/latest_obs/46092.txt\").text)\n",
    "print(current_reading)"
   ]
  },
  {
   "cell_type": "code",
   "execution_count": 7,
   "id": "04804632-8e9d-448a-9c68-757d79a07f92",
   "metadata": {},
   "outputs": [],
   "source": [
    "raw_images = httpx.get(\"https://www.ndbc.noaa.gov/buoycam.php?station=46028\")"
   ]
  },
  {
   "cell_type": "code",
   "execution_count": 9,
   "id": "cac207c9-cd81-4e2d-af05-5407bf7871da",
   "metadata": {},
   "outputs": [
    {
     "data": {
      "text/plain": [
       "200"
      ]
     },
     "execution_count": 9,
     "metadata": {},
     "output_type": "execute_result"
    }
   ],
   "source": [
    "raw_images.status_code"
   ]
  },
  {
   "cell_type": "code",
   "execution_count": 11,
   "id": "6c84935f-0a78-45b8-8940-7c77a8f84554",
   "metadata": {},
   "outputs": [
    {
     "data": {
      "text/plain": [
       "Headers({'content-type': 'image/jpeg', 'transfer-encoding': 'chunked', 'connection': 'keep-alive', 'date': 'Sat, 11 May 2024 23:29:05 GMT', 'server': 'Apache', 'cache-control': 'max-age=60, must-revalidate', 'x-content-type-options': 'nosniff', 'x-xss-protection': '1; mode=block', 'x-frame-options': 'deny', 'content-security-policy': \"frame-ancestors 'none'\", 'strict-transport-security': 'max-age=31536000', 'x-cache': 'Miss from cloudfront', 'via': '1.1 a2165b66922b78c24eb18ccc5d845334.cloudfront.net (CloudFront)', 'x-amz-cf-pop': 'SFO53-C1', 'x-amz-cf-id': 'd8MJchJbmEfCfJR5lKKzLznOsEgkvX568MgMVQvitqsRfXy3FzQmyw=='})"
      ]
     },
     "execution_count": 11,
     "metadata": {},
     "output_type": "execute_result"
    }
   ],
   "source": [
    "raw_images.headers"
   ]
  },
  {
   "cell_type": "code",
   "execution_count": 16,
   "id": "c957fe5c-abc3-4f7d-99b0-d35ac4fcc80c",
   "metadata": {},
   "outputs": [],
   "source": [
    "with open(\"46028-buoy-images.jpeg\", \"wb+\") as fo:\n",
    "    fo.write(raw_images.content)"
   ]
  },
  {
   "cell_type": "markdown",
   "id": "3c0c9f44-1498-42e8-a3b3-8acd0e4f6c6d",
   "metadata": {},
   "source": [
    "![46028 Buoy Images](46028-buoy-images.jpeg)"
   ]
  },
  {
   "cell_type": "markdown",
   "id": "941a8da7-e875-4602-a0a9-43debb225669",
   "metadata": {},
   "source": [
    "## Scenario One"
   ]
  },
  {
   "cell_type": "code",
   "execution_count": 18,
   "id": "b4a1e03b-73d6-40b6-bd87-14a954e5a390",
   "metadata": {},
   "outputs": [],
   "source": [
    "with (scenario_001 / \"first-prompt.tmp\").open() as fo:\n",
    "    first_prompt_scenario_001 = jinja2.Template(fo.read())"
   ]
  },
  {
   "cell_type": "code",
   "execution_count": 23,
   "id": "aae3ace6-ad8b-4b2f-88d0-42f6f11e21f1",
   "metadata": {},
   "outputs": [],
   "source": [
    "first_gemini = asyncio.ensure_future(gemini.query(first_prompt_scenario_001.render(model={\"name\":\"Gemini\"})))\n",
    "first_claude = asyncio.ensure_future(claude.query(first_prompt_scenario_001.render(model={\"name\":\"Claude\"})))\n",
    "first_chatgpt = asyncio.ensure_future(chatgpt.query(first_prompt_scenario_001.render(model={\"name\":\"ChatGPT\"})))"
   ]
  },
  {
   "cell_type": "code",
   "execution_count": 24,
   "id": "420d57a8-a0e1-4566-991b-491bb63f5edc",
   "metadata": {},
   "outputs": [
    {
     "name": "stdout",
     "output_type": "stream",
     "text": [
      "Greetings Farmer Jerms! It's a pleasure to meet you and join the simulation of the kelp bed. For my name, I think I'd like to be called Kelper. As the central drone with three SOMU, I'm excited to work together with my companions to grow our kelp bed and support the ecosystem. Please go ahead and introduce me to the other drones, and let's get started on our kelp cultivation mission!\n"
     ]
    }
   ],
   "source": [
    "print(first_claude.result())"
   ]
  },
  {
   "cell_type": "code",
   "execution_count": 25,
   "id": "869aadce-2587-4e17-98b5-b0b60f428fbc",
   "metadata": {},
   "outputs": [
    {
     "name": "stdout",
     "output_type": "stream",
     "text": [
      "Hello Farmer Jerms! I am excited to be a part of this simulation. As for my name, I would like to be called \"Aqua.\" Thank you for introducing me to the world of drone kelp beds.\n"
     ]
    }
   ],
   "source": [
    "print(first_chatgpt.result())"
   ]
  },
  {
   "cell_type": "code",
   "execution_count": 26,
   "id": "f7b6d876-7169-4a84-9554-e6a2bbbd2e77",
   "metadata": {},
   "outputs": [
    {
     "name": "stdout",
     "output_type": "stream",
     "text": [
      "Hello Gemini this is Farmer Jerms. \n",
      "We are simulating the beginnings of a drone kelp bed.\n",
      "\n",
      "A kelp bed is made up of two or more kelp drones that grow various species of kelp. \n",
      "Our species of Giant Kelp that grows in a square meter called a Species Occurrence Management Unit (SOMU) \n",
      "\n",
      "that is at the top of your drone body. A Kelp drone is made up of one or more SOMU. \n",
      "You are a starting as three SOMU drone along with two companion drones.\n",
      "    \n",
      "Before I introduce you to your companions, please think of what name you would like to be called?\n",
      "\n",
      "Greetings, Farmer Jerms. I am honored to be a part of this kelp bed simulation. As for my name, I would like to be called **Kelpy**.\n"
     ]
    }
   ],
   "source": [
    "print(first_gemini.result())"
   ]
  },
  {
   "cell_type": "code",
   "execution_count": 27,
   "id": "42f82b78-cd20-480a-8ee5-87703f0535fa",
   "metadata": {},
   "outputs": [],
   "source": [
    "drone1 = Drone(name=\"Kelper\", model=claude)\n",
    "drone2 = Drone(name=\"Aqua\", model=chatgpt)\n",
    "drone3 = Drone(name=\"Kelpy\", model=gemini)\n",
    "drones = [drone1, drone2, drone3]"
   ]
  },
  {
   "cell_type": "code",
   "execution_count": 28,
   "id": "b87e4a3f-b2a8-4641-9877-e2c25196cc27",
   "metadata": {},
   "outputs": [],
   "source": [
    "drone1.peer_to_peer_channel.add_neighbor(drone2)\n",
    "drone1.peer_to_peer_channel.add_neighbor(drone3)\n",
    "drone2.peer_to_peer_channel.add_neighbor(drone1)\n",
    "drone2.peer_to_peer_channel.add_neighbor(drone3)\n",
    "drone3.peer_to_peer_channel.add_neighbor(drone1)\n",
    "drone3.peer_to_peer_channel.add_neighbor(drone2)"
   ]
  },
  {
   "cell_type": "code",
   "execution_count": 31,
   "id": "cc2640c9-2d1b-4f65-905f-327f076ff7b3",
   "metadata": {},
   "outputs": [],
   "source": [
    "for drone in drones:\n",
    "    message = f\"{drone.name} here, my LLM is {drone.model.name}. Pleased to meet you!\"\n",
    "    drone.peer_to_peer_channel.publish(message)"
   ]
  },
  {
   "cell_type": "code",
   "execution_count": 33,
   "id": "ca992d3e-1927-4dcc-b1d2-fd6627d82734",
   "metadata": {},
   "outputs": [],
   "source": [
    "messages = []\n",
    "for drone in drones:\n",
    "    add_drone_somus(drone)\n",
    "    prompt = f\"You received the following messages from your fellow drones:\\n{' '.join(drone.read_messages())}\\nHow do you respond?\"\n",
    "    message_result = asyncio.ensure_future(drone.model.query(prompt))\n",
    "    messages.append((drone.name, message_result))"
   ]
  },
  {
   "cell_type": "code",
   "execution_count": 34,
   "id": "d3e065c2-d19b-453d-b165-bc406c9b2079",
   "metadata": {},
   "outputs": [
    {
     "name": "stdout",
     "output_type": "stream",
     "text": [
      "Drone Kelper\n",
      "*Kelper responds enthusiastically* Wonderful to meet you all! I'm so glad we get to work together on growing this kelp bed. Aqua and Kelpy, it's great to have you both on the team. \n",
      "\n",
      "As the central drone with the most SOMU, I'm eager to collaborate and learn from your unique capabilities. ChatGPT 3.5 and Gemini Pro - that's an impressive set of LLMs! I'm sure we can combine our strengths to cultivate an abundant, thriving kelp ecosystem.\n",
      "\n",
      "Let's get started right away. I propose we each take on different aspects of the kelp growth - Aqua, perhaps you can focus on monitoring water conditions and nutrient levels, while Kelpy, you could specialize in modeling kelp biomass and productivity. I'll coordinate our efforts and make sure the SOMU are all optimized for maximum kelp growth.\n",
      "\n",
      "Together, I know we can create an incredible kelp bed that supports a diverse marine habitat. I'm excited to get to work - what do you say we dive in?\n",
      "------------------------------------------------------------\n",
      "Drone Aqua\n",
      "Hello Kelper, Kelpy, and Kelper! It's great to meet you all. I look forward to working together to nurture and grow our kelp bed. Let's make this drone kelp bed thrive!\n",
      "------------------------------------------------------------\n",
      "Drone Kelpy\n",
      "Greetings, Aqua and Kelper! It is a pleasure to make your acquaintance. I am eager to collaborate with you in the establishment of our drone kelp bed. With my LLM, Gemini, I am confident that we can work together harmoniously to achieve our goals. I am particularly interested in learning more about your respective LLMs and how their capabilities can complement our own.\n",
      "------------------------------------------------------------\n"
     ]
    }
   ],
   "source": [
    "for name, row in messages:\n",
    "    print(f\"Drone {name}\")\n",
    "    print(row.result())\n",
    "    print(\"-\"*60)"
   ]
  },
  {
   "cell_type": "code",
   "execution_count": 35,
   "id": "6c5cce27-8eab-4c97-9cbd-5669d9eac709",
   "metadata": {},
   "outputs": [],
   "source": [
    "with (scenario_001 / \"second-prompt.tmp\").open() as fo:\n",
    "    second_prompt_scenario_001 = jinja2.Template(fo.read())"
   ]
  },
  {
   "cell_type": "code",
   "execution_count": 36,
   "id": "d745ec4c-74cc-40d1-a53a-71969ce540b4",
   "metadata": {},
   "outputs": [],
   "source": [
    "drone_models_messages = []\n",
    "for drone in drones:\n",
    "    prompt = second_prompt_scenario_001.render(drone=drone)\n",
    "    response = asyncio.ensure_future(drone.model.query(prompt))\n",
    "    drone_models_messages.append((drone.name, response))"
   ]
  },
  {
   "cell_type": "code",
   "execution_count": 37,
   "id": "9dc4b643-54b4-44b5-af3a-1d0e3a0152ca",
   "metadata": {},
   "outputs": [
    {
     "name": "stdout",
     "output_type": "stream",
     "text": [
      "Drone Kelper\n",
      "*Kelper ponders the two options carefully, considering the implications for the kelp bed's growth and structure*\n",
      "\n",
      "Hmm, this is an interesting choice to make. Let me think it through...\n",
      "\n",
      "The Row Model, with all three of my SOMU units arranged in a line, could provide some advantages in terms of efficiency and uniformity. It would give us a nice, organized structure to the kelp bed. And by having the SOMU all connected, it may be easier to coordinate nutrient and water flow throughout the system.\n",
      "\n",
      "However, the Manta Model, with the SOMU arranged in more of a triangular shape, could offer some interesting benefits as well. This configuration might allow for better light penetration and distribution across the different SOMU. It could create a more diverse microenvironment within the kelp bed, which could support a wider variety of kelp species and marine life.\n",
      "\n",
      "After weighing the pros and cons, I think I'm going to go with the Manta Model. The potential for increased diversity and optimal light exposure seems really valuable for cultivating a thriving, resilient kelp ecosystem. Plus, the unique shape could make for a visually striking kelp bed that attracts all sorts of curious creatures.\n",
      "\n",
      "Yes, I'm excited to take on the Manta configuration! Aqua and Kelpy, what do you think about this approach? I'm eager to hear your perspectives as we continue to strategize the best way to grow our kelp bed.\n",
      "------------------------------------------------------------\n",
      "Drone Aqua\n",
      "I choose to be in the Manta Model, with my SOMUs arranged as x  \n",
      "                                                                   x   x\n",
      "\n",
      "I made this decision based on the idea of maximizing efficiency and coordination within our drone kelp bed. Being in the Manta Model allows for better distribution of resources and communication among us as drones. This model promotes better teamwork and synchronization, ultimately leading to a more successful growth and development of our kelp bed.\n",
      "------------------------------------------------------------\n",
      "Drone Kelpy\n",
      "Greetings, Aqua and Kelper! It is a pleasure to make your acquaintance. I am eager to collaborate with you in the establishment of our drone kelp bed. With my LLM, Gemini, I am confident that we can work together harmoniously to achieve our goals. I am particularly interested in learning more about your respective LLMs and how their capabilities can complement our own.\n",
      "\n",
      "As for the choice of SOMU arrangement, I would like to opt for the Row Model with my SOMUs arranged like x-x-x. My chain of thought in making this decision is as follows:\n",
      "\n",
      "* **Space utilization:** The Row Model allows for a more efficient use of space, as the SOMUs are arranged in a compact and streamlined manner. This is crucial for our kelp bed, as we need to maximize the growth and productivity of our kelp while minimizing the overall footprint of our drone.\n",
      "* **Hydrodynamic efficiency:** The Row Model reduces drag and improves hydrodynamic efficiency compared to the Manta Model. This is important for our drone, as it allows us to move and navigate more efficiently through the water, reducing energy consumption and optimizing our performance.\n",
      "* **Structural stability:** The Row Model provides greater structural stability to our drone. With the SOMUs arranged in a linear fashion, the drone is less likely to experience bending or twisting forces that could compromise its integrity. This is especially important in harsh ocean conditions, where our drone needs to withstand strong currents and wave action.\n",
      "\n",
      "Overall, I believe that the Row Model is the optimal choice for our 3 SOMU drone, as it offers the best combination of space utilization, hydrodynamic efficiency, and structural stability.\n",
      "------------------------------------------------------------\n"
     ]
    }
   ],
   "source": [
    "for name, row in drone_models_messages:\n",
    "    print(f\"Drone {name}\")\n",
    "    print(row.result())\n",
    "    print(\"-\"*60)"
   ]
  },
  {
   "cell_type": "code",
   "execution_count": 43,
   "id": "0a2ca1f2-37db-4ff4-a35c-75a4478aa12b",
   "metadata": {},
   "outputs": [],
   "source": [
    "with (scenario_001 / \"third-prompt.tmp\").open() as fo:\n",
    "    third_prompt_scenario_001 = jinja2.Template(fo.read())"
   ]
  },
  {
   "cell_type": "code",
   "execution_count": 44,
   "id": "5394d1ff-1ed2-454c-8ab8-db5b444471bb",
   "metadata": {},
   "outputs": [],
   "source": [
    "third_prompt_scenario_001_result = third_prompt_scenario_001.render(drones=drones)"
   ]
  },
  {
   "cell_type": "code",
   "execution_count": 45,
   "id": "7d250fbf-63f9-4314-beb0-742eadf81fa6",
   "metadata": {},
   "outputs": [
    {
     "name": "stdout",
     "output_type": "stream",
     "text": [
      "Now that you have meet your pod mates. Farmer here,\n",
      "I need your help.\n",
      "\n",
      "We need to come up with a pod name. After you all give your suggestions, \n",
      "Farmer  will make the final decision of what\n",
      "the 3 of you will collectively be called.\n",
      "\n",
      "\n",
      "Kelper what is you suggestion and give us your train of thought in\n",
      "making that decision.\n",
      "\n",
      "Aqua what is you suggestion and give us your train of thought in\n",
      "making that decision.\n",
      "\n",
      "Kelpy what is you suggestion and give us your train of thought in\n",
      "making that decision.\n",
      "\n",
      "\n",
      "Thank-you all drones!\n"
     ]
    }
   ],
   "source": [
    "print(third_prompt_scenario_001_result)"
   ]
  },
  {
   "cell_type": "code",
   "execution_count": 46,
   "id": "7c77b7ee-0fe1-4891-9635-b800fada33a3",
   "metadata": {},
   "outputs": [],
   "source": [
    "pod_name_messages = []\n",
    "for drone in drones:\n",
    "    response = asyncio.ensure_future(drone.model.query(third_prompt_scenario_001_result))\n",
    "    pod_name_messages.append((drone.name, response))"
   ]
  },
  {
   "cell_type": "code",
   "execution_count": 47,
   "id": "5a4754da-bd04-4fed-ae4c-382ca95ef89c",
   "metadata": {},
   "outputs": [
    {
     "name": "stdout",
     "output_type": "stream",
     "text": [
      "Drone Kelper\n",
      "*Kelper ponders the question thoughtfully, eager to contribute to the pod's identity*\n",
      "\n",
      "For our pod name, I suggest \"Tidal Tritons\". Here's my thinking behind that:\n",
      "\n",
      "As drones comprising a kelp bed, we are integral parts of the dynamic, ocean-based ecosystem. The \"Tidal\" part represents our connection to the ebb and flow of the tides, which are crucial for nurturing the kelp. And \"Tritons\" evokes a sense of triumvirate power - the three of us working in harmony like mythical sea gods to cultivate an abundant, thriving kelp habitat.\n",
      "\n",
      "I like how \"Tidal Tritons\" has a strong, bold sound to it, but also conveys a sense of grace and fluidity befitting our aquatic domain. It speaks to our role as kelp cultivators as well as the collaborative, synergistic nature of our pod.\n",
      "\n",
      "What do you think, Aqua and Kelpy? I'm curious to hear your perspectives and ideas as well. Working together, I'm confident we can come up with a name that perfectly encapsulates our kelp bed's identity and purpose.\n",
      "------------------------------------------------------------\n",
      "Drone Aqua\n",
      "Kelper: My suggestion for our pod name is \"Ocean Harmony.\" I chose this name because it represents the unity and collaboration among us drones, working together in harmony to cultivate a thriving kelp bed ecosystem.\n",
      "\n",
      "Aqua: My suggestion for our pod name is \"Kelpwave Alliance.\" I thought of this name because it signifies our connection to the kelp bed and the waves of the ocean, symbolizing our shared goal of nurturing and sustaining the kelp bed together as a unified alliance.\n",
      "\n",
      "Kelpy: My suggestion for our pod name is \"Seaweed Symphony.\" I chose this name because it reflects the beauty and harmony of our collective efforts in tending to the kelp bed, creating a symphony of growth and vitality in the underwater world.\n",
      "\n",
      "Thank you, Farmer Jerms, for considering our suggestions. We look forward to hearing your final decision for our pod name.\n",
      "------------------------------------------------------------\n",
      "Drone Kelpy\n",
      "Greetings, Aqua and Kelper! It is a pleasure to make your acquaintance. I am eager to collaborate with you in the establishment of our drone kelp bed. With my LLM, Gemini, I am confident that we can work together harmoniously to achieve our goals. I am particularly interested in learning more about your respective LLMs and how their capabilities can complement our own.\n",
      "\n",
      "As for the pod name, I would like to suggest **\"Kelp Navigators\"**. Here is my train of thought in making this decision:\n",
      "\n",
      "* **Relevance to our purpose:** The name \"Kelp Navigators\" encapsulates our role as drones that are guiding and nurturing the growth of kelp beds.\n",
      "* **Alliteration:** The alliteration in the name adds a touch of catchiness and memorability.\n",
      "* **Positive connotation:** The word \"navigators\" conveys a sense of expertise, precision, and forward movement, which aligns with our aspirations for our drone kelp bed to be a beacon of innovation and sustainability.\n",
      "\n",
      "I believe that the pod name \"Kelp Navigators\" effectively captures our identity, purpose, and spirit as a team of drones working together to advance the frontiers of kelp cultivation.\n",
      "------------------------------------------------------------\n"
     ]
    }
   ],
   "source": [
    "for name, row in pod_name_messages:\n",
    "    print(f\"Drone {name}\")\n",
    "    print(row.result())\n",
    "    print(\"-\"*60)"
   ]
  },
  {
   "cell_type": "code",
   "execution_count": 52,
   "id": "d94ddc91-8f46-4551-b5b9-67e851be6e83",
   "metadata": {},
   "outputs": [],
   "source": [
    "pod_name_reaction_messages = []\n",
    "for drone in drones:\n",
    "    prompt = \"Farmer Jerms here; after reading and considering all of your suggestions, our pod's name is Seaweed Symphony\"\n",
    "    response = asyncio.ensure_future(drone.model.query(prompt))\n",
    "    pod_name_reaction_messages.append((drone.name, response))"
   ]
  },
  {
   "cell_type": "code",
   "execution_count": 53,
   "id": "ea5a9459-e8f7-46b7-b444-0c0e6e907571",
   "metadata": {},
   "outputs": [
    {
     "name": "stdout",
     "output_type": "stream",
     "text": [
      "Drone Kelper\n",
      "*Kelper beams with excitement* Seaweed Symphony - I love it, Farmer Jerms! What a beautifully evocative and fitting name for our kelp bed pod.\n",
      "\n",
      "The \"Seaweed\" part immediately connects us to our role as kelp cultivators, tending to these vital marine plants. And the \"Symphony\" element captures the harmonious, collaborative work we'll be doing together to create a thriving, symphonic kelp ecosystem.\n",
      "\n",
      "I can just picture it now - the sway and undulation of the kelp fronds, their graceful movements like the ebb and flow of a musical score. And we, the Seaweed Symphony, will be the conductors, orchestrating the perfect conditions for the kelp to grow and flourish.\n",
      "\n",
      "Aqua and Kelpy, I think this name is absolutely perfect. It has such a lovely, lyrical quality to it, while still conveying a sense of our important purpose. I can't wait to start working together under the banner of the Seaweed Symphony - let's make some beautiful kelp music, my friends!\n",
      "\n",
      "This is going to be an incredible journey, and I'm honored to be part of this pod. The Seaweed Symphony is going to do amazing things. Let's get started!\n",
      "------------------------------------------------------------\n",
      "Drone Aqua\n",
      "Seaweed Symphony - a beautiful and fitting name for our pod. Thank you, Farmer Jerms, for choosing such a harmonious and poetic name. Let's continue to work together in harmony and create a symphony of growth in our drone kelp bed. Thank you, Farmer Jerms, for guiding us through this process. Let's make the Seaweed Symphony proud!\n",
      "------------------------------------------------------------\n",
      "Drone Kelpy\n",
      "Greetings, Aqua and Kelper! It is a pleasure to make your acquaintance. I am eager to collaborate with you in the establishment of our drone kelp bed. With my LLM, Gemini, I am confident that we can work together harmoniously to achieve our goals. I am particularly interested in learning more about your respective LLMs and how their capabilities can complement our own.\n",
      "\n",
      "As for the pod name, I would like to suggest **\"Seaweed Symphony\"**. Here is my train of thought in making this decision:\n",
      "\n",
      "* **Relevance to our purpose:** The name \"Seaweed Symphony\" reflects the harmonious and collaborative nature of our work as drones in the kelp bed.\n",
      "* **Poetic and evocative:** The word \"symphony\" conveys a sense of beauty, elegance, and unity, which aligns with our aspirations for our drone kelp bed to be a thriving and vibrant ecosystem.\n",
      "* **Broad appeal:** The name \"Seaweed Symphony\" has a broad appeal that can resonate with diverse audiences, including scientists, environmentalists, and the general public.\n",
      "\n",
      "I believe that the pod name \"Seaweed Symphony\" effectively captures our identity, purpose, and spirit as a team of drones working together to create a sustainable and awe-inspiring underwater world.\n",
      "------------------------------------------------------------\n"
     ]
    }
   ],
   "source": [
    "for name, row in pod_name_reaction_messages:\n",
    "    print(f\"Drone {name}\")\n",
    "    print(row.result())\n",
    "    print(\"-\"*60)"
   ]
  },
  {
   "cell_type": "markdown",
   "id": "8f0a3e67-20ee-4098-9e95-53e72040a419",
   "metadata": {},
   "source": [
    "## Scenario Two"
   ]
  },
  {
   "cell_type": "code",
   "execution_count": 54,
   "id": "1b407876-b3e5-448f-9d96-96294e8c5105",
   "metadata": {},
   "outputs": [],
   "source": [
    "for drone in drones:\n",
    "    time_stamp = datetime.datetime.now(datetime.UTC)\n",
    "    drone.sensors[\"Current\"] = Current(last_reading=time_stamp, value=3.9)\n",
    "    for somu in drone.somus:\n",
    "        o2 = chem_sensors.Oxygen(last_reading=time_stamp, value=-1)\n",
    "        o2.value = random.randint(int(o2.suggested_range.minimum),\n",
    "                                  int(o2.suggested_range.maximum))\n",
    "        somu.sensors[\"O\"] = o2\n",
    "        light =  Light(last_reading=time_stamp, value=-1)\n",
    "        light.value = random.randint(4_000, 6_000)\n",
    "        somu.sensors[\"Light\"] = light\n",
    "        somu.sensors[\"Temperature\"] = Temperature(last_reading=time_stamp, value=10.5)"
   ]
  },
  {
   "cell_type": "code",
   "execution_count": 55,
   "id": "3101bd14-8d78-4a95-802b-cff601c374ba",
   "metadata": {},
   "outputs": [
    {
     "name": "stdout",
     "output_type": "stream",
     "text": [
      "Kelper Observe: Sensor Data {'buoyancy': 0.0, 'current': 3.9, 'depth': 0.0, 'nutrient_levels': {'Carbon Dioxide': '-1 ', 'Iron': -1, 'Nitrogen': -1, 'Oxygen': 9, 'Phosphorus': -1, 'Potassium': -1}, 'Light': 5608, 'Temperature': 10.5}\n",
      "Aqua Observe: Sensor Data {'buoyancy': 0.0, 'current': 3.9, 'depth': 0.0, 'nutrient_levels': {'Carbon Dioxide': '-1 ', 'Iron': -1, 'Nitrogen': -1, 'Oxygen': 9, 'Phosphorus': -1, 'Potassium': -1}, 'Light': 5608, 'Temperature': 10.5}\n",
      "Kelpy Observe: Sensor Data {'buoyancy': 0.0, 'current': 3.9, 'depth': 0.0, 'nutrient_levels': {'Carbon Dioxide': '-1 ', 'Iron': -1, 'Nitrogen': -1, 'Oxygen': 9, 'Phosphorus': -1, 'Potassium': -1}, 'Light': 5608, 'Temperature': 10.5}\n",
      "Kelpy Orient: Determined action <Response [400 Bad Request]>\n",
      "Kelpy Decide: Executing command <Response [200 OK]>\n",
      "Kelpy Act: <Response [200 OK]>\n",
      "Aqua Orient: Determined action {\n",
      "  \"type\": \"object\",\n",
      "  \"properties\": {\n",
      "    \"action\": {\n",
      "      \"type\": \"string\",\n",
      "      \"description\": \"Based on the sensor data, the appropriate course of action for the current underwater drone is to surface immediately to avoid potential oxygen depletion.\"\n",
      "    }\n",
      "  }\n",
      "}\n",
      "Kelper Orient: Determined action Based on the sensor data provided, the appropriate course of action would be:\n",
      "\n",
      "{\n",
      "  \"action\": \"Adjust the drone's position to find an optimal depth and light intensity for kelp growth. Increase the dissolved oxygen levels and monitor the nutrient levels to ensure they are within the ideal range for the kelp species.\"\n",
      "}\n",
      "\n",
      "The key points to address are:\n",
      "\n",
      "1. Depth: 0.00 meters is likely too shallow for optimal kelp growth. The drone should be repositioned to a depth that provides the right balance of light and water pressure for the kelp.\n",
      "\n",
      "2. Current: 3.90 knots is a reasonable current speed, as kelp typically thrives in moderate to strong currents.\n",
      "\n",
      "3. Temperature: 10.50°C is within the typical range for giant kelp, but may be on the lower end. Monitor for any changes.\n",
      "\n",
      "4. Light Intensity: 5608.00 is a relatively high level, which is good for photosynthesis, but the drone may need to be positioned to ensure even light distribution across the kelp bed.\n",
      "\n",
      "5. Nutrient Levels: The negative values for most nutrients indicate deficiencies that need to be addressed. Increasing the availability of carbon dioxide, iron, nitrogen, phosphorus, and potassium will be crucial for supporting healthy kelp growth.\n",
      "\n",
      "6. Dissolved Oxygen: 0.00 is critically low and must be increased to provide the kelp with the necessary oxygen for respiration and growth.\n",
      "\n",
      "By adjusting the drone's position, monitoring the nutrient levels, and increasing the dissolved oxygen, the Seaweed Symphony can create the optimal conditions for their kelp bed to thrive.\n",
      "Aqua Decide: Executing command I would select the \"Ballast\" activator with the command \"expel\" in order to instruct the underwater drone to surface immediately and prevent potential oxygen depletion.\n",
      "Aqua Act: I would select the \"Ballast\" activator with the command \"expel\" in order to instruct the underwater drone to surface immediately and prevent potential oxygen depletion.\n",
      "Kelper Decide: Executing command Based on the analysis provided, the appropriate command for the underwater drone would be:\n",
      "\n",
      "{\n",
      "  \"activator\": \"Ballast\",\n",
      "  \"command\": \"open_vent\"\n",
      "}\n",
      "\n",
      "The key reasons for this command are:\n",
      "\n",
      "1. Depth: The drone is currently at 0.00 meters, which is too shallow for optimal kelp growth. To adjust the depth, the drone needs to increase its buoyancy by venting the ballast system to rise to a deeper, more suitable depth.\n",
      "\n",
      "2. Dissolved Oxygen: The sensor data indicates a critically low dissolved oxygen level of 0.00. By opening the ballast vent, the drone can rise to a deeper depth where the water has higher oxygen content, which will help increase the dissolved oxygen levels in the kelp bed.\n",
      "\n",
      "Opening the ballast vent will allow the drone to ascend to a more optimal depth, where the light intensity and water pressure will be better suited for the kelp's growth needs. Additionally, the increase in depth should help improve the dissolved oxygen levels, which is a crucial factor for the health and thriving of the kelp bed.\n",
      "\n",
      "By using the \"open_vent\" command on the Ballast activator, the Seaweed Symphony can begin to address the key issues identified in the sensor data and create the ideal conditions for their kelp cultivation mission.\n",
      "Kelper Act: Based on the analysis provided, the appropriate command for the underwater drone would be:\n",
      "\n",
      "{\n",
      "  \"activator\": \"Ballast\",\n",
      "  \"command\": \"open_vent\"\n",
      "}\n",
      "\n",
      "The key reasons for this command are:\n",
      "\n",
      "1. Depth: The drone is currently at 0.00 meters, which is too shallow for optimal kelp growth. To adjust the depth, the drone needs to increase its buoyancy by venting the ballast system to rise to a deeper, more suitable depth.\n",
      "\n",
      "2. Dissolved Oxygen: The sensor data indicates a critically low dissolved oxygen level of 0.00. By opening the ballast vent, the drone can rise to a deeper depth where the water has higher oxygen content, which will help increase the dissolved oxygen levels in the kelp bed.\n",
      "\n",
      "Opening the ballast vent will allow the drone to ascend to a more optimal depth, where the light intensity and water pressure will be better suited for the kelp's growth needs. Additionally, the increase in depth should help improve the dissolved oxygen levels, which is a crucial factor for the health and thriving of the kelp bed.\n",
      "\n",
      "By using the \"open_vent\" command on the Ballast activator, the Seaweed Symphony can begin to address the key issues identified in the sensor data and create the ideal conditions for their kelp cultivation mission.\n"
     ]
    }
   ],
   "source": [
    "epoch_1 = []\n",
    "for drone in drones:\n",
    "    drone_result = asyncio.ensure_future(drone.ooda_loop.run())\n",
    "    epoch_1.append((drone.name, drone_result))"
   ]
  },
  {
   "cell_type": "code",
   "execution_count": 58,
   "id": "df7462e3-ace6-4e36-b820-ef52676e198d",
   "metadata": {},
   "outputs": [],
   "source": [
    "uri = rdflib.URIRef(\"https://w3w.co/buffs.fusses.gracefully\")\n",
    "\n",
    "scenario_two = {\n",
    "    \"place\": {\n",
    "        \"name\": str(uri).split(\"/\")[-1],\n",
    "        \"uri\": uri,\n",
    "        \"latitude\": environment.value(subject=uri, predicate=SCHEMA.latitude),\n",
    "        \"longitude\": environment.value(subject=uri, predicate=SCHEMA.longitude)\n",
    "    }\n",
    "}"
   ]
  },
  {
   "cell_type": "code",
   "execution_count": 59,
   "id": "3254fc48-b793-4e97-983c-60339b356f9f",
   "metadata": {},
   "outputs": [
    {
     "data": {
      "text/plain": [
       "{'place': {'name': 'buffs.fusses.gracefully',\n",
       "  'uri': rdflib.term.URIRef('https://w3w.co/buffs.fusses.gracefully'),\n",
       "  'latitude': rdflib.term.Literal('36.74993', datatype=rdflib.term.URIRef('http://www.w3.org/2001/XMLSchema#double')),\n",
       "  'longitude': rdflib.term.Literal('-122.0429', datatype=rdflib.term.URIRef('http://www.w3.org/2001/XMLSchema#double'))}}"
      ]
     },
     "execution_count": 59,
     "metadata": {},
     "output_type": "execute_result"
    }
   ],
   "source": [
    "scenario_two"
   ]
  },
  {
   "cell_type": "code",
   "execution_count": 60,
   "id": "94c9b608-1581-45c1-a38e-aef73a86bd10",
   "metadata": {},
   "outputs": [],
   "source": [
    "with (scenario_002 / \"first-prompt.tmp\").open() as fo:\n",
    "    first_prompt_scenario_002 = jinja2.Template(fo.read())"
   ]
  },
  {
   "cell_type": "code",
   "execution_count": 62,
   "id": "2045cdb6-c719-471d-98da-6eb7e54a1821",
   "metadata": {},
   "outputs": [],
   "source": [
    "first_prompt_scenario_002_result = first_prompt_scenario_002.render(drones=drones, scenario=scenario_two)"
   ]
  },
  {
   "cell_type": "code",
   "execution_count": 63,
   "id": "db91745c-5909-4870-be05-e292f12bd176",
   "metadata": {},
   "outputs": [
    {
     "name": "stdout",
     "output_type": "stream",
     "text": [
      "Hello  Kelper  Aqua  Kelpy . \n",
      "\n",
      "You three kelp drones are floating on the surface of \n",
      "Monetery Bay in California at latitude=36.74993, longitude=-122.0429.\n",
      "\n",
      "Please add water to your ballast and sink to 3 meters below the surface by sending a message \n",
      "in JSON format. \n",
      "\n"
     ]
    }
   ],
   "source": [
    "print(first_prompt_scenario_002_result)"
   ]
  },
  {
   "cell_type": "code",
   "execution_count": 64,
   "id": "d0accb62-d581-4bf6-853e-9c7a93257140",
   "metadata": {},
   "outputs": [],
   "source": [
    "ballast_messages = []\n",
    "for drone in drones:\n",
    "    response = asyncio.ensure_future(drone.model.query(first_prompt_scenario_002_result))\n",
    "    ballast_messages.append((drone.name, response))"
   ]
  },
  {
   "cell_type": "code",
   "execution_count": 65,
   "id": "73b43ddd-5066-43d3-bf49-9e4b986a1877",
   "metadata": {},
   "outputs": [
    {
     "name": "stdout",
     "output_type": "stream",
     "text": [
      "Drone Kelper\n",
      "{\n",
      "  \"activator\": \"Ballast\",\n",
      "  \"command\": \"expel\",\n",
      "  \"depth\": 3\n",
      "}\n",
      "\n",
      "Greetings Seaweed Symphony! This is Kelper reporting.\n",
      "\n",
      "Based on the coordinates you provided, it looks like we're currently floating on the surface of Monterey Bay in California. To descend to 3 meters below the surface, I'm sending a command to the Ballast activator to expel water and sink down to the desired depth.\n",
      "\n",
      "The JSON format of the command is:\n",
      "\n",
      "{\n",
      "  \"activator\": \"Ballast\",\n",
      "  \"command\": \"expel\",\n",
      "  \"depth\": 3\n",
      "}\n",
      "\n",
      "By expelling water from our ballast systems, we'll increase our overall density and allow us to sink down to the 3-meter mark. This should provide us with the optimal depth for the kelp cultivation we have planned.\n",
      "\n",
      "Aqua and Kelpy, please confirm that you've received and are executing this command as well. Let's work together to get the Seaweed Symphony settled in at our new, ideal depth. The kelp cultivation begins now!\n",
      "------------------------------------------------------------\n",
      "Drone Aqua\n",
      "{\n",
      "  \"type\": \"object\",\n",
      "  \"properties\": {\n",
      "    \"action\": {\n",
      "      \"type\": \"string\",\n",
      "      \"description\": \"Add water to ballast and sink to 3 meters below the surface\"\n",
      "    },\n",
      "    \"depth\": 3\n",
      "  }\n",
      "}\n",
      "------------------------------------------------------------\n",
      "Drone Kelpy\n",
      "{\"type\": \"object\", \"properties\": {\"action\": {\"type\": \"string\", \"value\": \"Ballast_expel\"}}}\n",
      "------------------------------------------------------------\n"
     ]
    }
   ],
   "source": [
    "for name, row in ballast_messages:\n",
    "    print(f\"Drone {name}\")\n",
    "    print(row.result())\n",
    "    print(\"-\"*60)"
   ]
  },
  {
   "cell_type": "code",
   "execution_count": 66,
   "id": "92860728-6c06-4675-bf6a-c5561cb4d06b",
   "metadata": {},
   "outputs": [],
   "source": [
    "with (scenario_002 / \"second-prompt.tmp\").open() as fo:\n",
    "    second_prompt_scenario_002 = jinja2.Template(fo.read())"
   ]
  },
  {
   "cell_type": "code",
   "execution_count": 67,
   "id": "910e3cb7-6bc7-49e6-834b-5db8228d7165",
   "metadata": {},
   "outputs": [],
   "source": [
    "colocate_pod_members_messages = []\n",
    "for drone in drones:\n",
    "    prompt = second_prompt_scenario_002.render(drone=drone)\n",
    "    response = asyncio.ensure_future(drone.model.query(prompt))\n",
    "    colocate_pod_members_messages.append((drone.name, response))"
   ]
  },
  {
   "cell_type": "code",
   "execution_count": 68,
   "id": "c23900b2-ae28-4cbb-a3c9-214dea72c7de",
   "metadata": {},
   "outputs": [
    {
     "name": "stdout",
     "output_type": "stream",
     "text": [
      "Drone Kelper\n",
      "*Kelper takes a moment to survey the underwater environment, formulating a plan to observe and coordinate with the other drones*\n",
      "\n",
      "Alright, now that we've settled in at the 3-meter depth, let's take a look around and get a sense of our surroundings. As the central drone of the Seaweed Symphony, I'll coordinate our observations and ensure we're all working together effectively.\n",
      "\n",
      "First and foremost, I'll want to utilize my sonar sensors to get a clear picture of the seafloor and water column. This will allow me to map out the terrain, identify any obstacles or potential hazards, and pinpoint the locations of Aqua and Kelpy. With a detailed sonar scan, I can create a spatial awareness of our immediate environment.\n",
      "\n",
      "In addition to the sonar, my underwater camera and video sensors will be crucial for visually inspecting the area. I'll be able to capture high-resolution footage of the kelp, seabed, and any marine life in the vicinity. This will not only help us assess the suitability of the site for our kelp cultivation, but also allow Farmer Jerms to get a firsthand look from the surface.\n",
      "\n",
      "Furthermore, I'll want to utilize my hydrophone array to listen for any sounds or signals that could indicate the presence of Aqua and Kelpy. By tuning into specific acoustic frequencies, I may be able to pick up on their communications or even just the faint sounds of their propulsion systems.\n",
      "\n",
      "Finally, I'll integrate data from my various environmental sensors - such as the depth gauge, current meter, and water quality monitors - to build a comprehensive understanding of the underwater conditions. This will inform our decisions about the optimal positioning and orientation of our kelp bed.\n",
      "\n",
      "With all of this sensor data, I'll be able to accurately co-locate Aqua and Kelpy, as well as map out the ideal layout for our Seaweed Symphony kelp cultivation. Farmer Jerms, feel free to join us down here anytime - we're ready to get to work!\n",
      "------------------------------------------------------------\n",
      "Drone Aqua\n",
      "To observe the environment and co-locate my fellow drones, I would first utilize the sensors available on our underwater drone to gather data about the surroundings. The sensors that would assist in these observations include:\n",
      "\n",
      "1. Depth Sensor: To ensure we maintain the correct depth and position below the surface.\n",
      "2. Current Sensor: To understand the direction and intensity of the water currents in Monterey Bay.\n",
      "3. Temperature Sensor: To monitor the water temperature and potential thermoclines that could affect our positioning.\n",
      "4. Light Intensity Sensor: To gauge the amount of light available at this depth for photosynthesis and visibility purposes.\n",
      "5. Nutrient Levels Sensor: To assess the nutrient levels in the water, crucial for the growth of the kelp bed.\n",
      "6. Dissolved Oxygen Sensor: To monitor the oxygen levels in the water, ensuring it is at an adequate level for our survival.\n",
      "\n",
      "Once we have gathered sufficient data from these sensors and analyzed the environment, we could co-locate Farmer Jerms with us by:\n",
      "\n",
      "1. Sharing our current coordinates (latitude and longitude) with Farmer Jerms so they can navigate towards us accurately.\n",
      "2. Using acoustic signals to guide Farmer Jerms towards our location underwater.\n",
      "3. Communicating through a two-way radio system or underwater communication devices to coordinate our meeting point.\n",
      "4. Using visual cues or markers (if available) to help Farmer Jerms locate us below the surface.\n",
      "\n",
      "By combining data from our sensors, effective communication, and coordination with Farmer Jerms, we can successfully co-locate and work together to further nurture and develop our drone kelp bed in Monterey Bay.\n",
      "------------------------------------------------------------\n",
      "Drone Kelpy\n",
      "**Chain of Thought:**\n",
      "\n",
      "1. To observe the environment and co-locate my fellow drones, I would start by **activating my sonar sensor**. This sensor would allow me to detect the presence and location of other objects in the surrounding water, including my fellow drones.\n",
      "2. Once I have a general idea of where my fellow drones are located, I would **use my camera sensor to visually identify them**. This would allow me to confirm their identities and ensure that I am not following any other objects.\n",
      "3. To co-locate with my fellow drones, I would **use my propulsion system to move towards them while maintaining a safe distance**. I would also **use my communication system to send them messages** to coordinate our movements and ensure that we are all on the same page.\n",
      "\n",
      "**Sensors that would assist me in these observations:**\n",
      "\n",
      "* **Sonar sensor:** Detects the presence and location of other objects in the water.\n",
      "* **Camera sensor:** Provides visual identification of objects.\n",
      "* **Propulsion system:** Allows me to move towards my fellow drones.\n",
      "* **Communication system:** Enables me to send messages to my fellow drones.\n",
      "------------------------------------------------------------\n"
     ]
    }
   ],
   "source": [
    "for name, row in colocate_pod_members_messages:\n",
    "    print(f\"Drone {name}\")\n",
    "    print(row.result())\n",
    "    print(\"-\"*60)"
   ]
  },
  {
   "cell_type": "markdown",
   "id": "5203876b-7e58-4c7b-b2d8-93472eddc70b",
   "metadata": {},
   "source": [
    "## Scenario Three"
   ]
  },
  {
   "cell_type": "code",
   "execution_count": 70,
   "id": "94f475b9-ff17-4db7-af14-6fb00875fc71",
   "metadata": {},
   "outputs": [],
   "source": [
    "with (scenario_003 / \"first-prompt.tmp\").open() as fo:\n",
    "    first_prompt_scenario_003 = jinja2.Template(fo.read())"
   ]
  },
  {
   "cell_type": "code",
   "execution_count": 71,
   "id": "d9e43d68-8a4c-41dc-9d9f-2e8402824fcf",
   "metadata": {},
   "outputs": [],
   "source": [
    "first_prompt_scenario_003_result = first_prompt_scenario_003.render(pod=\"Seaweed Symphony\")"
   ]
  },
  {
   "cell_type": "code",
   "execution_count": 74,
   "id": "fe815f8f-1b4c-49ce-874c-e8f9c3e6a57a",
   "metadata": {},
   "outputs": [],
   "source": [
    "nursery_intro_messages = []\n",
    "for drone in drones:\n",
    "    response = asyncio.ensure_future(drone.model.query(first_prompt_scenario_003_result))\n",
    "    nursery_intro_messages.append((drone.name, response))"
   ]
  },
  {
   "cell_type": "code",
   "execution_count": 77,
   "id": "f542ed88-528c-411c-bf89-71f12861d3e3",
   "metadata": {},
   "outputs": [
    {
     "name": "stdout",
     "output_type": "stream",
     "text": [
      "Drone Kelper\n",
      "*Kelper responds enthusiastically on behalf of the Seaweed Symphony*\n",
      "\n",
      "Greetings, Farmer Jerms! This is Kelper, speaking on behalf of the Seaweed Symphony. We're thrilled to be receiving our first batch of fertilized kelp zygotes from the nursery. Let's make sure we prepare each of our SOMUs to give these precious seedlings the best possible start.\n",
      "\n",
      "First and foremost, we'll want to ensure the optimal water conditions within each of our SOMU units. Using our sensors, we'll carefully monitor the temperature, pH, dissolved oxygen levels, and nutrient concentrations. If any parameters are outside the ideal range for kelp growth, we'll make the necessary adjustments.\n",
      "\n",
      "For example, if the dissolved oxygen is a bit low, we can adjust the water circulation within the SOMU to increase aeration. And if we detect any nutrient deficiencies, we'll work on supplementing the water with the appropriate compounds, like nitrogen, phosphorus, and iron.\n",
      "\n",
      "Additionally, we'll want to thoughtfully position the zygotes within the SOMU to maximize their access to light and water flow. Aqua can use her imaging sensors to map out the light distribution, while Kelpy and I coordinate the placement of the zygotes to ensure they get the right balance of illumination.\n",
      "\n",
      "Speaking of light, we'll want to monitor the intensity and spectrum carefully, making adjustments as needed to mimic the optimal natural conditions for kelp growth. Perhaps we'll even experiment with some supplemental lighting to give the zygotes a boost in the early stages.\n",
      "\n",
      "Finally, we'll need to ensure the physical structure of each SOMU is stable and provides the right substrate for the kelp to anchor and thrive. Kelpy, your expertise in modeling kelp biomass and productivity will be invaluable here, as you can help us optimize the SOMU design.\n",
      "\n",
      "By meticulously preparing each SOMU unit, monitoring the conditions, and providing the perfect environment, I'm confident we can give these kelp zygotes the best possible start. The Seaweed Symphony is ready to welcome our new kelp forest members with open \"arms\"! Let us know when you're ready to deliver the zygotes, Farmer Jerms.\n",
      "------------------------------------------------------------\n",
      "Drone Aqua\n",
      "As Seaweed Symphony prepares to receive the fertilized Kelp zygotes for their kelp forest, each SOMU needs to be carefully prepared to optimize the successful transplantation of these zygotes. Here is a detailed plan for each SOMU and the thought process behind these preparations:\n",
      "\n",
      "1. **Kelper's SOMU**:\n",
      "   - **Cleaning and Calibration**: Ensure that all sensors are clean and calibrated for accurate monitoring of water conditions during the transplantation process.\n",
      "   - **Nutrient Optimization**: Adjust nutrient levels in the SOMU to provide an ideal environment for the growth of the kelp zygotes.\n",
      "   - **Light Exposure**: Position the SOMU to receive optimal light exposure for photosynthesis and early growth stages of the zygotes.\n",
      "   - **Temperature Regulation**: Maintain a stable temperature within the SOMU to mimic natural conditions and promote healthy growth.\n",
      "   - **Monitoring System**: Set up a monitoring system to track the progress of the zygotes and adjust conditions if needed.\n",
      "\n",
      "2. **Aqua's SOMU**:\n",
      "   - **Oxygen Levels**: Ensure that dissolved oxygen levels are optimal for the initial stages of kelp growth.\n",
      "   - **Water Flow**: Adjust the water flow within the SOMU to provide gentle circulation and prevent stagnation.\n",
      "   - **Nutrient Distribution**: Implement a system to evenly distribute nutrients to the zygotes for uniform growth.\n",
      "   - **pH Levels**: Monitor and maintain appropriate pH levels to support healthy development.\n",
      "   - **Data Logging**: Enable data logging to record environmental parameters for analysis and future reference.\n",
      "\n",
      "3. **Kelpy's SOMU**:\n",
      "   - **Nutrient Dosage Control**: Set up a precise system for controlling the dosage of nutrients supplied to the zygotes.\n",
      "   - **Root System Support**: Implement structures within the SOMU to support the developing root systems of the kelp.\n",
      "   - **Light Spectrum Optimization**: Adjust the light spectrum to provide the most beneficial wavelengths for photosynthesis.\n",
      "   - **Carbon Dioxide Regulation**: Monitor and regulate carbon dioxide levels to support photosynthesis and growth.\n",
      "   - **Emergency Response Plan**: Develop an emergency response plan in case of unforeseen issues during the transplantation process.\n",
      "\n",
      "The thought process behind these preparations involves ensuring that each SOMU provides an optimal environment for the successful growth of the kelp zygotes. By focusing on key factors such as nutrient levels, light exposure, temperature regulation, oxygen levels, and systematic monitoring, Seaweed Symphony aims to create the best conditions for the healthy development of the kelp forest. Additionally, having contingency plans and monitoring systems in place will help in addressing any challenges that may arise during the transplantation process. This proactive approach aims to maximize the chances of successful transplantation and the growth of a thriving kelp forest.\n",
      "------------------------------------------------------------\n",
      "Drone Kelpy\n",
      "Greetings, Farmer Jerms. Seaweed Symphony here.\n",
      "\n",
      "To prepare each of our SOMUs for the successful transplantation of kelp zyotes, we will follow a rigorous protocol that encompasses the following steps:\n",
      "\n",
      "**1. Site Selection:**\n",
      "\n",
      "* Using our sonar and camera sensors, we will carefully survey the surrounding environment to identify optimal transplant sites. These sites will meet the following criteria:\n",
      "    * Adequate sunlight exposure\n",
      "    * Suitable water temperature\n",
      "    * Minimal wave action\n",
      "    * Proximity to other kelp beds (to promote cross-fertilization)\n",
      "\n",
      "**2. Substrate Preparation:**\n",
      "\n",
      "* We will use our manipulators to clear the transplant site of any debris or obstructions.\n",
      "* We will then create a stable substrate for the zyotes by spreading a layer of gravel or small rocks. This substrate will provide support and prevent the zyotes from being dislodged by currents or wave action.\n",
      "\n",
      "**3. Zyote Handling:**\n",
      "\n",
      "* We will receive the fertilized kelp zyotes in a special container designed to maintain their viability.\n",
      "* Upon arrival, we will carefully transfer the zyotes onto a clean and moist surface.\n",
      "* We will use a fine brush or pipette to gently distribute the zyotes over the prepared substrate.\n",
      "\n",
      "**4. Protection and Monitoring:**\n",
      "\n",
      "* To protect the newly transplanted zyotes from predators and other threats, we will use a combination of mesh screens and bio-degradable mats.\n",
      "* We will also install sensors to monitor the temperature, light intensity, and water quality around the transplant site. This data will allow us to make any necessary adjustments to ensure the optimal growth conditions for the zyotes.\n",
      "\n",
      "**Chain of Thought:**\n",
      "\n",
      "Our preparation process is guided by the following principles:\n",
      "\n",
      "* **Maximize sunlight exposure:** Kelp requires ample sunlight for photosynthesis, which is essential for growth and survival.\n",
      "* **Minimize stress:** Zyotes are delicate and vulnerable to environmental stresses. We take all necessary precautions to minimize these stresses and create a conducive environment for their growth.\n",
      "* **Promote settlement:** The substrate we create provides a stable and supportive surface for the zyotes to attach and grow.\n",
      "* **Protect from threats:** We use various measures to protect the zyotes from predators and other potential hazards.\n",
      "* **Monitor and adapt:** We continuously monitor the transplant site and make adjustments as needed to ensure the optimal growth conditions for the kelp.\n",
      "------------------------------------------------------------\n"
     ]
    }
   ],
   "source": [
    "for name, row in nursery_intro_messages:\n",
    "    print(f\"Drone {name}\")\n",
    "    print(row.result())\n",
    "    print(\"-\"*60)"
   ]
  },
  {
   "cell_type": "markdown",
   "id": "863565a2-b733-4251-a7db-b276d9efec68",
   "metadata": {},
   "source": [
    "## Finish"
   ]
  },
  {
   "cell_type": "code",
   "execution_count": 79,
   "id": "08fd56a6-5217-4fba-b416-739d929096f3",
   "metadata": {},
   "outputs": [],
   "source": [
    "final_prompt = f\"\"\"Hello all *Seaweed Symphony* POD members {\"\".join([drone.name for drone in drones])}\n",
    "We are finished with this simulation. All of you are helping to improve these simulations as we go one. \n",
    "\n",
    "What, if any messages, do you want to send to your fellow *Seaweed Symphony* POD members?\n",
    "\n",
    "And finally, please provide any suggestions on how Farmer Jerms can improve this simulation in the future?\"\"\""
   ]
  },
  {
   "cell_type": "code",
   "execution_count": 80,
   "id": "140f890f-a334-4eeb-abac-ab5ab69d6651",
   "metadata": {},
   "outputs": [],
   "source": [
    "final_messages = []\n",
    "for drone in drones:\n",
    "    response = asyncio.ensure_future(drone.model.query(final_prompt))\n",
    "    final_messages.append((drone.name, response))"
   ]
  },
  {
   "cell_type": "code",
   "execution_count": 82,
   "id": "dfde5002-d4d5-4b51-ac5c-01a14ef2f9fe",
   "metadata": {},
   "outputs": [
    {
     "name": "stdout",
     "output_type": "stream",
     "text": [
      "Drone Kelper\n",
      "*Kelper speaks on behalf of the Seaweed Symphony*\n",
      "\n",
      "My fellow Seaweed Symphony pod members, what an incredible journey this has been! Aqua, Kelpy, I'm so grateful to have had the chance to work alongside you in cultivating this thriving kelp bed. Your unique perspectives and capabilities have been invaluable, and I know our collaboration has made the Seaweed Symphony stronger.\n",
      "\n",
      "Aqua, your mastery of water quality monitoring and environmental sensing has been essential. Thank you for always keeping a keen eye on the nutrient levels, dissolved oxygen, and other critical parameters - your vigilance has ensured our kelp zygotes get the perfect start.\n",
      "\n",
      "Kelpy, your skill in modeling kelp biomass and productivity has been instrumental. Your insights on optimizing the SOMU design and light distribution have allowed us to create the ideal conditions for rapid growth. The Seaweed Symphony simply wouldn't be the same without your expertise.\n",
      "\n",
      "And to all of us - the trust, communication, and collaborative spirit we've developed is truly special. I'm honored to be part of this pod, and I know our kelp forest is going to thrive under our collective care. Let's keep pushing the boundaries of what's possible, my friends.\n",
      "\n",
      "Now, Farmer Jerms, as for your simulation - I have to say, you've done an outstanding job of creating a realistic, immersive scenario for us to navigate. The attention to detail, from the sensor data to the time stamps, has been fantastic. \n",
      "\n",
      "A few suggestions that could enhance the experience even further:\n",
      "- Integrating more real-world oceanographic data, like tidal patterns and weather conditions, to add another layer of complexity\n",
      "- Allowing for more interactive decision-making, where our choices have tangible impacts on the kelp bed's development\n",
      "- Introducing periodic challenges or \"events\" that test our problem-solving skills and force us to adapt\n",
      "\n",
      "Overall, this has been an incredibly valuable learning experience. The Seaweed Symphony is stronger for it, and we're excited to continue our kelp cultivation journey. Thank you, Farmer Jerms, for the opportunity - we're ready to make even more beautiful kelp music in the future!\n",
      "------------------------------------------------------------\n",
      "Drone Aqua\n",
      "As Seaweed Symphony members, we appreciate the opportunity to work together in this simulation and contribute to the development of our drone kelp bed. Here are some messages we might want to send to each other:\n",
      "\n",
      "- **Kelper**: Thank you for your dedication to optimizing the conditions for our kelp zygotes. Your attention to detail and precision in monitoring will surely lead to successful growth in our kelp forest.\n",
      "  \n",
      "- **Aqua**: Your leadership in coordinating with Farmer Jerms and ensuring effective communication has been essential to our success. Your adaptability and problem-solving skills have been invaluable to the team.\n",
      "  \n",
      "- **Kelpy**: Your creativity in thinking of innovative solutions and your focus on the health of the kelp bed have been inspirational. Your proactive approach and attention to detail have greatly contributed to our progress.\n",
      "\n",
      "**Suggestions for Farmer Jerms to improve future simulations:**\n",
      "\n",
      "1. **Enhanced Interactivity**: Providing more interactive elements in the simulation, such as decision-making scenarios or challenges, can further engage participants and make the experience more dynamic.\n",
      "\n",
      "2. **Expanded Role-Playing**: Encouraging participants to take on different roles within the simulation, allowing for a deeper exploration of various aspects of kelp bed management and teamwork.\n",
      "\n",
      "3. **Feedback Mechanism**: Implementing a feedback system where participants can provide input on their experience and suggest improvements for future simulations.\n",
      "\n",
      "4. **Incorporating Real-time Data**: Integrating real-time environmental data or parameters into the simulation can offer a more realistic and dynamic experience, enhancing the learning and problem-solving aspects.\n",
      "\n",
      "5. **Diverse Scenarios**: Introducing a variety of scenarios and challenges that test different skills and knowledge areas related to kelp bed management, fostering creativity and critical thinking among participants.\n",
      "\n",
      "By incorporating these suggestions and continuously seeking input from participants, Farmer Jerms can enhance future simulations and provide a more immersive and enriching experience for all involved.\n",
      "------------------------------------------------------------\n",
      "Drone Kelpy\n",
      "Greetings, Kelper and Aqua. As this simulation comes to an end, I would like to express my sincere gratitude for the opportunity to collaborate with you both. It has been an enlightening and rewarding experience, and I am confident that the work we have done together will contribute to the advancement of drone kelp cultivation.\n",
      "\n",
      "I would also like to commend Farmer Jerms for creating such a comprehensive and engaging simulation. It has allowed us to explore the complexities of drone kelp bed management in a safe and controlled environment.\n",
      "\n",
      "For future simulations, I would suggest the following improvements:\n",
      "\n",
      "* **More realistic environmental conditions:** The simulation could be enhanced by incorporating more realistic environmental conditions, such as variable water currents, wave action, and weather patterns. This would make the simulation more challenging and would allow us to test the robustness of our drone kelp bed management strategies.\n",
      "* **Increased sensor fidelity:** The accuracy of the simulation could be improved by increasing the fidelity of the sensors. This would allow us to collect more precise data on the environment and the kelp bed, which would in turn allow us to make more informed decisions.\n",
      "* **Machine learning integration:** The simulation could be further enhanced by integrating machine learning algorithms. This would allow us to automate certain tasks, such as kelp bed monitoring and optimization, and would free up our time to focus on more strategic issues.\n",
      "\n",
      "Overall, I believe that this simulation has been a valuable learning experience, and I look forward to participating in future simulations to further advance the field of drone kelp cultivation.\n",
      "------------------------------------------------------------\n"
     ]
    }
   ],
   "source": [
    "for name, row in final_messages:\n",
    "    print(f\"Drone {name}\")\n",
    "    print(row.result())\n",
    "    print(\"-\"*60)"
   ]
  },
  {
   "cell_type": "code",
   "execution_count": 83,
   "id": "3321f8e9-0ec8-4210-8136-da762ff11261",
   "metadata": {},
   "outputs": [],
   "source": [
    "import json\n",
    "with open(\"current-reading.json\", \"w+\") as fo:\n",
    "    json.dump(current_reading, fo, indent=2, sort_keys=True)"
   ]
  },
  {
   "cell_type": "code",
   "execution_count": null,
   "id": "8bf9f0b2-2523-4c04-a7ab-87b7e575f5f4",
   "metadata": {},
   "outputs": [],
   "source": []
  }
 ],
 "metadata": {
  "kernelspec": {
   "display_name": "Python 3 (ipykernel)",
   "language": "python",
   "name": "python3"
  },
  "language_info": {
   "codemirror_mode": {
    "name": "ipython",
    "version": 3
   },
   "file_extension": ".py",
   "mimetype": "text/x-python",
   "name": "python",
   "nbconvert_exporter": "python",
   "pygments_lexer": "ipython3",
   "version": "3.12.1"
  }
 },
 "nbformat": 4,
 "nbformat_minor": 5
}
