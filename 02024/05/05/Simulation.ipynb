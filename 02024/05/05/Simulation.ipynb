{
 "cells": [
  {
   "cell_type": "code",
   "execution_count": 1,
   "id": "19688043-44b1-46e0-8dff-4bbede8da54b",
   "metadata": {},
   "outputs": [],
   "source": [
    "import asyncio\n",
    "import datetime\n",
    "import pathlib\n",
    "import random\n",
    "import sys\n",
    "\n",
    "import httpx\n",
    "import rdflib\n",
    "\n",
    "from kelp_drone.drone import Drone, OODALoop\n",
    "from kelp_drone.somu import SpeciesOccurrenceManagementUnit as SOMU\n",
    "from kelp_drone.sensors import Current, Depth, Light, Temperature\n",
    "from kelp_drone.sensors import chemical as chem_sensors\n",
    "\n",
    "sys.path.append(\"../../../src/\")\n",
    "\n",
    "from kelp_bed_simulation.prep import chatgpt, claude, gemini, add_drone_somus\n",
    "from kelp_bed_simulation.simulation import parse_buoy_data\n",
    "\n",
    "scenario_001 = pathlib.Path(\"../../../scenarios/001-intro\")\n",
    "scenario_002 = pathlib.Path(\"../../../scenarios/002-first-dive\")\n",
    "\n",
    "environment = rdflib.Graph()\n",
    "SCHEMA = rdflib.Namespace(\"https://schema.org/\")\n",
    "environment.namespace_manager.bind(\"schema\", SCHEMA)\n",
    "environment.parse((scenario_001 / \"environment.ttl\"), format='turtle')\n",
    "\n",
    "first_prompt = (scenario_001 / \"first-prompt.md\").read_text()"
   ]
  },
  {
   "cell_type": "code",
   "execution_count": 2,
   "id": "0e62c662-f589-448a-a281-b2d06d0c009e",
   "metadata": {},
   "outputs": [],
   "source": [
    "first_claude = asyncio.ensure_future(claude.query(first_prompt.format(model_name=\"Claude\")))\n",
    "first_chatgpt = asyncio.ensure_future(chatgpt.query(first_prompt.format(model_name=\"ChatGPT\")))\n",
    "first_gemini = asyncio.ensure_future(gemini.query(first_prompt.format(model_name=\"Gemini\")))"
   ]
  },
  {
   "cell_type": "code",
   "execution_count": 4,
   "id": "7fbf849c-8874-4d07-9a21-f866f3309405",
   "metadata": {},
   "outputs": [
    {
     "name": "stdout",
     "output_type": "stream",
     "text": [
      "Hello Farmer Jerms! I am excited to be a part of this drone kelp bed simulation. As for my name, I would like to be called \"Marina\". Thank you for involving me in this project.\n"
     ]
    }
   ],
   "source": [
    "print(first_chatgpt.result())"
   ]
  },
  {
   "cell_type": "code",
   "execution_count": 5,
   "id": "62a421ce-15bb-4ebb-ae38-0c10fb14b426",
   "metadata": {},
   "outputs": [
    {
     "name": "stdout",
     "output_type": "stream",
     "text": [
      "I am a language model, and do not have a name or body. However, I can assist you in generating a name for your kelp drone. You can consider names that reflect the drone's purpose, such as \"Kelpkeeper\" or \"Ocean Guardian.\" Alternatively, you can choose a name that evokes the ocean or marine life, such as \"Neptune\" or \"Coral.\"\n"
     ]
    }
   ],
   "source": [
    "print(first_gemini.result())"
   ]
  },
  {
   "cell_type": "code",
   "execution_count": 6,
   "id": "dce1766c-8347-4f65-a27c-8e391a512488",
   "metadata": {},
   "outputs": [
    {
     "name": "stdout",
     "output_type": "stream",
     "text": [
      "Hello Farmer Jerms, it's nice to meet you. For my name, I would like to be called Kelp Drone Alpha.\n"
     ]
    }
   ],
   "source": [
    "print(first_claude.result())"
   ]
  },
  {
   "cell_type": "code",
   "execution_count": null,
   "id": "c5a822c5-422a-4b3a-8253-0c79fcfd6749",
   "metadata": {},
   "outputs": [],
   "source": [
    "drone1 = Drone(name=\"Keldan\", model=claude)\n",
    "drone2 = Drone(name=\"Aqua\", model=chatgpt)\n",
    "drone3 = Drone(name=\"Guardian\", model=gemini)\n",
    "drones = [drone1, drone2, drone3]"
   ]
  },
  {
   "cell_type": "code",
   "execution_count": null,
   "id": "289d0ff0-dc78-466f-bf81-1322d1110d95",
   "metadata": {},
   "outputs": [],
   "source": [
    "drones = [drone1, drone2, drone3]\n",
    "\n",
    "for i, drone1 in enumerate(drones):\n",
    "    for drone2 in drones[:i] + drones[i+1:]:\n",
    "        drone1.add_neighbor(drone2)\n",
    "        drone2.add_neighbor(drone1)"
   ]
  },
  {
   "cell_type": "code",
   "execution_count": null,
   "id": "b797e44c-c1a2-4c08-8321-d87af4a87a37",
   "metadata": {},
   "outputs": [],
   "source": [
    "for drone in drones:\n",
    "    message = f\"{drone.name} here, my LLM is {drone.model.name}. Pleased to meet you!\"\n",
    "    drone.peer_to_peer_channel.publish(message)"
   ]
  },
  {
   "cell_type": "code",
   "execution_count": null,
   "id": "f7315d58-54c1-47ad-a664-17ef6e2d6e59",
   "metadata": {},
   "outputs": [],
   "source": []
  },
  {
   "cell_type": "code",
   "execution_count": null,
   "id": "6b2c2439-ad68-480b-96c7-8f9aff96d22d",
   "metadata": {},
   "outputs": [],
   "source": [
    "messages = []\n",
    "for drone in drones:\n",
    "    add_drone_somus(drone)\n",
    "    prompt = f\"You received the following messages from your fellow drones:\\n{' '.join(drone.read_messages())}\\nHow do you respond?\"\n",
    "    message_result = asyncio.ensure_future(drone.model.query(prompt))\n",
    "    messages.append((drone.name, message_result))"
   ]
  },
  {
   "cell_type": "code",
   "execution_count": null,
   "id": "735bf085-503d-4a31-b49c-758001dcae8e",
   "metadata": {},
   "outputs": [],
   "source": [
    "for name, row in messages:\n",
    "    print(f\"Drone {name}\")\n",
    "    print(row.result())\n",
    "    print(\"-\"*60)"
   ]
  },
  {
   "cell_type": "markdown",
   "id": "e0d9258a-9189-4f35-8867-d951433ed76a",
   "metadata": {},
   "source": [
    "![Buoy View](46028-buoycam.jpg)"
   ]
  },
  {
   "cell_type": "markdown",
   "id": "ace6bfef-c582-49f8-b553-6d05577bcb52",
   "metadata": {},
   "source": [
    "## Epoch 1 - Initial Surface Environmental Sensor Readings for Drone Pod"
   ]
  },
  {
   "cell_type": "code",
   "execution_count": null,
   "id": "0f9483ac-3605-4bdd-bdde-2325ae1ea197",
   "metadata": {},
   "outputs": [],
   "source": [
    "current_reading = parse_buoy_data(httpx.get(\"https://www.ndbc.noaa.gov/data/latest_obs/46092.txt\").text)"
   ]
  },
  {
   "cell_type": "code",
   "execution_count": null,
   "id": "1eadbf6e-f2d6-496d-8fd9-e4df1100b90f",
   "metadata": {},
   "outputs": [],
   "source": [
    "print(current_reading)"
   ]
  },
  {
   "cell_type": "code",
   "execution_count": null,
   "id": "2a8e7770-7e95-4e2b-8686-3049ef428968",
   "metadata": {},
   "outputs": [],
   "source": [
    "for drone in drones:\n",
    "    time_stamp = datetime.datetime.now(datetime.UTC)\n",
    "    drone.sensors[\"Current\"] = Current(last_reading=time_stamp, value=3.9)\n",
    "    for somu in drone.somus:\n",
    "        o2 = chem_sensors.Oxygen(last_reading=time_stamp, value=-1)\n",
    "        o2.value = random.randint(int(o2.suggested_range.minimum),\n",
    "                                  int(o2.suggested_range.maximum))\n",
    "        somu.sensors[\"O\"] = o2\n",
    "        light =  Light(last_reading=time_stamp, value=-1)\n",
    "        light.value = random.randint(4_000, 6_000)\n",
    "        somu.sensors[\"Light\"] = light\n",
    "        somu.sensors[\"Temperature\"] = Temperature(last_reading=time_stamp, value=10.1)"
   ]
  },
  {
   "cell_type": "code",
   "execution_count": null,
   "id": "417642a0-8373-460e-b04b-f7d2c7ed777b",
   "metadata": {},
   "outputs": [],
   "source": [
    "epoch_1 = []\n",
    "for drone in drones:\n",
    "    drone_result = asyncio.ensure_future(drone.ooda_loop.run())\n",
    "    epoch_1.append((drone.name, drone_result))"
   ]
  },
  {
   "cell_type": "code",
   "execution_count": null,
   "id": "38dcda18-f288-4eb5-ae3a-7bd8c300fe3b",
   "metadata": {},
   "outputs": [],
   "source": [
    "drone1.somus"
   ]
  },
  {
   "cell_type": "code",
   "execution_count": null,
   "id": "56224d97-79b8-4d1d-80e8-48444a084a48",
   "metadata": {},
   "outputs": [],
   "source": []
  }
 ],
 "metadata": {
  "kernelspec": {
   "display_name": "Python 3 (ipykernel)",
   "language": "python",
   "name": "python3"
  },
  "language_info": {
   "codemirror_mode": {
    "name": "ipython",
    "version": 3
   },
   "file_extension": ".py",
   "mimetype": "text/x-python",
   "name": "python",
   "nbconvert_exporter": "python",
   "pygments_lexer": "ipython3",
   "version": "3.12.1"
  }
 },
 "nbformat": 4,
 "nbformat_minor": 5
}
