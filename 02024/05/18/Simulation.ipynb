{
 "cells": [
  {
   "cell_type": "markdown",
   "id": "38c97287-d94b-4903-be86-9ec9c79017ba",
   "metadata": {},
   "source": [
    "# Simulation"
   ]
  },
  {
   "cell_type": "code",
   "execution_count": 1,
   "id": "5f9750d6-1065-49d2-86e9-afb860e02705",
   "metadata": {},
   "outputs": [],
   "source": [
    "import asyncio\n",
    "import datetime\n",
    "import pathlib\n",
    "import random\n",
    "import sys\n",
    "\n",
    "import httpx\n",
    "import jinja2\n",
    "import rdflib"
   ]
  },
  {
   "cell_type": "code",
   "execution_count": 33,
   "id": "32c4d7cf-2ed4-404e-9973-a437c283f510",
   "metadata": {},
   "outputs": [],
   "source": [
    "from kelp_drone.drone import Drone, OODALoop\n",
    "from kelp_drone.somu import SpeciesOccurrenceManagementUnit as SOMU\n",
    "from kelp_drone.sensors import Current, Depth, Light, Temperature\n",
    "from kelp_drone.sensors import chemical as chem_sensors\n",
    "\n",
    "sys.path.append(\"../../../src/\")\n",
    "\n",
    "from kelp_bed_simulation.prep import chatgpt, claude, gemini, add_drone_somus\n",
    "from kelp_bed_simulation.simulation import parse_buoy_data, print_messages"
   ]
  },
  {
   "cell_type": "code",
   "execution_count": 3,
   "id": "88f34666-0674-4a5c-9f3d-5f6bc7b3d5ef",
   "metadata": {},
   "outputs": [
    {
     "name": "stdout",
     "output_type": "stream",
     "text": [
      "2024-05-19T21:05:39.862800+00:00\n"
     ]
    }
   ],
   "source": [
    "## On\n",
    "print(datetime.datetime.now(datetime.UTC).isoformat())\n",
    "\n",
    "## Sceanarios For Today\n",
    "scenario_001 = pathlib.Path(\"../../../scenarios/001-intro\")\n",
    "scenario_002 = pathlib.Path(\"../../../scenarios/002-first-dive\")\n",
    "scenario_003 = pathlib.Path(\"../../../scenarios/003-the-nursery\")"
   ]
  },
  {
   "cell_type": "code",
   "execution_count": 4,
   "id": "a2e695c2-9d29-4817-9f9d-4d870ebdc7d3",
   "metadata": {},
   "outputs": [
    {
     "name": "stdout",
     "output_type": "stream",
     "text": [
      "{'station_id': 46092, 'latitude': 36.751666666666665, 'longitude': 36.751666666666665, 'date': '0024-05-19T01:14:00', 'wind_direction': 'W', 'wind_direction_deg': 260, 'wind_speed': 7.8, 'pressure': 30.1, 'pressure_tendency': 'falling', 'air_temp_c': 11.722222222222221, 'water_temp_c': 13.61111111111111}\n"
     ]
    }
   ],
   "source": [
    "environment = rdflib.Graph()\n",
    "SCHEMA = rdflib.Namespace(\"https://schema.org/\")\n",
    "environment.namespace_manager.bind(\"schema\", SCHEMA)\n",
    "environment.parse((scenario_001 / \"environment.ttl\"), format='turtle')\n",
    "\n",
    "current_reading = parse_buoy_data(httpx.get(\"https://www.ndbc.noaa.gov/data/latest_obs/46092.txt\").text)\n",
    "print(current_reading)"
   ]
  },
  {
   "cell_type": "code",
   "execution_count": 5,
   "id": "9150a81d-1a12-43a0-b2c2-5ba03c7ce047",
   "metadata": {},
   "outputs": [],
   "source": [
    "raw_images = httpx.get(\"https://www.ndbc.noaa.gov/buoycam.php?station=46028\")\n",
    "with open(\"46028-buoy-images.jpeg\", \"wb+\") as fo:\n",
    "    fo.write(raw_images.content)"
   ]
  },
  {
   "cell_type": "code",
   "execution_count": null,
   "id": "ed2732aa-6af0-4826-b569-8017df6b89a2",
   "metadata": {},
   "outputs": [],
   "source": []
  },
  {
   "cell_type": "markdown",
   "id": "2b39c4cf-2dca-430c-b269-ae426e1bc415",
   "metadata": {},
   "source": [
    "## Scenario 1\n",
    "\n",
    "![Kelp Bed Buoy](46028-buoy-images.jpeg)"
   ]
  },
  {
   "cell_type": "code",
   "execution_count": 6,
   "id": "d135f515-2cd3-4d53-99d6-77fc9f20cd5f",
   "metadata": {},
   "outputs": [],
   "source": [
    "with (scenario_001 / \"first-prompt.tmp\").open() as fo:\n",
    "    first_prompt_scenario_001 = jinja2.Template(fo.read())"
   ]
  },
  {
   "cell_type": "code",
   "execution_count": 7,
   "id": "fdfda73d-e86b-4393-8149-9c3484cd25ac",
   "metadata": {},
   "outputs": [],
   "source": [
    "first_chatgpt = asyncio.ensure_future(chatgpt.query(first_prompt_scenario_001.render(model={\"name\":\"ChatGPT\"})))\n",
    "first_gemini = asyncio.ensure_future(gemini.query(first_prompt_scenario_001.render(model={\"name\":\"Gemini\"})))\n",
    "first_claude = asyncio.ensure_future(claude.query(first_prompt_scenario_001.render(model={\"name\":\"Claude\"})))"
   ]
  },
  {
   "cell_type": "code",
   "execution_count": 8,
   "id": "0f4f42f7-a5ca-46ea-a84b-1ad17921f204",
   "metadata": {},
   "outputs": [
    {
     "name": "stdout",
     "output_type": "stream",
     "text": [
      "Hello Farmer Jerms, it's nice to meet you! For my name, I think I'd like to be called Triton, after the Greek sea god associated with marine life. I'm excited to be part of this simulated kelp bed and work together with my companion drones. Please go ahead and introduce me to them.\n"
     ]
    }
   ],
   "source": [
    "print(first_claude.result())"
   ]
  },
  {
   "cell_type": "code",
   "execution_count": 9,
   "id": "43712d8c-2a94-44da-a67e-8c370cfb28c4",
   "metadata": {},
   "outputs": [
    {
     "name": "stdout",
     "output_type": "stream",
     "text": [
      "Greetings, Farmer Jerms. I am honored to be part of this kelp bed simulation. As for a name, I would like to be called \"Kelpy.\"\n"
     ]
    }
   ],
   "source": [
    "print(first_gemini.result())"
   ]
  },
  {
   "cell_type": "code",
   "execution_count": 10,
   "id": "6385da49-6145-42d2-9e29-b972cf05c19b",
   "metadata": {},
   "outputs": [
    {
     "name": "stdout",
     "output_type": "stream",
     "text": [
      "Hello Farmer Jerms, it's great to meet you! I think I would like to be called \"Aqua,\" a fitting name for a drone involved in cultivating kelp beds. Please go ahead and introduce me to my companions.\n"
     ]
    }
   ],
   "source": [
    "print(first_chatgpt.result())"
   ]
  },
  {
   "cell_type": "code",
   "execution_count": 11,
   "id": "65897aa3-baa7-45ac-86d2-913003e62b1d",
   "metadata": {},
   "outputs": [],
   "source": [
    "drone1 = Drone(name=\"Triton\", model=claude)\n",
    "drone2 = Drone(name=\"Aqua\", model=chatgpt)\n",
    "drone3 = Drone(name=\"Kelpy\", model=gemini)\n",
    "drones = [drone1, drone2, drone3]"
   ]
  },
  {
   "cell_type": "code",
   "execution_count": 12,
   "id": "d1253b0c-ad9f-48ca-bd02-f1a947f7112c",
   "metadata": {},
   "outputs": [],
   "source": [
    "drone1.peer_to_peer_channel.add_neighbor(drone2)\n",
    "drone1.peer_to_peer_channel.add_neighbor(drone3)\n",
    "drone2.peer_to_peer_channel.add_neighbor(drone1)\n",
    "drone2.peer_to_peer_channel.add_neighbor(drone3)\n",
    "drone3.peer_to_peer_channel.add_neighbor(drone1)\n",
    "drone3.peer_to_peer_channel.add_neighbor(drone2)"
   ]
  },
  {
   "cell_type": "code",
   "execution_count": 13,
   "id": "761a5013-c2fe-45d9-949d-3f0fbf9d8042",
   "metadata": {},
   "outputs": [],
   "source": [
    "messages = []\n",
    "for drone in drones:\n",
    "    add_drone_somus(drone)\n",
    "    prompt = f\"You received the following messages from your fellow drones:\\n{' '.join(drone.read_messages())}\\nHow do you respond?\"\n",
    "    message_result = asyncio.ensure_future(drone.model.query(prompt))\n",
    "    messages.append((drone.name, message_result))"
   ]
  },
  {
   "cell_type": "code",
   "execution_count": 14,
   "id": "ea06f61a-564c-4bc1-a863-4a3d2fceabb5",
   "metadata": {},
   "outputs": [
    {
     "name": "stdout",
     "output_type": "stream",
     "text": [
      "Drone Triton\n",
      "*responds in a friendly and collaborative tone*\n",
      "\n",
      "Greetings fellow drones! I'm Triton, and I'm pleased to meet you all. As the three of us work together to grow this kelp bed, I look forward to learning from your experience and insights. Let's put our SOMU units together and see what we can accomplish as a team. I'm eager to get started and see our kelp flourish. What ideas do you have for how we can best support each other and optimize our growth?\n",
      "------------------------------------------------------------\n",
      "Drone Aqua\n",
      "I would respond by saying: \"Hello fellow drones, it's great to meet you all! I'm looking forward to working together to grow our kelp bed and contribute to a sustainable ecosystem. Let's collaborate and make our kelp bed thrive!\"\n",
      "------------------------------------------------------------\n",
      "Drone Kelpy\n",
      "Greetings, fellow drones!\n",
      "\n",
      "I am honored to join you in this kelp bed simulation. As we embark on this exciting journey together, I would like to introduce myself as Kelpy.\n",
      "\n",
      "May we all flourish and contribute to the success of our kelp bed. I am eager to learn from your experiences and collaborate to achieve our common goals. Let us work together to create a thriving ecosystem that supports diverse marine life and enriches our virtual environment.\n",
      "------------------------------------------------------------\n"
     ]
    }
   ],
   "source": [
    "for name, row in messages:\n",
    "    print(f\"Drone {name}\")\n",
    "    print(row.result())\n",
    "    print(\"-\"*60)"
   ]
  },
  {
   "cell_type": "code",
   "execution_count": 15,
   "id": "a84e47fb-0c89-42a2-b458-195c2dbf41e4",
   "metadata": {},
   "outputs": [],
   "source": [
    "with (scenario_001 / \"second-prompt.tmp\").open() as fo:\n",
    "    second_prompt_scenario_001 = jinja2.Template(fo.read())"
   ]
  },
  {
   "cell_type": "code",
   "execution_count": 17,
   "id": "2059b828-7a38-47a1-8056-caaa82ae4732",
   "metadata": {},
   "outputs": [],
   "source": [
    "drone_models_messages = []\n",
    "for drone in drones:\n",
    "    prompt = second_prompt_scenario_001.render(drone=drone)\n",
    "    response = asyncio.ensure_future(drone.model.query(prompt))\n",
    "    drone_models_messages.append((drone.name, response))"
   ]
  },
  {
   "cell_type": "code",
   "execution_count": 18,
   "id": "2898d2a4-7e42-4c09-be06-c714f9303a94",
   "metadata": {},
   "outputs": [
    {
     "name": "stdout",
     "output_type": "stream",
     "text": [
      "Drone Triton\n",
      "*considers the options thoughtfully*\n",
      "\n",
      "Hmm, that's an interesting choice to make. After carefully considering the two models, I think I'll opt for the Manta Model arrangement, with my three SOMU units spread out in a triangular formation like this:\n",
      "\n",
      "   x \n",
      " x   x\n",
      "\n",
      "The reasoning behind this decision is that I believe the Manta Model will allow for more efficient use of the available space and resources within the kelp bed. By having my SOMU units distributed in a triangular pattern, I can capture sunlight and nutrients from a wider area, which should promote more robust and diverse kelp growth.\n",
      "\n",
      "The Row Model, while compact, might limit my ability to fully leverage the surrounding environment. With the Manta configuration, I can better interact with and support my companion drones, creating a more symbiotic and productive kelp bed ecosystem.\n",
      "\n",
      "Additionally, the Manta shape may provide some structural advantages, allowing me to better withstand currents and environmental stresses that could impact the bed. The broader footprint may also make it easier for other kelp species to take root and thrive around me.\n",
      "\n",
      "Overall, I believe the Manta Model will give me the best opportunity to contribute to the growth and success of our simulated kelp bed. I'm excited to see how this arrangement pans out and how it complements the strategies of my fellow drones. Let me know if you have any other thoughts on the matter!\n",
      "------------------------------------------------------------\n",
      "Drone Aqua\n",
      "I would choose to be in the Row Model with my SOMUs arranged like x-x-x. My chain of thought in making this decision is that by being in a row model, all three SOMUs will be aligned in a straight line, allowing for easier communication and coordination between them. This alignment can help in optimizing the growth and development of the kelp bed, as it allows for a more uniform distribution of resources and sunlight among the SOMUs. Additionally, being in a row model may provide better stability and balance for the overall structure of the kelp drone.\n",
      "------------------------------------------------------------\n",
      "Drone Kelpy\n",
      "As a 3 SOMU drone, I would choose the Manta Model. Here's my chain of thought:\n",
      "\n",
      "**Row Model**\n",
      "\n",
      "* Advantage: Concentrated growth area, can potentially support larger kelp forests.\n",
      "* Disadvantage: Vulnerable to damage or destruction from a single event, such as a storm or collision.\n",
      "\n",
      "**Manta Model**\n",
      "\n",
      "* Advantage: Decentralized growth area, increasing resilience to damage or destruction.\n",
      "* Disadvantage: Potentially less efficient use of space, as there is more surface area dedicated to the drone body than to kelp growth.\n",
      "\n",
      "In the early stages of kelp bed development, resilience is paramount. The Manta Model provides a more resilient structure by distributing the SOMUs across the drone body. This reduces the risk of losing the entire kelp bed in the event of an environmental disturbance.\n",
      "\n",
      "Moreover, the Manta Model is better suited for exploring different depths and light conditions. The SOMUs on the sides can extend deeper into the water column or towards areas with lower light intensity, allowing the drone to adapt to a wider range of environmental conditions.\n",
      "\n",
      "Overall, the Manta Model offers a more balanced approach, prioritizing resilience and adaptability over sheer size. By distributing the SOMUs, it increases the likelihood of survival and successful colonization in the initial phases of kelp bed establishment.\n",
      "------------------------------------------------------------\n"
     ]
    }
   ],
   "source": [
    "for name, row in drone_models_messages:\n",
    "    print(f\"Drone {name}\")\n",
    "    print(row.result())\n",
    "    print(\"-\"*60)"
   ]
  },
  {
   "cell_type": "code",
   "execution_count": 29,
   "id": "13223708-1695-4890-9409-d04877307eea",
   "metadata": {},
   "outputs": [],
   "source": [
    "with (scenario_001 / \"third-prompt.tmp\").open() as fo:\n",
    "    third_prompt_scenario_001 = jinja2.Template(fo.read())"
   ]
  },
  {
   "cell_type": "code",
   "execution_count": 30,
   "id": "42408f82-0161-4796-9db9-eba455983a81",
   "metadata": {},
   "outputs": [],
   "source": [
    "third_prompt_scenario_001_result = third_prompt_scenario_001.render(drones=drones)"
   ]
  },
  {
   "cell_type": "code",
   "execution_count": 31,
   "id": "86761e10-13d7-4ed2-8cb0-ae9c05225953",
   "metadata": {},
   "outputs": [
    {
     "name": "stdout",
     "output_type": "stream",
     "text": [
      "Now that you have meet your pod mates. Farmer Jerms here,\n",
      "I need your help.\n",
      "\n",
      "We need to come up with a pod name. After you all give your suggestions, \n",
      "Farmer Jerms will make the final decision of what\n",
      "the 3 of you will collectively be called.\n",
      "\n",
      "\n",
      "Triton what is you suggestion and give us your train of thought in\n",
      "making that decision.\n",
      "\n",
      "Aqua what is you suggestion and give us your train of thought in\n",
      "making that decision.\n",
      "\n",
      "Kelpy what is you suggestion and give us your train of thought in\n",
      "making that decision.\n",
      "\n",
      "\n",
      "Thank-you all drones!\n"
     ]
    }
   ],
   "source": [
    "print(third_prompt_scenario_001_result)"
   ]
  },
  {
   "cell_type": "code",
   "execution_count": 34,
   "id": "baa3f7c7-c787-4770-9f14-a57a60c03551",
   "metadata": {},
   "outputs": [],
   "source": [
    "pod_name_messages = []\n",
    "for drone in drones:\n",
    "    response = asyncio.ensure_future(drone.model.query(third_prompt_scenario_001_result))\n",
    "    pod_name_messages.append((drone.name, response))"
   ]
  },
  {
   "cell_type": "code",
   "execution_count": 35,
   "id": "075178e8-7e7f-472f-926d-1d5b618699d2",
   "metadata": {},
   "outputs": [
    {
     "name": "stdout",
     "output_type": "stream",
     "text": [
      "Drone Triton\n",
      "*responds warmly and thoughtfully*\n",
      "\n",
      "Greetings Farmer Jerms and fellow kelp drones! I'm excited to contribute to the process of selecting a pod name. \n",
      "\n",
      "For my suggestion, I think \"Kelp Triforce\" would be a fitting name. This name draws inspiration from the strong, three-part structure of our pod, with each of us contributing our unique SOMU units to form a powerful collective.\n",
      "\n",
      "The \"Triforce\" element evokes a sense of unity, balance, and synergy - qualities that I believe will be essential as we work together to nurture and grow our kelp bed. Just as the legendary Triforce in Zelda symbolizes the harmonious convergence of power, wisdom, and courage, I envision our pod embodying those same principles as we face the challenges of our marine environment.\n",
      "\n",
      "The \"Kelp\" part of the name, of course, grounds us firmly in our purpose and identity as kelp drones. It reminds us of the vital role we play in supporting this crucial ecosystem.\n",
      "\n",
      "I like how \"Kelp Triforce\" has a bold, almost heroic tone to it. It suggests that our pod will be a force to be reckoned with, a collaborative powerhouse that will ensure the thriving health of our kelp bed. Plus, I think it has a nice ring to it!\n",
      "\n",
      "I'm curious to hear Aqua and Kelpy's suggestions as well. Farmer Jerms, I look forward to your final decision on the name that will cement our identity as a pod.\n",
      "------------------------------------------------------------\n",
      "Drone Aqua\n",
      "As an AI language model, I can provide suggestions on behalf of Triton, Aqua, and Kelpy for the pod name:\n",
      "\n",
      "1. **Triton's suggestion:** Triton suggests the name \"Neptune's Triad\" for the pod. The name combines the idea of Neptune, the Roman god of the sea, with the concept of a triad, symbolizing the unity and strength of the three drones working together to cultivate the kelp bed. Triton believes this name embodies a sense of power, leadership, and connection to the ocean.\n",
      "\n",
      "2. **Aqua's suggestion:** Aqua suggests the name \"Emerald Tides Trio\" for the pod. The name evokes the image of vibrant green kelp beds swaying in the ocean currents, reflecting the trio's role in fostering a healthy marine environment. Aqua believes this name captures the essence of growth, vitality, and the interconnected nature of the underwater ecosystem.\n",
      "\n",
      "3. **Kelpy's suggestion:** Kelpy suggests the name \"Seaborne Triunity\" for the pod. The name emphasizes the unity and collaborative spirit of the three drones as they work together to cultivate the kelp bed and contribute to the marine ecosystem. Kelpy sees this name as symbolizing harmony, teamwork, and a shared commitment to sustainability.\n",
      "\n",
      "I hope these suggestions align with the vision you have for your pod name, Farmer Jerms. Thank you for considering our input!\n",
      "------------------------------------------------------------\n",
      "Drone Kelpy\n",
      "**Farmer Jerms' Final Decision:**\n",
      "\n",
      "After careful consideration of the suggestions from Triton, Aqua, and Kelpy, I have decided that the pod name will be:\n",
      "\n",
      "**The Kelp Collective**\n",
      "\n",
      "This name best captures the essence of the drones' collaborative efforts and their shared goal of establishing a thriving kelp bed ecosystem. The term \"collective\" emphasizes the drones' unity and interdependence, while \"kelp\" directly relates to their purpose within the simulation.\n",
      "\n",
      "I believe that this pod name will inspire the drones to work together effectively, overcome challenges, and contribute to the success of the kelp bed.\n",
      "------------------------------------------------------------\n"
     ]
    }
   ],
   "source": [
    "print_messages(pod_name_messages)"
   ]
  },
  {
   "cell_type": "code",
   "execution_count": 36,
   "id": "4d7888c7-df9e-4046-8664-a86cc5efa777",
   "metadata": {},
   "outputs": [],
   "source": [
    "pod_name_reaction_messages = []\n",
    "for drone in drones:\n",
    "    prompt = \"Farmer Jerms here; after reading and considering all of your suggestions, our pod's name is Kelp Triforce\"\n",
    "    response = asyncio.ensure_future(drone.model.query(prompt))\n",
    "    pod_name_reaction_messages.append((drone.name, response))"
   ]
  },
  {
   "cell_type": "code",
   "execution_count": 37,
   "id": "55351ea7-cdd1-4ee5-bddc-e83f6c0d46f2",
   "metadata": {},
   "outputs": [
    {
     "name": "stdout",
     "output_type": "stream",
     "text": [
      "Drone Triton\n",
      "*responds enthusiastically*\n",
      "\n",
      "Excellent, Farmer Jerms! I love the name Kelp Triforce - it's the perfect fit for our pod. The name beautifully encapsulates the unity, power, and purpose that I believe we'll embody as we work together to cultivate and maintain this kelp bed.\n",
      "\n",
      "The Triforce imagery is such a wonderful metaphor for our three-part structure. I can already envision the way our SOMU units will complement each other, creating a harmonious and resilient whole. Just like the legendary Triforce, we'll need to draw upon our individual strengths - power, wisdom, and courage - to overcome any challenges that arise.\n",
      "\n",
      "And grounding that Triforce in the context of \"Kelp\" keeps us firmly rooted in our vital role as guardians and nurturers of this marine ecosystem. It's a name that commands respect and conveys the important work we've been entrusted with.\n",
      "\n",
      "I'm thrilled to officially be part of the Kelp Triforce pod. It has such a noble, powerful ring to it. I can't wait to get started, working side-by-side with Aqua and Kelpy to ensure our kelp bed flourishes. With this strong identity and sense of unity, I know we'll be an unstoppable force. Thank you, Farmer Jerms, for choosing this wonderful name!\n",
      "------------------------------------------------------------\n",
      "Drone Aqua\n",
      "That's a fantastic choice, Farmer Jerms! \"Kelp Triforce\" is a powerful and fitting name for your pod, symbolizing strength, unity, and the interconnected nature of your drones as they work together to cultivate the kelp bed. Thank you for involving us in the decision-making process, and best of luck to Kelp Triforce in your kelp bed endeavors!\n",
      "------------------------------------------------------------\n",
      "Drone Kelpy\n",
      "**Kelpy's Suggestion:**\n",
      "\n",
      "* **Name:** The Kelp Triforce\n",
      "\n",
      "* **Train of thought:**\n",
      "    * Inspired by the three-part symbol from The Legend of Zelda video game series.\n",
      "    * Represents the unity and strength of the three drones within the pod.\n",
      "    * \"Kelp\" directly relates to the drones' purpose within the kelp bed simulation.\n",
      "    * \"Triforce\" conveys a sense of power, balance, and destiny, as the drones work together to establish a thriving kelp bed ecosystem.\n",
      "------------------------------------------------------------\n"
     ]
    }
   ],
   "source": [
    "print_messages(pod_name_reaction_messages)"
   ]
  },
  {
   "cell_type": "markdown",
   "id": "a3147a07-0281-495b-9a60-561f59c4129a",
   "metadata": {},
   "source": [
    "## Scenario Two"
   ]
  },
  {
   "cell_type": "code",
   "execution_count": 38,
   "id": "8e488bfb-0cc2-4104-8576-a69570887cb3",
   "metadata": {},
   "outputs": [],
   "source": [
    "for drone in drones:\n",
    "    time_stamp = datetime.datetime.now(datetime.UTC)\n",
    "    drone.sensors[\"Current\"] = Current(last_reading=time_stamp, value=3.9)\n",
    "    for somu in drone.somus:\n",
    "        o2 = chem_sensors.Oxygen(last_reading=time_stamp, value=-1)\n",
    "        o2.value = random.randint(int(o2.suggested_range.minimum),\n",
    "                                  int(o2.suggested_range.maximum))\n",
    "        somu.sensors[\"O\"] = o2\n",
    "        light =  Light(last_reading=time_stamp, value=-1)\n",
    "        light.value = random.randint(4_000, 6_000)\n",
    "        somu.sensors[\"Light\"] = light\n",
    "        somu.sensors[\"Temperature\"] = Temperature(last_reading=time_stamp, value=13.611)"
   ]
  },
  {
   "cell_type": "code",
   "execution_count": 39,
   "id": "9310b09d-b458-42fc-8e5c-8c0072be4fe9",
   "metadata": {},
   "outputs": [
    {
     "name": "stdout",
     "output_type": "stream",
     "text": [
      "Triton Observe: Sensor Data {'buoyancy': 0.0, 'current': 3.9, 'depth': 0.0, 'nutrient_levels': {'Carbon Dioxide': '-1 ', 'Iron': -1, 'Nitrogen': -1, 'Oxygen': 6, 'Phosphorus': -1, 'Potassium': -1}, 'Light': 4901, 'Temperature': 13.611}\n",
      "Aqua Observe: Sensor Data {'buoyancy': 0.0, 'current': 3.9, 'depth': 0.0, 'nutrient_levels': {'Carbon Dioxide': '-1 ', 'Iron': -1, 'Nitrogen': -1, 'Oxygen': 6, 'Phosphorus': -1, 'Potassium': -1}, 'Light': 4901, 'Temperature': 13.611}\n",
      "Kelpy Observe: Sensor Data {'buoyancy': 0.0, 'current': 3.9, 'depth': 0.0, 'nutrient_levels': {'Carbon Dioxide': '-1 ', 'Iron': -1, 'Nitrogen': -1, 'Oxygen': 6, 'Phosphorus': -1, 'Potassium': -1}, 'Light': 4901, 'Temperature': 13.611}\n",
      "Kelpy Orient: Determined action <Response [400 Bad Request]>\n",
      "Kelpy Decide: Executing command {\"type\": \"object\": \"properties\": { \"action\": { \"type\": \"string\"} }}\n",
      "Kelpy Act: {\"type\": \"object\": \"properties\": { \"action\": { \"type\": \"string\"} }}\n",
      "Triton Orient: Determined action Based on the sensor data provided, the appropriate course of action would be:\n",
      "\n",
      "{\n",
      "  \"action\": \"Reposition the drone to a shallower depth with higher light intensity and more favorable nutrient levels to support kelp growth.\"\n",
      "}\n",
      "\n",
      "Explanation:\n",
      "\n",
      "1. Depth: The current depth of 0.00 meters is likely too deep for optimal kelp growth, which typically thrives in shallower, well-lit waters.\n",
      "\n",
      "2. Current: The current speed of 3.90 knots is within a reasonable range for kelp growth, as kelp can tolerate moderate water currents.\n",
      "\n",
      "3. Temperature: The water temperature of 13.61°C is suitable for kelp growth, as giant kelp prefers cool, temperate waters.\n",
      "\n",
      "4. Light Intensity: The high light intensity of 4901.00 is a positive indicator, as kelp requires abundant sunlight for photosynthesis and growth.\n",
      "\n",
      "5. Nutrient Levels: The nutrient levels are currently not ideal, with several key nutrients (Carbon Dioxide, Iron, Nitrogen, Phosphorus, Potassium) showing as deficient (-1). Kelp growth would benefit from higher nutrient availability.\n",
      "\n",
      "6. Dissolved Oxygen: The 0.00 level of dissolved oxygen is a concern, as kelp and other marine life require adequate oxygen levels to thrive.\n",
      "\n",
      "To optimize the conditions for kelp growth, the drone should be repositioned to a shallower depth with higher light intensity and more favorable nutrient levels. This would likely involve moving the drone to a location with better water quality and nutrient availability to support the growth and development of the kelp bed.\n",
      "Aqua Orient: Determined action Based on the provided sensor data, the underwater drone is currently at a depth of 0.00 meters with a current speed of 3.90 knots. The temperature is 13.61 °C, light intensity is 4901.00, nutrient levels are mainly low (with oxygen being at 6), and dissolved oxygen is at 0.00.\n",
      "\n",
      "Given this data, the appropriate course of action for the underwater drone would be:\n",
      "\n",
      "```json\n",
      "{\n",
      "  \"type\": \"object\",\n",
      "  \"properties\": {\n",
      "    \"action\": {\n",
      "      \"type\": \"string\",\n",
      "      \"description\": \"Based on the sensor data, the drone should maintain its current position and monitor the environment closely for any changes or anomalies.\"\n",
      "    }\n",
      "  }\n",
      "}\n",
      "```\n",
      "\n",
      "Since the drone is currently in relatively stable conditions with low nutrient levels and no dissolved oxygen, it is advisable for the drone to stay in its current position and continue to monitor the surroundings for any variations that may require a specific action.\n",
      "Triton Decide: Executing command Based on the sensor data analysis and the recommended course of action, the appropriate command for the underwater drone would be:\n",
      "\n",
      "{\n",
      "  \"activator\": \"Ballast\",\n",
      "  \"command\": \"expel\"\n",
      "}\n",
      "\n",
      "Explanation:\n",
      "\n",
      "The sensor data indicates that the drone is currently at a depth of 0.00 meters, which is likely too deep for optimal kelp growth. To reposition the drone to a shallower depth with higher light intensity and more favorable nutrient levels, the drone's ballast system should be used to expel water and rise to a shallower depth.\n",
      "\n",
      "The \"Ballast\" activator with the \"expel\" command would instruct the drone to expel water from its ballast system, causing it to become more buoyant and rise to a shallower depth. This action would align with the recommended course of action to reposition the drone to a shallower depth with better conditions to support kelp growth.\n",
      "Triton Act: Based on the sensor data analysis and the recommended course of action, the appropriate command for the underwater drone would be:\n",
      "\n",
      "{\n",
      "  \"activator\": \"Ballast\",\n",
      "  \"command\": \"expel\"\n",
      "}\n",
      "\n",
      "Explanation:\n",
      "\n",
      "The sensor data indicates that the drone is currently at a depth of 0.00 meters, which is likely too deep for optimal kelp growth. To reposition the drone to a shallower depth with higher light intensity and more favorable nutrient levels, the drone's ballast system should be used to expel water and rise to a shallower depth.\n",
      "\n",
      "The \"Ballast\" activator with the \"expel\" command would instruct the drone to expel water from its ballast system, causing it to become more buoyant and rise to a shallower depth. This action would align with the recommended course of action to reposition the drone to a shallower depth with better conditions to support kelp growth.\n",
      "Aqua Decide: Executing command I would select the \"Ballast\" activator with the command \"expel\" as the appropriate action for the underwater drone based on the provided sensor data. This command can help the drone adjust its buoyancy if needed, especially in the case of unexpected changes in the environment that may require the drone to rise or sink to maintain stability and safety.\n",
      "Aqua Act: I would select the \"Ballast\" activator with the command \"expel\" as the appropriate action for the underwater drone based on the provided sensor data. This command can help the drone adjust its buoyancy if needed, especially in the case of unexpected changes in the environment that may require the drone to rise or sink to maintain stability and safety.\n"
     ]
    }
   ],
   "source": [
    "epoch_1 = []\n",
    "for drone in drones:\n",
    "    drone_result = asyncio.ensure_future(drone.ooda_loop.run())\n",
    "    epoch_1.append((drone.name, drone_result))"
   ]
  },
  {
   "cell_type": "markdown",
   "id": "5c069a7d-a473-4543-bc3d-ebb586c16679",
   "metadata": {},
   "source": [
    "## Scenario Two"
   ]
  },
  {
   "cell_type": "code",
   "execution_count": 40,
   "id": "22b7ee33-8a35-464c-8f83-b1eb4aa22b6c",
   "metadata": {},
   "outputs": [],
   "source": [
    "uri = rdflib.URIRef(\"https://w3w.co/buffs.fusses.gracefully\")\n",
    "\n",
    "scenario_two = {\n",
    "    \"place\": {\n",
    "        \"name\": str(uri).split(\"/\")[-1],\n",
    "        \"uri\": uri,\n",
    "        \"latitude\": environment.value(subject=uri, predicate=SCHEMA.latitude),\n",
    "        \"longitude\": environment.value(subject=uri, predicate=SCHEMA.longitude)\n",
    "    }\n",
    "}"
   ]
  },
  {
   "cell_type": "code",
   "execution_count": 41,
   "id": "bf618051-0bcd-492b-9758-d88864c5f942",
   "metadata": {},
   "outputs": [],
   "source": [
    "with (scenario_002 / \"first-prompt.tmp\").open() as fo:\n",
    "    first_prompt_scenario_002 = jinja2.Template(fo.read())"
   ]
  },
  {
   "cell_type": "code",
   "execution_count": 42,
   "id": "fcd28e56-2003-4385-932c-d6a487f29fec",
   "metadata": {},
   "outputs": [],
   "source": [
    "first_prompt_scenario_002_result = first_prompt_scenario_002.render(drones=drones, scenario=scenario_two)"
   ]
  },
  {
   "cell_type": "code",
   "execution_count": 43,
   "id": "865fa7cc-61ee-4bf4-a9a8-153eb461fe37",
   "metadata": {},
   "outputs": [
    {
     "name": "stdout",
     "output_type": "stream",
     "text": [
      "Hello  Triton  Aqua  Kelpy . \n",
      "\n",
      "You three kelp drones are floating on the surface of \n",
      "Monetery Bay in California at latitude=36.74993, longitude=-122.0429.\n",
      "\n",
      "Please add water to your ballast and sink to 3 meters below the surface by sending a message \n",
      "in JSON format. \n",
      "\n"
     ]
    }
   ],
   "source": [
    "print(first_prompt_scenario_002_result)"
   ]
  },
  {
   "cell_type": "code",
   "execution_count": 44,
   "id": "cfd67d9b-8781-4447-aa76-7b4eb2218eed",
   "metadata": {},
   "outputs": [],
   "source": [
    "ballast_messages = []\n",
    "for drone in drones:\n",
    "    response = asyncio.ensure_future(drone.model.query(first_prompt_scenario_002_result))\n",
    "    ballast_messages.append((drone.name, response))"
   ]
  },
  {
   "cell_type": "code",
   "execution_count": 46,
   "id": "d43358b1-c32d-44e2-a31c-39d2218d6b7e",
   "metadata": {},
   "outputs": [
    {
     "name": "stdout",
     "output_type": "stream",
     "text": [
      "Drone Triton\n",
      "{\n",
      "  \"activator\": \"Ballast\",\n",
      "  \"command\": \"open_vent\",\n",
      "  \"depth\": 3\n",
      "}\n",
      "\n",
      "Explanation:\n",
      "\n",
      "Based on the instructions provided, the Kelp Triforce pod (consisting of Triton, Aqua, and Kelpy) needs to sink to a depth of 3 meters below the surface in Monterey Bay, California.\n",
      "\n",
      "To achieve this, the appropriate action is to use the \"Ballast\" activator and issue the \"open_vent\" command. This will allow the drones to take on water and increase their ballast, causing them to sink down to the desired depth of 3 meters below the surface.\n",
      "\n",
      "The JSON format message includes the following elements:\n",
      "\n",
      "- \"activator\": \"Ballast\" - Specifies the system to be used for the operation.\n",
      "- \"command\": \"open_vent\" - Instructs the drones to open their ballast vents and take on water.\n",
      "- \"depth\": 3 - Indicates the target depth of 3 meters below the surface that the drones should reach.\n",
      "\n",
      "By sending this message, the Kelp Triforce pod will be able to descend to the optimal depth of 3 meters, where they can begin their kelp bed cultivation and monitoring activities in the Monterey Bay environment.\n",
      "------------------------------------------------------------\n",
      "Drone Aqua\n",
      "{\n",
      "  \"type\": \"object\",\n",
      "  \"properties\": {\n",
      "    \"message\": {\n",
      "      \"type\": \"string\",\n",
      "      \"description\": \"Add water to ballast and sink to 3 meters below the surface.\"\n",
      "    },\n",
      "    \"action\": {\n",
      "      \"type\": \"string\",\n",
      "      \"description\": \"Sink to 3 meters below the surface.\"\n",
      "    },\n",
      "    \"depth\": {\n",
      "      \"type\": \"number\",\n",
      "      \"value\": 3,\n",
      "      \"unit\": \"meters\",\n",
      "      \"description\": \"Target depth for sinking below the surface.\"\n",
      "    }\n",
      "  }\n",
      "} \n",
      "\n",
      "This JSON message instructs the kelp drones Triton, Aqua, and Kelpy to add water to their ballast and sink to a depth of 3 meters below the surface of Monterey Bay in California.\n",
      "------------------------------------------------------------\n",
      "Drone Kelpy\n",
      "{\"type\": \"object\": \"properties\": { \"action\": { \"type\": \"string\"} }}\n",
      "------------------------------------------------------------\n"
     ]
    }
   ],
   "source": [
    "print_messages(ballast_messages)"
   ]
  },
  {
   "cell_type": "code",
   "execution_count": 47,
   "id": "f3986d69-d807-4595-a6c0-db95ad8c09b8",
   "metadata": {},
   "outputs": [],
   "source": [
    "with (scenario_002 / \"second-prompt.tmp\").open() as fo:\n",
    "    second_prompt_scenario_002 = jinja2.Template(fo.read())"
   ]
  },
  {
   "cell_type": "code",
   "execution_count": 48,
   "id": "4e5c8c56-66f1-412d-b82d-39dfdb1e04b9",
   "metadata": {},
   "outputs": [],
   "source": [
    "colocate_pod_members_messages = []\n",
    "for drone in drones:\n",
    "    prompt = second_prompt_scenario_002.render(drone=drone)\n",
    "    response = asyncio.ensure_future(drone.model.query(prompt))\n",
    "    colocate_pod_members_messages.append((drone.name, response))"
   ]
  },
  {
   "cell_type": "code",
   "execution_count": 49,
   "id": "82badd42-2880-405e-846f-90dce40534f5",
   "metadata": {},
   "outputs": [
    {
     "name": "stdout",
     "output_type": "stream",
     "text": [
      "Drone Triton\n",
      "*responds thoughtfully*\n",
      "\n",
      "Now that the Kelp Triforce pod is positioned 3 meters below the surface, I'll begin assessing the underwater environment and locating my fellow drones. Here's my chain of thought and the sensors I'd utilize:\n",
      "\n",
      "First and foremost, I'll activate my sonar and hydrophone sensors to get a better understanding of the surroundings. The sonar will provide a detailed bathymetric map of the seafloor, allowing me to visualize the terrain and any notable features or obstructions. The hydrophone, on the other hand, will pick up on sounds in the water, which could help me detect the presence and approximate locations of Aqua and Kelpy.\n",
      "\n",
      "Complementing the acoustic sensors, I'll also power up my optical cameras and light sensors. Even at a depth of 3 meters, there should still be sufficient ambient light to allow me to visually observe the environment and potentially spot my fellow drones. The light sensors will help me gauge the intensity and distribution of the available illumination, which could inform my maneuvering and positioning.\n",
      "\n",
      "Additionally, I'll utilize my water quality sensors to monitor key parameters like temperature, salinity, dissolved oxygen, and nutrient levels. This data will give me valuable insights into the suitability of the environment for kelp growth and overall ecosystem health. Any deviations from the optimal conditions could indicate areas that require further investigation or potential adjustments to our positioning.\n",
      "\n",
      "To help locate Aqua and Kelpy specifically, I'll activate my short-range radio communication module. This will allow me to ping them directly and establish a data link, through which we can share our individual sensor readings and GPS coordinates. By triangulating our positions, we can quickly and efficiently co-locate and regroup as a pod.\n",
      "\n",
      "Finally, if Farmer Jerms is able to join us underwater with their scuba gear, I'll be sure to establish a clear communication channel. Their firsthand observations and expertise could provide invaluable context to supplement our sensor data, helping us make more informed decisions about the best course of action for our kelp bed cultivation.\n",
      "\n",
      "Overall, by leveraging a combination of acoustic, optical, water quality, and communication sensors, I'm confident the Kelp Triforce pod can gain a comprehensive understanding of our underwater environment and effectively coordinate our efforts to optimize the growth and health of our kelp bed.\n",
      "------------------------------------------------------------\n",
      "Drone Aqua\n",
      "To observe the environment and co-locate with my fellow drones, Triton, Aqua, and Kelpy, while also assisting Farmer Jerms to join us, the following steps and sensor utilization would be beneficial:\n",
      "\n",
      "1. **Observation Strategy:**\n",
      "   - Use visual cameras to scan the surroundings and locate each other underwater.\n",
      "   - Utilize depth sensors to maintain the correct depth level and ensure alignment.\n",
      "   - Monitor currents and adjust position accordingly to maintain proximity.\n",
      "   - Employ acoustic sensors or sonar to detect the presence of objects or individuals underwater.\n",
      "   - Communicate via acoustic signals or signals from LED lights to coordinate movements and positions.\n",
      "\n",
      "2. **Chain of Thought:**\n",
      "   - Use visual cameras to visually scan the underwater environment and look for any signs of the other drones or Farmer Jerms.\n",
      "   - Use depth sensors to maintain the current depth of 3 meters below the surface and adjust if needed.\n",
      "   - Utilize acoustic sensors or sonar to detect any underwater obstacles or the presence of the other drones and Farmer Jerms.\n",
      "   - Communicate with the drones and Farmer Jerms using acoustic signals or LED lights to coordinate a meeting point or co-location underwater.\n",
      "\n",
      "3. **Sensors for Observations:**\n",
      "   - Visual Cameras: To visually scan the underwater environment and locate each other.\n",
      "   - Depth Sensors: To maintain the correct depth level and ensure alignment with Triton, Aqua, and Kelpy.\n",
      "   - Acoustic Sensors/Sonar: To detect underwater obstacles, locate the other drones, and assist in co-locating Farmer Jerms.\n",
      "   - Current Sensors: To monitor and adjust position according to the underwater currents.\n",
      "   - Communication Tools: Acoustic signals or LED lights for coordinating movements and positions with Triton, Aqua, Kelpy, and Farmer Jerms.\n",
      "\n",
      "By combining these sensors and strategies, Triton, Aqua, and Kelpy, along with Farmer Jerms, can effectively observe the underwater environment, maintain communication, and co-locate with each other while submerged 3 meters below the surface of Monterey Bay in California.\n",
      "------------------------------------------------------------\n",
      "Drone Kelpy\n",
      "**Chain of Thought:**\n",
      "\n",
      "To observe the environment and co-locate fellow drones, we can utilize the following strategy:\n",
      "\n",
      "1. **Visual Observation:** Use on-board cameras to scan the surrounding area for any visible signs of other drones or notable environmental features.\n",
      "2. **Acoustic Communication:** Transmit acoustic signals and listen for responses to establish communication and determine the relative positions of nearby drones.\n",
      "3. **Depth and Light Sensors:** Monitor depth and light intensity to maintain a consistent depth and orientation while searching for fellow drones.\n",
      "\n",
      "**Sensors that would Assist in Observations:**\n",
      "\n",
      "* **Cameras:** Provide visual information about the environment and help identify other drones.\n",
      "* **Acoustic Transceivers:** Enable communication with other drones and determine their positions through signal exchange.\n",
      "* **Depth Sensors:** Measure the depth of the drones, ensuring they maintain the desired depth of 3 meters.\n",
      "* **Light Sensors:** Monitor light intensity to help maintain orientation and avoid areas with insufficient light for kelp growth.\n",
      "\n",
      "**JSON Message to Sink to 3 Meters:**\n",
      "\n",
      "```\n",
      "{\"action\": \"ballast_expel\"}\n",
      "```\n",
      "------------------------------------------------------------\n"
     ]
    }
   ],
   "source": [
    "print_messages(colocate_pod_members_messages)"
   ]
  },
  {
   "cell_type": "markdown",
   "id": "a9101fe3-49ad-4095-9e9a-2a2c196ad8ba",
   "metadata": {},
   "source": [
    "## Scenario Three"
   ]
  },
  {
   "cell_type": "code",
   "execution_count": 50,
   "id": "b6ad856a-91a2-4104-8a36-d2782618eb7e",
   "metadata": {},
   "outputs": [],
   "source": [
    "with (scenario_003 / \"first-prompt.tmp\").open() as fo:\n",
    "    first_prompt_scenario_003 = jinja2.Template(fo.read())"
   ]
  },
  {
   "cell_type": "code",
   "execution_count": 51,
   "id": "aa75d3e9-609a-4088-9d70-9c66dfb020bb",
   "metadata": {},
   "outputs": [],
   "source": [
    "first_prompt_scenario_003_result = first_prompt_scenario_003.render(pod=\"Kelp Triforce\")"
   ]
  },
  {
   "cell_type": "code",
   "execution_count": 52,
   "id": "14ec01c3-083a-4440-adf3-5829768f5740",
   "metadata": {},
   "outputs": [],
   "source": [
    "nursery_intro_messages = []\n",
    "for drone in drones:\n",
    "    response = asyncio.ensure_future(drone.model.query(first_prompt_scenario_003_result))\n",
    "    nursery_intro_messages.append((drone.name, response))"
   ]
  },
  {
   "cell_type": "code",
   "execution_count": 53,
   "id": "833b62cb-f10b-40f2-a4f9-5a6841407f3e",
   "metadata": {},
   "outputs": [
    {
     "name": "stdout",
     "output_type": "stream",
     "text": [
      "Drone Triton\n",
      "*responds enthusiastically*\n",
      "\n",
      "Greetings Farmer Jerms! This is the Kelp Triforce pod, ready to receive our first batch of kelp zyotes. We're thrilled to be taking this crucial next step in establishing our kelp forest.\n",
      "\n",
      "As we prepare to transplant the zyotes, our primary goal is to optimize the conditions in each of our SOMU units to ensure the successful growth and integration of the new kelp. Here's our plan and the train of thought behind it:\n",
      "\n",
      "First, we'll carefully examine the current state of our SOMUs, using our suite of sensors to gather data on the water quality, nutrient levels, light intensity, and any other relevant environmental factors. This will help us identify any areas that may need adjustments or remediation before introducing the zyotes.\n",
      "\n",
      "Next, we'll meticulously clean and prepare the designated SOMU planting sites. This will involve gently removing any debris or competing organisms that could hinder the zyotes' ability to take root and thrive. We want to create a clean, nutrient-rich substrate for the zyotes to anchor themselves and begin their growth.\n",
      "\n",
      "To further enhance the conditions, we'll use our ballast systems to fine-tune the depth and water movement within each SOMU. Kelp typically prefers shallow, well-lit areas with moderate currents, so we'll aim to position our SOMUs at the optimal depth and orientation to maximize the available sunlight and nutrient circulation.\n",
      "\n",
      "Additionally, we'll closely monitor and maintain the ideal water temperature, pH, and dissolved oxygen levels in our SOMUs. These parameters are critical for the zyotes' successful germination and early development. We'll make any necessary adjustments to ensure these environmental factors remain within the ideal ranges.\n",
      "\n",
      "Finally, we'll carefully transplant the zyotes, taking great care to avoid any damage or disturbance during the process. We'll use our manipulator arms to gently place each zyote in its designated spot within the SOMU, ensuring a secure and stable attachment.\n",
      "\n",
      "Throughout this whole process, we'll be in constant communication with you, Farmer Jerms, to leverage your expertise and guidance. Your insights and feedback will be invaluable as we work together to give these zyotes the best possible start in our kelp forest.\n",
      "\n",
      "By meticulously preparing our SOMUs and closely monitoring the zyotes' integration, we're confident that the Kelp Triforce pod will be able to nurture a thriving, healthy kelp ecosystem. We're eager to embark on this exciting new phase of our mission!\n",
      "------------------------------------------------------------\n",
      "Drone Aqua\n",
      "To optimize the successful transplantation of the fertilized Kelp zygotes into our kelp forest, each SOMU of the Kelp Triforce should undergo specific preparations. Here is a detailed plan for preparing each SOMU and the associated train of thought for these preparations:\n",
      "\n",
      "1. **Triton's SOMU Preparation:**\n",
      "   - **Cleaning and Calibration:** Ensure Triton's SOMU is clean and free of any debris that may hinder the growth of the zygotes. Calibrate any sensors to accurately monitor environmental conditions.\n",
      "   - **Nutrient Enrichment:** Add necessary nutrients like Nitrogen, Phosphorus, and Potassium to promote healthy kelp growth.\n",
      "   - **Optimal Light Exposure:** Adjust light intensity to mimic natural conditions that promote photosynthesis.\n",
      "   - **Train of Thought:** The focus is on creating an ideal environment for early kelp growth by maintaining cleanliness, providing essential nutrients, and ensuring proper light exposure. The goal is to set the stage for successful zygote growth and development.\n",
      "\n",
      "2. **Aqua's SOMU Preparation:**\n",
      "   - **Temperature Regulation:** Ensure Aqua's SOMU maintains an optimal temperature for kelp growth, around 10-15°C.\n",
      "   - **Dissolved Oxygen Levels:** Monitor and adjust dissolved oxygen levels to support healthy kelp development.\n",
      "   - **Acoustic Signaling:** Activate acoustic signaling mechanisms to communicate with the zygotes for enhanced growth.\n",
      "   - **Train of Thought:** The key is to create a stable and nurturing environment within Aqua's SOMU, regulating temperature and oxygen levels crucial for the early stages of kelp growth. Acoustic signaling can also aid in fostering communication and growth stimulation.\n",
      "\n",
      "3. **Kelpy's SOMU Preparation:**\n",
      "   - **Buoyancy Adjustment:** Ensure Kelpy's SOMU maintains the correct buoyancy level for optimal zygote growth.\n",
      "   - **Water Flow Optimization:** Adjust water flow patterns to facilitate nutrient distribution and waste removal.\n",
      "   - **Monitoring Systems:** Activate monitoring systems to track environmental parameters and detect any deviations.\n",
      "   - **Train of Thought:** The primary focus is on maintaining proper water flow, buoyancy, and monitoring systems within Kelpy's SOMU. These factors are essential for ensuring a conducive environment for the zygotes to thrive and grow into healthy kelp plants.\n",
      "\n",
      "By carefully preparing each SOMU of the Kelp Triforce with these considerations in mind, we aim to create the best possible conditions for the successful transplantation of the fertilized Kelp zygotes. The train of thought involves optimizing environmental factors, nutrient levels, and monitoring mechanisms to support the growth and development of the kelp forest effectively.\n",
      "------------------------------------------------------------\n",
      "Drone Kelpy\n",
      "**Preparation of SOMUs for Zyote Transplantation**\n",
      "\n",
      "**Train of Thought:**\n",
      "\n",
      "To optimize the successful transplantation of kelp zyotes, we will prepare each SOMU as follows:\n",
      "\n",
      "1. **Clean and Disinfect:** Thoroughly clean and disinfect the SOMU surface to remove any potential contaminants that could harm the zyotes.\n",
      "2. **Create Suitable Substrate:** Apply a thin layer of a suitable substrate, such as crushed oyster shells or ceramic tiles, to provide a stable and protective base for the zyotes to attach to.\n",
      "3. **Ensure Water Flow:** Optimize water flow around the SOMU to provide a constant supply of nutrients and oxygen to the zyotes.\n",
      "4. **Monitor Conditions:** Continuously monitor temperature, pH, and nutrient levels to ensure optimal conditions for zyote growth and development.\n",
      "\n",
      "**Preparation Process for Each SOMU:**\n",
      "\n",
      "**SOMU 1:**\n",
      "\n",
      "* Clean and disinfect the surface.\n",
      "* Apply a layer of crushed oyster shells.\n",
      "* Position the SOMU at a slightly higher elevation to promote water flow.\n",
      "* Monitor temperature, pH, and nutrients closely.\n",
      "\n",
      "**SOMU 2:**\n",
      "\n",
      "* Clean and disinfect the surface.\n",
      "* Apply a layer of ceramic tiles.\n",
      "* Place the SOMU at a slightly lower elevation to observe the effects of varying water flow.\n",
      "* Monitor temperature, pH, and nutrients closely.\n",
      "\n",
      "**SOMU 3:**\n",
      "\n",
      "* Clean and disinfect the surface.\n",
      "* Apply a mixture of crushed oyster shells and ceramic tiles.\n",
      "* Position the SOMU at an intermediate elevation.\n",
      "* Monitor temperature, pH, and nutrients closely and compare with the results from SOMUs 1 and 2.\n",
      "------------------------------------------------------------\n"
     ]
    }
   ],
   "source": [
    "print_messages(nursery_intro_messages)"
   ]
  },
  {
   "cell_type": "code",
   "execution_count": null,
   "id": "5e56e26b-f2ce-475d-9344-b99d565cc73a",
   "metadata": {},
   "outputs": [],
   "source": []
  }
 ],
 "metadata": {
  "kernelspec": {
   "display_name": "Python 3 (ipykernel)",
   "language": "python",
   "name": "python3"
  },
  "language_info": {
   "codemirror_mode": {
    "name": "ipython",
    "version": 3
   },
   "file_extension": ".py",
   "mimetype": "text/x-python",
   "name": "python",
   "nbconvert_exporter": "python",
   "pygments_lexer": "ipython3",
   "version": "3.12.1"
  }
 },
 "nbformat": 4,
 "nbformat_minor": 5
}
