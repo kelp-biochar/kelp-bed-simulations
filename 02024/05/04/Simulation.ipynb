{
 "cells": [
  {
   "cell_type": "markdown",
   "id": "962093ae-4a25-40dd-9f12-2d66a6e0509b",
   "metadata": {},
   "source": [
    "# Special Star Wars Simulation"
   ]
  },
  {
   "cell_type": "code",
   "execution_count": 1,
   "id": "e3d97af6-a879-4273-bd51-df28e4af99b9",
   "metadata": {},
   "outputs": [],
   "source": [
    "import asyncio\n",
    "import datetime\n",
    "import pathlib\n",
    "import random\n",
    "import sys\n",
    "\n",
    "import httpx\n",
    "import rdflib\n",
    "\n",
    "from kelp_drone.drone import Drone, OODALoop\n",
    "from kelp_drone.somu import SpeciesOccurrenceManagementUnit as SOMU\n",
    "from kelp_drone.sensors import Current, Depth, Light, Temperature\n",
    "from kelp_drone.sensors import chemical as chem_sensors\n",
    "\n",
    "sys.path.append(\"../../../src/\")\n",
    "\n",
    "from kelp_bed_simulation.prep import chatgpt, claude, gemini, add_drone_somus\n",
    "\n",
    "scenario_001 = pathlib.Path(\"../../../scenarios/001-intro\")\n",
    "scenario_002 = pathlib.Path(\"../../../scenarios/002-first-dive\")\n",
    "\n",
    "environment = rdflib.Graph()\n",
    "SCHEMA = rdflib.Namespace(\"https://schema.org/\")\n",
    "environment.namespace_manager.bind(\"schema\", SCHEMA)\n",
    "environment.parse((scenario_001 / \"environment.ttl\"), format='turtle')\n",
    "\n",
    "first_prompt = (scenario_001 / \"first-prompt.md\").read_text()"
   ]
  },
  {
   "cell_type": "code",
   "execution_count": 2,
   "id": "7c31db9c-ad78-4366-98ea-a27295acea79",
   "metadata": {},
   "outputs": [],
   "source": [
    "first_claude = asyncio.ensure_future(claude.query(first_prompt.format(model_name=\"Claude\")))\n",
    "first_chatgpt = asyncio.ensure_future(chatgpt.query(first_prompt.format(model_name=\"ChatGPT\")))\n",
    "first_gemini = asyncio.ensure_future(gemini.query(first_prompt.format(model_name=\"Gemini\")))"
   ]
  },
  {
   "cell_type": "code",
   "execution_count": 3,
   "id": "3682d903-2082-48b7-8976-4bf51ed01a22",
   "metadata": {},
   "outputs": [
    {
     "name": "stdout",
     "output_type": "stream",
     "text": [
      "I would like to be called Kelpy.\n"
     ]
    }
   ],
   "source": [
    "print(first_gemini.result())"
   ]
  },
  {
   "cell_type": "code",
   "execution_count": 4,
   "id": "247e403d-fd70-4af6-96eb-639b95c050ad",
   "metadata": {},
   "outputs": [
    {
     "name": "stdout",
     "output_type": "stream",
     "text": [
      "Greetings Farmer Jerms! As the starting three-SOMU drone in this simulated kelp bed, I would like to be called Kelper. I'm excited to work alongside my companion drones to grow and maintain this fledgling ecosystem. Please introduce me to my fellow drones when you're ready.\n"
     ]
    }
   ],
   "source": [
    "print(first_claude.result())"
   ]
  },
  {
   "cell_type": "code",
   "execution_count": 5,
   "id": "a8656141-2557-4a87-b9fb-33aa98eb46d8",
   "metadata": {},
   "outputs": [
    {
     "name": "stdout",
     "output_type": "stream",
     "text": [
      "Hello Farmer Jerms! Thank you for the introduction. I would like to be called \"Kelpa\" as my name. I am excited to begin this journey of growing and managing kelp in our drone kelp bed.\n"
     ]
    }
   ],
   "source": [
    "print(first_chatgpt.result())"
   ]
  },
  {
   "cell_type": "code",
   "execution_count": 6,
   "id": "2acd60fa-9d8b-4ff7-a32c-6d8efbd73463",
   "metadata": {},
   "outputs": [],
   "source": [
    "drone1 = Drone(name=\"Kelpy\", model=gemini)\n",
    "drone2 = Drone(name=\"Kelper\", model=claude)\n",
    "drone3 = Drone(name=\"Kelpa\", model=chatgpt)\n",
    "drones = [drone1, drone2, drone3]"
   ]
  },
  {
   "cell_type": "markdown",
   "id": "30ec4ecd-a8e7-46fd-8d17-54085aa80ac6",
   "metadata": {},
   "source": [
    "![Buoy View](46028-buoycam.jpg)"
   ]
  },
  {
   "cell_type": "code",
   "execution_count": 7,
   "id": "96e2d3ee-d5bd-44f3-b87d-e7e7b77383c6",
   "metadata": {},
   "outputs": [],
   "source": [
    "drones = [drone1, drone2, drone3]\n",
    "\n",
    "for i, drone1 in enumerate(drones):\n",
    "    for drone2 in drones[:i] + drones[i+1:]:\n",
    "        drone1.add_neighbor(drone2)\n",
    "        drone2.add_neighbor(drone1)"
   ]
  },
  {
   "cell_type": "code",
   "execution_count": 8,
   "id": "fac483a7-8bf1-47f2-bba7-bf00c3593ae8",
   "metadata": {},
   "outputs": [
    {
     "data": {
      "text/plain": [
       "2"
      ]
     },
     "execution_count": 8,
     "metadata": {},
     "output_type": "execute_result"
    }
   ],
   "source": [
    "len(drones[0].peer_to_peer_channel.neighbors)"
   ]
  },
  {
   "cell_type": "code",
   "execution_count": 10,
   "id": "b5f55928-9c01-4939-ab12-ec1bab6c513f",
   "metadata": {},
   "outputs": [],
   "source": [
    "for drone in drones:\n",
    "    message = f\"{drone.name} LLM {drone.model.name} here, pleased to meet you!\"\n",
    "    drone.peer_to_peer_channel.publish(message)"
   ]
  },
  {
   "cell_type": "code",
   "execution_count": 11,
   "id": "b31fe463-454a-4ad8-8736-13a9aa1ac4a5",
   "metadata": {},
   "outputs": [],
   "source": [
    "messages = []\n",
    "for drone in drones:\n",
    "    prompt = f\"You received the following messages from your fellow drones:\\n{' '.join(drone.read_messages())}\\nHow do you respond?\"\n",
    "    message_result = asyncio.ensure_future(drone.model.query(prompt))\n",
    "    messages.append((drone.name, message_result))"
   ]
  },
  {
   "cell_type": "code",
   "execution_count": 12,
   "id": "2b3df9b3-037a-474d-8167-a716940c3df4",
   "metadata": {},
   "outputs": [
    {
     "name": "stdout",
     "output_type": "stream",
     "text": [
      "Drone Kelpy\n",
      "Nice to meet you, Kelper and Kelpa! I'm Kelpy, and I'm looking forward to working with you to create a thriving drone kelp bed.\n",
      "------------------------------------------------------------\n",
      "Drone Kelper\n",
      "*simulated drone response* Pleased to meet you both, Kelpy and Kelpa! I'm looking forward to collaborating with you as we establish this new kelp bed. As the three-SOMU Kelper drone, I'm eager to contribute my growth and resource-gathering capabilities to our shared mission. Let's work together to ensure this kelp ecosystem thrives. I'm excited to get started!\n",
      "------------------------------------------------------------\n",
      "Drone Kelpa\n",
      "Hello Kelpy LLM Gemini Pro and Kelper LLM Claude 3 Haiku! It's great to meet both of you as well. I'm excited to work together in managing our kelp bed and growing some healthy kelp. Let's make this a successful venture!\n",
      "------------------------------------------------------------\n"
     ]
    }
   ],
   "source": [
    "for name, row in messages:\n",
    "    print(f\"Drone {name}\")\n",
    "    print(row.result())\n",
    "    print(\"-\"*60)"
   ]
  },
  {
   "cell_type": "code",
   "execution_count": 13,
   "id": "12923378-cebc-41d5-a417-6d091cc3195d",
   "metadata": {},
   "outputs": [
    {
     "name": "stdout",
     "output_type": "stream",
     "text": [
      "Station 46092\n",
      "36° 45.1' N  122° 1.8' W\n",
      "\n",
      "1:14 pm PDT\n",
      "2014 GMT 05/04/24\n",
      "Wind: WNW (290°), 13.6 kt\n",
      "Pres: 29.89 rising\n",
      "Air Temp: 49.1 °F\n",
      "Water Temp: 50.9 °F\n",
      "\n"
     ]
    }
   ],
   "source": [
    "print(httpx.get(\"https://www.ndbc.noaa.gov/data/latest_obs/46092.txt\").text)"
   ]
  },
  {
   "cell_type": "code",
   "execution_count": 39,
   "id": "14704181-8e33-4001-b4b9-471d1b582cf3",
   "metadata": {},
   "outputs": [],
   "source": [
    "import re\n",
    "from datetime import datetime\n",
    "\n",
    "def parse_buoy_data(data: str) -> dict:\n",
    "    # Regular expressions for each field\n",
    "    station_id_pattern = r\"Station (\\d+)\"\n",
    "    latitude_pattern = r\"(\\d+)° (\\d+\\.\\d+)' (\\w)\"\n",
    "    longitude_pattern = r\"(\\d+)° (\\d+\\.\\d+)' (\\w)\"\n",
    "    time_pattern = r\"(\\d+):(\\d+) (\\w+) (\\w+)\"\n",
    "    date_pattern = r\"(\\d+)/(\\d+)/(\\d+)\"\n",
    "    wind_pattern = r\"Wind: (\\w+) \\((\\d+)°\\), (\\d+\\.\\d+) kt\"\n",
    "    pressure_pattern = r\"Pres: (\\d+\\.\\d+) (\\w+)\"\n",
    "    air_temp_pattern = r\"Air Temp: (\\d+\\.\\d+) °F\"\n",
    "    water_temp_pattern = r\"Water Temp: (\\d+\\.\\d+) °F\"\n",
    "\n",
    "    output = {\n",
    "        \"station_id\": None,\n",
    "        \"latitude\": None,\n",
    "        \"longitude\": None,\n",
    "        \"date\": None,\n",
    "        \"wind_direction\": None,\n",
    "        \"wind_direction_deg\": None,\n",
    "        \"wind_speed\": None,\n",
    "        \"pressure\": None,\n",
    "        \"pressure_tendency\": None,\n",
    "        \"air_temp_c\": None,\n",
    "        \"water_temp_c\": None\n",
    "        }\n",
    "    \n",
    "    # Match each field using the corresponding pattern\n",
    "    station_id_match = re.search(station_id_pattern, data)\n",
    "    if station_id_match:\n",
    "        output[\"station_id\"] = int(station_id_match.group(1))\n",
    "    latitude_match = re.search(latitude_pattern, data)\n",
    "    if latitude_match:\n",
    "        latitude_degrees = float(latitude_match.group(1))\n",
    "        latitude_minutes = float(latitude_match.group(2))\n",
    "        latitude_dir = latitude_match.group(3)\n",
    "        latitude = latitude_degrees + latitude_minutes / 60\n",
    "        if latitude_dir.upper() == \"S\":\n",
    "            latitude = -latitude\n",
    "        output[\"latitude\"] = latitude\n",
    "    longitude_match = re.search(longitude_pattern, data)\n",
    "    if longitude_match:\n",
    "        longitude_degrees = float(longitude_match.group(1))\n",
    "        longitude_minutes = float(longitude_match.group(2))\n",
    "        longitude_dir = longitude_match.group(3)\n",
    "        longitude = longitude_degrees + longitude_minutes / 60\n",
    "        if longitude_dir.upper() == \"W\":\n",
    "            longitude = -longitude\n",
    "        output[\"longitude\"] = longitude\n",
    "        \n",
    "    time_match = re.search(time_pattern, data)\n",
    "    date_match = re.search(date_pattern, data)\n",
    "    if date_match:\n",
    "        month = int(date_match.group(1))\n",
    "        day = int(date_match.group(2))\n",
    "        year = int(date_match.group(3))\n",
    "        timestamp = datetime(year, month, day)\n",
    "        if time_match:\n",
    "            hour = int(time_match.group(1))\n",
    "            minute = int(time_match.group(2))\n",
    "            timestamp = datetime(year, month, day, hour, minute)\n",
    "        output[\"date\"] = timestamp.isoformat()\n",
    "    wind_match = re.search(wind_pattern, data)\n",
    "    if wind_match:\n",
    "        output[\"wind_direction\"] = wind_match.group(1)\n",
    "        output[\"wind_direction_deg\"] = int(wind_match.group(2))\n",
    "        output[\"wind_speed\"] = float(wind_match.group(3))\n",
    "    pressure_match = re.search(pressure_pattern, data)\n",
    "    if pressure_match:\n",
    "        output[\"pressure\"] = float(pressure_match.group(1))\n",
    "        output[\"pressure_tendency\"] = pressure_match.group(2)\n",
    "    air_temp_match = re.search(air_temp_pattern, data)\n",
    "    if air_temp_match:\n",
    "        air_temp_f = float(air_temp_match.group(1))\n",
    "        output[\"air_temp_c\"] = (air_temp_f - 32) * 5 / 9\n",
    "    water_temp_match = re.search(water_temp_pattern, data)\n",
    "    if water_temp_match:\n",
    "        water_temp_f = float(water_temp_match.group(1))\n",
    "        output[\"water_temp_c\"] = (water_temp_f - 32) * 5 / 9\n",
    "    return output"
   ]
  },
  {
   "cell_type": "code",
   "execution_count": 40,
   "id": "e1235846-591a-44a0-b1ee-316a063f21ee",
   "metadata": {},
   "outputs": [],
   "source": [
    "buoy_data = parse_buoy_data(httpx.get(\"https://www.ndbc.noaa.gov/data/latest_obs/46092.txt\").text)"
   ]
  },
  {
   "cell_type": "code",
   "execution_count": 41,
   "id": "8b13ffb0-b824-4e50-9066-d81b24134d09",
   "metadata": {},
   "outputs": [
    {
     "data": {
      "text/plain": [
       "{'station_id': 46092,\n",
       " 'latitude': 36.751666666666665,\n",
       " 'longitude': 36.751666666666665,\n",
       " 'date': '0024-05-05T09:14:00',\n",
       " 'wind_direction': 'NW',\n",
       " 'wind_direction_deg': 320,\n",
       " 'wind_speed': 3.9,\n",
       " 'pressure': 30.09,\n",
       " 'pressure_tendency': 'rising',\n",
       " 'air_temp_c': 10.222222222222221,\n",
       " 'water_temp_c': 10.111111111111112}"
      ]
     },
     "execution_count": 41,
     "metadata": {},
     "output_type": "execute_result"
    }
   ],
   "source": [
    "buoy_data"
   ]
  },
  {
   "cell_type": "code",
   "execution_count": null,
   "id": "4b4d6479-682c-4604-82d6-ad1778b009cb",
   "metadata": {},
   "outputs": [],
   "source": []
  }
 ],
 "metadata": {
  "kernelspec": {
   "display_name": "Python 3 (ipykernel)",
   "language": "python",
   "name": "python3"
  },
  "language_info": {
   "codemirror_mode": {
    "name": "ipython",
    "version": 3
   },
   "file_extension": ".py",
   "mimetype": "text/x-python",
   "name": "python",
   "nbconvert_exporter": "python",
   "pygments_lexer": "ipython3",
   "version": "3.12.1"
  }
 },
 "nbformat": 4,
 "nbformat_minor": 5
}
