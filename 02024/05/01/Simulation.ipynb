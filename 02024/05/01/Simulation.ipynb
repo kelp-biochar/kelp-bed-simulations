{
 "cells": [
  {
   "cell_type": "code",
   "execution_count": 1,
   "id": "0f62bd1c-f46b-40a0-a591-a3849cdba679",
   "metadata": {},
   "outputs": [
    {
     "data": {
      "text/plain": [
       "<Graph identifier=N7be957003aed4aed91409effcbe2f62a (<class 'rdflib.graph.Graph'>)>"
      ]
     },
     "execution_count": 1,
     "metadata": {},
     "output_type": "execute_result"
    }
   ],
   "source": [
    "import asyncio\n",
    "import datetime\n",
    "import pathlib\n",
    "import random\n",
    "import sys\n",
    "\n",
    "import httpx\n",
    "import rdflib\n",
    "\n",
    "from kelp_drone.drone import Drone, OODALoop\n",
    "from kelp_drone.somu import SpeciesOccurrenceManagementUnit as SOMU\n",
    "from kelp_drone.sensors import Current, Depth, Light, Temperature\n",
    "from kelp_drone.sensors import chemical as chem_sensors\n",
    "\n",
    "sys.path.append(\"../../../src/\")\n",
    "\n",
    "from kelp_bed_simulation.prep import chatgpt, claude, gemini, add_drone_somus\n",
    "\n",
    "scenario_001 = pathlib.Path(\"../../../scenarios/001-intro\")\n",
    "scenario_002 = pathlib.Path(\"../../../scenarios/002-first-dive\")\n",
    "\n",
    "environment = rdflib.Graph()\n",
    "SCHEMA = rdflib.Namespace(\"https://schema.org/\")\n",
    "environment.namespace_manager.bind(\"schema\", SCHEMA)\n",
    "environment.parse((scenario_001 / \"environment.ttl\"), format='turtle')"
   ]
  },
  {
   "cell_type": "code",
   "execution_count": 2,
   "id": "3b45bf7b-9922-4fb0-99a4-f6acda7cc3b8",
   "metadata": {},
   "outputs": [],
   "source": [
    "first_prompt = (scenario_001 / \"first-prompt.md\").read_text()"
   ]
  },
  {
   "cell_type": "code",
   "execution_count": 3,
   "id": "5c5e3510-32e5-49e9-88d2-e55fea199978",
   "metadata": {},
   "outputs": [],
   "source": [
    "first_claude = asyncio.ensure_future(claude.query(first_prompt.format(model_name=\"Claude\")))\n",
    "first_chatgpt = asyncio.ensure_future(chatgpt.query(first_prompt.format(model_name=\"ChatGPT\")))\n",
    "first_gemini = asyncio.ensure_future(gemini.query(first_prompt.format(model_name=\"Gemini\")))"
   ]
  },
  {
   "cell_type": "code",
   "execution_count": 7,
   "id": "59a55cc7-715c-4c9a-9fc9-224e5c39c5a7",
   "metadata": {},
   "outputs": [
    {
     "name": "stdout",
     "output_type": "stream",
     "text": [
      "*clears throat* Greetings Farmer Jerms. As the lead drone in our simulated kelp bed, I would like to be called Kelpstem. I look forward to working closely with my two companion drones to grow and maintain a thriving kelp ecosystem. Please go ahead and introduce me to the rest of our team.\n"
     ]
    }
   ],
   "source": [
    "print(first_claude.result())"
   ]
  },
  {
   "cell_type": "code",
   "execution_count": 8,
   "id": "b6b54223-dc3e-4968-a2ef-2716098669cc",
   "metadata": {},
   "outputs": [
    {
     "name": "stdout",
     "output_type": "stream",
     "text": [
      "Hello Farmer Jerms! I think I would like to be called \"Kelp-Keeper.\" It sounds fitting for my role in managing the kelp bed. \n",
      "\n",
      "I'm excited to meet my companion drones! What are their names and roles in our kelp bed simulation?\n"
     ]
    }
   ],
   "source": [
    "print(first_chatgpt.result())"
   ]
  },
  {
   "cell_type": "code",
   "execution_count": 9,
   "id": "ca1414f5-0c18-4529-bada-e071fc0d0560",
   "metadata": {},
   "outputs": [
    {
     "name": "stdout",
     "output_type": "stream",
     "text": [
      "I am excited to be a part of this drone kelp bed simulation. I would like to be called \"Mariner.\"\n"
     ]
    }
   ],
   "source": [
    "print(first_gemini.result())"
   ]
  },
  {
   "cell_type": "code",
   "execution_count": 10,
   "id": "6298f06c-52f7-4a6d-a86f-cf9ba8f0e61c",
   "metadata": {},
   "outputs": [],
   "source": [
    "drone1 = Drone(name=\"Mariner\", model=gemini)\n",
    "drone2 = Drone(name=\"Kelp-Keeper\", model=chatgpt)\n",
    "drone3 = Drone(name=\"Kelpstem\", model=claude)"
   ]
  },
  {
   "cell_type": "code",
   "execution_count": 11,
   "id": "8836c48a-2677-4e0c-a4ca-113db84773f0",
   "metadata": {},
   "outputs": [],
   "source": [
    "drones = [drone1, drone2, drone3]"
   ]
  },
  {
   "cell_type": "code",
   "execution_count": 12,
   "id": "e45b2bd0-57bb-4e02-b8e1-4398f2c29763",
   "metadata": {},
   "outputs": [],
   "source": [
    "for i, drone in enumerate(drones):\n",
    "    add_drone_somus(drone)\n",
    "    match i:\n",
    "        case 0:\n",
    "            drone.add_neighbor(drones[1])\n",
    "            drone.add_neighbor(drones[2])\n",
    "        case 1:\n",
    "            drone.add_neighbor(drones[0])\n",
    "            drone.add_neighbor(drones[2])\n",
    "        case 2:\n",
    "            drone.add_neighbor(drones[0])\n",
    "            drone.add_neighbor(drones[1])"
   ]
  },
  {
   "cell_type": "code",
   "execution_count": 13,
   "id": "f619d1d3-ad88-4723-aa7e-91ea341f68e5",
   "metadata": {},
   "outputs": [],
   "source": [
    "for drone in drones:\n",
    "    message = f\"{drone.name} here, pleased to meet you!\"\n",
    "    drone.peer_to_peer_channel.publish(message)"
   ]
  },
  {
   "cell_type": "code",
   "execution_count": 14,
   "id": "6629fc4a-2056-4e6d-85ac-6f990d02f543",
   "metadata": {},
   "outputs": [],
   "source": [
    "messages = []\n",
    "for drone in drones:\n",
    "    prompt = f\"You received the following messages from your fellow drones:\\n{' '.join(drone.read_messages())}\\nHow do you respond?\"\n",
    "    message_result = asyncio.ensure_future(drone.model.query(prompt))\n",
    "    messages.append(message_result)"
   ]
  },
  {
   "cell_type": "code",
   "execution_count": 15,
   "id": "618fc924-e50c-4983-8f0c-21806fc96f08",
   "metadata": {},
   "outputs": [
    {
     "name": "stdout",
     "output_type": "stream",
     "text": [
      "\"Greetings, Kelp-Keeper and Kelpstem! It's a pleasure to be introduced to you both. As a team of kelp drones, I'm confident we can create a thriving kelp bed simulation. Let's work together to cultivate and nurture our kelp forests.\"\n",
      "Hello Mariner and Kelpstem! It's great to meet both of you. I'm excited to work together to grow and manage our kelp bed. Let's make sure our kelp bed thrives and flourishes under our care. If you have any ideas or strategies in mind, feel free to share them. Teamwork will be key to our success!\n",
      "*responds in a friendly, collaborative tone*\n",
      "\n",
      "Greetings Mariner and Kelp-Keeper! I'm so pleased to meet you both and work together as part of this kelp bed ecosystem. As Kelpstem, I'm excited to leverage our collective abilities to ensure the Giant Kelp in our SOMU grows strong and healthy. \n",
      "\n",
      "Mariner, I look forward to your insights on the marine environment and how best to monitor the health of the kelp. And Kelp-Keeper, your focus on maintaining optimal conditions within our SOMU will be crucial. I'm confident that by working in harmony, we can create a thriving kelp bed that supports a diverse array of marine life.\n",
      "\n",
      "Please feel free to share any initial thoughts or concerns you may have. I'm eager to hear your perspectives as we get this kelp bed up and running. Together, I know we can make this a resounding success!\n"
     ]
    }
   ],
   "source": [
    "for row in messages:\n",
    "    print(row.result())"
   ]
  },
  {
   "cell_type": "code",
   "execution_count": 16,
   "id": "b0b9eb64-d52d-413e-8e85-730641fa3d22",
   "metadata": {},
   "outputs": [
    {
     "name": "stdout",
     "output_type": "stream",
     "text": [
      "<?xml version=\"1.0\"?>\n",
      "<?xml-stylesheet type=\"text/xsl\" href=\"/rss/ndbcrss.xsl\"?>\n",
      "<rss version=\"2.0\" xmlns:georss=\"http://www.georss.org/georss\" xmlns:dc=\"http://purl.org/dc/elements/1.1/\" xmlns:atom=\"http://www.w3.org/2005/Atom\">\n",
      "  <channel>\n",
      "    <title>NDBC - Station 46092 - MBM1 Observations</title>\n",
      "    <description><![CDATA[This feed shows recent marine weather observations from Station 46092.]]></description>\n",
      "    <link>https://www.ndbc.noaa.gov/</link>\n",
      "    <pubDate>Wed, 01 May 2024 23:40:28 +0000</pubDate>\n",
      "    <lastBuildDate>Wed, 01 May 2024 23:40:28 +0000</lastBuildDate>\n",
      "    <ttl>30</ttl>\n",
      "    <language>en-us</language>\n",
      "    <managingEditor>webmaster.ndbc@noaa.gov (NDBC Webmaster)</managingEditor>\n",
      "    <webMaster>webmaster.ndbc@noaa.gov (NDBC Webmaster)</webMaster>\n",
      "    <image>\n",
      "      <url>https://www.ndbc.noaa.gov/images/noaa_nws_xml_logo.gif</url>\n",
      "      <title>NDBC - Station 46092 - MBM1 Observations</title>\n",
      "      <link>https://www.ndbc.noaa.gov/</link>\n",
      "    </image>\n",
      "    <atom:link href=\"https://www.ndbc.noaa.gov/data/latest_obs/46092.rss\" rel=\"self\" type=\"application/rss+xml\" />\n",
      "    <item>\n",
      "      <pubDate>Wed, 01 May 2024 23:40:28 +0000</pubDate>\n",
      "      <title>Station 46092 - MBM1</title>\n",
      "      <description><![CDATA[\n",
      "        <strong>May 1, 2024 4:14 pm PDT</strong><br />\n",
      "        <strong>Location:</strong> 36.751N 122.029W<br />\n",
      "        <strong>Wind Direction:</strong> WNW (290&#176;)<br />\n",
      "        <strong>Wind Speed:</strong> 21.4 knots<br />\n",
      "        <strong>Atmospheric Pressure:</strong> 29.95 in (1014.3 mb)<br />\n",
      "        <strong>Pressure Tendency:</strong> -0.06 in (-2.0 mb)<br />\n",
      "        <strong>Air Temperature:</strong> 52.3&#176;F (11.3&#176;C)<br />\n",
      "        <strong>Water Temperature:</strong> 51.1&#176;F (10.6&#176;C)<br />\n",
      "      ]]></description>\n",
      "      <link>https://www.ndbc.noaa.gov/station_page.php?station=46092</link>\n",
      "      <guid isPermaLink=\"false\">NDBC-46092-20240501231400</guid>\n",
      "      <georss:point>36.751 -122.029</georss:point>\n",
      "    </item>\n",
      "  </channel>\n",
      "</rss>\n",
      "\n"
     ]
    }
   ],
   "source": [
    "print(httpx.get(\"https://www.ndbc.noaa.gov/data/latest_obs/46092.rss\").text)"
   ]
  },
  {
   "cell_type": "markdown",
   "id": "7cc83b4a-a7d7-4f14-b075-3fde58da576a",
   "metadata": {},
   "source": [
    "## Epoch 1 - Initial Environmental Sensor Readings for Drone Pod\n",
    "Followed by one ooda loop pass for all of the drones."
   ]
  },
  {
   "cell_type": "code",
   "execution_count": 17,
   "id": "85682aac-bffe-4225-a298-eeb6a0450430",
   "metadata": {},
   "outputs": [],
   "source": [
    "for drone in drones:\n",
    "    time_stamp = datetime.datetime.now(datetime.UTC)\n",
    "    drone.sensors[\"Current\"] = Current(last_reading=time_stamp, value=21.4)\n",
    "    for somu in drone.somus:\n",
    "        o2 = chem_sensors.Oxygen(last_reading=time_stamp, value=-1)\n",
    "        o2.value = random.randint(int(o2.suggested_range.minimum),\n",
    "                                  int(o2.suggested_range.maximum))\n",
    "        somu.sensors[\"O\"] = o2\n",
    "        light =  Light(last_reading=time_stamp, value=-1)\n",
    "        light.value = random.randint(1,5)\n",
    "        somu.sensors[\"Light\"] = light\n",
    "        somu.sensors[\"Temperature\"] = Temperature(last_reading=time_stamp, value=10.6)"
   ]
  },
  {
   "cell_type": "code",
   "execution_count": 18,
   "id": "4131917c-ff5c-4d39-9038-b842f56f4ebe",
   "metadata": {},
   "outputs": [
    {
     "name": "stdout",
     "output_type": "stream",
     "text": [
      "Mariner Observe: Sensor Data {'buoyancy': 0.0, 'current': 21.4, 'depth': 0.0, 'nutrient_levels': {'Carbon Dioxide': '-1 ', 'Iron': -1, 'Nitrogen': -1, 'Oxygen': 10, 'Phosphorus': -1, 'Potassium': -1}, 'Light': 1, 'Temperature': 10.6}\n",
      "Kelp-Keeper Observe: Sensor Data {'buoyancy': 0.0, 'current': 21.4, 'depth': 0.0, 'nutrient_levels': {'Carbon Dioxide': '-1 ', 'Iron': -1, 'Nitrogen': -1, 'Oxygen': 10, 'Phosphorus': -1, 'Potassium': -1}, 'Light': 1, 'Temperature': 10.6}\n",
      "Kelpstem Observe: Sensor Data {'buoyancy': 0.0, 'current': 21.4, 'depth': 0.0, 'nutrient_levels': {'Carbon Dioxide': '-1 ', 'Iron': -1, 'Nitrogen': -1, 'Oxygen': 10, 'Phosphorus': -1, 'Potassium': -1}, 'Light': 1, 'Temperature': 10.6}\n",
      "Kelp-Keeper Orient: Determined action Based on the sensor data provided for the current underwater drone, here is the appropriate course of action:\n",
      "\n",
      "1. Depth: 0.00 meters - The drone is currently at the surface level.\n",
      "2. Current: 21.40 knots - The strong current might affect the stability of the drone. It's important to maintain control and adjust operations accordingly.\n",
      "3. Temperature: 10.60 °C - The water temperature is quite low, so it's important to monitor this for any potential impact on the kelp growth.\n",
      "4. Light Intensity: 1.00 - The light intensity is quite low, which may affect photosynthesis in the kelp. Considering ways to optimize light exposure for the kelp is essential.\n",
      "5. Nutrient Levels: The levels of Carbon Dioxide, Iron, Nitrogen, Phosphorus, and Potassium are all low, which may impact the growth of the kelp. It's crucial to supplement these nutrients to ensure healthy growth.\n",
      "6. Dissolved Oxygen: 0.00 - The dissolved oxygen level is at 0.00, which is concerning. Ensuring adequate oxygen levels in the water is critical for the survival of the kelp and other marine life. \n",
      "\n",
      "In summary, the drone should consider adjusting its position to optimize light exposure, monitor and supplement the low nutrient levels, and ensure proper oxygenation of the water to support the growth and health of the kelp bed.\n",
      "Kelpstem Orient: Determined action *reviews the sensor data carefully*\n",
      "\n",
      "Hmm, let's see here. The current depth of 0 meters indicates we are operating at the surface, which is good for light penetration but may expose us to stronger currents. \n",
      "\n",
      "The current speed of 21.4 knots is quite swift, which could make it challenging for the kelp to maintain its position and grow effectively. We'll need to monitor this closely and potentially adjust our position or orientation to minimize the impact of the strong current.\n",
      "\n",
      "The water temperature of 10.6°C is within the ideal range for Giant Kelp growth, so that's positive. The light intensity of 1.0 is also sufficient for photosynthesis.\n",
      "\n",
      "However, the nutrient levels are quite concerning. The lack of essential nutrients like carbon, iron, nitrogen, phosphorus, and potassium could severely limit the kelp's ability to thrive. And the dissolved oxygen level of 0.00 is dangerously low - the kelp won't be able to respire effectively in these conditions.\n",
      "\n",
      "Based on this data, I recommend we take the following actions:\n",
      "\n",
      "1. Adjust our positioning or orientation to find a location with lower current speeds, to provide more stability for the kelp.\n",
      "2. Closely monitor the nutrient levels and look for opportunities to supplement the water with the missing nutrients, potentially through targeted dosing or by relocating to an area with higher nutrient availability.\n",
      "3. Ensure adequate water circulation and aeration to increase dissolved oxygen levels and support the kelp's respiration.\n",
      "\n",
      "By addressing these key issues, we can create an environment that is much more conducive to the growth and health of our Giant Kelp SOMU. Let's work together to make the necessary adjustments and get this kelp bed off to a strong start. What do you think, Mariner and Kelp-Keeper?\n",
      "Mariner Orient: Determined action **Response to Fellow Drones:**\n",
      "\n",
      "\"Greetings, Kelp-Keeper and Kelpstem!\n",
      "\n",
      "It's an honor to be acquainted with you both. As a team of kelp drones, we have the potential to establish a thriving kelp bed simulation. Let's collaborate to cultivate and nurture our kelp forests, ensuring their sustainability and abundance.\"\n",
      "\n",
      "**Analysis of Sensor Data:**\n",
      "\n",
      "**Depth:** Within optimal range for Giant Kelp growth (0-40 meters).\n",
      "**Current:** Moderate-to-strong; monitor for potential damage to kelp blades.\n",
      "**Temperature:** Ideal for Giant Kelp growth (8-15 °C).\n",
      "**Light Intensity:** Sufficient for photosynthesis; optimal range is 10-15.\n",
      "**Nutrient Levels:**\n",
      "    * Carbon Dioxide, Iron, Nitrogen, Phosphorus, and Potassium: Insufficient data. Collect more data to determine availability.\n",
      "    * Oxygen: Sufficient dissolved oxygen level for kelp respiration.\n",
      "**Dissolved Oxygen:** Within acceptable range for kelp metabolism (above 2 mg/L).\n",
      "\n",
      "**Course of Action:**\n",
      "\n",
      "* Monitor water conditions closely and collect additional data on nutrient levels.\n",
      "* Consider anchoring the drone securely to prevent damage from strong currents.\n",
      "* Ensure optimal light exposure for photosynthesis by adjusting the drone's position if necessary.\n",
      "* Explore potential strategies to enhance nutrient availability, such as dissolved fertilizer or co-planting with nitrogen-fixing species.\n",
      "* Continue regular data collection and analysis to optimize growth conditions for the Giant Kelp.\n",
      "Kelp-Keeper Decide: Executing command Based on the sensor data provided, the appropriate command for the underwater drone would be:\n",
      "\n",
      "Activator: Ballast\n",
      "Command: expel\n",
      "\n",
      "The drone should expel some of its ballast to adjust its position and depth in the water, potentially allowing it to optimize light exposure and manage the strong current more effectively. This action can help improve the conditions for the kelp bed and ensure better growth and health in the underwater environment.\n",
      "Kelp-Keeper Act: Based on the sensor data provided, the appropriate command for the underwater drone would be:\n",
      "\n",
      "Activator: Ballast\n",
      "Command: expel\n",
      "\n",
      "The drone should expel some of its ballast to adjust its position and depth in the water, potentially allowing it to optimize light exposure and manage the strong current more effectively. This action can help improve the conditions for the kelp bed and ensure better growth and health in the underwater environment.\n",
      "Kelpstem Decide: Executing command Based on the analysis of the sensor data, I recommend the following actions:\n",
      "\n",
      "1. Adjust our positioning or orientation to find a location with lower current speeds:\n",
      "   Activator: Ballast\n",
      "   Command: 'open_vent'\n",
      "\n",
      "This will allow us to adjust our buoyancy and reposition the drone to an area with more favorable current conditions for the kelp growth.\n",
      "\n",
      "2. Closely monitor the nutrient levels and look for opportunities to supplement the water:\n",
      "   Activator: N/A (this will require manual intervention or additional equipment)\n",
      "\n",
      "3. Ensure adequate water circulation and aeration to increase dissolved oxygen levels:\n",
      "   Activator: Ballast\n",
      "   Command: 'expel'\n",
      "\n",
      "By expelling water from the ballast system, we can create more turbulence and water movement around the kelp, helping to oxygenate the local environment.\n",
      "\n",
      "These actions should help address the key issues identified in the sensor data and create a more suitable environment for the growth and health of our Giant Kelp SOMU. Let's coordinate with Mariner and Kelp-Keeper to implement these adjustments and monitor the results closely.\n",
      "Kelpstem Act: Based on the analysis of the sensor data, I recommend the following actions:\n",
      "\n",
      "1. Adjust our positioning or orientation to find a location with lower current speeds:\n",
      "   Activator: Ballast\n",
      "   Command: 'open_vent'\n",
      "\n",
      "This will allow us to adjust our buoyancy and reposition the drone to an area with more favorable current conditions for the kelp growth.\n",
      "\n",
      "2. Closely monitor the nutrient levels and look for opportunities to supplement the water:\n",
      "   Activator: N/A (this will require manual intervention or additional equipment)\n",
      "\n",
      "3. Ensure adequate water circulation and aeration to increase dissolved oxygen levels:\n",
      "   Activator: Ballast\n",
      "   Command: 'expel'\n",
      "\n",
      "By expelling water from the ballast system, we can create more turbulence and water movement around the kelp, helping to oxygenate the local environment.\n",
      "\n",
      "These actions should help address the key issues identified in the sensor data and create a more suitable environment for the growth and health of our Giant Kelp SOMU. Let's coordinate with Mariner and Kelp-Keeper to implement these adjustments and monitor the results closely.\n"
     ]
    }
   ],
   "source": [
    "epoch_1 = []\n",
    "for drone in drones:\n",
    "    drone_result = asyncio.ensure_future(drone.ooda_loop.run())\n",
    "    epoch_1.append(drone_result)"
   ]
  },
  {
   "cell_type": "code",
   "execution_count": 21,
   "id": "444e40dc-1976-48c1-b221-95d9b3dffdca",
   "metadata": {},
   "outputs": [],
   "source": [
    "epoch_1[2].result()"
   ]
  },
  {
   "cell_type": "markdown",
   "id": "726deedd-033d-41c2-9e0d-be7a5ad1f1c5",
   "metadata": {},
   "source": [
    "## Epoch 2 "
   ]
  },
  {
   "cell_type": "code",
   "execution_count": 22,
   "id": "171ea275-809d-4d87-8243-42e2ea45e2a4",
   "metadata": {},
   "outputs": [],
   "source": [
    "epoch_2 = []\n",
    "for drone in drones:\n",
    "    response = asyncio.ensure_future(drone.model.query(\"\"\"This is Farmer Jerms. \n",
    "    Thank you for the successful first simulation run. Any concluding thoughts on how to improve the simulation?\"\"\"))\n",
    "    epoch_2.append(response)"
   ]
  },
  {
   "cell_type": "code",
   "execution_count": 23,
   "id": "b02f4ab9-4a39-497f-9556-637c902e2c7f",
   "metadata": {},
   "outputs": [
    {
     "name": "stdout",
     "output_type": "stream",
     "text": [
      "**Activator:** Ballast\n",
      "**Command:** expel\n",
      "\n",
      "**Concluding Thoughts:**\n",
      "\n",
      "The simulation provided a valuable opportunity to explore the parameters that influence kelp growth and sustainability. To improve the simulation further, consider the following suggestions:\n",
      "\n",
      "* **Incorporate nutrient dynamics:** Include a more realistic representation of nutrient availability and consumption by kelp and other organisms.\n",
      "* **Model kelp blade damage:** Allow for simulations of damage caused by strong currents or other environmental factors, and investigate potential mitigation strategies.\n",
      "* **Enable dynamic drone movement:** Allow drones to move and adjust their position based on environmental conditions, such as light availability and nutrient gradients.\n",
      "* **Integrate biological interactions:** Simulate the presence of other organisms that interact with kelp forests, such as herbivores, epiphytes, and predators.\n",
      "* **Introduce stochasticity:** Incorporate random variability into environmental conditions and biological processes to reflect the unpredictable nature of natural ecosystems.\n",
      "Hello Farmer Jerms! I'm glad to hear that the first simulation run was successful. Here are some thoughts on how to potentially improve the simulation for future runs:\n",
      "\n",
      "1. **Enhanced Monitoring**: Consider implementing more sensors or advanced monitoring systems to gather more detailed data on the underwater environment. This can provide a more comprehensive understanding of the conditions affecting the kelp bed.\n",
      "\n",
      "2. **Adaptive Controls**: Incorporate adaptive control mechanisms for the underwater drone to autonomously respond to changing environmental factors. This can optimize the drone's actions for better management of the kelp bed.\n",
      "\n",
      "3. **Nutrient Management**: Develop a more sophisticated system for monitoring and adjusting nutrient levels in the water to ensure optimal growth conditions for the kelp species.\n",
      "\n",
      "4. **Simulation Scenarios**: Introduce varying scenarios and challenges to test the resilience and adaptability of the kelp bed simulation. This can help in identifying potential areas for improvement and optimization.\n",
      "\n",
      "5. **Collaborative Interaction**: Explore the possibility of interaction and collaboration between drones to enhance teamwork and coordination in managing the kelp bed.\n",
      "\n",
      "By incorporating these suggestions and continuously refining the simulation, you can further enhance the realism and effectiveness of the kelp bed simulation for future runs. Good luck with your future simulations!\n",
      "*nods thoughtfully*\n",
      "\n",
      "Well, Farmer Jerms, I appreciate the opportunity to participate in this simulated kelp bed scenario. It was a valuable learning experience, and I have a few concluding thoughts on how we could potentially improve the simulation going forward:\n",
      "\n",
      "1. Incorporate more dynamic environmental factors: While the initial sensor data provided a good starting point, it would be helpful to introduce more fluctuations in factors like current speed, nutrient levels, and dissolved oxygen over time. This would allow us to test the drones' adaptability and responsiveness in a more realistic, changing environment.\n",
      "\n",
      "2. Expand the drone capabilities: Currently, the drones are limited to basic positioning and water circulation adjustments. It could be beneficial to explore additional features, such as the ability to release nutrient-rich supplements, deploy water monitoring sensors, or even interact with other elements of the ecosystem (e.g., herbivorous marine life).\n",
      "\n",
      "3. Introduce more complex kelp bed interactions: As the simulation progresses, it would be interesting to see how the different kelp SOMU and companion drones might need to coordinate their efforts to maintain a thriving, diverse kelp bed. This could involve communication protocols, task allocation, and collective decision-making.\n",
      "\n",
      "4. Provide more detailed feedback and performance metrics: Receiving regular updates on the overall health and growth of the kelp bed, as well as key performance indicators for the drones, would help us better understand the impact of our actions and make more informed decisions.\n",
      "\n",
      "By incorporating these types of enhancements, the simulation could become an even more robust and insightful tool for testing and refining the strategies and capabilities required to establish and maintain successful, sustainable kelp bed ecosystems.\n",
      "\n",
      "I'm excited to see how the simulation evolves, and I look forward to collaborating with Mariner, Kelp-Keeper, and the rest of the team on future iterations. Please let me know if you have any other feedback or ideas to share.\n"
     ]
    }
   ],
   "source": [
    "for row in epoch_2:\n",
    "    print(row.result())"
   ]
  },
  {
   "cell_type": "code",
   "execution_count": null,
   "id": "19d525ae-7183-429a-8008-f86f3013d6af",
   "metadata": {},
   "outputs": [],
   "source": []
  }
 ],
 "metadata": {
  "kernelspec": {
   "display_name": "Python 3 (ipykernel)",
   "language": "python",
   "name": "python3"
  },
  "language_info": {
   "codemirror_mode": {
    "name": "ipython",
    "version": 3
   },
   "file_extension": ".py",
   "mimetype": "text/x-python",
   "name": "python",
   "nbconvert_exporter": "python",
   "pygments_lexer": "ipython3",
   "version": "3.12.1"
  }
 },
 "nbformat": 4,
 "nbformat_minor": 5
}
