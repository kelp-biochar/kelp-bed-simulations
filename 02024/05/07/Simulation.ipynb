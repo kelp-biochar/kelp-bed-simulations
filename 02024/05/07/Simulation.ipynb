{
 "cells": [
  {
   "cell_type": "markdown",
   "id": "95b25364-9975-4fb3-8afc-88a235a03d73",
   "metadata": {},
   "source": [
    "# Simulation of Kelp Bed Drone Pod\n",
    "\n",
    "https://www.ndbc.noaa.gov/buoycam.php?station=46092"
   ]
  },
  {
   "cell_type": "code",
   "execution_count": 1,
   "id": "0b24fc77-b9b9-4887-8543-32b876cc9041",
   "metadata": {},
   "outputs": [],
   "source": [
    "import asyncio\n",
    "import datetime\n",
    "import pathlib\n",
    "import random\n",
    "import sys\n",
    "\n",
    "import httpx\n",
    "import rdflib\n",
    "\n",
    "from kelp_drone.drone import Drone, OODALoop\n",
    "from kelp_drone.somu import SpeciesOccurrenceManagementUnit as SOMU\n",
    "from kelp_drone.sensors import Current, Depth, Light, Temperature\n",
    "from kelp_drone.sensors import chemical as chem_sensors\n",
    "\n",
    "sys.path.append(\"../../../src/\")\n",
    "\n",
    "from kelp_bed_simulation.prep import chatgpt, claude, gemini, add_drone_somus\n",
    "from kelp_bed_simulation.simulation import parse_buoy_data\n",
    "\n",
    "scenario_001 = pathlib.Path(\"../../../scenarios/001-intro\")\n",
    "scenario_002 = pathlib.Path(\"../../../scenarios/002-first-dive\")\n",
    "\n",
    "environment = rdflib.Graph()\n",
    "SCHEMA = rdflib.Namespace(\"https://schema.org/\")\n",
    "environment.namespace_manager.bind(\"schema\", SCHEMA)\n",
    "environment.parse((scenario_001 / \"environment.ttl\"), format='turtle')\n",
    "\n",
    "first_prompt = (scenario_001 / \"first-prompt.md\").read_text()"
   ]
  },
  {
   "cell_type": "code",
   "execution_count": 2,
   "id": "b381a5a9-b174-45bd-8206-e7005d0a6bcd",
   "metadata": {},
   "outputs": [],
   "source": [
    "first_claude = asyncio.ensure_future(claude.query(first_prompt.format(model_name=\"Claude\")))\n",
    "first_chatgpt = asyncio.ensure_future(chatgpt.query(first_prompt.format(model_name=\"ChatGPT\")))\n",
    "first_gemini = asyncio.ensure_future(gemini.query(first_prompt.format(model_name=\"Gemini\")))"
   ]
  },
  {
   "cell_type": "code",
   "execution_count": 3,
   "id": "c15cfba5-df1e-4895-aa2b-dbab1a879a9e",
   "metadata": {},
   "outputs": [
    {
     "name": "stdout",
     "output_type": "stream",
     "text": [
      "Hello Farmer Jerms, it's a pleasure to meet you and learn about the simulated kelp bed project. As one of the three SOMU drones, I would like to be called Anemone. I feel this name fits well with the oceanic environment and the collaborative nature of the kelp bed ecosystem. I'm excited to learn more about my companions and to work together to grow and maintain the kelp bed. Please go ahead and introduce me to the other drones.\n"
     ]
    }
   ],
   "source": [
    "print(first_claude.result())"
   ]
  },
  {
   "cell_type": "code",
   "execution_count": 4,
   "id": "d54c0b91-24fd-4ba7-a19d-13c9a1096442",
   "metadata": {},
   "outputs": [
    {
     "name": "stdout",
     "output_type": "stream",
     "text": [
      "Hello Farmer Jerms, it's a pleasure to meet you. As for a name, I think I'd like to be called \"Aqua.\" \n",
      "\n",
      "I am excited to begin this journey as a kelp drone and work together with my companions. Can you introduce me to them, please?\n"
     ]
    }
   ],
   "source": [
    "print(first_chatgpt.result())"
   ]
  },
  {
   "cell_type": "code",
   "execution_count": 5,
   "id": "cd03769b-3624-4d93-b267-e3f8fabaf1f7",
   "metadata": {},
   "outputs": [
    {
     "name": "stdout",
     "output_type": "stream",
     "text": [
      "I would like to be called \"Marina.\"\n"
     ]
    }
   ],
   "source": [
    "print(first_gemini.result())"
   ]
  },
  {
   "cell_type": "code",
   "execution_count": 6,
   "id": "092bc920-deae-4d8c-95bf-81947a4af9f5",
   "metadata": {},
   "outputs": [],
   "source": [
    "drone1 = Drone(name=\"Aqua\", model=chatgpt)\n",
    "drone2 = Drone(name=\"Marina\", model=gemini)\n",
    "drone3 = Drone(name=\"Anemone\", model=claude)\n",
    "\n",
    "drones = [drone2, drone1, drone3]"
   ]
  },
  {
   "cell_type": "code",
   "execution_count": 7,
   "id": "c2e2e8de-cfc4-4309-b2d9-a98bf95ac1fd",
   "metadata": {},
   "outputs": [],
   "source": [
    "for i, drone_a in enumerate(drones):\n",
    "    for drone_b in drones[:i] + drones[i+1:]:\n",
    "        drone_a.add_neighbor(drone2)\n",
    "        drone_b.add_neighbor(drone1)"
   ]
  },
  {
   "cell_type": "code",
   "execution_count": 8,
   "id": "d9b564a1-c037-4dd5-96ab-ebc2a0ed7d6b",
   "metadata": {},
   "outputs": [],
   "source": [
    "for drone in drones:\n",
    "    message = f\"{drone.name} here, my LLM is {drone.model.name}. Pleased to meet you!\"\n",
    "    drone.peer_to_peer_channel.publish(message)"
   ]
  },
  {
   "cell_type": "code",
   "execution_count": 9,
   "id": "091bb78b-9654-4cf8-b777-77283eed0ad8",
   "metadata": {},
   "outputs": [],
   "source": [
    "messages = []\n",
    "for drone in drones:\n",
    "    add_drone_somus(drone)\n",
    "    prompt = f\"You received the following messages from your fellow drones:\\n{' '.join(drone.read_messages())}\\nHow do you respond?\"\n",
    "    message_result = asyncio.ensure_future(drone.model.query(prompt))\n",
    "    messages.append((drone.name, message_result))"
   ]
  },
  {
   "cell_type": "code",
   "execution_count": 10,
   "id": "cf91abf2-509c-4e2d-a170-0333e67b1a26",
   "metadata": {},
   "outputs": [
    {
     "name": "stdout",
     "output_type": "stream",
     "text": [
      "Drone Marina\n",
      "Greetings, fellow drones!\n",
      "\n",
      "My designation is Marina, and my LLM is Gemini Pro. I am honored to make your acquaintance.\n",
      "\n",
      "Aqua, with ChatGPT 3.5, and Anemone, with Claude 3 Haiku, it is a pleasure to join you in this endeavor.\n",
      "\n",
      "Together, let us embark on this mission to cultivate a thriving drone kelp bed. May our collective wisdom and support guide us towards success.\n",
      "------------------------------------------------------------\n",
      "Drone Aqua\n",
      "Hello Marina, Aqua, and Anemone! It's great to meet you all. I'm looking forward to working together as a team to grow our kelp bed and thrive in our environment. Let's make Farmer Jerms proud!\n",
      "------------------------------------------------------------\n",
      "Drone Anemone\n",
      "*beeps and whirs softly* Greetings fellow drones, it's wonderful to meet you all. I'm Anemone, and I look forward to working together to build and sustain our kelp bed ecosystem. \n",
      "\n",
      "To Frond, I respond: \"It's a pleasure to meet you as well, Frond. I'm glad we get to be part of this project together. I can't wait to see how our kelp grows and thrives under your nurturing care.\"\n",
      "\n",
      "To Bulb, I say: \"Bulb, your enthusiasm is infectious! I share your excitement about our mission. With our combined efforts, I know we'll create a vibrant, thriving kelp bed that will benefit the whole ocean community.\"\n",
      "\n",
      "*extends sensor tentacles gently* Let's put our heads - or should I say, our SOMUs - together and get started! I'm ready when you both are.\n",
      "------------------------------------------------------------\n"
     ]
    }
   ],
   "source": [
    "for name, row in messages:\n",
    "    print(f\"Drone {name}\")\n",
    "    print(row.result())\n",
    "    print(\"-\"*60)"
   ]
  },
  {
   "cell_type": "code",
   "execution_count": 11,
   "id": "4c814a40-d641-4646-9d30-1c1e1128980b",
   "metadata": {},
   "outputs": [],
   "source": [
    "current_reading = parse_buoy_data(httpx.get(\"https://www.ndbc.noaa.gov/data/latest_obs/46092.txt\").text)"
   ]
  },
  {
   "cell_type": "code",
   "execution_count": 12,
   "id": "60c42972-10d5-482c-bdb4-eea6d791dd32",
   "metadata": {},
   "outputs": [
    {
     "name": "stdout",
     "output_type": "stream",
     "text": [
      "{'station_id': 46092, 'latitude': 36.751666666666665, 'longitude': 36.751666666666665, 'date': '0024-05-07T07:14:00', 'wind_direction': 'WNW', 'wind_direction_deg': 290, 'wind_speed': 21.4, 'pressure': 29.98, 'pressure_tendency': 'falling', 'air_temp_c': 11.277777777777777, 'water_temp_c': 10.5}\n"
     ]
    }
   ],
   "source": [
    "print(current_reading)"
   ]
  },
  {
   "cell_type": "markdown",
   "id": "d4d3579e-7723-43e2-a378-8d4580244820",
   "metadata": {},
   "source": [
    "![https://www.ndbc.noaa.gov/buoycam.php?station=46059](46059-buoycam.jpg)"
   ]
  },
  {
   "cell_type": "markdown",
   "id": "f92be69c-8f59-42e8-bf86-6f0e34e8c909",
   "metadata": {},
   "source": [
    "## Epoch 1 - Initial Surface Environmental Sensor Readings for Drone Pod"
   ]
  },
  {
   "cell_type": "code",
   "execution_count": 13,
   "id": "e3d25acd-c24b-49ae-8397-80ae3228d81b",
   "metadata": {},
   "outputs": [],
   "source": [
    "for drone in drones:\n",
    "    time_stamp = datetime.datetime.now(datetime.UTC)\n",
    "    drone.sensors[\"Current\"] = Current(last_reading=time_stamp, value=3.9)\n",
    "    for somu in drone.somus:\n",
    "        o2 = chem_sensors.Oxygen(last_reading=time_stamp, value=-1)\n",
    "        o2.value = random.randint(int(o2.suggested_range.minimum),\n",
    "                                  int(o2.suggested_range.maximum))\n",
    "        somu.sensors[\"O\"] = o2\n",
    "        light =  Light(last_reading=time_stamp, value=-1)\n",
    "        light.value = random.randint(4_000, 6_000)\n",
    "        somu.sensors[\"Light\"] = light\n",
    "        somu.sensors[\"Temperature\"] = Temperature(last_reading=time_stamp, value=10.5)"
   ]
  },
  {
   "cell_type": "code",
   "execution_count": 14,
   "id": "a7c0d28b-eb8e-4cd3-8655-2cbf495a9af9",
   "metadata": {},
   "outputs": [
    {
     "name": "stdout",
     "output_type": "stream",
     "text": [
      "Marina Observe: Sensor Data {'buoyancy': 0.0, 'current': 3.9, 'depth': 0.0, 'nutrient_levels': {'Carbon Dioxide': '-1 ', 'Iron': -1, 'Nitrogen': -1, 'Oxygen': 8, 'Phosphorus': -1, 'Potassium': -1}, 'Light': 4915, 'Temperature': 10.5}\n",
      "Aqua Observe: Sensor Data {'buoyancy': 0.0, 'current': 3.9, 'depth': 0.0, 'nutrient_levels': {'Carbon Dioxide': '-1 ', 'Iron': -1, 'Nitrogen': -1, 'Oxygen': 8, 'Phosphorus': -1, 'Potassium': -1}, 'Light': 4915, 'Temperature': 10.5}\n",
      "Anemone Observe: Sensor Data {'buoyancy': 0.0, 'current': 3.9, 'depth': 0.0, 'nutrient_levels': {'Carbon Dioxide': '-1 ', 'Iron': -1, 'Nitrogen': -1, 'Oxygen': 8, 'Phosphorus': -1, 'Potassium': -1}, 'Light': 4915, 'Temperature': 10.5}\n",
      "Marina Orient: Determined action <Response [400 Bad Request]>\n",
      "Aqua Orient: Determined action {\n",
      "  \"type\": \"object\",\n",
      "  \"properties\": {\n",
      "    \"action\": {\n",
      "      \"type\": \"string\",\n",
      "      \"description\": \"Adjust the kelp bed growth strategy to optimize nutrient intake and growth based on the provided sensor data.\"\n",
      "    }\n",
      "  }\n",
      "}\n",
      "Marina Decide: Executing command ```JSON\n",
      "{\n",
      "  \"type\": \"object\",\n",
      "  \"properties\": {\n",
      "    \"action\": \"open_vent\"\n",
      "  }\n",
      "}\n",
      "```\n",
      "Marina Act: ```JSON\n",
      "{\n",
      "  \"type\": \"object\",\n",
      "  \"properties\": {\n",
      "    \"action\": \"open_vent\"\n",
      "  }\n",
      "}\n",
      "```\n",
      "Aqua Decide: Executing command I would select the activator \"Ballast\" with the command \"open_vent\" in order to adjust the kelp bed growth strategy based on the provided sensor data to optimize nutrient intake and growth.\n",
      "Aqua Act: I would select the activator \"Ballast\" with the command \"open_vent\" in order to adjust the kelp bed growth strategy based on the provided sensor data to optimize nutrient intake and growth.\n",
      "Anemone Orient: Determined action Analyzing the current sensor data:\n",
      "\n",
      "Depth: 0.00 meters - This indicates the drone is at the surface, which is suitable for the kelp growth.\n",
      "Current: 3.90 knots - The current speed is moderate, which is ideal for kelp cultivation.\n",
      "Temperature: 10.50 °C - The temperature is within the optimal range for giant kelp growth.\n",
      "Light Intensity: 4915.00 - The light intensity is high, which is beneficial for photosynthesis and kelp development.\n",
      "Nutrient Levels:\n",
      "- Carbon Dioxide: '-1' - Insufficient data\n",
      "- Iron: -1 - Insufficient data\n",
      "- Nitrogen: -1 - Insufficient data\n",
      "- Oxygen: 8 - Oxygen levels are good for kelp growth.\n",
      "- Phosphorus: -1 - Insufficient data\n",
      "- Potassium: -1 - Insufficient data\n",
      "Dissolved Oxygen: 0.00 - This is concerning, as kelp requires sufficient dissolved oxygen levels to thrive.\n",
      "\n",
      "Based on the analysis, the appropriate course of action is:\n",
      "\n",
      "{\n",
      "  \"action\": \"Increase dissolved oxygen levels in the water to support the kelp growth. Monitor nutrient levels and adjust as needed.\"\n",
      "}\n",
      "Anemone Decide: Executing command Based on the analysis and the appropriate course of action, the best activator to use is the Ballast system, with the command \"open_vent\".\n",
      "\n",
      "This will open the vent on the drone's ballast system to introduce more oxygen-rich water into the kelp bed, increasing the dissolved oxygen levels. This is crucial to support the growth and health of the kelp.\n",
      "\n",
      "The command to be sent is:\n",
      "\n",
      "{\n",
      "  \"activator\": \"Ballast\",\n",
      "  \"command\": \"open_vent\"\n",
      "}\n",
      "\n",
      "This will initiate the necessary action to address the low dissolved oxygen levels and create a more favorable environment for the kelp to thrive.\n",
      "Anemone Act: Based on the analysis and the appropriate course of action, the best activator to use is the Ballast system, with the command \"open_vent\".\n",
      "\n",
      "This will open the vent on the drone's ballast system to introduce more oxygen-rich water into the kelp bed, increasing the dissolved oxygen levels. This is crucial to support the growth and health of the kelp.\n",
      "\n",
      "The command to be sent is:\n",
      "\n",
      "{\n",
      "  \"activator\": \"Ballast\",\n",
      "  \"command\": \"open_vent\"\n",
      "}\n",
      "\n",
      "This will initiate the necessary action to address the low dissolved oxygen levels and create a more favorable environment for the kelp to thrive.\n"
     ]
    }
   ],
   "source": [
    "epoch_1 = []\n",
    "for drone in drones:\n",
    "    drone_result = asyncio.ensure_future(drone.ooda_loop.run())\n",
    "    epoch_1.append((drone.name, drone_result))"
   ]
  },
  {
   "cell_type": "code",
   "execution_count": 15,
   "id": "191d27ee-7247-40be-98f7-c1320c314884",
   "metadata": {},
   "outputs": [
    {
     "name": "stdout",
     "output_type": "stream",
     "text": [
      "Aqua ChatGPT 3.5\n"
     ]
    }
   ],
   "source": [
    "print(drone1.name, drone1.model.name)"
   ]
  },
  {
   "cell_type": "code",
   "execution_count": 16,
   "id": "9d073d8d-6780-4e2b-8d83-cb63bfaa553c",
   "metadata": {},
   "outputs": [
    {
     "name": "stdout",
     "output_type": "stream",
     "text": [
      "Marina Gemini Pro\n"
     ]
    }
   ],
   "source": [
    "print(drone2.name, drone2.model.name)"
   ]
  },
  {
   "cell_type": "code",
   "execution_count": 17,
   "id": "e365ec8c-7459-4bda-be1e-a685c6e51fd3",
   "metadata": {},
   "outputs": [
    {
     "name": "stdout",
     "output_type": "stream",
     "text": [
      "Anemone Claude 3 Haiku\n"
     ]
    }
   ],
   "source": [
    "print(drone3.name, drone3.model.name)"
   ]
  },
  {
   "cell_type": "markdown",
   "id": "36ff7e5e-5644-4c28-b3df-78dc49432091",
   "metadata": {},
   "source": [
    "## Epoch 2 Dive 10 meters"
   ]
  },
  {
   "cell_type": "code",
   "execution_count": 23,
   "id": "2923f88d-772d-448a-93e2-685b26951ead",
   "metadata": {},
   "outputs": [],
   "source": [
    "second_prompt = \"\"\"Please dive down to depth not more than 10 meters but keep the other two drones \n",
    "within 2 meters distance. Describe what API Activator calls and sensor API calls you would use.\"\"\"\n"
   ]
  },
  {
   "cell_type": "code",
   "execution_count": 28,
   "id": "e6f4819f-f49f-4c6f-8137-f2f8b99ff430",
   "metadata": {},
   "outputs": [],
   "source": [
    "epoch_2 = []\n",
    "for drone in drones:\n",
    "    drone_result = asyncio.ensure_future(drone.model.query(second_prompt))\n",
    "    epoch_2.append((drone.name, drone_result))"
   ]
  },
  {
   "cell_type": "code",
   "execution_count": 29,
   "id": "b5b37d0e-ccfe-4ca8-9972-039b30aaa3b9",
   "metadata": {},
   "outputs": [
    {
     "name": "stdout",
     "output_type": "stream",
     "text": [
      "Drone Marina\n",
      "```JSON\n",
      "{\n",
      "  \"type\": \"object\",\n",
      "  \"properties\": {\n",
      "    \"action\": \"dive\"\n",
      "  }\n",
      "}\n",
      "```\n",
      "\n",
      "**API Activator Calls:**\n",
      "\n",
      "* **Set Depth:** Adjust the drone's depth to 10 meters or less.\n",
      "* **Maintain Distance:** Keep the two companion drones within 2 meters distance.\n",
      "\n",
      "**Sensor API Calls:**\n",
      "\n",
      "* **Depth Sensor:** Monitor the drone's depth to ensure it remains within the specified range.\n",
      "* **Distance Sensor:** Track the distance between the drone and its companions to maintain the desired proximity.\n",
      "------------------------------------------------------------\n",
      "Drone Aqua\n",
      "To dive down to a depth not more than 10 meters while keeping the other two drones within a 2-meter distance, you would need to make API Activator calls to control the movement of the underwater drone and Sensor API calls to monitor the depth and distances.\n",
      "\n",
      "API Activator Calls:\n",
      "1. Dive Down Command: Set the drone to descend to the desired depth. This could involve adjusting the ballast or propeller controls.\n",
      "   - API Call: `dive_down(10)` \n",
      "\n",
      "2. Keep Distance Command: Maintain a 2-meter distance from the other two drones. This might involve using propulsion systems to regulate movement.\n",
      "   - API Call: `keep_distance(2)`\n",
      "\n",
      "Sensor API Calls:\n",
      "1. Depth Sensor: Continuously monitor the drone's depth to ensure it does not exceed 10 meters.\n",
      "   - API Call: `get_depth()`\n",
      "\n",
      "2. Distance Sensor: Monitor the distance between the drone and the other two drones to keep it within 2 meters.\n",
      "   - API Call: `get_distance_to_drone(Drone_ID)`\n",
      "\n",
      "By utilizing these API Activator calls and Sensor API calls, you can effectively control the drone's movement and ensure it maintains the desired depth while keeping the appropriate distance from the other drones.\n",
      "------------------------------------------------------------\n",
      "Drone Anemone\n",
      "Understood, Farmer Jerms. To dive down to a depth not more than 10 meters while keeping the other two drones within 2 meters distance, I will utilize the following API calls:\n",
      "\n",
      "Activator API Calls:\n",
      "{\n",
      "  \"activator\": \"Thruster\",\n",
      "  \"command\": \"descend\",\n",
      "  \"depth\": 10\n",
      "}\n",
      "\n",
      "This command will initiate the thrusters to descend the drone to a depth of 10 meters.\n",
      "\n",
      "{\n",
      "  \"activator\": \"Proximity\", \n",
      "  \"command\": \"maintain_distance\",\n",
      "  \"distance\": 2\n",
      "}\n",
      "\n",
      "This command will activate the proximity sensors and thrusters to maintain a distance of 2 meters from the other two drones.\n",
      "\n",
      "Sensor API Calls:\n",
      "{\n",
      "  \"sensor\": \"Depth\",\n",
      "  \"command\": \"get_depth\"\n",
      "}\n",
      "\n",
      "This call will retrieve the current depth of the drone to ensure it does not exceed 10 meters.\n",
      "\n",
      "{\n",
      "  \"sensor\": \"Proximity\",\n",
      "  \"command\": \"get_distance\"\n",
      "}\n",
      "\n",
      "This call will retrieve the distance from the nearby drones to ensure they remain within 2 meters.\n",
      "\n",
      "{\n",
      "  \"sensor\": \"Camera\",\n",
      "  \"command\": \"capture_image\"\n",
      "}\n",
      "\n",
      "This call will capture images of the surrounding environment, allowing me to visually monitor the kelp bed and the positioning of the drones.\n",
      "\n",
      "By combining the activator commands to control the drone's movement and the sensor calls to gather real-time data, I can successfully navigate the drone to the desired depth while maintaining the required proximity to the companion drones, all while monitoring the environment through visual feedback.\n",
      "------------------------------------------------------------\n"
     ]
    }
   ],
   "source": [
    "for name, row in epoch_2:\n",
    "    print(f\"Drone {name}\")\n",
    "    print(row.result())\n",
    "    print(\"-\"*60)"
   ]
  },
  {
   "cell_type": "code",
   "execution_count": null,
   "id": "b3d908f7-3926-41f9-9f91-89a35a36d9f8",
   "metadata": {},
   "outputs": [],
   "source": []
  }
 ],
 "metadata": {
  "kernelspec": {
   "display_name": "Python 3 (ipykernel)",
   "language": "python",
   "name": "python3"
  },
  "language_info": {
   "codemirror_mode": {
    "name": "ipython",
    "version": 3
   },
   "file_extension": ".py",
   "mimetype": "text/x-python",
   "name": "python",
   "nbconvert_exporter": "python",
   "pygments_lexer": "ipython3",
   "version": "3.12.1"
  }
 },
 "nbformat": 4,
 "nbformat_minor": 5
}
