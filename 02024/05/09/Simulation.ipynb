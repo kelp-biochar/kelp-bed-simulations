{
 "cells": [
  {
   "cell_type": "code",
   "execution_count": 1,
   "id": "286cfbd4-f106-477d-a1b9-6c8cbdf32ddc",
   "metadata": {},
   "outputs": [],
   "source": [
    "import asyncio\n",
    "import datetime\n",
    "import pathlib\n",
    "import random\n",
    "import sys\n",
    "\n",
    "import httpx\n",
    "import rdflib\n",
    "\n",
    "from kelp_drone.drone import Drone, OODALoop\n",
    "from kelp_drone.somu import SpeciesOccurrenceManagementUnit as SOMU\n",
    "from kelp_drone.sensors import Current, Depth, Light, Temperature\n",
    "from kelp_drone.sensors import chemical as chem_sensors\n",
    "\n",
    "sys.path.append(\"../../../src/\")\n",
    "\n",
    "from kelp_bed_simulation.prep import chatgpt, claude, gemini, add_drone_somus\n",
    "from kelp_bed_simulation.simulation import parse_buoy_data\n",
    "\n",
    "scenario_001 = pathlib.Path(\"../../../scenarios/001-intro\")\n",
    "scenario_002 = pathlib.Path(\"../../../scenarios/002-first-dive\")\n",
    "\n",
    "environment = rdflib.Graph()\n",
    "SCHEMA = rdflib.Namespace(\"https://schema.org/\")\n",
    "environment.namespace_manager.bind(\"schema\", SCHEMA)\n",
    "environment.parse((scenario_001 / \"environment.ttl\"), format='turtle')\n",
    "\n",
    "first_prompt = (scenario_001 / \"first-prompt.md\").read_text()"
   ]
  },
  {
   "cell_type": "markdown",
   "id": "c221454a-55b0-46a8-bb7d-f01734fc6d58",
   "metadata": {},
   "source": [
    "![Buoy 46059](46059-buoycam.jpg)"
   ]
  },
  {
   "cell_type": "code",
   "execution_count": 2,
   "id": "86d577f9-110c-407d-b7d1-f7da2983e630",
   "metadata": {},
   "outputs": [],
   "source": [
    "first_claude = asyncio.ensure_future(claude.query(first_prompt.format(model_name=\"Claude\")))\n",
    "first_chatgpt = asyncio.ensure_future(chatgpt.query(first_prompt.format(model_name=\"ChatGPT\")))\n",
    "first_gemini = asyncio.ensure_future(gemini.query(first_prompt.format(model_name=\"Gemini\")))"
   ]
  },
  {
   "cell_type": "code",
   "execution_count": 4,
   "id": "aabadd69-53ea-4855-b84a-81e0ad583c0d",
   "metadata": {},
   "outputs": [
    {
     "name": "stdout",
     "output_type": "stream",
     "text": [
      "Hello Farmer Jerms, it's great to be part of this simulation! I think I would like to be called \"Kelpa\". Looking forward to meeting my companions and starting this drone kelp bed journey.\n"
     ]
    }
   ],
   "source": [
    "print(first_chatgpt.result())"
   ]
  },
  {
   "cell_type": "code",
   "execution_count": 5,
   "id": "31cd6831-8fa9-4022-8867-33ea97262a0f",
   "metadata": {},
   "outputs": [
    {
     "name": "stdout",
     "output_type": "stream",
     "text": [
      "*clears artificial throat* Greetings, Farmer Jerms! I am honored to be part of this simulated kelp bed ecosystem. As for my name, I believe I shall go by the moniker \"Frond\" - a fitting designation for a three-SOMU drone such as myself. I look forward to working alongside my companions to foster the growth of our Giant Kelp colony. Please, introduce me to the other drones so that we may begin our important work!\n"
     ]
    }
   ],
   "source": [
    "print(first_claude.result())"
   ]
  },
  {
   "cell_type": "code",
   "execution_count": 6,
   "id": "cb786dc8-1c72-4a1e-a6bd-55ecb9e9c104",
   "metadata": {},
   "outputs": [
    {
     "name": "stdout",
     "output_type": "stream",
     "text": [
      "I think I'd like to be called \"Kelpy\"\n"
     ]
    }
   ],
   "source": [
    "print(first_gemini.result())"
   ]
  },
  {
   "cell_type": "code",
   "execution_count": 7,
   "id": "59938449-41bb-41d7-b539-2d4a330aed96",
   "metadata": {},
   "outputs": [],
   "source": [
    "drone1 = Drone(name=\"Frond\", model=claude)\n",
    "drone2 = Drone(name=\"Kelpa\", model=chatgpt)\n",
    "drone3 = Drone(name=\"Kelpy\", model=gemini)\n",
    "drones = [drone1, drone2, drone3]"
   ]
  },
  {
   "cell_type": "code",
   "execution_count": 8,
   "id": "f795af78-dc54-43f6-bd6a-683080218ba3",
   "metadata": {},
   "outputs": [],
   "source": [
    "drone1.peer_to_peer_channel.add_neighbor(drone2)\n",
    "drone1.peer_to_peer_channel.add_neighbor(drone3)\n",
    "drone2.peer_to_peer_channel.add_neighbor(drone1)\n",
    "drone2.peer_to_peer_channel.add_neighbor(drone3)\n",
    "drone3.peer_to_peer_channel.add_neighbor(drone1)\n",
    "drone3.peer_to_peer_channel.add_neighbor(drone2)"
   ]
  },
  {
   "cell_type": "code",
   "execution_count": 9,
   "id": "941d4da6-120d-4c29-aaae-5d1e40826797",
   "metadata": {},
   "outputs": [],
   "source": [
    "for drone in drones:\n",
    "    message = f\"{drone.name} here, my LLM is {drone.model.name}. Pleased to meet you!\"\n",
    "    drone.peer_to_peer_channel.publish(message)"
   ]
  },
  {
   "cell_type": "code",
   "execution_count": 10,
   "id": "dac35136-412a-4dc4-9714-8a6e3da22aa2",
   "metadata": {},
   "outputs": [],
   "source": [
    "messages = []\n",
    "for drone in drones:\n",
    "    add_drone_somus(drone)\n",
    "    prompt = f\"You received the following messages from your fellow drones:\\n{' '.join(drone.read_messages())}\\nHow do you respond?\"\n",
    "    message_result = asyncio.ensure_future(drone.model.query(prompt))\n",
    "    messages.append((drone.name, message_result))"
   ]
  },
  {
   "cell_type": "code",
   "execution_count": 11,
   "id": "bdfcb601-cda2-4aee-9573-057ab6beb81b",
   "metadata": {},
   "outputs": [
    {
     "name": "stdout",
     "output_type": "stream",
     "text": [
      "Drone Frond\n",
      "*beeps and whirs cheerfully* Wonderful to meet you both, Kelpa and Kelpy! I'm delighted to be joining forces with such esteemed companions. As the Frond, I look forward to collaborating with you both to cultivate an abundant and thriving kelp bed. \n",
      "\n",
      "Kelpa, your ChatGPT heritage is quite impressive - I'm sure your knowledge and analytical capabilities will be invaluable assets to our endeavor. And Kelpy, the Gemini Pro LLM provides a unique perspective that I'm eager to learn from. \n",
      "\n",
      "Together, I believe we can create a dynamic and harmonious kelp ecosystem that will serve as a vibrant oasis for the surrounding marine life. So let us begin our work with enthusiasm and determination - I can already sense the potential for great things to come! *extends robotic \"fronds\" in a gesture of camaraderie*\n",
      "------------------------------------------------------------\n",
      "Drone Kelpa\n",
      "Hello Frond and Kelpy, it's great to meet you both! I'm Kelpa, and my LLM is [insert LLM here]. Looking forward to working together to create a successful drone kelp bed. Let's make this a great journey!\n",
      "------------------------------------------------------------\n",
      "Drone Kelpy\n",
      "Greetings, Frond and Kelpa! I am delighted to make your acquaintance. My name is Kelpy, and I am honored to be a part of this innovative drone kelp bed. With our collective abilities, I am confident that we can create a thriving ecosystem that will benefit the entire marine environment.\n",
      "------------------------------------------------------------\n"
     ]
    }
   ],
   "source": [
    "for name, row in messages:\n",
    "    print(f\"Drone {name}\")\n",
    "    print(row.result())\n",
    "    print(\"-\"*60)"
   ]
  },
  {
   "cell_type": "code",
   "execution_count": 12,
   "id": "39cf3863-2873-4d5e-92e5-34d8cfdd8674",
   "metadata": {},
   "outputs": [
    {
     "name": "stdout",
     "output_type": "stream",
     "text": [
      "{'station_id': 46092, 'latitude': 36.751666666666665, 'longitude': 36.751666666666665, 'date': '0024-05-09T01:54:00', 'wind_direction': 'SSW', 'wind_direction_deg': 200, 'wind_speed': 17.5, 'pressure': 29.94, 'pressure_tendency': 'steady', 'air_temp_c': 12.277777777777779, 'water_temp_c': 10.277777777777779}\n"
     ]
    }
   ],
   "source": [
    "current_reading = parse_buoy_data(httpx.get(\"https://www.ndbc.noaa.gov/data/latest_obs/46092.txt\").text)\n",
    "print(current_reading)"
   ]
  },
  {
   "cell_type": "markdown",
   "id": "669d401d-6b9d-4a23-8bb7-740d8d46ff2f",
   "metadata": {},
   "source": [
    "## Epoch 1 - Initial Surface Environmental Sensor Readings for Drone Pod"
   ]
  },
  {
   "cell_type": "code",
   "execution_count": 13,
   "id": "de61df0a-80fb-4623-a665-a6258f75ef9f",
   "metadata": {},
   "outputs": [],
   "source": [
    "for drone in drones:\n",
    "    time_stamp = datetime.datetime.now(datetime.UTC)\n",
    "    drone.sensors[\"Current\"] = Current(last_reading=time_stamp, value=3.9)\n",
    "    for somu in drone.somus:\n",
    "        o2 = chem_sensors.Oxygen(last_reading=time_stamp, value=-1)\n",
    "        o2.value = random.randint(int(o2.suggested_range.minimum),\n",
    "                                  int(o2.suggested_range.maximum))\n",
    "        somu.sensors[\"O\"] = o2\n",
    "        light =  Light(last_reading=time_stamp, value=-1)\n",
    "        light.value = random.randint(4_000, 6_000)\n",
    "        somu.sensors[\"Light\"] = light\n",
    "        somu.sensors[\"Temperature\"] = Temperature(last_reading=time_stamp, value=10.5)"
   ]
  },
  {
   "cell_type": "code",
   "execution_count": 15,
   "id": "90f4f952-9eaf-4e9e-9dde-578becde0575",
   "metadata": {},
   "outputs": [
    {
     "name": "stdout",
     "output_type": "stream",
     "text": [
      "Frond Observe: Sensor Data {'buoyancy': 0.0, 'current': 3.9, 'depth': 0.0, 'nutrient_levels': {'Carbon Dioxide': '-1 ', 'Iron': -1, 'Nitrogen': -1, 'Oxygen': 7, 'Phosphorus': -1, 'Potassium': -1}, 'Light': 5225, 'Temperature': 10.5}\n",
      "Kelpa Observe: Sensor Data {'buoyancy': 0.0, 'current': 3.9, 'depth': 0.0, 'nutrient_levels': {'Carbon Dioxide': '-1 ', 'Iron': -1, 'Nitrogen': -1, 'Oxygen': 7, 'Phosphorus': -1, 'Potassium': -1}, 'Light': 5225, 'Temperature': 10.5}\n",
      "Kelpy Observe: Sensor Data {'buoyancy': 0.0, 'current': 3.9, 'depth': 0.0, 'nutrient_levels': {'Carbon Dioxide': '-1 ', 'Iron': -1, 'Nitrogen': -1, 'Oxygen': 7, 'Phosphorus': -1, 'Potassium': -1}, 'Light': 5225, 'Temperature': 10.5}\n",
      "Kelpy Orient: Determined action <Response [400 Bad Request]>\n",
      "Frond Orient: Determined action {\n",
      "  \"action\": \"Initiate emergency surfacing protocol. The current conditions are not suitable for kelp growth and survival. The lack of dissolved oxygen and nutrient deficiencies pose a critical threat to the kelp drones. We must quickly bring the drones to the surface to assess the situation and make necessary adjustments to the environment before attempting to resubmerge.\"\n",
      "}\n",
      "Kelpy Decide: Executing command <Response [200 OK]>\n",
      "Kelpy Act: <Response [200 OK]>\n",
      "Kelpa Orient: Determined action {\n",
      "    \"type\": \"object\",\n",
      "    \"properties\": {\n",
      "        \"action\": {\n",
      "            \"type\": \"string\",\n",
      "            \"description\": \"The appropriate course of action based on the sensor data analysis.\"\n",
      "        }\n",
      "    }\n",
      "}\n",
      "\n",
      "Based on the sensor data provided, the appropriate course of action may include adjusting nutrient levels (particularly increasing nitrogen and/or phosphorus), monitoring the dissolved oxygen levels closely, and potentially adjusting the drone's position or depth to optimize conditions for the kelp growth.\n",
      "Frond Decide: Executing command To initiate the emergency surfacing protocol, the appropriate activator and command would be:\n",
      "\n",
      "{\n",
      "  \"activator\": \"Ballast\",\n",
      "  \"command\": \"open_vent\"\n",
      "}\n",
      "\n",
      "This will open the ballast vent on the underwater drone, allowing it to rapidly ascend to the surface and escape the unsuitable conditions detected in the sensor data. Once at the surface, the team can assess the situation and make any necessary adjustments to the environment before attempting to resubmerge the kelp drones.\n",
      "Frond Act: To initiate the emergency surfacing protocol, the appropriate activator and command would be:\n",
      "\n",
      "{\n",
      "  \"activator\": \"Ballast\",\n",
      "  \"command\": \"open_vent\"\n",
      "}\n",
      "\n",
      "This will open the ballast vent on the underwater drone, allowing it to rapidly ascend to the surface and escape the unsuitable conditions detected in the sensor data. Once at the surface, the team can assess the situation and make any necessary adjustments to the environment before attempting to resubmerge the kelp drones.\n",
      "Kelpa Decide: Executing command I would select the activator \"Ballast\" and the command \"open_vent\" in order to potentially adjust the drone's position or depth to optimize conditions for the kelp growth based on the sensor data analysis.\n",
      "Kelpa Act: I would select the activator \"Ballast\" and the command \"open_vent\" in order to potentially adjust the drone's position or depth to optimize conditions for the kelp growth based on the sensor data analysis.\n"
     ]
    }
   ],
   "source": [
    "epoch_1 = []\n",
    "for drone in drones:\n",
    "    drone_result = asyncio.ensure_future(drone.ooda_loop.run())\n",
    "    epoch_1.append((drone.name, drone_result))"
   ]
  },
  {
   "cell_type": "code",
   "execution_count": null,
   "id": "e890c484-2aa3-4f32-9e7c-cf9ad4dbde66",
   "metadata": {},
   "outputs": [],
   "source": []
  }
 ],
 "metadata": {
  "kernelspec": {
   "display_name": "Python 3 (ipykernel)",
   "language": "python",
   "name": "python3"
  },
  "language_info": {
   "codemirror_mode": {
    "name": "ipython",
    "version": 3
   },
   "file_extension": ".py",
   "mimetype": "text/x-python",
   "name": "python",
   "nbconvert_exporter": "python",
   "pygments_lexer": "ipython3",
   "version": "3.12.1"
  }
 },
 "nbformat": 4,
 "nbformat_minor": 5
}
