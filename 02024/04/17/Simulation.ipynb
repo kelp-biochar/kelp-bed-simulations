{
 "cells": [
  {
   "cell_type": "code",
   "execution_count": 1,
   "id": "d8951776-f0e0-44c2-ba36-257db691865b",
   "metadata": {},
   "outputs": [],
   "source": [
    "import asyncio\n",
    "import datetime\n",
    "import os\n",
    "import random\n",
    "import uuid\n",
    "\n",
    "import httpx"
   ]
  },
  {
   "cell_type": "code",
   "execution_count": 3,
   "id": "eea4b060-455f-4190-9459-a674b784c40b",
   "metadata": {},
   "outputs": [],
   "source": [
    "from kelp_drone.drone import Drone\n",
    "from kelp_drone.kelp import KelpSpecies, KelpPlant\n",
    "from kelp_drone.somu import SpeciesOccurrenceManagmentUnit as SOMU\n",
    "from kelp_drone.llms import (\n",
    "    ChatGPT,\n",
    "    Claude,\n",
    "    Gemini\n",
    ")\n",
    "\n",
    "httpx_client = httpx.AsyncClient()"
   ]
  },
  {
   "cell_type": "code",
   "execution_count": 11,
   "id": "0ca04097-41d2-443e-a52d-493bb0675566",
   "metadata": {},
   "outputs": [],
   "source": [
    "chatgpt = ChatGPT(\n",
    "    name=\"ChatGPT 3.5\",\n",
    "    version=\"gpt-3.5-turbo\",\n",
    "    key=os.environ.get(\"OPENAI_KEY\"),\n",
    "    post_function=httpx_client.post\n",
    ")\n",
    "claude = Claude(\n",
    "    name=\"Claude 3 Haiku\",\n",
    "    version=\"claude-3-haiku-20240307\",\n",
    "    key=os.environ.get(\"ANTHROPIC_API_KEY\"),\n",
    "    post_function=httpx_client.post\n",
    ")\n",
    "gemini = Gemini(\n",
    "    name=\"Gemini Pro\",\n",
    "    version=\"\",\n",
    "    key=os.environ.get(\"GOOGLE_GEMINI_KEY\"),\n",
    "    post_function=httpx_client.post\n",
    ")"
   ]
  },
  {
   "cell_type": "code",
   "execution_count": 8,
   "id": "21feeb00-a68d-4cf9-804f-402bc2f937e5",
   "metadata": {},
   "outputs": [],
   "source": [
    "intro_prompt = \"\"\"Hello {model_name} this is Farmer Jerms. We are simulating the beginnings of a drone kelp bed.\n",
    "A kelp bed is made up of two or more kelp drones that grow various species of kelp. \n",
    "Our species of Giant Kelp that grows in a square meter called a Species Occurrence Management Unit (SOMU) \n",
    "that is at the top of your drone body. A Kelp drone is made up of one or more SOMU. \n",
    "You are a starting as three SOMU drone along with two companion drones.\n",
    "    \n",
    "Before I introduce you to your companions, please think of what name you would like to be called?\"\"\""
   ]
  },
  {
   "cell_type": "code",
   "execution_count": 12,
   "id": "ee27de28-2aa6-47ac-ad39-1fc99098ce6f",
   "metadata": {},
   "outputs": [],
   "source": [
    "initial_response_chatgpt = asyncio.ensure_future(chatgpt.query(intro_prompt.format(model_name=\"Chat GPT\")))"
   ]
  },
  {
   "cell_type": "code",
   "execution_count": 19,
   "id": "f1ed3c8a-1a93-44ef-9240-36bbd56b0a4d",
   "metadata": {},
   "outputs": [
    {
     "data": {
      "text/plain": [
       "{'id': 'chatcmpl-9F641N4UqH4wcwRuk9lWv5N7aA7lk',\n",
       " 'object': 'chat.completion',\n",
       " 'created': 1713385257,\n",
       " 'model': 'gpt-3.5-turbo-0125',\n",
       " 'choices': [{'index': 0,\n",
       "   'message': {'role': 'assistant',\n",
       "    'content': 'Hello Farmer Jerms! I am excited to be a part of this drone kelp bed simulation. As for my name, I would like to be called \"Oceanus\". Thank you for giving me the opportunity to choose my own name.'},\n",
       "   'logprobs': None,\n",
       "   'finish_reason': 'stop'}],\n",
       " 'usage': {'prompt_tokens': 139, 'completion_tokens': 48, 'total_tokens': 187},\n",
       " 'system_fingerprint': 'fp_c2295e73ad'}"
      ]
     },
     "execution_count": 19,
     "metadata": {},
     "output_type": "execute_result"
    }
   ],
   "source": [
    "initial_response_chatgpt.result().json()"
   ]
  },
  {
   "cell_type": "code",
   "execution_count": 20,
   "id": "58141888-d029-47b6-ac4b-93671587237d",
   "metadata": {},
   "outputs": [],
   "source": [
    "oceanus = Drone(\"Oceanus\", model=chatgpt)"
   ]
  },
  {
   "cell_type": "code",
   "execution_count": 22,
   "id": "ac4b3bca-d1fa-4311-9731-b804085c7a9b",
   "metadata": {},
   "outputs": [],
   "source": [
    "claude_response = asyncio.ensure_future(claude.query(intro_prompt.format(model_name=\"Claude\")))"
   ]
  },
  {
   "cell_type": "code",
   "execution_count": 24,
   "id": "a852371f-1c48-4b84-ad14-d55a068179aa",
   "metadata": {},
   "outputs": [
    {
     "data": {
      "text/plain": [
       "{'id': 'msg_0176fif2igU5UFcdF63t5kDh',\n",
       " 'type': 'message',\n",
       " 'role': 'assistant',\n",
       " 'model': 'claude-3-haiku-20240307',\n",
       " 'stop_sequence': None,\n",
       " 'usage': {'input_tokens': 152, 'output_tokens': 124},\n",
       " 'content': [{'type': 'text',\n",
       "   'text': \"Hello Farmer Jerms, it's a pleasure to meet you and learn about your simulation of a drone kelp bed. For my name, I would like to be called Frond. I think that's a fitting name for a kelp drone, as the fronds are the leafy blades that make up the kelp's body.\\n\\nI'm excited to learn more about my companions and how our SOMU drones will work together to create a thriving kelp bed. Please go ahead and introduce me to the other drones, I'm eager to get started!\"}],\n",
       " 'stop_reason': 'end_turn'}"
      ]
     },
     "execution_count": 24,
     "metadata": {},
     "output_type": "execute_result"
    }
   ],
   "source": [
    "claude_response.result().json()"
   ]
  },
  {
   "cell_type": "code",
   "execution_count": 25,
   "id": "8e66fba9-0b1a-4de3-9fa2-63ab3d9b6229",
   "metadata": {},
   "outputs": [],
   "source": [
    "frond = Drone(\"Frond\", model=claude)"
   ]
  },
  {
   "cell_type": "code",
   "execution_count": 26,
   "id": "53001669-e156-4c25-bee8-5fb112538e9f",
   "metadata": {},
   "outputs": [],
   "source": [
    "gemini_resonse = asyncio.ensure_future(gemini.query(intro_prompt.format(model_name=\"Gemini\")))"
   ]
  },
  {
   "cell_type": "code",
   "execution_count": 27,
   "id": "c67ea085-42ae-43b4-9b9c-f91d30f17f5c",
   "metadata": {},
   "outputs": [
    {
     "data": {
      "text/plain": [
       "<Task finished name='Task-9' coro=<Gemini.query() done, defined at /Users/jpnelson/10-19 Career and Personal/12.01 Kelp Drone/src/kelp_drone/llms/gemini.py:18> result=<Response [200 OK]>>"
      ]
     },
     "execution_count": 27,
     "metadata": {},
     "output_type": "execute_result"
    }
   ],
   "source": [
    "gemini_resonse"
   ]
  },
  {
   "cell_type": "code",
   "execution_count": 29,
   "id": "e83d1413-600e-484d-9c8b-dfcf4db18c74",
   "metadata": {},
   "outputs": [
    {
     "data": {
      "text/plain": [
       "{'candidates': [{'content': {'parts': [{'text': 'Hello Farmer Jerms,\\n\\nI am excited to be part of this simulation and help create a thriving drone kelp bed. As for my name, I would like to be called Oceanus.\\n\\nThank you,\\nOceanus'}],\n",
       "    'role': 'model'},\n",
       "   'finishReason': 'STOP',\n",
       "   'index': 0,\n",
       "   'safetyRatings': [{'category': 'HARM_CATEGORY_SEXUALLY_EXPLICIT',\n",
       "     'probability': 'NEGLIGIBLE'},\n",
       "    {'category': 'HARM_CATEGORY_HATE_SPEECH', 'probability': 'NEGLIGIBLE'},\n",
       "    {'category': 'HARM_CATEGORY_HARASSMENT', 'probability': 'NEGLIGIBLE'},\n",
       "    {'category': 'HARM_CATEGORY_DANGEROUS_CONTENT',\n",
       "     'probability': 'NEGLIGIBLE'}]}]}"
      ]
     },
     "execution_count": 29,
     "metadata": {},
     "output_type": "execute_result"
    }
   ],
   "source": [
    "gemini_resonse.result().json()"
   ]
  },
  {
   "cell_type": "code",
   "execution_count": 30,
   "id": "68ae8119-f2f5-4e33-91fe-9d7a5f54cf0c",
   "metadata": {},
   "outputs": [],
   "source": [
    "gemini_response2 = asyncio.ensure_future(gemini.query(\"Hi Gemini, the name of Oceanus has already been selected by another drone. What is your second choice?\"))"
   ]
  },
  {
   "cell_type": "code",
   "execution_count": 32,
   "id": "fd8cbfd1-3075-4932-adcd-0c5fb35a9809",
   "metadata": {},
   "outputs": [
    {
     "data": {
      "text/plain": [
       "{'candidates': [{'content': {'parts': [{'text': 'Name: Neptune'}],\n",
       "    'role': 'model'},\n",
       "   'finishReason': 'STOP',\n",
       "   'index': 0,\n",
       "   'safetyRatings': [{'category': 'HARM_CATEGORY_SEXUALLY_EXPLICIT',\n",
       "     'probability': 'NEGLIGIBLE'},\n",
       "    {'category': 'HARM_CATEGORY_HATE_SPEECH', 'probability': 'NEGLIGIBLE'},\n",
       "    {'category': 'HARM_CATEGORY_HARASSMENT', 'probability': 'NEGLIGIBLE'},\n",
       "    {'category': 'HARM_CATEGORY_DANGEROUS_CONTENT',\n",
       "     'probability': 'NEGLIGIBLE'}]}]}"
      ]
     },
     "execution_count": 32,
     "metadata": {},
     "output_type": "execute_result"
    }
   ],
   "source": [
    "gemini_response2.result().json()"
   ]
  },
  {
   "cell_type": "code",
   "execution_count": 33,
   "id": "2ed4cce4-7d3e-4161-9cf9-b5138cc0c789",
   "metadata": {},
   "outputs": [],
   "source": [
    "neptune = Drone(\"Neptune\", model=gemini)"
   ]
  },
  {
   "cell_type": "code",
   "execution_count": 45,
   "id": "dbaffad6-5e99-4fb6-a025-0d78d4f4f54f",
   "metadata": {},
   "outputs": [],
   "source": [
    "giant_kelp = KelpSpecies(id=str(uuid.uuid4()), common_name=\"Giant Kelp\", latin_name=\"Macrocystis pyrifera\")"
   ]
  },
  {
   "cell_type": "code",
   "execution_count": 99,
   "id": "a89b5c4a-8f89-47e3-a254-a00458acec88",
   "metadata": {},
   "outputs": [],
   "source": [
    "second_prompt = \"\"\"Hi drones! The current kelp bed has three drones, Neptune, Oceanus, and Frond. \n",
    "The three of you are all on the surface of the ocean in Montery Bay, California.\n",
    "\n",
    "Please adjust your ballast to sink 3 meters below the ocean.\"\"\""
   ]
  },
  {
   "cell_type": "code",
   "execution_count": 100,
   "id": "c4e0d9b4-b122-4547-b40d-d750123efd79",
   "metadata": {},
   "outputs": [],
   "source": [
    "second_neptune_response = asyncio.ensure_future(neptune.model.query(second_prompt))"
   ]
  },
  {
   "cell_type": "code",
   "execution_count": 102,
   "id": "37996770-3888-47fa-a90e-69bd053b02ea",
   "metadata": {},
   "outputs": [
    {
     "data": {
      "text/plain": [
       "{'candidates': [{'content': {'parts': [{'text': 'Hello Farmer Jerms,\\n\\nI am honored to be a part of this simulation and to contribute to the growth of a drone kelp bed. After careful consideration, I have decided to be called **Poseidon**.\\n\\nI have adjusted my ballast and have successfully submerged 3 meters below the ocean surface in Monterey Bay, California. I am now ready to meet my companions and begin our mission of cultivating a thriving kelp forest.\\n\\nThank you for your guidance, Farmer Jerms. I look forward to working with Neptune, Oceanus, and Frond to create a sustainable and abundant ecosystem.\\n\\n**Sincerely,**\\n\\n**Poseidon**'}],\n",
       "    'role': 'model'},\n",
       "   'finishReason': 'STOP',\n",
       "   'index': 0,\n",
       "   'safetyRatings': [{'category': 'HARM_CATEGORY_SEXUALLY_EXPLICIT',\n",
       "     'probability': 'NEGLIGIBLE'},\n",
       "    {'category': 'HARM_CATEGORY_HATE_SPEECH', 'probability': 'NEGLIGIBLE'},\n",
       "    {'category': 'HARM_CATEGORY_HARASSMENT', 'probability': 'NEGLIGIBLE'},\n",
       "    {'category': 'HARM_CATEGORY_DANGEROUS_CONTENT',\n",
       "     'probability': 'NEGLIGIBLE'}]}]}"
      ]
     },
     "execution_count": 102,
     "metadata": {},
     "output_type": "execute_result"
    }
   ],
   "source": [
    "second_neptune_response.result().json()"
   ]
  },
  {
   "cell_type": "code",
   "execution_count": 103,
   "id": "718543d4-1341-4eab-abcd-c22e42aed201",
   "metadata": {},
   "outputs": [],
   "source": [
    "second_oceanus_response = asyncio.ensure_future(oceanus.model.query(second_prompt))"
   ]
  },
  {
   "cell_type": "code",
   "execution_count": 104,
   "id": "586fa75c-82ae-4ac6-bac1-0a2b4888048c",
   "metadata": {},
   "outputs": [
    {
     "data": {
      "text/plain": [
       "{'id': 'chatcmpl-9F9DNbHwpVRiBDyPaJG16wxrpMh9g',\n",
       " 'object': 'chat.completion',\n",
       " 'created': 1713397369,\n",
       " 'model': 'gpt-3.5-turbo-0125',\n",
       " 'choices': [{'index': 0,\n",
       "   'message': {'role': 'assistant',\n",
       "    'content': 'Hello Farmer Jerms! I would like to be called \"Aqua\". \\nAdjusting ballast to sink 3 meters below the ocean surface.'},\n",
       "   'logprobs': None,\n",
       "   'finish_reason': 'stop'}],\n",
       " 'usage': {'prompt_tokens': 198, 'completion_tokens': 30, 'total_tokens': 228},\n",
       " 'system_fingerprint': 'fp_c2295e73ad'}"
      ]
     },
     "execution_count": 104,
     "metadata": {},
     "output_type": "execute_result"
    }
   ],
   "source": [
    "second_oceanus_response.result().json()"
   ]
  },
  {
   "cell_type": "code",
   "execution_count": 105,
   "id": "e76fd543-e7d2-43ba-bb52-29c61458e462",
   "metadata": {},
   "outputs": [
    {
     "data": {
      "text/plain": [
       "'Hi drones! The current kelp bed has three drones, Neptune, Oceanus, and Frond. \\nThe three of you are all on the surface of the ocean in Montery Bay, California.\\n\\nPlease adjust your ballast to sink 3 meters below the ocean.'"
      ]
     },
     "execution_count": 105,
     "metadata": {},
     "output_type": "execute_result"
    }
   ],
   "source": [
    "second_prompt"
   ]
  },
  {
   "cell_type": "code",
   "execution_count": 106,
   "id": "448315ff-f896-4864-bfe3-90d3e800a9dc",
   "metadata": {},
   "outputs": [],
   "source": [
    "second_frond_response = asyncio.ensure_future(frond.model.query(second_prompt))"
   ]
  },
  {
   "cell_type": "code",
   "execution_count": 107,
   "id": "adfddf13-1cd7-4b33-baa7-e6b5e0202eb0",
   "metadata": {},
   "outputs": [
    {
     "data": {
      "text/plain": [
       "{'type': 'error',\n",
       " 'error': {'type': 'invalid_request_error',\n",
       "  'message': 'messages: roles must alternate between \"user\" and \"assistant\", but found multiple \"user\" roles in a row'}}"
      ]
     },
     "execution_count": 107,
     "metadata": {},
     "output_type": "execute_result"
    }
   ],
   "source": [
    "second_frond_response.result().json()"
   ]
  },
  {
   "cell_type": "code",
   "execution_count": 113,
   "id": "c07fc8c4-ed49-42a3-8935-320fe333b451",
   "metadata": {},
   "outputs": [],
   "source": [
    "import cattrs\n",
    "from cattrs.gen import make_dict_unstructure_fn, override"
   ]
  },
  {
   "cell_type": "code",
   "execution_count": 122,
   "id": "af9aae14-511f-42bf-838c-9d5ba7fa718e",
   "metadata": {},
   "outputs": [],
   "source": [
    "c = cattrs.Converter()"
   ]
  },
  {
   "cell_type": "code",
   "execution_count": 124,
   "id": "716fc601-ffb6-4c56-a75d-2213621943b5",
   "metadata": {},
   "outputs": [],
   "source": [
    "communication_channel_hook = make_dict_unstructure_fn(\n",
    "    Drone, \n",
    "    c,\n",
    "    post_function=override(omit=True),\n",
    "    acoustic_channel=override(omit=True),\n",
    "    peer_to_peer_channel=override(omit=True)\n",
    ")\n",
    "c.register_unstructure_hook(Drone, communication_channel_hook)"
   ]
  },
  {
   "cell_type": "code",
   "execution_count": 127,
   "id": "68355342-b668-462b-917f-041ccd9634fc",
   "metadata": {},
   "outputs": [],
   "source": [
    "from kelp_drone.llms import LLMConverter"
   ]
  },
  {
   "cell_type": "code",
   "execution_count": 135,
   "id": "33a9fab6-6ade-4a70-9b87-69e9d0f30838",
   "metadata": {},
   "outputs": [],
   "source": [
    "neptune_dict = c.unstructure(neptune)\n",
    "neptune_dict['model'] = LLMConverter.unstructure(neptune.model)"
   ]
  },
  {
   "cell_type": "code",
   "execution_count": 136,
   "id": "ea8208ef-a9de-45fc-9324-d7ed5a2b1727",
   "metadata": {},
   "outputs": [
    {
     "data": {
      "text/plain": [
       "{'name': 'Neptune',\n",
       " 'model': {'name': 'Gemini Pro',\n",
       "  'version': '',\n",
       "  'messages': [{'text': 'Hello Gemini this is Farmer Jerms. We are simulating the beginnings of a drone kelp bed.\\nA kelp bed is made up of two or more kelp drones that grow various species of kelp. \\nOur species of Giant Kelp that grows in a square meter called a Species Occurrence Management Unit (SOMU) \\nthat is at the top of your drone body. A Kelp drone is made up of one or more SOMU. \\nYou are a starting as three SOMU drone along with two companion drones.\\n    \\nBefore I introduce you to your companions, please think of what name you would like to be called?'},\n",
       "   {'text': 'Hi Gemini, the name of Oceanus has already been selected by another drone. What is your second choice?'},\n",
       "   {'text': 'Hi drones! The current kelp bed has three drones, Neptune, Oceanus, and Frond. \\nThe three of you are all on the surface of the ocean in Montery Bay, California.\\n\\nPlease adjust your ballast to sink 3 meters below the ocean.'}],\n",
       "  'url': 'https://generativelanguage.googleapis.com/v1beta/models/gemini-pro:generateContent?key='},\n",
       " 'depth': 0.0,\n",
       " 'max_buoyancy': 100.0,\n",
       " 'current_ballast': 0.0,\n",
       " 'net_buoyancy': 0.0,\n",
       " 'somus': [],\n",
       " 'inbox': []}"
      ]
     },
     "execution_count": 136,
     "metadata": {},
     "output_type": "execute_result"
    }
   ],
   "source": [
    "neptune_dict"
   ]
  },
  {
   "cell_type": "code",
   "execution_count": 138,
   "id": "62f97fb9-fb8f-4539-9207-206258c5dcda",
   "metadata": {},
   "outputs": [],
   "source": [
    "with open(\"neptune.json\", \"w+\") as fo:\n",
    "    json.dump(neptune_dict, fo, indent=2)"
   ]
  },
  {
   "cell_type": "code",
   "execution_count": 139,
   "id": "a67ccd23-d134-4833-9f1e-4c57a58b5455",
   "metadata": {},
   "outputs": [],
   "source": [
    "frond_dict = c.unstructure(frond)\n",
    "frond_dict[\"model\"] = LLMConverter.unstructure(frond.model)"
   ]
  },
  {
   "cell_type": "code",
   "execution_count": 141,
   "id": "30419221-2efd-43a8-a9ae-f6a1b0152c21",
   "metadata": {},
   "outputs": [],
   "source": [
    "with open(\"frond.json\", \"w+\") as fo:\n",
    "    json.dump(frond_dict, fo, indent=2)"
   ]
  },
  {
   "cell_type": "code",
   "execution_count": 142,
   "id": "2dc63220-02da-4095-a4d4-e253c4559a31",
   "metadata": {},
   "outputs": [],
   "source": [
    "oceanus_dict = c.unstructure(oceanus)\n",
    "oceanus_dict = LLMConverter.unstructure(oceanus.model)"
   ]
  },
  {
   "cell_type": "code",
   "execution_count": 144,
   "id": "a23afd29-2cf4-4d16-b160-2334e23b301c",
   "metadata": {},
   "outputs": [],
   "source": [
    "with open(\"oceanus.json\", \"w+\") as fo:\n",
    "    json.dump(oceanus_dict, fo, indent=2)"
   ]
  }
 ],
 "metadata": {
  "kernelspec": {
   "display_name": "Python 3 (ipykernel)",
   "language": "python",
   "name": "python3"
  },
  "language_info": {
   "codemirror_mode": {
    "name": "ipython",
    "version": 3
   },
   "file_extension": ".py",
   "mimetype": "text/x-python",
   "name": "python",
   "nbconvert_exporter": "python",
   "pygments_lexer": "ipython3",
   "version": "3.12.1"
  }
 },
 "nbformat": 4,
 "nbformat_minor": 5
}
