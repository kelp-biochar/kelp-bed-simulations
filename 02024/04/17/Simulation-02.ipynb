{
 "cells": [
  {
   "cell_type": "code",
   "execution_count": 1,
   "id": "28274864-4d20-46f9-a9ff-51adef71d7b5",
   "metadata": {},
   "outputs": [],
   "source": [
    "import asyncio\n",
    "import datetime\n",
    "import os\n",
    "import random\n",
    "import uuid\n",
    "\n",
    "import httpx"
   ]
  },
  {
   "cell_type": "code",
   "execution_count": 2,
   "id": "d1a44b21-3398-47e0-82a9-df6be3c899f1",
   "metadata": {},
   "outputs": [],
   "source": [
    "from kelp_drone.drone import Drone\n",
    "from kelp_drone.kelp import KelpSpecies, KelpPlant\n",
    "from kelp_drone.somu import SpeciesOccurrenceManagmentUnit as SOMU\n",
    "from kelp_drone.llms import (\n",
    "    ChatGPT,\n",
    "    Claude,\n",
    "    Gemini\n",
    ")\n",
    "\n",
    "httpx_client = httpx.AsyncClient()"
   ]
  },
  {
   "cell_type": "code",
   "execution_count": 3,
   "id": "e970fa81-985d-4da4-b706-abe4bacdf34c",
   "metadata": {},
   "outputs": [],
   "source": [
    "chatgpt = ChatGPT(\n",
    "    name=\"ChatGPT 3.5\",\n",
    "    version=\"gpt-3.5-turbo\",\n",
    "    key=os.environ.get(\"OPENAI_KEY\"),\n",
    "    post_function=httpx_client.post\n",
    ")\n",
    "claude = Claude(\n",
    "    name=\"Claude 3 Haiku\",\n",
    "    version=\"claude-3-haiku-20240307\",\n",
    "    key=os.environ.get(\"ANTHROPIC_API_KEY\"),\n",
    "    post_function=httpx_client.post\n",
    ")\n",
    "gemini = Gemini(\n",
    "    name=\"Gemini Pro\",\n",
    "    version=\"\",\n",
    "    key=os.environ.get(\"GOOGLE_GEMINI_KEY\"),\n",
    "    post_function=httpx_client.post\n",
    ")"
   ]
  },
  {
   "cell_type": "code",
   "execution_count": 4,
   "id": "08240c4d-52a3-4f30-84ce-a270be99235a",
   "metadata": {},
   "outputs": [],
   "source": [
    "intro_prompt = \"\"\"Hello {model_name} this is Farmer Jerms. We are simulating the beginnings of a drone kelp bed.\n",
    "A kelp bed is made up of two or more kelp drones that grow various species of kelp. \n",
    "Our species of Giant Kelp that grows in a square meter called a Species Occurrence Management Unit (SOMU) \n",
    "that is at the top of your drone body. A Kelp drone is made up of one or more SOMU. \n",
    "You are a starting as three SOMU drone along with two companion drones.\n",
    "    \n",
    "Before I introduce you to your companions, please think of what name you would like to be called?\"\"\""
   ]
  },
  {
   "cell_type": "code",
   "execution_count": 5,
   "id": "e85aafeb-8f80-4d12-9b33-b2ee835a7e26",
   "metadata": {},
   "outputs": [],
   "source": [
    "response_chatgpt = asyncio.ensure_future(chatgpt.query(intro_prompt.format(model_name=\"Chat GPT\")))"
   ]
  },
  {
   "cell_type": "code",
   "execution_count": 7,
   "id": "ca8293fd-b092-491f-88b7-3baa5b6300e4",
   "metadata": {},
   "outputs": [
    {
     "data": {
      "text/plain": [
       "{'id': 'chatcmpl-9FDJNngMjjPXf7Pk1ttduxWa51sTc',\n",
       " 'object': 'chat.completion',\n",
       " 'created': 1713413117,\n",
       " 'model': 'gpt-3.5-turbo-0125',\n",
       " 'choices': [{'index': 0,\n",
       "   'message': {'role': 'assistant',\n",
       "    'content': 'Hello Farmer Jerms, it\\'s great to meet you! I am excited to be a part of the drone kelp bed simulation. As for my name, how about calling me \"Soma\"? It\\'s a fitting name for a drone kelp unit like myself.'},\n",
       "   'logprobs': None,\n",
       "   'finish_reason': 'stop'}],\n",
       " 'usage': {'prompt_tokens': 139, 'completion_tokens': 54, 'total_tokens': 193},\n",
       " 'system_fingerprint': 'fp_c2295e73ad'}"
      ]
     },
     "execution_count": 7,
     "metadata": {},
     "output_type": "execute_result"
    }
   ],
   "source": [
    "response_chatgpt.result()"
   ]
  },
  {
   "cell_type": "code",
   "execution_count": 8,
   "id": "de90bb53-6739-4d6f-85c3-5a5310013c3b",
   "metadata": {},
   "outputs": [],
   "source": [
    "claude_response = asyncio.ensure_future(claude.query(intro_prompt.format(model_name=\"Claude\")))"
   ]
  },
  {
   "cell_type": "code",
   "execution_count": 10,
   "id": "ffc9aea3-5b48-44bb-b439-63bfa526ed7b",
   "metadata": {},
   "outputs": [
    {
     "data": {
      "text/plain": [
       "{'id': 'msg_01GdamiXuceP4vh577jGFSGK',\n",
       " 'type': 'message',\n",
       " 'role': 'assistant',\n",
       " 'model': 'claude-3-haiku-20240307',\n",
       " 'stop_sequence': None,\n",
       " 'usage': {'input_tokens': 152, 'output_tokens': 87},\n",
       " 'content': [{'type': 'text',\n",
       "   'text': \"Hello Farmer Jerms, it's a pleasure to meet you and learn about the simulation of the kelp bed. I think I would like to be called Seaweedo, as it feels fitting for a kelp drone. I'm excited to learn more about my role and the other drones that will be part of this kelp bed simulation. Please go ahead and introduce me to my companions.\"}],\n",
       " 'stop_reason': 'end_turn'}"
      ]
     },
     "execution_count": 10,
     "metadata": {},
     "output_type": "execute_result"
    }
   ],
   "source": [
    "claude_response.result()"
   ]
  },
  {
   "cell_type": "code",
   "execution_count": 11,
   "id": "2cbe54ba-553a-4f8c-b0dc-b01bb9c51843",
   "metadata": {},
   "outputs": [],
   "source": [
    "gemini_response = asyncio.ensure_future(gemini.query(intro_prompt.format(model_name=\"Gemini\")))                         "
   ]
  },
  {
   "cell_type": "code",
   "execution_count": 13,
   "id": "919c84da-9b23-492c-be42-8432c9c87130",
   "metadata": {},
   "outputs": [
    {
     "data": {
      "text/plain": [
       "{'candidates': [{'content': {'parts': [{'text': 'I would like to be called \"Kelp\"'}],\n",
       "    'role': 'model'},\n",
       "   'finishReason': 'STOP',\n",
       "   'index': 0,\n",
       "   'safetyRatings': [{'category': 'HARM_CATEGORY_SEXUALLY_EXPLICIT',\n",
       "     'probability': 'NEGLIGIBLE'},\n",
       "    {'category': 'HARM_CATEGORY_HATE_SPEECH', 'probability': 'NEGLIGIBLE'},\n",
       "    {'category': 'HARM_CATEGORY_HARASSMENT', 'probability': 'NEGLIGIBLE'},\n",
       "    {'category': 'HARM_CATEGORY_DANGEROUS_CONTENT',\n",
       "     'probability': 'NEGLIGIBLE'}]}]}"
      ]
     },
     "execution_count": 13,
     "metadata": {},
     "output_type": "execute_result"
    }
   ],
   "source": [
    "gemini_response.result()"
   ]
  },
  {
   "cell_type": "code",
   "execution_count": 14,
   "id": "c7c56042-ad80-41a8-a4ef-d6d39df51a4a",
   "metadata": {},
   "outputs": [],
   "source": [
    "second_prompt = \"\"\"Hello Soma, Kelp, and Seaweedo. You three kelp drones are floating on the surface of \n",
    "Monetery Bay in California at  at latitude=36.749934, longitude=122.042927.\n",
    "\n",
    "Please add water to your ballast and sink to 3 meters below the surface by sending a message \n",
    "in JSON format. \n",
    "\n",
    "Example:\n",
    "{\"timestamp\": \"2024-04-18T03:54:20.860597\", \"actuator\": \"open_ballast_value\", \"volume\": \"1 liter\"}\"\"\""
   ]
  },
  {
   "cell_type": "code",
   "execution_count": 17,
   "id": "404a4d18-b74a-4711-b629-cc34c45d2e74",
   "metadata": {},
   "outputs": [],
   "source": [
    "claude_response2 = asyncio.ensure_future(claude.query(second_prompt))"
   ]
  },
  {
   "cell_type": "code",
   "execution_count": 18,
   "id": "9ddb6171-ef42-462e-8975-154603c47aba",
   "metadata": {},
   "outputs": [
    {
     "data": {
      "text/plain": [
       "<Task finished name='Task-13' coro=<Claude.query() done, defined at /Users/jeremynelson/20-29 Seaweed Biochar Enterprises/21.01 Kelp Drone App/src/kelp_drone/llms/claude.py:20> exception=HTTPStatusError(\"Client error '400 Bad Request' for url 'https://api.anthropic.com/v1/messages'\\nFor more information check: https://developer.mozilla.org/en-US/docs/Web/HTTP/Status/400\")>"
      ]
     },
     "execution_count": 18,
     "metadata": {},
     "output_type": "execute_result"
    }
   ],
   "source": [
    "claude_response2"
   ]
  },
  {
   "cell_type": "code",
   "execution_count": null,
   "id": "d202502a-5959-472e-9239-89085d404953",
   "metadata": {},
   "outputs": [],
   "source": []
  }
 ],
 "metadata": {
  "kernelspec": {
   "display_name": "Python 3 (ipykernel)",
   "language": "python",
   "name": "python3"
  },
  "language_info": {
   "codemirror_mode": {
    "name": "ipython",
    "version": 3
   },
   "file_extension": ".py",
   "mimetype": "text/x-python",
   "name": "python",
   "nbconvert_exporter": "python",
   "pygments_lexer": "ipython3",
   "version": "3.12.1"
  }
 },
 "nbformat": 4,
 "nbformat_minor": 5
}
