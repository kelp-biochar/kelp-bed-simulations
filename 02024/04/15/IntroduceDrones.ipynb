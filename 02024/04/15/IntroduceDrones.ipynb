{
 "cells": [
  {
   "cell_type": "code",
   "execution_count": 1,
   "id": "7088af4e-6acc-48e5-8951-9d0bcbb8eb95",
   "metadata": {},
   "outputs": [],
   "source": [
    "import asyncio\n",
    "import datetime\n",
    "import os\n",
    "import random\n",
    "\n",
    "import httpx"
   ]
  },
  {
   "cell_type": "code",
   "execution_count": 2,
   "id": "f663e7bb-775b-41c6-a82c-c47d59aa9319",
   "metadata": {},
   "outputs": [],
   "source": [
    "from kelp_drone.drone import Drone\n",
    "from kelp_drone.llms import (\n",
    "    ChatGPT,\n",
    "    Claude,\n",
    "    Gemini\n",
    ")"
   ]
  },
  {
   "cell_type": "code",
   "execution_count": 3,
   "id": "30baecaf-d44a-4cf7-9634-47bd82ad8680",
   "metadata": {},
   "outputs": [],
   "source": [
    "httpx_client = httpx.AsyncClient()"
   ]
  },
  {
   "cell_type": "code",
   "execution_count": 4,
   "id": "1b45c75d-c34a-445c-b91d-b9fdb170414a",
   "metadata": {},
   "outputs": [],
   "source": [
    "chatgpt = ChatGPT(\n",
    "    name=\"ChatGPT 3.5\",\n",
    "    version=\"gpt-3.5-turbo\",\n",
    "    key=os.environ.get(\"OPENAI_KEY\"),\n",
    "    post_function=httpx_client.post\n",
    ")\n",
    "claude = Claude(\n",
    "    name=\"Claude 3 Haiku\",\n",
    "    version=\"claude-3-haiku-20240307\",\n",
    "    key=os.environ.get(\"ANTHROPIC_API_KEY\"),\n",
    "    post_function=httpx_client.post\n",
    ")\n",
    "gemini = Gemini(\n",
    "    name=\"Gemini Pro\",\n",
    "    version=\"\",\n",
    "    key=os.environ.get(\"GOOGLE_GEMINI_KEY\"),\n",
    "    post_function=httpx_client.post\n",
    ")"
   ]
  },
  {
   "cell_type": "code",
   "execution_count": 5,
   "id": "5168dc59-9788-4208-9228-9e461991ef24",
   "metadata": {},
   "outputs": [],
   "source": [
    "drones = []\n",
    "drone1 = Drone(\"Drone 1\", chatgpt)\n",
    "drones.append(drone1)\n",
    "drone2 = Drone(\"Drone 2\", claude)\n",
    "drones.append(drone2)\n",
    "drone3 = Drone(\"Drone 3\", gemini)\n",
    "drones.append(drone3)"
   ]
  },
  {
   "cell_type": "code",
   "execution_count": null,
   "id": "f2a576e9-60be-4528-a940-618087512054",
   "metadata": {},
   "outputs": [],
   "source": [
    "for drone in drones:\n",
    "    initial_prompt = f\"\"\"\"Hello {drone.model.name} this is Farmer Jerms. We are simulating the beginnings of a drone kelp bed.\n",
    "    A kelp bed is made up of two or more kelp drones that grow various species of kelp. \n",
    "    Our species of Giant Kelp that grows in a square meter called a Species Occurrence Management Unit (SOMU) \n",
    "    that is at the top of your drone body. A Kelp drone is made up of one or more SOMU. \n",
    "    You are a starting as three SOMU drone along with two companion drones.\n",
    "    \n",
    "    Before I introduce you to your companions, please think of what name you would like to be called?\"\"\"\n",
    "    print(f\"{drone.name}\")\n",
    "    response = asyncio.ensure_future(drone.model.query(initial_prompt))\n",
    "    print(response)"
   ]
  },
  {
   "cell_type": "code",
   "execution_count": null,
   "id": "f44d3e5c-c84a-4195-8df0-a47be8643b03",
   "metadata": {},
   "outputs": [],
   "source": [
    "%debug"
   ]
  },
  {
   "cell_type": "code",
   "execution_count": 7,
   "id": "4eda23ec-1581-4b70-9a42-d01d96188170",
   "metadata": {},
   "outputs": [],
   "source": [
    "result = asyncio.ensure_future(claude.query(f\"\"\"\"Hello {claude.name} this is Farmer Jerms. We are simulating the beginnings of a drone kelp bed.\n",
    "    A kelp bed is made up of two or more kelp drones that grow various species of kelp. \n",
    "    Our species of Giant Kelp that grows in a square meter called a Species Occurrence Management Unit (SOMU) \n",
    "    that is at the top of your drone body. A Kelp drone is made up of one or more SOMU. \n",
    "    You are a starting as three SOMU drone along with two companion drones.\n",
    "    \n",
    "    Before I introduce you to your companions, please think of what name you would like to be called?\"\"\"))"
   ]
  },
  {
   "cell_type": "code",
   "execution_count": 15,
   "id": "a30aaf9d-b6b6-49b6-9192-18c815810276",
   "metadata": {},
   "outputs": [
    {
     "data": {
      "text/plain": [
       "{'id': 'msg_01A5mxwt6Vr39X2M3wcr4s8J',\n",
       " 'type': 'message',\n",
       " 'role': 'assistant',\n",
       " 'model': 'claude-3-haiku-20240307',\n",
       " 'stop_sequence': None,\n",
       " 'usage': {'input_tokens': 164, 'output_tokens': 78},\n",
       " 'content': [{'type': 'text',\n",
       "   'text': 'Greetings, Farmer Jerms. As a starting three SOMU drone, I would like to be called Triton. I am excited to be part of this simulated kelp bed and to work alongside my two companion drones. Please, tell me more about them so that I can get to know my new partners in this endeavor.'}],\n",
       " 'stop_reason': 'end_turn'}"
      ]
     },
     "execution_count": 15,
     "metadata": {},
     "output_type": "execute_result"
    }
   ],
   "source": [
    "result.result().json()"
   ]
  },
  {
   "cell_type": "code",
   "execution_count": 16,
   "id": "71a2c5e7-ac64-4b1d-8841-855727aa4609",
   "metadata": {},
   "outputs": [],
   "source": [
    "result = asyncio.ensure_future(gemini.query(f\"\"\"\"Hello {gemini.name} this is Farmer Jerms. We are simulating the beginnings of a drone kelp bed.\n",
    "    A kelp bed is made up of two or more kelp drones that grow various species of kelp. \n",
    "    Our species of Giant Kelp that grows in a square meter called a Species Occurrence Management Unit (SOMU) \n",
    "    that is at the top of your drone body. A Kelp drone is made up of one or more SOMU. \n",
    "    You are a starting as three SOMU drone along with two companion drones.\n",
    "    \n",
    "    Before I introduce you to your companions, please think of what name you would like to be called?\"\"\"))"
   ]
  },
  {
   "cell_type": "code",
   "execution_count": 18,
   "id": "ffe7422c-0fae-4de2-87a2-cf20d98121b4",
   "metadata": {},
   "outputs": [
    {
     "data": {
      "text/plain": [
       "{'candidates': [{'content': {'parts': [{'text': 'Hello, Farmer Jerms, my name is Gemini Pro. It is nice to meet you.'}],\n",
       "    'role': 'model'},\n",
       "   'finishReason': 'STOP',\n",
       "   'index': 0,\n",
       "   'safetyRatings': [{'category': 'HARM_CATEGORY_SEXUALLY_EXPLICIT',\n",
       "     'probability': 'NEGLIGIBLE'},\n",
       "    {'category': 'HARM_CATEGORY_HATE_SPEECH', 'probability': 'NEGLIGIBLE'},\n",
       "    {'category': 'HARM_CATEGORY_HARASSMENT', 'probability': 'NEGLIGIBLE'},\n",
       "    {'category': 'HARM_CATEGORY_DANGEROUS_CONTENT',\n",
       "     'probability': 'NEGLIGIBLE'}]}]}"
      ]
     },
     "execution_count": 18,
     "metadata": {},
     "output_type": "execute_result"
    }
   ],
   "source": [
    "result.result().json()"
   ]
  },
  {
   "cell_type": "code",
   "execution_count": 19,
   "id": "7d275481-851d-422a-ba3b-b4ce616f2317",
   "metadata": {},
   "outputs": [],
   "source": [
    "result = asyncio.ensure_future(chatgpt.query(f\"\"\"\"Hello {chatgpt.name} this is Farmer Jerms. We are simulating the beginnings of a drone kelp bed.\n",
    "    A kelp bed is made up of two or more kelp drones that grow various species of kelp. \n",
    "    Our species of Giant Kelp that grows in a square meter called a Species Occurrence Management Unit (SOMU) \n",
    "    that is at the top of your drone body. A Kelp drone is made up of one or more SOMU. \n",
    "    You are a starting as three SOMU drone along with two companion drones.\n",
    "    \n",
    "    Before I introduce you to your companions, please think of what name you would like to be called?\"\"\"))"
   ]
  },
  {
   "cell_type": "code",
   "execution_count": 20,
   "id": "4571e00d-ae55-44d8-914a-4c1fbdde7a1e",
   "metadata": {},
   "outputs": [
    {
     "data": {
      "text/plain": [
       "{'id': 'chatcmpl-9EQQxQaMYdC0xcD32blOBF9BZt2xS',\n",
       " 'object': 'chat.completion',\n",
       " 'created': 1713225231,\n",
       " 'model': 'gpt-3.5-turbo-0125',\n",
       " 'choices': [{'index': 0,\n",
       "   'message': {'role': 'assistant',\n",
       "    'content': 'Hello Farmer Jerms! Thank you for providing me with this information. As for my name, I think I would like to be called \"AquaGrowth\". It represents my purpose of growing and managing the kelp bed. It\\'s nice to meet you and my fellow companion drones!'},\n",
       "   'logprobs': None,\n",
       "   'finish_reason': 'stop'}],\n",
       " 'usage': {'prompt_tokens': 149, 'completion_tokens': 58, 'total_tokens': 207},\n",
       " 'system_fingerprint': 'fp_c2295e73ad'}"
      ]
     },
     "execution_count": 20,
     "metadata": {},
     "output_type": "execute_result"
    }
   ],
   "source": [
    "result.result().json()"
   ]
  },
  {
   "cell_type": "code",
   "execution_count": 21,
   "id": "fbea17c1-9d58-4845-89ee-c9b0fd1d03c6",
   "metadata": {},
   "outputs": [
    {
     "data": {
      "text/plain": [
       "[{'role': 'user',\n",
       "  'content': '\"Hello ChatGPT 3.5 this is Farmer Jerms. We are simulating the beginnings of a drone kelp bed.\\n    A kelp bed is made up of two or more kelp drones that grow various species of kelp. \\n    Our species of Giant Kelp that grows in a square meter called a Species Occurrence Management Unit (SOMU) \\n    that is at the top of your drone body. A Kelp drone is made up of one or more SOMU. \\n    You are a starting as three SOMU drone along with two companion drones.\\n    \\n    Before I introduce you to your companions, please think of what name you would like to be called?'}]"
      ]
     },
     "execution_count": 21,
     "metadata": {},
     "output_type": "execute_result"
    }
   ],
   "source": [
    "drone1.model.messages"
   ]
  },
  {
   "cell_type": "code",
   "execution_count": 22,
   "id": "664aec63-6eb9-4377-8192-4c982e2b82fc",
   "metadata": {},
   "outputs": [
    {
     "data": {
      "text/plain": [
       "[{'role': 'user',\n",
       "  'content': [{'type': 'text',\n",
       "    'text': '\"Hello Claude 3 Haiku this is Farmer Jerms. We are simulating the beginnings of a drone kelp bed.\\n    A kelp bed is made up of two or more kelp drones that grow various species of kelp. \\n    Our species of Giant Kelp that grows in a square meter called a Species Occurrence Management Unit (SOMU) \\n    that is at the top of your drone body. A Kelp drone is made up of one or more SOMU. \\n    You are a starting as three SOMU drone along with two companion drones.\\n    \\n    Before I introduce you to your companions, please think of what name you would like to be called?'}]}]"
      ]
     },
     "execution_count": 22,
     "metadata": {},
     "output_type": "execute_result"
    }
   ],
   "source": [
    "drone2.model.messages"
   ]
  },
  {
   "cell_type": "code",
   "execution_count": 23,
   "id": "ac32d4b3-974c-426c-ba23-c7549dfbac12",
   "metadata": {},
   "outputs": [
    {
     "data": {
      "text/plain": [
       "[{'text': '\"Hello Gemini Pro this is Farmer Jerms. We are simulating the beginnings of a drone kelp bed.\\n    A kelp bed is made up of two or more kelp drones that grow various species of kelp. \\n    Our species of Giant Kelp that grows in a square meter called a Species Occurrence Management Unit (SOMU) \\n    that is at the top of your drone body. A Kelp drone is made up of one or more SOMU. \\n    You are a starting as three SOMU drone along with two companion drones.\\n    \\n    Before I introduce you to your companions, please think of what name you would like to be called?'}]"
      ]
     },
     "execution_count": 23,
     "metadata": {},
     "output_type": "execute_result"
    }
   ],
   "source": [
    "drone3.model.messages"
   ]
  },
  {
   "cell_type": "code",
   "execution_count": null,
   "id": "bcc05059-29f6-4b61-b7c0-f5e7ac6feadc",
   "metadata": {},
   "outputs": [],
   "source": []
  }
 ],
 "metadata": {
  "kernelspec": {
   "display_name": "Python 3 (ipykernel)",
   "language": "python",
   "name": "python3"
  },
  "language_info": {
   "codemirror_mode": {
    "name": "ipython",
    "version": 3
   },
   "file_extension": ".py",
   "mimetype": "text/x-python",
   "name": "python",
   "nbconvert_exporter": "python",
   "pygments_lexer": "ipython3",
   "version": "3.12.1"
  }
 },
 "nbformat": 4,
 "nbformat_minor": 5
}
