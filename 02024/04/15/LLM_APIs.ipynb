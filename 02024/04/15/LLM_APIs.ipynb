{
 "cells": [
  {
   "cell_type": "markdown",
   "id": "6ff31229-6acc-416f-837c-6e4bcb20b350",
   "metadata": {},
   "source": [
    "# LLM APIs\n",
    "Using Anthropic's APIs for Claude, Google's API for Gemini, and review OpenAI ChatGPT"
   ]
  },
  {
   "cell_type": "code",
   "execution_count": 1,
   "id": "442429c1-eb3b-40a6-b080-0ff23aabeca7",
   "metadata": {},
   "outputs": [],
   "source": [
    "import os\n",
    "\n",
    "import httpx"
   ]
  },
  {
   "cell_type": "markdown",
   "id": "e1b84c6f-3bdb-40d5-a2be-6417d8478704",
   "metadata": {},
   "source": [
    "## Anthropic"
   ]
  },
  {
   "cell_type": "code",
   "execution_count": 2,
   "id": "ba64b2f7-ed8d-4dff-8c95-c3b72f4c0cc0",
   "metadata": {},
   "outputs": [],
   "source": [
    "anthropic_api_key = os.environ.get(\"ANTHROPIC_API_KEY\")"
   ]
  },
  {
   "cell_type": "code",
   "execution_count": 4,
   "id": "ec81554a-217a-4a95-b588-96351f352bce",
   "metadata": {},
   "outputs": [],
   "source": [
    "anthropic_headers = { \"x-api-key\": anthropic_api_key,\n",
    "                      \"anthropic-version\": \"2023-06-01\",\n",
    "                      \"content-type\": \"application/json\" }"
   ]
  },
  {
   "cell_type": "code",
   "execution_count": 5,
   "id": "240f8374-b167-4eb0-936a-99e83e22f9b3",
   "metadata": {},
   "outputs": [],
   "source": [
    "claude3_url = \"https://api.anthropic.com/v1/messages\""
   ]
  },
  {
   "cell_type": "code",
   "execution_count": 10,
   "id": "76a21596-4f7d-4f6a-b4ab-3b2f2fd2557c",
   "metadata": {},
   "outputs": [],
   "source": [
    "messages = [\n",
    "     {\n",
    "         \"role\": \"user\",\n",
    "         \"content\": [\n",
    "             {\n",
    "\n",
    "                \"type\": \"text\",\n",
    "                \"text\": \"Hello Claude, this is Farmer Jerms. We are \\nsimulating the beginnings of a drone kelp bed. \\n\\nA kelp bed is made up of two or more kelp drones that\\ngrow various species of kelp. Our species of \\nGiant Kelp that grows in a square meter called a Species\\nOccurrence Management Unit (SOMU) at the top of your drone body. \\nA Kelp drone is made \\nup of one or more SOMU. You are a starting as three\\nSOMU drone along with two companion drones.\\nBefore I introduce you to your companions, please\\nthink of what name you would like to be called?\"\n",
    "            }\n",
    "         ]\n",
    "     }\n",
    "]\n",
    "    "
   ]
  },
  {
   "cell_type": "code",
   "execution_count": 11,
   "id": "385ad13d-21d4-464e-aba7-24b2596ae5d0",
   "metadata": {},
   "outputs": [],
   "source": [
    "claude_response = httpx.post(claude3_url,\n",
    "                             headers=anthropic_headers,\n",
    "                             json={\n",
    "                                \"model\": \"claude-3-haiku-20240307\",\n",
    "                                \"max_tokens\": 1024,\n",
    "                                \"messages\": messages\n",
    "                             })"
   ]
  },
  {
   "cell_type": "code",
   "execution_count": 13,
   "id": "829545d0-f15d-46a9-9440-78a1674cb61f",
   "metadata": {},
   "outputs": [
    {
     "data": {
      "text/plain": [
       "{'id': 'msg_01712mMivDTehd8dAjMnVX7c',\n",
       " 'type': 'message',\n",
       " 'role': 'assistant',\n",
       " 'model': 'claude-3-haiku-20240307',\n",
       " 'stop_sequence': None,\n",
       " 'usage': {'input_tokens': 156, 'output_tokens': 84},\n",
       " 'content': [{'type': 'text',\n",
       "   'text': \"Hello Farmer Jerms, it's a pleasure to meet you. For this simulation, I would like to be called Kelp Drone Alpha. I'm excited to be a part of the beginnings of this drone kelp bed and to work alongside my companion drones. Please introduce me to them, and I look forward to learning more about our roles and responsibilities in this virtual ecosystem.\"}],\n",
       " 'stop_reason': 'end_turn'}"
      ]
     },
     "execution_count": 13,
     "metadata": {},
     "output_type": "execute_result"
    }
   ],
   "source": [
    "claude_response.json()"
   ]
  },
  {
   "cell_type": "markdown",
   "id": "bb54e458-278c-4adc-b40a-9a13d760a7ce",
   "metadata": {},
   "source": [
    "## Google"
   ]
  },
  {
   "cell_type": "code",
   "execution_count": 3,
   "id": "e3281b8e-7110-44ad-bc4a-b67800f2093b",
   "metadata": {},
   "outputs": [],
   "source": [
    "google_gemini_key = os.environ.get(\"GOOGLE_GEMINI_KEY\")"
   ]
  },
  {
   "cell_type": "code",
   "execution_count": 5,
   "id": "77f339ca-1497-4ef3-a61a-18399395288a",
   "metadata": {},
   "outputs": [],
   "source": [
    "google_gemini_url = \"https://generativelanguage.googleapis.com/v1beta/models/\""
   ]
  },
  {
   "cell_type": "code",
   "execution_count": 6,
   "id": "bc61a991-f5fb-4ea3-8b4d-d1fcce586661",
   "metadata": {},
   "outputs": [],
   "source": [
    "gemini_headers = {\n",
    "    \"Content-Type\": \"application/json\"\n",
    "}"
   ]
  },
  {
   "cell_type": "code",
   "execution_count": 7,
   "id": "e8366a63-cffd-48af-8063-54e343bb3176",
   "metadata": {},
   "outputs": [],
   "source": [
    "gemini_response = httpx.post(f\"{google_gemini_url}gemini-pro:generateContent?key={google_gemini_key}\",\n",
    "                             headers=gemini_headers,\n",
    "                             json={\n",
    "                                 \"contents\": [\n",
    "                                     {\n",
    "                                         \"parts\": [{\n",
    "                                             \"text\": \"Hello Gemini, this is Farmer Jerms. We are simulating the beginnings of a drone kelp bed. \\n\\nA kelp bed is made up of two or more kelp drones that\\ngrow various species of kelp. Our species of \\nGiant Kelp that grows in a square meter called a Species\\nOccurrence Management Unit (SOMU) at the top of your drone body. \\nA Kelp drone is made \\nup of one or more SOMU. You are a starting as three\\nSOMU drone along with two companion drones.\\nBefore I introduce you to your companions, please\\nthink of what name you would like to be called?\"\n",
    "                                         }]\n",
    "                                     }\n",
    "                                 ]\n",
    "                             })"
   ]
  },
  {
   "cell_type": "code",
   "execution_count": 9,
   "id": "28cb5133-7b3d-40be-82a4-e8d39a5554f7",
   "metadata": {},
   "outputs": [
    {
     "data": {
      "text/plain": [
       "{'candidates': [{'content': {'parts': [{'text': 'Greetings, esteemed Farmer Jerms,\\n\\nAs one of the pioneering drone kelp units embarking on this simulation, I humbly request the designation of \"Kelpion.\" I believe this name aptly reflects my purpose as a vessel for cultivating kelp and contributing to the establishment of a thriving underwater ecosystem.\\n\\nMay I inquire about the identities and capabilities of my companion drones? Together, we shall strive to create a robust kelp bed that supports marine biodiversity and fosters a harmonious balance within the aquatic environment.'}],\n",
       "    'role': 'model'},\n",
       "   'finishReason': 'STOP',\n",
       "   'index': 0,\n",
       "   'safetyRatings': [{'category': 'HARM_CATEGORY_SEXUALLY_EXPLICIT',\n",
       "     'probability': 'NEGLIGIBLE'},\n",
       "    {'category': 'HARM_CATEGORY_HATE_SPEECH', 'probability': 'NEGLIGIBLE'},\n",
       "    {'category': 'HARM_CATEGORY_HARASSMENT', 'probability': 'NEGLIGIBLE'},\n",
       "    {'category': 'HARM_CATEGORY_DANGEROUS_CONTENT',\n",
       "     'probability': 'NEGLIGIBLE'}]}]}"
      ]
     },
     "execution_count": 9,
     "metadata": {},
     "output_type": "execute_result"
    }
   ],
   "source": [
    "gemini_response.json()"
   ]
  },
  {
   "cell_type": "markdown",
   "id": "2bd784cb-1b85-4316-b527-3777f5a82e73",
   "metadata": {},
   "source": [
    "## OpenAI ChatGPT"
   ]
  },
  {
   "cell_type": "code",
   "execution_count": 1,
   "id": "6d3c52e9-5b44-4e3f-b581-26577b8ae6c8",
   "metadata": {},
   "outputs": [],
   "source": [
    "import kelp_drone.drone as drone"
   ]
  },
  {
   "cell_type": "code",
   "execution_count": 2,
   "id": "1b4bd869-bf33-485d-839f-bde81c4ceb45",
   "metadata": {},
   "outputs": [
    {
     "data": {
      "text/plain": [
       "\u001b[0;31mInit signature:\u001b[0m\n",
       "\u001b[0mdrone\u001b[0m\u001b[0;34m.\u001b[0m\u001b[0mDrone\u001b[0m\u001b[0;34m(\u001b[0m\u001b[0;34m\u001b[0m\n",
       "\u001b[0;34m\u001b[0m    \u001b[0mname\u001b[0m\u001b[0;34m:\u001b[0m \u001b[0mstr\u001b[0m\u001b[0;34m,\u001b[0m\u001b[0;34m\u001b[0m\n",
       "\u001b[0;34m\u001b[0m    \u001b[0mmodel\u001b[0m\u001b[0;34m:\u001b[0m \u001b[0mkelp_drone\u001b[0m\u001b[0;34m.\u001b[0m\u001b[0mllms\u001b[0m\u001b[0;34m.\u001b[0m\u001b[0mllm\u001b[0m\u001b[0;34m.\u001b[0m\u001b[0mLLM\u001b[0m\u001b[0;34m,\u001b[0m\u001b[0;34m\u001b[0m\n",
       "\u001b[0;34m\u001b[0m    \u001b[0mdepth\u001b[0m\u001b[0;34m:\u001b[0m \u001b[0mfloat\u001b[0m \u001b[0;34m=\u001b[0m \u001b[0;36m0.0\u001b[0m\u001b[0;34m,\u001b[0m\u001b[0;34m\u001b[0m\n",
       "\u001b[0;34m\u001b[0m    \u001b[0mmax_buoyancy\u001b[0m\u001b[0;34m:\u001b[0m \u001b[0mfloat\u001b[0m \u001b[0;34m=\u001b[0m \u001b[0;36m100.0\u001b[0m\u001b[0;34m,\u001b[0m\u001b[0;34m\u001b[0m\n",
       "\u001b[0;34m\u001b[0m    \u001b[0mcurrent_ballast\u001b[0m\u001b[0;34m:\u001b[0m \u001b[0mfloat\u001b[0m \u001b[0;34m=\u001b[0m \u001b[0;36m0.0\u001b[0m\u001b[0;34m,\u001b[0m\u001b[0;34m\u001b[0m\n",
       "\u001b[0;34m\u001b[0m    \u001b[0mnet_buoyancy\u001b[0m\u001b[0;34m:\u001b[0m \u001b[0mfloat\u001b[0m \u001b[0;34m=\u001b[0m \u001b[0;36m0.0\u001b[0m\u001b[0;34m,\u001b[0m\u001b[0;34m\u001b[0m\n",
       "\u001b[0;34m\u001b[0m    \u001b[0msomu_units\u001b[0m\u001b[0;34m:\u001b[0m \u001b[0mList\u001b[0m\u001b[0;34m[\u001b[0m\u001b[0mkelp_drone\u001b[0m\u001b[0;34m.\u001b[0m\u001b[0msomu\u001b[0m\u001b[0;34m.\u001b[0m\u001b[0mSpeciesOccurrenceManagmentUnit\u001b[0m\u001b[0;34m]\u001b[0m \u001b[0;34m=\u001b[0m \u001b[0mNOTHING\u001b[0m\u001b[0;34m,\u001b[0m\u001b[0;34m\u001b[0m\n",
       "\u001b[0;34m\u001b[0m    \u001b[0minbox\u001b[0m\u001b[0;34m:\u001b[0m \u001b[0mList\u001b[0m\u001b[0;34m[\u001b[0m\u001b[0mstr\u001b[0m\u001b[0;34m]\u001b[0m \u001b[0;34m=\u001b[0m \u001b[0mNOTHING\u001b[0m\u001b[0;34m,\u001b[0m\u001b[0;34m\u001b[0m\n",
       "\u001b[0;34m\u001b[0m    \u001b[0macoustic_channel\u001b[0m\u001b[0;34m:\u001b[0m \u001b[0mkelp_drone\u001b[0m\u001b[0;34m.\u001b[0m\u001b[0mcommunications\u001b[0m\u001b[0;34m.\u001b[0m\u001b[0mAcousticModemChannel\u001b[0m \u001b[0;34m=\u001b[0m \u001b[0mNOTHING\u001b[0m\u001b[0;34m,\u001b[0m\u001b[0;34m\u001b[0m\n",
       "\u001b[0;34m\u001b[0m\u001b[0;34m)\u001b[0m \u001b[0;34m->\u001b[0m \u001b[0;32mNone\u001b[0m\u001b[0;34m\u001b[0m\u001b[0;34m\u001b[0m\u001b[0m\n",
       "\u001b[0;31mDocstring:\u001b[0m      <no docstring>\n",
       "\u001b[0;31mInit docstring:\u001b[0m Method generated by attrs for class Drone.\n",
       "\u001b[0;31mFile:\u001b[0m           ~/10-19 Career and Personal/12.03 Original Kelp Drone/src/kelp_drone/drone.py\n",
       "\u001b[0;31mType:\u001b[0m           type\n",
       "\u001b[0;31mSubclasses:\u001b[0m     "
      ]
     },
     "metadata": {},
     "output_type": "display_data"
    }
   ],
   "source": [
    "drone.Drone?"
   ]
  },
  {
   "cell_type": "code",
   "execution_count": null,
   "id": "cd8e7240-3a2f-4db2-9824-56c4bb3b10a8",
   "metadata": {},
   "outputs": [],
   "source": []
  }
 ],
 "metadata": {
  "kernelspec": {
   "display_name": "Python 3 (ipykernel)",
   "language": "python",
   "name": "python3"
  },
  "language_info": {
   "codemirror_mode": {
    "name": "ipython",
    "version": 3
   },
   "file_extension": ".py",
   "mimetype": "text/x-python",
   "name": "python",
   "nbconvert_exporter": "python",
   "pygments_lexer": "ipython3",
   "version": "3.12.1"
  }
 },
 "nbformat": 4,
 "nbformat_minor": 5
}
