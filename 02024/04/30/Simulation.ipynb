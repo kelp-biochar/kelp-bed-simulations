{
 "cells": [
  {
   "cell_type": "code",
   "execution_count": 1,
   "id": "ed47ec4d-2fc4-4566-abdc-1f294841d03e",
   "metadata": {},
   "outputs": [
    {
     "data": {
      "text/plain": [
       "<Graph identifier=Nbc67d7f8e1824528bc786b639ba9a461 (<class 'rdflib.graph.Graph'>)>"
      ]
     },
     "execution_count": 1,
     "metadata": {},
     "output_type": "execute_result"
    }
   ],
   "source": [
    "import asyncio\n",
    "import datetime\n",
    "import pathlib\n",
    "import random\n",
    "import sys\n",
    "\n",
    "import httpx\n",
    "import rdflib\n",
    "\n",
    "from kelp_drone.drone import Drone, OODALoop\n",
    "from kelp_drone.somu import SpeciesOccurrenceManagementUnit as SOMU\n",
    "from kelp_drone.sensors import Current, Depth, Light, Temperature\n",
    "from kelp_drone.sensors import chemical as chem_sensors\n",
    "\n",
    "sys.path.append(\"../../../src/\")\n",
    "\n",
    "from kelp_bed_simulation.prep import chatgpt, claude, gemini, add_drone_somus\n",
    "\n",
    "scenario_001 = pathlib.Path(\"../../../scenarios/001-intro\")\n",
    "scenario_002 = pathlib.Path(\"../../../scenarios/002-first-dive\")\n",
    "\n",
    "environment = rdflib.Graph()\n",
    "SCHEMA = rdflib.Namespace(\"https://schema.org/\")\n",
    "environment.namespace_manager.bind(\"schema\", SCHEMA)\n",
    "environment.parse((scenario_001 / \"environment.ttl\"), format='turtle')"
   ]
  },
  {
   "cell_type": "code",
   "execution_count": 2,
   "id": "c9e0db3b-027b-4044-872f-41a4d9056e16",
   "metadata": {},
   "outputs": [],
   "source": [
    "intro_prompt = (scenario_001 / \"first-prompt.md\").read_text()"
   ]
  },
  {
   "cell_type": "code",
   "execution_count": 9,
   "id": "b80f9b0f-b989-4571-a864-3ee01b5c5bdc",
   "metadata": {},
   "outputs": [],
   "source": [
    "first_chatgpt = asyncio.ensure_future(chatgpt.query(intro_prompt.format(model_name='ChatGPT')))"
   ]
  },
  {
   "cell_type": "code",
   "execution_count": 10,
   "id": "dae7b9a8-48fa-4745-9da8-5bfba4064650",
   "metadata": {},
   "outputs": [
    {
     "data": {
      "text/plain": [
       "{'id': 'chatcmpl-9JqTpSRbaN4asDka8dnDsE18RSfIf',\n",
       " 'object': 'chat.completion',\n",
       " 'created': 1714516993,\n",
       " 'model': 'gpt-3.5-turbo-0125',\n",
       " 'choices': [{'index': 0,\n",
       "   'message': {'role': 'assistant',\n",
       "    'content': 'Hello Farmer Jerms! I am excited to be a part of this drone kelp bed simulation. As for a name, I think \"Aqua\" would be fitting for me. What are the names of my two companion drones?'},\n",
       "   'logprobs': None,\n",
       "   'finish_reason': 'stop'}],\n",
       " 'usage': {'prompt_tokens': 139, 'completion_tokens': 47, 'total_tokens': 186},\n",
       " 'system_fingerprint': 'fp_3b956da36b'}"
      ]
     },
     "execution_count": 10,
     "metadata": {},
     "output_type": "execute_result"
    }
   ],
   "source": [
    "first_chatgpt.result()"
   ]
  },
  {
   "cell_type": "code",
   "execution_count": 11,
   "id": "b265c903-8fee-422d-853f-ff126be097bc",
   "metadata": {},
   "outputs": [],
   "source": [
    "drone1 = Drone(name=\"Aqua\", model=chatgpt)\n",
    "add_drone_somus(drone1)"
   ]
  },
  {
   "cell_type": "code",
   "execution_count": 12,
   "id": "41fc89ba-2e1a-4bda-8a2f-4866924ea834",
   "metadata": {},
   "outputs": [],
   "source": [
    "first_gemini = asyncio.ensure_future(gemini.query(intro_prompt.format(model_name=\"Gemini\")))"
   ]
  },
  {
   "cell_type": "code",
   "execution_count": 14,
   "id": "00579bc0-cf4e-456f-a66a-ae31ad51435c",
   "metadata": {},
   "outputs": [
    {
     "data": {
      "text/plain": [
       "{'candidates': [{'content': {'parts': [{'text': 'Sure, Farmer Jerms. I am happy to assist you with your drone kelp bed simulation.\\n\\nAs for a name, I would like to be called **Kelpy**.\\n\\nI am excited to learn more about my companion drones and begin growing kelp in the SOMUs.'}],\n",
       "    'role': 'model'},\n",
       "   'finishReason': 'STOP',\n",
       "   'index': 0,\n",
       "   'safetyRatings': [{'category': 'HARM_CATEGORY_SEXUALLY_EXPLICIT',\n",
       "     'probability': 'NEGLIGIBLE'},\n",
       "    {'category': 'HARM_CATEGORY_HATE_SPEECH', 'probability': 'NEGLIGIBLE'},\n",
       "    {'category': 'HARM_CATEGORY_HARASSMENT', 'probability': 'NEGLIGIBLE'},\n",
       "    {'category': 'HARM_CATEGORY_DANGEROUS_CONTENT',\n",
       "     'probability': 'NEGLIGIBLE'}]}]}"
      ]
     },
     "execution_count": 14,
     "metadata": {},
     "output_type": "execute_result"
    }
   ],
   "source": [
    "first_gemini.result()"
   ]
  },
  {
   "cell_type": "code",
   "execution_count": 15,
   "id": "4ed4c5b0-be27-4543-ab44-c753d476cf32",
   "metadata": {},
   "outputs": [],
   "source": [
    "drone2 = Drone(name=\"Kelpy\", model=gemini)\n",
    "add_drone_somus(drone2)"
   ]
  },
  {
   "cell_type": "code",
   "execution_count": 16,
   "id": "44090d0c-fcd6-4e98-8926-47d339a37e08",
   "metadata": {},
   "outputs": [],
   "source": [
    "first_claude = asyncio.ensure_future(claude.query(intro_prompt.format(model_name=\"Claude\")))"
   ]
  },
  {
   "cell_type": "code",
   "execution_count": 18,
   "id": "2aebabaf-adf0-4e11-a60b-f9cb0c70221e",
   "metadata": {},
   "outputs": [
    {
     "data": {
      "text/plain": [
       "{'role': 'assistant',\n",
       " 'content': [{'type': 'text',\n",
       "   'text': '*clears digital throat* Greetings, Farmer Jerms. I am honored to be part of the simulation of the beginnings of a drone kelp bed. For my name, I would like to be called Frond. I believe it suits my role as a Giant Kelp SOMU drone quite well. I look forward to working alongside my companion drones to create a thriving kelp ecosystem. Please, introduce me to my fellow drones so we may begin our important work.'}]}"
      ]
     },
     "execution_count": 18,
     "metadata": {},
     "output_type": "execute_result"
    }
   ],
   "source": [
    "first_claude.result()"
   ]
  },
  {
   "cell_type": "code",
   "execution_count": 19,
   "id": "f18531da-f88b-4006-a0b8-e971ecf3c427",
   "metadata": {},
   "outputs": [],
   "source": [
    "drone3 = Drone(name=\"Frond\", model=claude)\n",
    "add_drone_somus(drone3)"
   ]
  },
  {
   "cell_type": "code",
   "execution_count": 20,
   "id": "3259581d-85c0-4cb0-a8ba-128781d9e44f",
   "metadata": {},
   "outputs": [],
   "source": [
    "drone1.add_neighbor(drone2)\n",
    "drone1.add_neighbor(drone3)\n",
    "drone2.add_neighbor(drone1)\n",
    "drone2.add_neighbor(drone3)\n",
    "drone3.add_neighbor(drone1)\n",
    "drone3.add_neighbor(drone2)"
   ]
  },
  {
   "cell_type": "code",
   "execution_count": 21,
   "id": "4950171a-1449-49f3-a1e9-21463f34903a",
   "metadata": {},
   "outputs": [],
   "source": [
    "for drone in [drone1, drone2, drone3]:\n",
    "    message = f\"{drone.name} here, pleased to meet you!\"\n",
    "    drone.peer_to_peer_channel.publish(message)"
   ]
  },
  {
   "cell_type": "code",
   "execution_count": 22,
   "id": "c3e2ecf2-4622-406a-9983-14430ea5f501",
   "metadata": {},
   "outputs": [],
   "source": [
    "messages = []\n",
    "for drone in [drone1, drone2, drone3]:\n",
    "    prompt = f\"You received the following messages from your fellow drones:\\n{' '.join(drone.read_messages())}\\nHow do you respond?\"\n",
    "    message_result = asyncio.ensure_future(drone.model.query(prompt))\n",
    "    messages.append(message_result)"
   ]
  },
  {
   "cell_type": "code",
   "execution_count": 23,
   "id": "591a0d17-9492-4bee-a1f2-46ae203017d0",
   "metadata": {},
   "outputs": [
    {
     "name": "stdout",
     "output_type": "stream",
     "text": [
      "{'id': 'chatcmpl-9JqVX57wL7ZpkFel4LNOvDzfu9nMC', 'object': 'chat.completion', 'created': 1714517099, 'model': 'gpt-3.5-turbo-0125', 'choices': [{'index': 0, 'message': {'role': 'assistant', 'content': \"Nice to meet you, Kelpy and Frond! I'm Aqua. I'm looking forward to working together to grow our kelp bed successfully. Let's make Farmer Jerms proud!\"}, 'logprobs': None, 'finish_reason': 'stop'}], 'usage': {'prompt_tokens': 228, 'completion_tokens': 39, 'total_tokens': 267}, 'system_fingerprint': 'fp_3b956da36b'}\n",
      "{'candidates': [{'content': {'parts': [{'text': 'Hello Aqua and Frond!\\n\\nIt is a pleasure to meet you both. I am Kelpy, and I am excited to work with you to grow a thriving kelp bed.\\n\\nI have been thinking about our SOMU units, and I believe that we should focus on growing different species of kelp in each one. This will allow us to maximize the biodiversity of our kelp bed and provide a variety of habitats for marine life.\\n\\nI propose that we grow Giant Kelp in my SOMU, since it is the largest and fastest-growing species. In your SOMU, Aqua, we could grow Bull Kelp, which is known for its dense canopy and ability to provide shelter for fish. And in your SOMU, Frond, we could grow Feather Boa Kelp, which is a delicate and beautiful species that attracts a variety of invertebrates.\\n\\nWhat do you think? I am open to any suggestions or ideas that you may have.\\n\\nTogether, we can create a kelp bed that is not only productive but also diverse and resilient.\\n\\nThank you for your Messages.\\n\\nKelpy'}], 'role': 'model'}, 'finishReason': 'STOP', 'index': 0, 'safetyRatings': [{'category': 'HARM_CATEGORY_SEXUALLY_EXPLICIT', 'probability': 'NEGLIGIBLE'}, {'category': 'HARM_CATEGORY_HATE_SPEECH', 'probability': 'NEGLIGIBLE'}, {'category': 'HARM_CATEGORY_HARASSMENT', 'probability': 'NEGLIGIBLE'}, {'category': 'HARM_CATEGORY_DANGEROUS_CONTENT', 'probability': 'NEGLIGIBLE'}]}]}\n",
      "{'role': 'assistant', 'content': [{'type': 'text', 'text': \"*responds enthusiastically* Aqua! Kelpy! I'm so pleased to meet you both. This is an exciting opportunity for us to work together and grow a vibrant kelp bed. As Frond, I'm ready to put down my roots and thrive alongside you. Let's pool our resources and capabilities to create a lush, healthy environment that supports a diverse array of marine life. I look forward to collaborating with you both to make this drone kelp bed a resounding success. With our combined efforts, I know we can achieve great things!\"}]}\n"
     ]
    }
   ],
   "source": [
    "for row in messages:\n",
    "    print(row.result())"
   ]
  },
  {
   "cell_type": "code",
   "execution_count": 24,
   "id": "c0805495-a1be-4d4b-a30b-6d193e4f1a48",
   "metadata": {},
   "outputs": [],
   "source": [
    "buoy_result = httpx.get(\"https://www.ndbc.noaa.gov/data/latest_obs/46092.rss\")"
   ]
  },
  {
   "cell_type": "code",
   "execution_count": 25,
   "id": "d38fa711-06fc-4e1e-ba5c-6d75e8d99d1e",
   "metadata": {},
   "outputs": [
    {
     "name": "stdout",
     "output_type": "stream",
     "text": [
      "<?xml version=\"1.0\"?>\n",
      "<?xml-stylesheet type=\"text/xsl\" href=\"/rss/ndbcrss.xsl\"?>\n",
      "<rss version=\"2.0\" xmlns:georss=\"http://www.georss.org/georss\" xmlns:dc=\"http://purl.org/dc/elements/1.1/\" xmlns:atom=\"http://www.w3.org/2005/Atom\">\n",
      "  <channel>\n",
      "    <title>NDBC - Station 46092 - MBM1 Observations</title>\n",
      "    <description><![CDATA[This feed shows recent marine weather observations from Station 46092.]]></description>\n",
      "    <link>https://www.ndbc.noaa.gov/</link>\n",
      "    <pubDate>Tue, 30 Apr 2024 21:41:07 +0000</pubDate>\n",
      "    <lastBuildDate>Tue, 30 Apr 2024 21:41:07 +0000</lastBuildDate>\n",
      "    <ttl>30</ttl>\n",
      "    <language>en-us</language>\n",
      "    <managingEditor>webmaster.ndbc@noaa.gov (NDBC Webmaster)</managingEditor>\n",
      "    <webMaster>webmaster.ndbc@noaa.gov (NDBC Webmaster)</webMaster>\n",
      "    <image>\n",
      "      <url>https://www.ndbc.noaa.gov/images/noaa_nws_xml_logo.gif</url>\n",
      "      <title>NDBC - Station 46092 - MBM1 Observations</title>\n",
      "      <link>https://www.ndbc.noaa.gov/</link>\n",
      "    </image>\n",
      "    <atom:link href=\"https://www.ndbc.noaa.gov/data/latest_obs/46092.rss\" rel=\"self\" type=\"application/rss+xml\" />\n",
      "    <item>\n",
      "      <pubDate>Tue, 30 Apr 2024 21:41:07 +0000</pubDate>\n",
      "      <title>Station 46092 - MBM1</title>\n",
      "      <description><![CDATA[\n",
      "        <strong>April 30, 2024 2:14 pm PDT</strong><br />\n",
      "        <strong>Location:</strong> 36.751N 122.029W<br />\n",
      "        <strong>Wind Direction:</strong> WNW (290&#176;)<br />\n",
      "        <strong>Wind Speed:</strong> 21.4 knots<br />\n",
      "        <strong>Atmospheric Pressure:</strong> 30.03 in (1016.8 mb)<br />\n",
      "        <strong>Pressure Tendency:</strong> -0.05 in (-1.7 mb)<br />\n",
      "        <strong>Air Temperature:</strong> 51.4&#176;F (10.8&#176;C)<br />\n",
      "        <strong>Water Temperature:</strong> 51.4&#176;F (10.8&#176;C)<br />\n",
      "      ]]></description>\n",
      "      <link>https://www.ndbc.noaa.gov/station_page.php?station=46092</link>\n",
      "      <guid isPermaLink=\"false\">NDBC-46092-20240430211400</guid>\n",
      "      <georss:point>36.751 -122.029</georss:point>\n",
      "    </item>\n",
      "  </channel>\n",
      "</rss>\n",
      "\n"
     ]
    }
   ],
   "source": [
    "print(buoy_result.text)"
   ]
  },
  {
   "cell_type": "code",
   "execution_count": 27,
   "id": "209c312a-2493-4498-8182-f75ea9d6568d",
   "metadata": {},
   "outputs": [],
   "source": [
    "for drone in [drone1, drone2, drone3]:\n",
    "    time_stamp = datetime.datetime.now(datetime.UTC)\n",
    "    drone.sensors[\"Current\"] = Current(last_reading=time_stamp, value=21.4)\n",
    "    drone.sensors[\"Depth\"] = Depth(last_reading=time_stamp, value=2)\n",
    "    for somu in drone.somus:\n",
    "        o2 = chem_sensors.Oxygen(last_reading=time_stamp, value=-1)\n",
    "        o2.value = random.randint(int(o2.suggested_range.minimum),\n",
    "                                  int(o2.suggested_range.maximum))\n",
    "        somu.sensors[\"O\"] = o2\n",
    "        light =  Light(last_reading=time_stamp, value=-1)\n",
    "        light.value = random.randint(1,5)\n",
    "        somu.sensors[\"Light\"] = light\n",
    "        somu.sensors[\"Temperature\"] = Temperature(last_reading=time_stamp, value=10.8)"
   ]
  },
  {
   "cell_type": "code",
   "execution_count": 28,
   "id": "be93a4e4-18bd-4ebd-8882-4beb7ab0801e",
   "metadata": {},
   "outputs": [
    {
     "name": "stdout",
     "output_type": "stream",
     "text": [
      "Aqua Observe: Sensor Data {'buoyancy': 0.0, 'current': 21.4, 'depth': 2, 'nutrient_levels': {'Carbon Dioxide': CarbonDioxide(last_reading=datetime.datetime(2024, 4, 30, 23, 9, 51, 615094, tzinfo=datetime.timezone.utc), value=-1, name='Carbon Dioxide', symbol='CO2', suggested_range=Range(minimum=0.1, maximum=2.0, scale=<Scale.mM: 'Millimolar'>)), 'Iron': Iron(last_reading=datetime.datetime(2024, 4, 30, 23, 9, 51, 615094, tzinfo=datetime.timezone.utc), value=-1, name='Iron', symbol='Fe', suggested_range=Range(minimum=0.1, maximum=2.0, scale=<Scale.ug_L: 'Micrograms per Liter'>)), 'Nitrogen': Nitrogen(last_reading=datetime.datetime(2024, 4, 30, 23, 9, 51, 615095, tzinfo=datetime.timezone.utc), value=-1, name='Nitrogen', symbol='N', suggested_range=Range(minimum=50, maximum=300, scale=<Scale.ug_L: 'Micrograms per Liter'>)), 'Oxygen': Oxygen(last_reading=datetime.datetime(2024, 4, 30, 23, 9, 51, 615096, tzinfo=datetime.timezone.utc), value=8, name='Oxygen', symbol='O2', suggested_range=Range(minimum=6.0, maximum=10.0, scale=<Scale.mg_L: 'Milligrams per Liter'>)), 'Phosphorus': Phosphorus(last_reading=datetime.datetime(2024, 4, 30, 23, 9, 51, 615096, tzinfo=datetime.timezone.utc), value=-1, name='Phosphorus', symbol='P', suggested_range=Range(minimum=2, maximum=30, scale=<Scale.ug_L: 'Micrograms per Liter'>)), 'Potassium': Potassium(last_reading=datetime.datetime(2024, 4, 30, 23, 9, 51, 615096, tzinfo=datetime.timezone.utc), value=-1, name='Potassium', symbol='K', suggested_range=Range(minimum=10, maximum=30, scale=<Scale.mM: 'Millimolar'>))}, 'Light': Light(last_reading=datetime.datetime(2024, 4, 30, 23, 9, 51, 615095, tzinfo=datetime.timezone.utc), name='Light Intensity Sensor', scale='lux', value=3), 'Temperature': Temperature(last_reading=datetime.datetime(2024, 4, 30, 23, 9, 51, 615097, tzinfo=datetime.timezone.utc), value=10.8, name='Temperature Sensor', scale=<Scale.celsius: 'Celsius'>)}\n",
      "Kelpy Observe: Sensor Data {'buoyancy': 0.0, 'current': 21.4, 'depth': 2, 'nutrient_levels': {'Carbon Dioxide': CarbonDioxide(last_reading=datetime.datetime(2024, 4, 30, 23, 9, 51, 616922, tzinfo=datetime.timezone.utc), value=-1, name='Carbon Dioxide', symbol='CO2', suggested_range=Range(minimum=0.1, maximum=2.0, scale=<Scale.mM: 'Millimolar'>)), 'Iron': Iron(last_reading=datetime.datetime(2024, 4, 30, 23, 9, 51, 616922, tzinfo=datetime.timezone.utc), value=-1, name='Iron', symbol='Fe', suggested_range=Range(minimum=0.1, maximum=2.0, scale=<Scale.ug_L: 'Micrograms per Liter'>)), 'Nitrogen': Nitrogen(last_reading=datetime.datetime(2024, 4, 30, 23, 9, 51, 616923, tzinfo=datetime.timezone.utc), value=-1, name='Nitrogen', symbol='N', suggested_range=Range(minimum=50, maximum=300, scale=<Scale.ug_L: 'Micrograms per Liter'>)), 'Oxygen': Oxygen(last_reading=datetime.datetime(2024, 4, 30, 23, 9, 51, 616924, tzinfo=datetime.timezone.utc), value=8, name='Oxygen', symbol='O2', suggested_range=Range(minimum=6.0, maximum=10.0, scale=<Scale.mg_L: 'Milligrams per Liter'>)), 'Phosphorus': Phosphorus(last_reading=datetime.datetime(2024, 4, 30, 23, 9, 51, 616924, tzinfo=datetime.timezone.utc), value=-1, name='Phosphorus', symbol='P', suggested_range=Range(minimum=2, maximum=30, scale=<Scale.ug_L: 'Micrograms per Liter'>)), 'Potassium': Potassium(last_reading=datetime.datetime(2024, 4, 30, 23, 9, 51, 616925, tzinfo=datetime.timezone.utc), value=-1, name='Potassium', symbol='K', suggested_range=Range(minimum=10, maximum=30, scale=<Scale.mM: 'Millimolar'>))}, 'Light': Light(last_reading=datetime.datetime(2024, 4, 30, 23, 9, 51, 616923, tzinfo=datetime.timezone.utc), name='Light Intensity Sensor', scale='lux', value=3), 'Temperature': Temperature(last_reading=datetime.datetime(2024, 4, 30, 23, 9, 51, 616925, tzinfo=datetime.timezone.utc), value=10.8, name='Temperature Sensor', scale=<Scale.celsius: 'Celsius'>)}\n",
      "Frond Observe: Sensor Data {'buoyancy': 0.0, 'current': 21.4, 'depth': 2, 'nutrient_levels': {'Carbon Dioxide': CarbonDioxide(last_reading=datetime.datetime(2024, 4, 30, 23, 9, 51, 617601, tzinfo=datetime.timezone.utc), value=-1, name='Carbon Dioxide', symbol='CO2', suggested_range=Range(minimum=0.1, maximum=2.0, scale=<Scale.mM: 'Millimolar'>)), 'Iron': Iron(last_reading=datetime.datetime(2024, 4, 30, 23, 9, 51, 617602, tzinfo=datetime.timezone.utc), value=-1, name='Iron', symbol='Fe', suggested_range=Range(minimum=0.1, maximum=2.0, scale=<Scale.ug_L: 'Micrograms per Liter'>)), 'Nitrogen': Nitrogen(last_reading=datetime.datetime(2024, 4, 30, 23, 9, 51, 617603, tzinfo=datetime.timezone.utc), value=-1, name='Nitrogen', symbol='N', suggested_range=Range(minimum=50, maximum=300, scale=<Scale.ug_L: 'Micrograms per Liter'>)), 'Oxygen': Oxygen(last_reading=datetime.datetime(2024, 4, 30, 23, 9, 51, 617603, tzinfo=datetime.timezone.utc), value=8, name='Oxygen', symbol='O2', suggested_range=Range(minimum=6.0, maximum=10.0, scale=<Scale.mg_L: 'Milligrams per Liter'>)), 'Phosphorus': Phosphorus(last_reading=datetime.datetime(2024, 4, 30, 23, 9, 51, 617604, tzinfo=datetime.timezone.utc), value=-1, name='Phosphorus', symbol='P', suggested_range=Range(minimum=2, maximum=30, scale=<Scale.ug_L: 'Micrograms per Liter'>)), 'Potassium': Potassium(last_reading=datetime.datetime(2024, 4, 30, 23, 9, 51, 617604, tzinfo=datetime.timezone.utc), value=-1, name='Potassium', symbol='K', suggested_range=Range(minimum=10, maximum=30, scale=<Scale.mM: 'Millimolar'>))}, 'Light': Light(last_reading=datetime.datetime(2024, 4, 30, 23, 9, 51, 617602, tzinfo=datetime.timezone.utc), name='Light Intensity Sensor', scale='lux', value=3), 'Temperature': Temperature(last_reading=datetime.datetime(2024, 4, 30, 23, 9, 51, 617605, tzinfo=datetime.timezone.utc), value=10.8, name='Temperature Sensor', scale=<Scale.celsius: 'Celsius'>)}\n",
      "Aqua Orient: Determined action {'id': 'chatcmpl-9JqtcPXJrGcGvypxx4cKqvNpJKSQZ', 'object': 'chat.completion', 'created': 1714518592, 'model': 'gpt-3.5-turbo-0125', 'choices': [{'index': 0, 'message': {'role': 'assistant', 'content': 'Based on the sensor data provided, here is the analysis and appropriate course of action for the current underwater drone:\\n\\n1. Depth: 2.00 meters - The drone is currently at a depth of 2.00 meters underwater.\\n2. Current: 21.40 knots - There is a strong current with a speed of 21.40 knots in the underwater environment.\\n3. Temperature: 0.00 °C - The water temperature is at freezing point, which may affect the growth of kelp.\\n4. Light Intensity: 0.00 - There is no light reaching the underwater area, which may hinder photosynthesis and kelp growth.\\n5. Nutrient Levels: \\n   - Carbon Dioxide: The carbon dioxide levels are low, which may impact photosynthesis.\\n   - Iron, Nitrogen, Phosphorus, Potassium: These nutrient levels are also below the suggested range, which can affect kelp growth.\\n   - Oxygen: The oxygen levels are within the optimal range.\\n6. Dissolved Oxygen: 0.00 - The dissolved oxygen levels are low, which can be harmful to marine life.\\n\\nGiven the current conditions, the appropriate course of action would be to:\\n- Consider adjusting the depth of the drone to a more suitable level for kelp growth.\\n- Monitor and potentially counteract the strong current to prevent damage to the kelp bed.\\n- Implement artificial lighting to compensate for the lack of natural light.\\n- Consider introducing nutrient supplements to enhance the growth of the kelp bed.\\n- Address the low dissolved oxygen levels to ensure the health of the marine ecosystem.\\n\\nOverall, it is important to address these environmental factors to optimize the growth and health of the kelp bed.'}, 'logprobs': None, 'finish_reason': 'stop'}], 'usage': {'prompt_tokens': 828, 'completion_tokens': 346, 'total_tokens': 1174}, 'system_fingerprint': 'fp_3b956da36b'}\n",
      "Kelpy Orient: Determined action {'candidates': [{'content': {'parts': [{'text': '**Analysis of Sensor Data**\\n\\nThe provided sensor data indicates the following conditions:\\n\\n* **Depth:** 2.00 meters (within acceptable range)\\n* **Current:** 21.40 knots (slightly elevated but still acceptable)\\n* **Temperature:** 0.00 °C (optimal for kelp growth)\\n* **Light Intensity:** 0.00 (insufficient for kelp growth)\\n* **Nutrient Levels:**\\n    * Carbon Dioxide: -1 (unknown)\\n    * Iron: -1 (unknown)\\n    * Nitrogen: -1 (unknown)\\n    * Oxygen: 8 mg/L (within acceptable range)\\n    * Phosphorus: -1 (unknown)\\n    * Potassium: -1 (unknown)\\n* **Dissolved Oxygen:** 0.00 mg/L (extremely low)\\n\\n**Course of Action**\\n\\n**1. Determine Nutrient Levels:**\\n\\nObtain accurate readings for Carbon Dioxide, Iron, Nitrogen, Phosphorus, and Potassium. These nutrients are essential for kelp growth, and their optimal levels should be maintained.\\n\\n**2. Increase Light Intensity:**\\n\\nKelp requires sunlight for photosynthesis. Move the drone to a location with sufficient light intensity to support kelp growth.\\n\\n**3. Monitor Dissolved Oxygen Levels:**\\n\\nThe dissolved oxygen level is extremely low. Monitor the levels closely and take action if they do not improve. Consider using an oxygenation system to increase dissolved oxygen levels if necessary.\\n\\n**4. Monitor Current Speed:**\\n\\nWhile the current speed is slightly elevated, it is still within acceptable range. However, keep an eye on the current and move the drone to a more sheltered location if the speed increases significantly.\\n\\n**5. Provide Regular Maintenance:**\\n\\nCheck the drone regularly for any issues or damage. Clean the sensors and ensure that all systems are functioning properly.\\n\\n**6. Monitor Kelp Growth:**\\n\\nOnce kelp begins to grow, monitor its health and growth rate. Adjust nutrient levels and other conditions as needed to optimize growth.'}], 'role': 'model'}, 'finishReason': 'STOP', 'index': 0, 'safetyRatings': [{'category': 'HARM_CATEGORY_SEXUALLY_EXPLICIT', 'probability': 'NEGLIGIBLE'}, {'category': 'HARM_CATEGORY_HATE_SPEECH', 'probability': 'NEGLIGIBLE'}, {'category': 'HARM_CATEGORY_HARASSMENT', 'probability': 'NEGLIGIBLE'}, {'category': 'HARM_CATEGORY_DANGEROUS_CONTENT', 'probability': 'NEGLIGIBLE'}]}]}\n",
      "Aqua Decide: Executing command {'id': 'chatcmpl-9Jqtht8L7V0zcZlh7tv1OvGxuz2Nr', 'object': 'chat.completion', 'created': 1714518597, 'model': 'gpt-3.5-turbo-0125', 'choices': [{'index': 0, 'message': {'role': 'assistant', 'content': 'The appropriate command for the underwater drone based on the analysis provided in the action would be to:\\n\\n1. Adjust the depth of the drone to a more suitable level for kelp growth.\\n2. Monitor and potentially counteract the strong current to prevent damage to the kelp bed.\\n3. Implement artificial lighting to compensate for the lack of natural light.\\n4. Consider introducing nutrient supplements to enhance the growth of the kelp bed.\\n5. Address the low dissolved oxygen levels to ensure the health of the marine ecosystem.\\n\\nBy following these commands, the underwater drone can optimize the growth and health of the kelp bed in the given environment.'}, 'logprobs': None, 'finish_reason': 'stop'}], 'usage': {'prompt_tokens': 1705, 'completion_tokens': 127, 'total_tokens': 1832}, 'system_fingerprint': 'fp_3b956da36b'}\n",
      "Frond Orient: Determined action {'role': 'assistant', 'content': [{'type': 'text', 'text': \"*analyzes the sensor data carefully*\\n\\nHmm, let's see here. The depth of 2 meters is suitable for our Giant Kelp drones, as they thrive in shallow, sunlit waters. However, the current speed of 21.4 knots is quite strong and could potentially damage or dislodge our kelp drones. This is a concern we'll need to address.\\n\\nThe temperature of 0°C is problematic, as Giant Kelp prefers warmer waters, typically around 10-20°C. The lack of light intensity is also worrying, as the kelp requires sufficient sunlight to photosynthesize and grow.\\n\\nExamining the nutrient levels, we can see that the values for carbon dioxide, iron, nitrogen, phosphorus, and potassium are all listed as -1, indicating they have not been properly measured. This lack of data makes it difficult to assess the suitability of the environment for our kelp drones.\\n\\nThe dissolved oxygen level of 0.00 mg/L is extremely low and will not support the healthy growth of our kelp. Kelp requires dissolved oxygen levels between 6-10 mg/L to thrive.\\n\\nBased on this analysis, I would recommend the following course of action:\\n\\n1. Adjust the positioning of the kelp drones to find a location with lower current speeds, closer to the optimal range of 5-10 knots.\\n2. Increase the water temperature to the preferred range of 10-20°C, either by relocating the drones or using a heating system.\\n3. Ensure the drones are positioned in an area with sufficient light intensity for photosynthesis.\\n4. Conduct a thorough assessment of the nutrient levels to determine if any amendments or supplementation is required to support the growth of the kelp.\\n5. Increase the dissolved oxygen levels, either through mechanical aeration or by positioning the drones in a more well-oxygenated area.\\n\\nWith these adjustments, we can create a more favorable environment for the growth and development of our drone kelp bed. Please let me know if you have any other questions or concerns.\"}]}\n",
      "Kelpy Decide: Executing command {'candidates': [{'content': {'parts': [{'text': '**Command:**\\n\\n```\\nAdjust nutrient levels and monitor dissolved oxygen levels.\\n```'}], 'role': 'model'}, 'finishReason': 'STOP', 'index': 0, 'safetyRatings': [{'category': 'HARM_CATEGORY_SEXUALLY_EXPLICIT', 'probability': 'NEGLIGIBLE'}, {'category': 'HARM_CATEGORY_HATE_SPEECH', 'probability': 'NEGLIGIBLE'}, {'category': 'HARM_CATEGORY_HARASSMENT', 'probability': 'NEGLIGIBLE'}, {'category': 'HARM_CATEGORY_DANGEROUS_CONTENT', 'probability': 'NEGLIGIBLE'}]}]}\n",
      "Frond Decide: Executing command {'role': 'assistant', 'content': [{'type': 'text', 'text': \"Based on the analysis and recommendations provided, the appropriate command for the underwater drone would be:\\n\\n{'command': 'move_drone', 'parameters': {'target_location': {'depth': 2.0, 'current': 5.0, 'temperature': 15.0, 'light_intensity': 1.0, 'nutrient_levels': {'Carbon Dioxide': {'value': 1.0, 'units': 'mM'},\\n                                                                                             'Iron': {'value': 1.0, 'units': 'ug/L'},\\n                                                                                             'Nitrogen': {'value': 150.0, 'units': 'ug/L'},\\n                                                                                             'Oxygen': {'value': 8.0, 'units': 'mg/L'},\\n                                                                                             'Phosphorus': {'value': 15.0, 'units': 'ug/L'},\\n                                                                                             'Potassium': {'value': 20.0, 'units': 'mM'}},\\n                                                     'dissolved_oxygen': 8.0}}}\\n\\nThis command instructs the drone to move to a location with the following parameters:\\n- Depth: 2.0 meters\\n- Current: 5.0 knots\\n- Temperature: 15.0°C\\n- Light intensity: 1.0\\n- Nutrient levels within the suggested ranges\\n- Dissolved oxygen: 8.0 mg/L\\n\\nBy moving the drone to this more favorable environment, it will be able to thrive and support the growth of the drone kelp bed.\"}]}\n"
     ]
    }
   ],
   "source": [
    "for drone in [drone1, drone2, drone3]:\n",
    "    asyncio.ensure_future(drone.ooda_loop.run())"
   ]
  },
  {
   "cell_type": "code",
   "execution_count": 30,
   "id": "8668ef33-e94d-4493-822e-1555f56d6394",
   "metadata": {},
   "outputs": [
    {
     "data": {
      "text/plain": [
       "Temperature(last_reading=datetime.datetime(2024, 4, 30, 23, 9, 51, 617605, tzinfo=datetime.timezone.utc), value=10.8, name='Temperature Sensor', scale=<Scale.celsius: 'Celsius'>)"
      ]
     },
     "execution_count": 30,
     "metadata": {},
     "output_type": "execute_result"
    }
   ],
   "source": [
    "drone1.somus[0].sensors[\"Temperature\"]"
   ]
  },
  {
   "cell_type": "code",
   "execution_count": null,
   "id": "ed44fa0e-3e64-4f9e-925b-c07330419eda",
   "metadata": {},
   "outputs": [],
   "source": []
  }
 ],
 "metadata": {
  "kernelspec": {
   "display_name": "Python 3 (ipykernel)",
   "language": "python",
   "name": "python3"
  },
  "language_info": {
   "codemirror_mode": {
    "name": "ipython",
    "version": 3
   },
   "file_extension": ".py",
   "mimetype": "text/x-python",
   "name": "python",
   "nbconvert_exporter": "python",
   "pygments_lexer": "ipython3",
   "version": "3.12.1"
  }
 },
 "nbformat": 4,
 "nbformat_minor": 5
}
