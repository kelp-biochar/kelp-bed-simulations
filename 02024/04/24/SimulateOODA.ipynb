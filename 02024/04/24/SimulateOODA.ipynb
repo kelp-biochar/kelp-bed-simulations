{
 "cells": [
  {
   "cell_type": "code",
   "execution_count": 3,
   "id": "4c25c3ba-5649-42e7-a42e-d83503335536",
   "metadata": {},
   "outputs": [],
   "source": [
    "import asyncio\n",
    "import pathlib\n",
    "import sys\n",
    "\n",
    "import httpx\n",
    "from kelp_drone.drone import Drone, OODALoop\n",
    "\n",
    "\n",
    "sys.path.append(\"../../../src/\")\n",
    "\n",
    "from kelp_bed_simulation.prep import chatgpt"
   ]
  },
  {
   "cell_type": "code",
   "execution_count": 5,
   "id": "1f53d451-74a0-4aef-af1e-cf6e9164a809",
   "metadata": {},
   "outputs": [],
   "source": [
    "oceanus = Drone(name='Oceanus', model=chatgpt)"
   ]
  },
  {
   "cell_type": "code",
   "execution_count": 7,
   "id": "b0050ba5-1bf3-4048-af57-c3bb8c828f19",
   "metadata": {},
   "outputs": [],
   "source": [
    "oceanus.ooda_loop = OODALoop()"
   ]
  },
  {
   "cell_type": "code",
   "execution_count": 9,
   "id": "45385643-2739-49f5-a760-c52df50e60b5",
   "metadata": {},
   "outputs": [],
   "source": [
    "first_loop = asyncio.ensure_future(oceanus.ooda_loop.run(oceanus))"
   ]
  },
  {
   "cell_type": "code",
   "execution_count": null,
   "id": "b4cedb43-7a5b-4cff-9184-e3f1c95d6c4a",
   "metadata": {},
   "outputs": [],
   "source": []
  }
 ],
 "metadata": {
  "kernelspec": {
   "display_name": "Python 3 (ipykernel)",
   "language": "python",
   "name": "python3"
  },
  "language_info": {
   "codemirror_mode": {
    "name": "ipython",
    "version": 3
   },
   "file_extension": ".py",
   "mimetype": "text/x-python",
   "name": "python",
   "nbconvert_exporter": "python",
   "pygments_lexer": "ipython3",
   "version": "3.12.1"
  }
 },
 "nbformat": 4,
 "nbformat_minor": 5
}
