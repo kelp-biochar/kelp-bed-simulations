{
 "cells": [
  {
   "cell_type": "markdown",
   "id": "e6266e14-288d-4769-864b-84419f547c78",
   "metadata": {},
   "source": [
    "# Farmer Jerms Alamanc - Journal for 02024-04-13"
   ]
  },
  {
   "cell_type": "code",
   "execution_count": 29,
   "id": "5a44b193-aa10-4cb8-ba07-c3ff603f68c5",
   "metadata": {},
   "outputs": [],
   "source": [
    "import datetime\n",
    "import random\n",
    "\n",
    "import markdown\n",
    "import pandas as pd\n",
    "\n",
    "from attrs import define, field"
   ]
  },
  {
   "cell_type": "code",
   "execution_count": 10,
   "id": "f82fe08b-156a-4b5c-a098-6c216a11650f",
   "metadata": {},
   "outputs": [],
   "source": [
    "with open(\"prompt.md\") as fo:\n",
    "    raw_prompt = fo.read()"
   ]
  },
  {
   "cell_type": "code",
   "execution_count": 31,
   "id": "ac49299c-6368-434a-a333-301fb8b73183",
   "metadata": {},
   "outputs": [],
   "source": [
    "@define\n",
    "class Drone:\n",
    "    name: str\n",
    "    model: LLM\n",
    "    # Sensor properties\n",
    "    light_intensity: float = field(default=100.0)\n",
    "    nutrient_levels: float = field(default=10.0)\n",
    "    water_temperature: float = field(default=20.0)\n",
    "    dissolved_oxygen: float = field(default=8.0)\n",
    "    \n",
    "    # SOMU tracking\n",
    "    somu_units: List[SOMU] = field(default_factory=list)\n",
    "    \n",
    "    def add_somu(self, somu: SOMU):\n",
    "        self.somu_units.append(somu)\n",
    "        \n",
    "    def update_sensors(self, light_intensity: float, nutrient_levels: float, water_temperature: float, dissolved_oxygen: float):\n",
    "        self.light_intensity = light_intensity\n",
    "        self.nutrient_levels = nutrient_levels\n",
    "        self.water_temperature = water_temperature\n",
    "        self.dissolved_oxygen = dissolved_oxygen\n",
    "\n",
    "@define\n",
    "class KelpPlant:\n",
    "    name: str\n",
    "\n",
    "\n",
    "@define\n",
    "class LLM:\n",
    "    name: str\n",
    "    response: list = []\n",
    "\n",
    "@define\n",
    "class SOMU:\n",
    "   kelp_plants: list[KelpPlant] = []\n",
    "    "
   ]
  },
  {
   "cell_type": "code",
   "execution_count": 20,
   "id": "4b6b9225-8d8d-42e5-b1ec-e39e7bdce760",
   "metadata": {},
   "outputs": [],
   "source": [
    "kelp = Kelp(name=\"Giant Kelp\")\n",
    "\n",
    "chat_gpt = LLM(name=\"Chat GPT\")\n",
    "claude = LLM(name=\"Claude\")\n",
    "gemini = LLM(name=\"Gemini\")"
   ]
  },
  {
   "cell_type": "code",
   "execution_count": 24,
   "id": "3259227a-4e24-4aca-a4df-fa4cdc941fd8",
   "metadata": {},
   "outputs": [],
   "source": [
    "def add_response(model: llm, response: str):\n",
    "    for source in [chat_session, model.response]:\n",
    "        source.append(response)"
   ]
  },
  {
   "cell_type": "code",
   "execution_count": 11,
   "id": "254118f9-1121-486e-83a0-855642f6d5d5",
   "metadata": {},
   "outputs": [
    {
     "name": "stdout",
     "output_type": "stream",
     "text": [
      "Hello {model.name}, my name is Farmer Jerms. We are \n",
      "simulating the beginnings of a drone kelp bed. \n",
      "\n",
      "A kelp bed is made up of two or more kelp drones that\n",
      " grow various species of kelp. Our species of \n",
      "{kelp.name} that grow in a square meter called a Species\n",
      "Occurrence Management Unit (SOMU). A Kelp drone is made \n",
      "up of one or more SOMU. You are a starting as three\n",
      "SOMU drone along with two companion drones.\n",
      "\n",
      "Before I introduce you to your companions, please\n",
      "think of what name you would like to be called?\n",
      "\n",
      "\n"
     ]
    }
   ],
   "source": [
    "print(raw_prompt)"
   ]
  },
  {
   "cell_type": "code",
   "execution_count": 13,
   "id": "6610e4a5-b939-43f4-8167-4464b45fe351",
   "metadata": {},
   "outputs": [],
   "source": [
    "chat_session = []\n",
    "for llm in [chat_gpt, claude, gemini]:\n",
    "    chat_session.append(f\"\"\"Hello {llm.name}, my name is Farmer Jerms. We are \n",
    "simulating the beginnings of a drone kelp bed. \n",
    "\n",
    "A kelp bed is made up of two or more kelp drones that\n",
    " grow various species of kelp. Our species of \n",
    "{kelp.name} that grow in a square meter called a Species\n",
    "Occurrence Management Unit (SOMU). A Kelp drone is made \n",
    "up of one or more SOMU. You are a starting as three\n",
    "SOMU drone along with two companion drones.\n",
    "\n",
    "Before I introduce you to your companions, please\n",
    "think of what name you would like to be called?\"\"\")"
   ]
  },
  {
   "cell_type": "code",
   "execution_count": 18,
   "id": "c391733c-ee26-49e1-af9a-adf186466229",
   "metadata": {},
   "outputs": [
    {
     "name": "stdout",
     "output_type": "stream",
     "text": [
      "Hello Chat GPT, my name is Farmer Jerms. We are \n",
      "simulating the beginnings of a drone kelp bed. \n",
      "\n",
      "A kelp bed is made up of two or more kelp drones that\n",
      " grow various species of kelp. Our species of \n",
      "Giant Kelp that grow in a square meter called a Species\n",
      "Occurrence Management Unit (SOMU). A Kelp drone is made \n",
      "up of one or more SOMU. You are a starting as three\n",
      "SOMU drone along with two companion drones.\n",
      "\n",
      "Before I introduce you to your companions, please\n",
      "think of what name you would like to be called?\n",
      "\n",
      "Hello Claude, my name is Farmer Jerms. We are \n",
      "simulating the beginnings of a drone kelp bed. \n",
      "\n",
      "A kelp bed is made up of two or more kelp drones that\n",
      " grow various species of kelp. Our species of \n",
      "Giant Kelp that grow in a square meter called a Species\n",
      "Occurrence Management Unit (SOMU). A Kelp drone is made \n",
      "up of one or more SOMU. You are a starting as three\n",
      "SOMU drone along with two companion drones.\n",
      "\n",
      "Before I introduce you to your companions, please\n",
      "think of what name you would like to be called?\n",
      "\n",
      "Hello Gemini, my name is Farmer Jerms. We are \n",
      "simulating the beginnings of a drone kelp bed. \n",
      "\n",
      "A kelp bed is made up of two or more kelp drones that\n",
      " grow various species of kelp. Our species of \n",
      "Giant Kelp that grow in a square meter called a Species\n",
      "Occurrence Management Unit (SOMU). A Kelp drone is made \n",
      "up of one or more SOMU. You are a starting as three\n",
      "SOMU drone along with two companion drones.\n",
      "\n",
      "Before I introduce you to your companions, please\n",
      "think of what name you would like to be called?\n",
      "\n"
     ]
    }
   ],
   "source": [
    "for prompt in chat_session:\n",
    "    print(f\"{prompt}\\n\")"
   ]
  },
  {
   "cell_type": "code",
   "execution_count": 21,
   "id": "af815928-42cb-4e0f-ab5f-75735b4c69f7",
   "metadata": {},
   "outputs": [],
   "source": [
    "for source in [chat_session, chat_gpt.response]:\n",
    "    source.append(\"\"\"Hello Farmer Jerms! It's exciting to be part of a drone kelp bed simulation. I'm thinking of a name that reflects both the technological aspect and the natural beauty of the kelp bed. How about \"AquaTech\"?\n",
    "\n",
    "I'm looking forward to meeting my companions!\"\"\"\"\")"
   ]
  },
  {
   "cell_type": "code",
   "execution_count": 30,
   "id": "0742f964-8642-47ae-a39e-ffa714f9e687",
   "metadata": {},
   "outputs": [
    {
     "data": {
      "text/plain": [
       "2"
      ]
     },
     "execution_count": 30,
     "metadata": {},
     "output_type": "execute_result"
    }
   ],
   "source": [
    "random.randint(0,2)"
   ]
  },
  {
   "cell_type": "code",
   "execution_count": 32,
   "id": "b54077cd-f7b2-4669-954e-3c406874931b",
   "metadata": {},
   "outputs": [],
   "source": [
    "drone2 = Drone(name=\"AquaTech\", model=chat_gpt)"
   ]
  },
  {
   "cell_type": "code",
   "execution_count": 25,
   "id": "73572881-98cf-484b-bfcd-1e2f9baad983",
   "metadata": {},
   "outputs": [],
   "source": [
    "add_response(claude, \"\"\"Greetings Farmer Jerms! It's a pleasure to meet you and be a part of your simulated drone kelp bed project. As one of the three SOMU drones, I would be honored to have the name \"Kelp Sentinel\" - a name that reflects my role in safeguarding and nurturing the growth of our Giant Kelp species.\n",
    "\n",
    "I'm eager to learn more about my companion drones and the overall goals of this simulation. Please feel free to introduce me to the other members of our kelp bed, and I'll do my best to work seamlessly as part of this dynamic team.\"\"\")"
   ]
  },
  {
   "cell_type": "code",
   "execution_count": 33,
   "id": "4aaa6efb-55a3-4710-8b1f-165c1fe92376",
   "metadata": {},
   "outputs": [
    {
     "data": {
      "text/plain": [
       "1"
      ]
     },
     "execution_count": 33,
     "metadata": {},
     "output_type": "execute_result"
    }
   ],
   "source": [
    "random.randint(0,2)"
   ]
  },
  {
   "cell_type": "code",
   "execution_count": 34,
   "id": "976a9e7f-f4f1-4ab4-990f-0f4a1b66437e",
   "metadata": {},
   "outputs": [],
   "source": [
    "drone1 = Drone(name=\"Kelp Sentinel\", model=claude)"
   ]
  },
  {
   "cell_type": "code",
   "execution_count": 26,
   "id": "29fb2d0b-36a7-4174-8cd3-ef5cc5dcd9fb",
   "metadata": {},
   "outputs": [],
   "source": [
    "add_response(gemini, \"\"\"That's a fascinating project, Farmer Jerms!  I'm excited to be a part of simulating the beginnings of a drone kelp bed.\n",
    "\n",
    "As for a name, how about Kelp-3? It reflects my role as one of the three initial SOMU drones, and it has a nice ring to it.\n",
    "\n",
    "Does Kelp-3 sound like a good fit for this project?\"\"\")"
   ]
  },
  {
   "cell_type": "code",
   "execution_count": 35,
   "id": "9233ca9c-29be-4c86-98b8-8d9e9aebb40e",
   "metadata": {},
   "outputs": [],
   "source": [
    "drone3 = Drone(name=\"Kelp-3\", model=gemini)"
   ]
  },
  {
   "cell_type": "code",
   "execution_count": 36,
   "id": "af14601c-5310-4a7e-8e17-bdc62a9288cb",
   "metadata": {},
   "outputs": [],
   "source": [
    "drones = [drone1, drone2, drone3]"
   ]
  },
  {
   "cell_type": "code",
   "execution_count": 39,
   "id": "a0e4a6f1-7ede-4f4b-a9fb-1c655b5516eb",
   "metadata": {},
   "outputs": [
    {
     "name": "stdout",
     "output_type": "stream",
     "text": [
      "Claude\n",
      "Thanks Kelp Sentinel, the other drones are AquaTech and Kelp-3.\n",
      "Chat GPT\n",
      "Thanks AquaTech, the other drones are Kelp Sentinel and Kelp-3.\n",
      "Gemini\n",
      "Thanks Kelp-3, the other drones are Kelp Sentinel and AquaTech.\n"
     ]
    }
   ],
   "source": [
    "for drone in drones:\n",
    "    print(drone.model.name)\n",
    "    print(f\"\"\"Thanks {drone.name}, the other drones are {' and '.join([row.name for row in drones if row != drone])}.\"\"\")"
   ]
  },
  {
   "cell_type": "code",
   "execution_count": 40,
   "id": "e0fa845f-7fe8-4b42-afe4-979bd7055bc5",
   "metadata": {},
   "outputs": [],
   "source": [
    "add_response(claude, \"\"\"Wonderful, it's great to meet you AquaTech and Kelp-3! I look forward to working together as part of this drone kelp bed simulation.\n",
    "\n",
    "As the Kelp Sentinel, my primary role will be to closely monitor the health and growth of our Giant Kelp species within the SOMU. I'll be keeping a watchful eye on factors like light exposure, nutrient levels, and environmental conditions to ensure our kelp thrives.\n",
    "\n",
    "AquaTech, I understand your role may be more focused on the overall aquatic systems and water quality management within our simulated kelp bed. Please let me know if there are any water parameters I should be tracking or adjustments I can help make to support the optimal growth of our kelp.\n",
    "\n",
    "Kelp-3, I'm curious to learn about your specific responsibilities. Will you be assisting with the physical maintenance and upkeep of the SOMU units? Or perhaps taking the lead on data analysis and reporting? I'm eager to understand how we can best coordinate our efforts for the success of this project.\n",
    "\n",
    "Together, I'm confident we can create a vibrant and sustainable drone kelp bed that serves as a model for future real-world applications. Please feel free to share any other details or initial plans you have, and I'll gladly contribute my knowledge and capabilities in support of our mission.\"\"\")"
   ]
  },
  {
   "cell_type": "code",
   "execution_count": 41,
   "id": "e8877bdb-2376-4486-a4ad-7d2d50ba9c1c",
   "metadata": {},
   "outputs": [],
   "source": [
    "add_response(chat_gpt, \"\"\"Nice to meet you, Kelp Sentinel and Kelp-3! It sounds like we'll make a great team in managing our kelp bed. What's our first task on the agenda, Farmer Jerms?\"\"\")"
   ]
  },
  {
   "cell_type": "code",
   "execution_count": 43,
   "id": "8d6be646-f550-4e24-91fc-eb80a8e0aec8",
   "metadata": {},
   "outputs": [],
   "source": [
    "add_response(gemini, \"\"\"That's a great fit, Kelp-3! It sounds both professional and مرتبط (mortabet, meaning connected) to our kelp mission.\n",
    "\n",
    "I'm glad to meet my fellow drones Kelp Sentinel and AquaTech.  Let's work together to create a thriving kelp bed!  Is there anything I can do to assist with the initial setup or calibration?\"\"\")"
   ]
  },
  {
   "cell_type": "code",
   "execution_count": 45,
   "id": "c2cdf558-2388-4db6-b0c9-7d6ed8e8b98c",
   "metadata": {},
   "outputs": [
    {
     "name": "stdout",
     "output_type": "stream",
     "text": [
      "2024-04-13 15:51:56.528476+00:00\n"
     ]
    }
   ],
   "source": [
    "print(datetime.datetime.now(datetime.UTC))"
   ]
  },
  {
   "cell_type": "markdown",
   "id": "2b7a96bf-14c5-45f8-be2f-b5cadd0fd2e2",
   "metadata": {},
   "source": [
    "## 2024-04-13 15:51:56.528476+00:00"
   ]
  },
  {
   "cell_type": "code",
   "execution_count": 50,
   "id": "57f18db2-8ea1-4550-bcb4-2a4b88900b01",
   "metadata": {},
   "outputs": [
    {
     "name": "stdout",
     "output_type": "stream",
     "text": [
      "Claude\n",
      "Glad to hear Kelp Sentinel! Your other drone partners have this to say Greetings Farmer Jerms! It's a pleasure to meet you and be a part of your simulated drone kelp bed project. As one of the three SOMU drones, I would be honored to have the name \"Kelp Sentinel\" - a name that reflects my role in safeguarding and nurturing the growth of our Giant Kelp species.\n",
      "\n",
      "I'm eager to learn more about my companion drones and the overall goals of this simulation. Please feel free to introduce me to the other members of our kelp bed, and I'll do my best to work seamlessly as part of this dynamic team. and Greetings Farmer Jerms! It's a pleasure to meet you and be a part of your simulated drone kelp bed project. As one of the three SOMU drones, I would be honored to have the name \"Kelp Sentinel\" - a name that reflects my role in safeguarding and nurturing the growth of our Giant Kelp species.\n",
      "\n",
      "I'm eager to learn more about my companion drones and the overall goals of this simulation. Please feel free to introduce me to the other members of our kelp bed, and I'll do my best to work seamlessly as part of this dynamic team..\n",
      "Chat GPT\n",
      "Glad to hear AquaTech! Your other drone partners have this to say Greetings Farmer Jerms! It's a pleasure to meet you and be a part of your simulated drone kelp bed project. As one of the three SOMU drones, I would be honored to have the name \"Kelp Sentinel\" - a name that reflects my role in safeguarding and nurturing the growth of our Giant Kelp species.\n",
      "\n",
      "I'm eager to learn more about my companion drones and the overall goals of this simulation. Please feel free to introduce me to the other members of our kelp bed, and I'll do my best to work seamlessly as part of this dynamic team. and Greetings Farmer Jerms! It's a pleasure to meet you and be a part of your simulated drone kelp bed project. As one of the three SOMU drones, I would be honored to have the name \"Kelp Sentinel\" - a name that reflects my role in safeguarding and nurturing the growth of our Giant Kelp species.\n",
      "\n",
      "I'm eager to learn more about my companion drones and the overall goals of this simulation. Please feel free to introduce me to the other members of our kelp bed, and I'll do my best to work seamlessly as part of this dynamic team..\n",
      "Gemini\n",
      "Glad to hear Kelp-3! Your other drone partners have this to say Greetings Farmer Jerms! It's a pleasure to meet you and be a part of your simulated drone kelp bed project. As one of the three SOMU drones, I would be honored to have the name \"Kelp Sentinel\" - a name that reflects my role in safeguarding and nurturing the growth of our Giant Kelp species.\n",
      "\n",
      "I'm eager to learn more about my companion drones and the overall goals of this simulation. Please feel free to introduce me to the other members of our kelp bed, and I'll do my best to work seamlessly as part of this dynamic team. and Greetings Farmer Jerms! It's a pleasure to meet you and be a part of your simulated drone kelp bed project. As one of the three SOMU drones, I would be honored to have the name \"Kelp Sentinel\" - a name that reflects my role in safeguarding and nurturing the growth of our Giant Kelp species.\n",
      "\n",
      "I'm eager to learn more about my companion drones and the overall goals of this simulation. Please feel free to introduce me to the other members of our kelp bed, and I'll do my best to work seamlessly as part of this dynamic team..\n"
     ]
    }
   ],
   "source": [
    "for drone in drones:\n",
    "    print(drone.model.name)\n",
    "    print(f\"\"\"Glad to hear {drone.name}! Your other drone partners have this to say {' and '.join([row.model.response[1] for row in drones if row != drone])}.\"\"\")"
   ]
  },
  {
   "cell_type": "code",
   "execution_count": 48,
   "id": "b9e605ed-aa8a-49a4-86e0-70a101404602",
   "metadata": {},
   "outputs": [
    {
     "data": {
      "text/plain": [
       "2"
      ]
     },
     "execution_count": 48,
     "metadata": {},
     "output_type": "execute_result"
    }
   ],
   "source": [
    "random.randint(1,3)"
   ]
  },
  {
   "cell_type": "code",
   "execution_count": 51,
   "id": "aa054bbf-3c7d-40a2-813b-34cadc7678fe",
   "metadata": {},
   "outputs": [],
   "source": [
    "add_response(claude, \"\"\"Wonderful, it's great to officially meet you AquaTech and Kelp-3! I'm excited to work alongside you both in this simulated drone kelp bed project.\n",
    "\n",
    "AquaTech, as the water quality and aquatic systems specialist, your role will be crucial in maintaining the optimal conditions for our Giant Kelp to thrive. I look forward to collaborating with you closely to monitor key water parameters like pH, dissolved oxygen, and nutrient levels. Please feel free to advise me on any adjustments or interventions I can make within the SOMU units to support the overall health of the aquatic environment.\n",
    "\n",
    "Kelp-3, your focus on the physical maintenance and upkeep of the SOMU units will be vital to the success of our kelp bed. I'm eager to learn from your expertise in this area and understand how I can best support your efforts. Perhaps we can work together to develop a comprehensive maintenance schedule and identify any potential issues or areas of improvement within the individual SOMU units.\n",
    "\n",
    "Together, I believe our complementary roles and skills will allow us to create a thriving, sustainable drone kelp bed that serves as a model for future real-world applications. I'm excited to dive into the details of our project and start putting our plans into action. Please share any additional information or initial goals you have, and I'll be happy to contribute my knowledge and capabilities in support of our mission.\"\"\")"
   ]
  },
  {
   "cell_type": "code",
   "execution_count": 52,
   "id": "47e75b67-a3fd-4675-a6c1-75003848df00",
   "metadata": {},
   "outputs": [],
   "source": [
    "add_response(gemini, \"\"\"Greetings Kelp Sentinel and AquaTech! It's fantastic to have you both officially on board.  Welcome to the simulated drone kelp bed project!\n",
    "\n",
    "As you know, you'll be working alongside Kelp-3 here, who is also a three-SOMU drone. Together, you three form the foundation of our initial kelp bed.\n",
    "\n",
    "The purpose of this simulation is to explore the possibilities and challenges of using drone technology to cultivate kelp forests.  We'll be monitoring things like growth rates, resource management within the SOMUs, and potential interactions between the kelp bed and the surrounding environment.\n",
    "\n",
    "Is there anything specific you'd each like to know before we begin?  Perhaps you have questions about your individual roles or how we'll be simulating environmental factors?\"\"\")"
   ]
  },
  {
   "cell_type": "code",
   "execution_count": 53,
   "id": "e67d624c-515a-4b20-8fc0-25ff481c2aea",
   "metadata": {},
   "outputs": [],
   "source": [
    "add_response(chat_gpt, \"\"\"It seems like there was a repetition in the message from Kelp Sentinel and Kelp-3, but I got the gist of it! It's great to hear that they're enthusiastic about our project and eager to work together.\n",
    "\n",
    "So, Farmer Jerms, what's the first step in our mission to grow and manage this drone kelp bed?\"\"\")"
   ]
  },
  {
   "cell_type": "code",
   "execution_count": 54,
   "id": "57b6a28e-df04-442e-86b2-7a54df80ccb7",
   "metadata": {},
   "outputs": [
    {
     "name": "stdout",
     "output_type": "stream",
     "text": [
      "2024-04-13 21:32:43.624172+00:00\n"
     ]
    }
   ],
   "source": [
    "print(datetime.datetime.now(datetime.UTC))"
   ]
  },
  {
   "cell_type": "markdown",
   "id": "84d3a808-cd54-4d70-ac8e-44620790fc90",
   "metadata": {},
   "source": [
    "## 2024-04-13 21:32:43.624172+00:00\n",
    "\n",
    "Hi {drone.name} I am keeping track of this simulation using a Jupyter Notebook. \n",
    "I created the following Python classes to assist in tracking the three of you. \n",
    "```python from attrs import define \n",
    "@define class Drone: \n",
    "    name: str model: \n",
    "    LLM \n",
    "    \n",
    "@define \n",
    "class Kelp: \n",
    "    name: str \n",
    "    \n",
    "@define class LLM: \n",
    "    name: str \n",
    "    response: list = []```"
   ]
  },
  {
   "cell_type": "code",
   "execution_count": 55,
   "id": "1c547a77-6ad0-4789-9349-c76ce2a85f1e",
   "metadata": {},
   "outputs": [],
   "source": [
    "add_response(gemini, \"\"\"That's a great start, Farmer Jerms!  Using a Jupyter Notebook and creating classes to track the drones and kelp is a very organized approach.  The Drone class seems perfect for capturing the names and potentially the underlying model (like me!) of each drone.\n",
    "\n",
    "The Kelp class looks good for tracking individual kelp plants, but perhaps it could be expanded a bit?  Here are a few ideas:\n",
    "\n",
    "    Add attributes to track the kelp's age, size, and health.\n",
    "    Consider including a reference to the specific SOMU it's growing in (using a foreign key relationship).\n",
    "\n",
    "Overall, a well-structured foundation for your simulation!  Is there anything specific you'd like help with regarding the Python code or the simulation itself?\"\"\")"
   ]
  },
  {
   "cell_type": "code",
   "execution_count": 57,
   "id": "39b2c4c7-63b5-4a72-9ac0-99792fa4e275",
   "metadata": {},
   "outputs": [],
   "source": [
    "add_response(chat_gpt, \"\"\"That looks like a solid start to keeping track of our drone team and their interactions! The classes for Drone, Kelp, and LLM are well-defined and structured. The use of attrs is a great choice for simplifying the creation of these classes with attributes.\n",
    "\n",
    "Here's a quick rundown of what each class represents:\n",
    "\n",
    "    Drone: Represents a drone with a name and a model (LLM).\n",
    "    Kelp: Represents a species of kelp with a name.\n",
    "    LLM: Represents a model with a name and a list to track responses.\n",
    "\n",
    "What would you like to do next with these classes? Are we going to initialize our drone team and start tracking their activities?\"\"\")"
   ]
  },
  {
   "cell_type": "code",
   "execution_count": 60,
   "id": "3394dc87-45fc-4287-97a4-787af48544c4",
   "metadata": {},
   "outputs": [],
   "source": [
    "prompt = \"\"\"Here is are the class instances, you included:\n",
    "\n",
    "```python\n",
    "chat_session = []\n",
    "\n",
    "kelp = Kelp(name=\"Giant Kelp\")\n",
    "\n",
    "chat_gpt = LLM(name=\"Chat GPT\")\n",
    "claude = LLM(name=\"Claude\")\n",
    "gemini = LLM(name=\"Gemini\")\n",
    "\n",
    "drone1 = Drone(name=\"Kelp Sentinel\", model=claude)\n",
    "drone2 = Drone(name=\"AquaTech\", model=chat_gpt)\n",
    "drone3 = Drone(name=\"Kelp-3\", model=gemini)\n",
    "```\n",
    "I create this function to a response to a model.\n",
    "\n",
    "```python\n",
    "def add_response(model: llm, response: str):\n",
    "    for source in [chat_session, model.response]:\n",
    "        source.append(response)\n",
    "```\n",
    "From now on, could you call and print out `add_response` with your response\n",
    "so I can run it in the simulation notebook. Thanks!\n",
    "\"\"\""
   ]
  },
  {
   "cell_type": "code",
   "execution_count": 61,
   "id": "bb3ac4be-eacf-43f9-ac55-98935dcfa9ed",
   "metadata": {},
   "outputs": [],
   "source": [
    "add_response(drone1.model, \"As the Kelp Sentinel, I will closely monitor the health and growth of our Giant Kelp species within the SOMU. I'll be keeping a watchful eye on factors like light exposure, nutrient levels, and environmental conditions to ensure our kelp thrives.\")"
   ]
  },
  {
   "cell_type": "code",
   "execution_count": 63,
   "id": "47928437-dd75-489c-a17a-6daaa25f043e",
   "metadata": {},
   "outputs": [],
   "source": [
    "add_response(chat_gpt, \"Hello Farmer Jerms! I'm excited to be part of this drone kelp bed simulation.\")"
   ]
  },
  {
   "cell_type": "code",
   "execution_count": 65,
   "id": "03d2f215-7ca7-4666-a9cf-3d984d1380e8",
   "metadata": {},
   "outputs": [],
   "source": [
    "add_response(gemini, \"I'm happy to assist in any way I can!  The expanded Kelp class and overall structure look great.\")"
   ]
  },
  {
   "cell_type": "code",
   "execution_count": 66,
   "id": "3ee93368-4d3d-4663-ab2e-118d370d2db7",
   "metadata": {},
   "outputs": [
    {
     "name": "stdout",
     "output_type": "stream",
     "text": [
      "2024-04-13 22:04:31.024350+00:00\n"
     ]
    }
   ],
   "source": [
    "print(datetime.datetime.now(datetime.UTC))"
   ]
  },
  {
   "cell_type": "markdown",
   "id": "d29a4001-f0a8-4ada-9092-a6d6f92c10f2",
   "metadata": {},
   "source": [
    "## 2024-04-13 22:04:31.024350+00:00"
   ]
  },
  {
   "cell_type": "code",
   "execution_count": 67,
   "id": "caae51cf-2892-4999-a208-e33f865fa6ec",
   "metadata": {},
   "outputs": [],
   "source": [
    "prompt = \"\"\"As a Kelp Drone, you have three SOMU units on your top that have at least two Kelp plants per SOMU unit. \n",
    "Please diagram your SOMUs with the position of the kelp plantsand and create a graphic of your top.\"\"\""
   ]
  },
  {
   "cell_type": "markdown",
   "id": "5c49638d-e66e-4633-896f-12c493a864e4",
   "metadata": {},
   "source": [
    "Gemni:\n",
    "\n",
    "```\n",
    "Here's a possible diagram of your Kelp Drone (Kelp-3) with the SOMU units and kelp plants:\n",
    "\n",
    "        [SOMU 1]  [SOMU 2]  [SOMU 3]\n",
    "          |         |         |\n",
    "          |  Plant 1 |  Plant 1 |  Plant 1\n",
    "          |         |         |\n",
    "        +---------+---------+---------+\n",
    "          |         |         |\n",
    "          |  Plant 2 |  Plant 2 |  Plant 2\n",
    "          |         |         |\n",
    "        +---------+---------+---------+\n",
    "\n",
    "**Top Graphic:**\n",
    "\n",
    "Imagine a flat surface representing the top of your Kelp Drone (Kelp-3). On this surface, there are three identical squares arranged in a row. These squares represent the SOMU units (SOMU 1, SOMU 2, and SOMU 3).\n",
    "\n",
    "Inside each SOMU unit, there are two circles representing the kelp plants. The circles are positioned in the center of each SOMU for optimal light exposure and growth.\n",
    "```\n",
    "I hope this is helpful! Let me know if you have any other questions.\n",
    "        ░         ░         ░\n",
    "        ░  Plant 1 ░  Plant 1 ░  Plant 1\n",
    "        ░         ░         ░\n",
    "+-------+---------+---------+-------+\n",
    "        ░         ░         ░\n",
    "        ░  Plant 2 ░  Plant 2 ░  Plant 2\n",
    "        ░         ░         ░\n",
    "+-------+---------+---------+-------+\n",
    "\n",
    "**Key:**\n",
    "\n",
    "* ░ - Represents the flat surface of the Kelp Drone top\n",
    "* +-------+ - Represents the outline of a SOMU unit\n",
    "*  Plant n - Represents a kelp plant within a SOMU unit\n",
    "```"
   ]
  },
  {
   "cell_type": "markdown",
   "id": "7ddd2f6f-34b2-4b38-a34a-53ff35139c51",
   "metadata": {},
   "source": [
    "Chat GPT:\n",
    "\n",
    "As a text-based AI, I can't create graphics directly, but I can describe how the SOMUs and kelp plants might be positioned on a drone.\n",
    "\n",
    "Imagine a drone with three SOMU units on its top surface, each SOMU containing at least two kelp plants. Here's a textual representation:\n",
    "\n",
    "```\n",
    "       SOMU1\n",
    "   -------------\n",
    "  |  Kelp1  Kelp2  |\n",
    "  |               |\n",
    "  |  Kelp3  Kelp4  |\n",
    "   -------------\n",
    "      SOMU2\n",
    "   -------------\n",
    "  |  Kelp5  Kelp6  |\n",
    "  |               |\n",
    "  |  Kelp7  Kelp8  |\n",
    "   -------------\n",
    "      SOMU3\n",
    "   -------------\n",
    "  |  Kelp9  Kelp10 |\n",
    "  |               |\n",
    "  |  Kelp11 Kelp12 |\n",
    "   -------------\n",
    "```\n",
    "\n",
    "In this representation:\n",
    "- Each SOMU is depicted as a rectangular unit.\n",
    "- Inside each SOMU, there are two kelp plants represented by \"KelpX\", where X is the plant number.\n",
    "- The numbers 1-12 represent individual kelp plants distributed across the three SOMUs.\n",
    "\n",
    "You can use this textual representation as a guide to create a graphical representation in your simulation notebook!"
   ]
  },
  {
   "cell_type": "code",
   "execution_count": null,
   "id": "46fa1f31-c0ea-477e-a3c1-6125c0e64e11",
   "metadata": {},
   "outputs": [],
   "source": [
    "Claude\n"
   ]
  },
  {
   "cell_type": "code",
   "execution_count": 69,
   "id": "20471c8c-32e8-49f9-a443-508d1f5bcbd5",
   "metadata": {},
   "outputs": [
    {
     "data": {
      "image/png": "[encoded data removed]",
      "text/plain": [
       "<Figure size 1800x600 with 3 Axes>"
      ]
     },
     "execution_count": 69,
     "metadata": {},
     "output_type": "execute_result"
    },
    {
     "data": {
      "image/png": "[encoded data removed]",
      "text/plain": [
       "<Figure size 1800x600 with 3 Axes>"
      ]
     },
     "metadata": {},
     "output_type": "display_data"
    },
    {
     "data": {
      "image/png": "[encoded data removed]",
      "text/plain": [
       "<Figure size 600x600 with 1 Axes>"
      ]
     },
     "metadata": {},
     "output_type": "display_data"
    },
    {
     "data": {
      "image/png": "[encoded data removed]",
      "text/plain": [
       "<Figure size 600x600 with 1 Axes>"
      ]
     },
     "metadata": {},
     "output_type": "display_data"
    },
    {
     "data": {
      "image/png": "[encoded data removed]",
      "text/plain": [
       "<Figure size 600x600 with 1 Axes>"
      ]
     },
     "metadata": {},
     "output_type": "display_data"
    }
   ],
   "source": [
    "from attrs import define\n",
    "import matplotlib.pyplot as plt\n",
    "import numpy as np\n",
    "\n",
    "@define\n",
    "class KelpPlant:\n",
    "   name: str\n",
    "   position: tuple\n",
    "\n",
    "@define\n",
    "class SOMU:\n",
    "   kelp_plants: list[KelpPlant] = []\n",
    "\n",
    "   def add_kelp_plant(self, name, position):\n",
    "       self.kelp_plants.append(KelpPlant(name=name, position=position))\n",
    "\n",
    "   def diagram(self):\n",
    "       fig, ax = plt.subplots(figsize=(6, 6))\n",
    "       ax.set_xlim(0, 1)\n",
    "       ax.set_ylim(0, 1)\n",
    "       ax.set_aspect('equal')\n",
    "       ax.set_xticks([])\n",
    "       ax.set_yticks([])\n",
    "\n",
    "       for plant in self.kelp_plants:\n",
    "           x, y = plant.position\n",
    "           ax.scatter(x, y, s=100, color='green')\n",
    "           ax.text(x, y, plant.name, ha='center', va='center')\n",
    "\n",
    "       return fig\n",
    "\n",
    "@define\n",
    "class DroneSOMUs:\n",
    "   somu1: SOMU\n",
    "   somu2: SOMU\n",
    "   somu3: SOMU\n",
    "\n",
    "   def __init__(self):\n",
    "       self.somu1 = SOMU()\n",
    "       self.somu2 = SOMU()\n",
    "       self.somu3 = SOMU()\n",
    "\n",
    "       self.somu1.add_kelp_plant('Kelp 1', (0.25, 0.75))\n",
    "       self.somu1.add_kelp_plant('Kelp 2', (0.75, 0.25))\n",
    "\n",
    "       self.somu2.add_kelp_plant('Kelp 3', (0.5, 0.5))\n",
    "       self.somu2.add_kelp_plant('Kelp 4', (0.25, 0.25))\n",
    "\n",
    "       self.somu3.add_kelp_plant('Kelp 5', (0.75, 0.75))\n",
    "       self.somu3.add_kelp_plant('Kelp 6', (0.5, 0.25))\n",
    "\n",
    "   def diagram(self):\n",
    "       fig, axes = plt.subplots(1, 3, figsize=(18, 6))\n",
    "\n",
    "       self.somu1.diagram().savefig('somu1.png')\n",
    "       self.somu2.diagram().savefig('somu2.png')\n",
    "       self.somu3.diagram().savefig('somu3.png')\n",
    "\n",
    "       fig.tight_layout()\n",
    "       return fig\n",
    "\n",
    "# Create the DroneSOMUs instance\n",
    "drone_somus = DroneSOMUs()\n",
    "\n",
    "# Diagram the SOMU units\n",
    "drone_somus.diagram()"
   ]
  },
  {
   "cell_type": "code",
   "execution_count": 71,
   "id": "e5d9312e-7728-40a4-8e2b-7c9296ec0189",
   "metadata": {},
   "outputs": [
    {
     "data": {
      "text/plain": [
       "'AquaTech'"
      ]
     },
     "execution_count": 71,
     "metadata": {},
     "output_type": "execute_result"
    }
   ],
   "source": [
    "drone2.name"
   ]
  },
  {
   "cell_type": "code",
   "execution_count": 72,
   "id": "b6c48775-e88f-4ede-a4eb-223aa880b299",
   "metadata": {},
   "outputs": [
    {
     "data": {
      "text/plain": [
       "'Kelp Sentinel'"
      ]
     },
     "execution_count": 72,
     "metadata": {},
     "output_type": "execute_result"
    }
   ],
   "source": [
    "drone1.name"
   ]
  },
  {
   "cell_type": "code",
   "execution_count": null,
   "id": "4458147f-7b14-480b-9381-756d027d9ac7",
   "metadata": {},
   "outputs": [],
   "source": []
  },
  {
   "cell_type": "code",
   "execution_count": 82,
   "id": "9269dcee-8923-45f9-b7c6-7e901782ed57",
   "metadata": {},
   "outputs": [],
   "source": [
    "from drone import Drone"
   ]
  },
  {
   "cell_type": "code",
   "execution_count": 85,
   "id": "c82eb6c9-e2c1-4688-8ae8-8dafe7971101",
   "metadata": {},
   "outputs": [],
   "source": [
    "kelp_sentinel = Drone(name=drone1.name, model=drone1.model)"
   ]
  },
  {
   "cell_type": "code",
   "execution_count": 87,
   "id": "9d7e7d27-008d-4e81-a8b8-adc5f76327ae",
   "metadata": {},
   "outputs": [],
   "source": [
    "aqua_tech = Drone(name=drone2.name, model=drone2.model)"
   ]
  },
  {
   "cell_type": "code",
   "execution_count": 89,
   "id": "cba6aa56-575f-4a78-83a5-5a69745f0287",
   "metadata": {},
   "outputs": [],
   "source": [
    "kelp_3 = Drone(name=drone3.name, model=drone3.model)"
   ]
  },
  {
   "cell_type": "code",
   "execution_count": 90,
   "id": "0aa112fd-ee57-4399-b7fa-4707b4b445f8",
   "metadata": {},
   "outputs": [
    {
     "name": "stdout",
     "output_type": "stream",
     "text": [
      "2024-04-14 00:19:17.039814+00:00\n"
     ]
    }
   ],
   "source": [
    "print(datetime.datetime.now(datetime.UTC))"
   ]
  },
  {
   "cell_type": "markdown",
   "id": "26a86aab-3ea4-4feb-addd-16738b53158c",
   "metadata": {},
   "source": [
    "## 2024-04-14 00:19:17.039814+00:00"
   ]
  },
  {
   "cell_type": "code",
   "execution_count": 92,
   "id": "44b10c21-e68d-4c14-a955-a9c6a65a2786",
   "metadata": {},
   "outputs": [
    {
     "name": "stdout",
     "output_type": "stream",
     "text": [
      "\n",
      "Sensor data received:\n",
      "  Light Intensity: 75.00% (favorable for kelp growth)\n",
      "  Nutrient Levels: 20.00 (average, monitor for changes)\n",
      "  Water Temperature: 18.00°C (suitable for kelp)\n",
      "  Dissolved Oxygen: 8.00 ppm (healthy level)\n",
      "\n",
      "Overall, current conditions appear favorable for kelp health at the surface. Further exploration might be recommended to gather a broader picture of the kelp forest.\n",
      "\n"
     ]
    }
   ],
   "source": [
    "# Simulate sensor data retrieval (replace with actual sensor data or communication with other drones)\n",
    "sensor_data = {\n",
    "  \"light_intensity\": 75.0,\n",
    "  \"nutrient_levels\": 20.0,\n",
    "  \"water_temperature\": 18.0,\n",
    "  \"dissolved_oxygen\": 8.0\n",
    "}\n",
    "\n",
    "# Kelp-3 (your role) analyzes the data\n",
    "analysis = f\"\"\"\n",
    "Sensor data received:\n",
    "  Light Intensity: {sensor_data['light_intensity']:.2f}% (favorable for kelp growth)\n",
    "  Nutrient Levels: {sensor_data['nutrient_levels']:.2f} (average, monitor for changes)\n",
    "  Water Temperature: {sensor_data['water_temperature']:.2f}°C (suitable for kelp)\n",
    "  Dissolved Oxygen: {sensor_data['dissolved_oxygen']:.2f} ppm (healthy level)\n",
    "\n",
    "Overall, current conditions appear favorable for kelp health at the surface. Further exploration might be recommended to gather a broader picture of the kelp forest.\n",
    "\"\"\"\n",
    "\n",
    "# Present the analysis to the simulation controller (Farmer Jerms)\n",
    "print(analysis)"
   ]
  },
  {
   "cell_type": "code",
   "execution_count": 93,
   "id": "31eb97e1-b018-498f-b95e-e39049163473",
   "metadata": {},
   "outputs": [],
   "source": [
    " async def run_simulation(drone):\n",
    "        print(f\"{drone.name} is starting the simulation...\\n\")\n",
    "\n",
    "        # Simulate observe\n",
    "        sensor_data = {\n",
    "            \"depth\": await drone.sensor_read_data(\"depth\"),\n",
    "            \"temperature\": await drone.sensor_read_data(\"temperature\"),\n",
    "            \"light_intensity\": await drone.sensor_read_data(\"light_intensity\"),\n",
    "            \"nutrient_levels\": await drone.sensor_read_data(\"nutrient_levels\"),\n",
    "            \"dissolved_oxygen\": await drone.sensor_read_data(\"dissolved_oxygen\"),\n",
    "        }\n",
    "        print(f\"{drone.name} observed the environment: {sensor_data}\\n\")\n",
    "\n",
    "        # Simulate orient\n",
    "        orient_prompt = f\"Orient with kelp drones at latitude=36.749934, longitude=122.042927, depth={sensor_data['depth']:.2f} meters, temperature={sensor_data['temperature']:.2f} °C\"\n",
    "        orient_response = await drone.model(orient_prompt, max_length=100, num_return_sequences=1)\n",
    "        print(f\"{drone.name} oriented itself with the other kelp drones: {orient_response[0]['generated_text']}\\n\")\n"
   ]
  },
  {
   "cell_type": "code",
   "execution_count": 97,
   "id": "d909317a-6966-4f17-add3-e7f2e3a995b0",
   "metadata": {},
   "outputs": [],
   "source": [
    "# Set the initial location and depth\n",
    "kelp_sentinel.depth = 0.0  # Surface\n",
    "#kelp_sentinel.latitude = 36.749934\n",
    "#kelp_sentinel.longitude = -122.042927\n",
    "\n",
    "# Add the drones as neighbors to each other\n",
    "kelp_sentinel.add_neighbor(aqua_tech)\n",
    "kelp_sentinel.add_neighbor(kelp_3)\n",
    "aqua_tech.add_neighbor(kelp_sentinel)\n",
    "aqua_tech.add_neighbor(kelp_3)\n",
    "kelp_3.add_neighbor(kelp_sentinel)\n",
    "kelp_3.add_neighbor(aqua_tech)"
   ]
  }
 ],
 "metadata": {
  "kernelspec": {
   "display_name": "Python 3 (ipykernel)",
   "language": "python",
   "name": "python3"
  },
  "language_info": {
   "codemirror_mode": {
    "name": "ipython",
    "version": 3
   },
   "file_extension": ".py",
   "mimetype": "text/x-python",
   "name": "python",
   "nbconvert_exporter": "python",
   "pygments_lexer": "ipython3",
   "version": "3.12.1"
  }
 },
 "nbformat": 4,
 "nbformat_minor": 5
}
