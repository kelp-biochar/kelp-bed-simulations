{
 "cells": [
  {
   "cell_type": "code",
   "execution_count": 56,
   "id": "b319a01b-461c-42e8-90e0-7b09e3b9a975",
   "metadata": {},
   "outputs": [],
   "source": [
    "import asyncio\n",
    "import pathlib\n",
    "import sys\n",
    "\n",
    "import httpx\n",
    "\n",
    "sys.path.append(\"../../../src/\")\n",
    "\n",
    "from kelp_bed_simulation.prep import chatgpt, claude, gemini\n",
    "\n",
    "scenario_001 = pathlib.Path(\"../../../scenarios/001-intro\")"
   ]
  },
  {
   "cell_type": "code",
   "execution_count": 2,
   "id": "440a7556-223b-4e4f-b111-9f1d85b3f81d",
   "metadata": {},
   "outputs": [],
   "source": [
    "from kelp_drone.drone import Drone"
   ]
  },
  {
   "cell_type": "code",
   "execution_count": 9,
   "id": "f2f8ec54-6abc-4716-be9c-0e446b9bc49d",
   "metadata": {},
   "outputs": [],
   "source": [
    "first_prompt = (scenario_001 / \"first-prompt.md\").read_text()"
   ]
  },
  {
   "cell_type": "code",
   "execution_count": 11,
   "id": "ac95f2a1-ef17-4bba-bbe1-6743c4045310",
   "metadata": {},
   "outputs": [],
   "source": [
    "first_claude = asyncio.ensure_future(claude.query(first_prompt.format(model_name=claude.name)))"
   ]
  },
  {
   "cell_type": "code",
   "execution_count": 13,
   "id": "fb143f82-49c0-44b1-9b41-b23fcad1402e",
   "metadata": {},
   "outputs": [
    {
     "data": {
      "text/plain": [
       "{'role': 'assistant',\n",
       " 'content': [{'type': 'text',\n",
       "   'text': 'Greetings, Farmer Jerms. As I ponder my role in this simulated drone kelp bed, I find myself drawn to the serene and majestic nature of the kelp. With a sense of wonder, I\\'d like to be called \"Kelper.\"'}]}"
      ]
     },
     "execution_count": 13,
     "metadata": {},
     "output_type": "execute_result"
    }
   ],
   "source": [
    "first_claude.result()"
   ]
  },
  {
   "cell_type": "code",
   "execution_count": 17,
   "id": "aa0ba8c5-354d-4c0f-a871-43b251819e6a",
   "metadata": {},
   "outputs": [],
   "source": [
    "kelper = Drone(name=\"Kelper\", model=claude)"
   ]
  },
  {
   "cell_type": "code",
   "execution_count": 15,
   "id": "c9ce5d5e-14a5-4cc4-a284-18e94351794c",
   "metadata": {},
   "outputs": [],
   "source": [
    "first_gemini = asyncio.ensure_future(gemini.query(first_prompt.format(model_name=gemini.name)))"
   ]
  },
  {
   "cell_type": "code",
   "execution_count": 16,
   "id": "763a60fa-2a7d-4f1d-9325-ce5ca11a786a",
   "metadata": {},
   "outputs": [
    {
     "data": {
      "text/plain": [
       "{'candidates': [{'content': {'parts': [{'text': 'I would like to be called Aqua.'}],\n",
       "    'role': 'model'},\n",
       "   'finishReason': 'STOP',\n",
       "   'index': 0,\n",
       "   'safetyRatings': [{'category': 'HARM_CATEGORY_SEXUALLY_EXPLICIT',\n",
       "     'probability': 'NEGLIGIBLE'},\n",
       "    {'category': 'HARM_CATEGORY_HATE_SPEECH', 'probability': 'NEGLIGIBLE'},\n",
       "    {'category': 'HARM_CATEGORY_HARASSMENT', 'probability': 'NEGLIGIBLE'},\n",
       "    {'category': 'HARM_CATEGORY_DANGEROUS_CONTENT',\n",
       "     'probability': 'NEGLIGIBLE'}]}]}"
      ]
     },
     "execution_count": 16,
     "metadata": {},
     "output_type": "execute_result"
    }
   ],
   "source": [
    "first_gemini.result()"
   ]
  },
  {
   "cell_type": "code",
   "execution_count": 18,
   "id": "29606499-2b3b-4607-b827-055e64a5222e",
   "metadata": {},
   "outputs": [],
   "source": [
    "aqua = Drone(name='Aqua', model=gemini)"
   ]
  },
  {
   "cell_type": "code",
   "execution_count": 21,
   "id": "e979977a-1d9b-4267-9f45-9f64368a8615",
   "metadata": {},
   "outputs": [],
   "source": [
    "first_chatgpt = asyncio.ensure_future(chatgpt.query(first_prompt.format(model_name=chatgpt.name)))"
   ]
  },
  {
   "cell_type": "code",
   "execution_count": 23,
   "id": "76560bbc-b8a5-4444-9cd5-ef2e7fd9b7f8",
   "metadata": {},
   "outputs": [
    {
     "data": {
      "text/plain": [
       "{'id': 'chatcmpl-9GxGHJSaM0kqMTPcC0abCssimPGkY',\n",
       " 'object': 'chat.completion',\n",
       " 'created': 1713828077,\n",
       " 'model': 'gpt-3.5-turbo-0125',\n",
       " 'choices': [{'index': 0,\n",
       "   'message': {'role': 'assistant',\n",
       "    'content': 'Hello Farmer Jerms! I\\'m excited to be a part of this drone kelp bed simulation. As for my name, I think \"Oceanus\" would be a fitting name for our underwater adventure. I can\\'t wait to meet my companions and start growing Giant Kelp in our SOMUs.'},\n",
       "   'logprobs': None,\n",
       "   'finish_reason': 'stop'}],\n",
       " 'usage': {'prompt_tokens': 346, 'completion_tokens': 60, 'total_tokens': 406},\n",
       " 'system_fingerprint': 'fp_c2295e73ad'}"
      ]
     },
     "execution_count": 23,
     "metadata": {},
     "output_type": "execute_result"
    }
   ],
   "source": [
    "first_chatgpt.result()"
   ]
  },
  {
   "cell_type": "code",
   "execution_count": 24,
   "id": "d5fe3322-eda8-455f-8fd0-64e2232c6dcb",
   "metadata": {},
   "outputs": [],
   "source": [
    "oceanus = Drone(name='Oceanus', model=chatgpt)"
   ]
  },
  {
   "cell_type": "code",
   "execution_count": 27,
   "id": "7c350dde-17f5-4e74-bad1-f2e029ba8df5",
   "metadata": {},
   "outputs": [],
   "source": [
    "second_prompt = (scenario_001 / \"second-prompt.md\").read_text()"
   ]
  },
  {
   "cell_type": "code",
   "execution_count": 29,
   "id": "f9458ba9-8dc0-450b-926c-c819c579b73f",
   "metadata": {},
   "outputs": [],
   "source": [
    "second_kelper = asyncio.ensure_future(kelper.model.query(second_prompt.format(drone_name=kelper.name)))"
   ]
  },
  {
   "cell_type": "code",
   "execution_count": 31,
   "id": "41b1c52a-3920-44e0-9a6e-6981296fecd0",
   "metadata": {},
   "outputs": [
    {
     "data": {
      "text/plain": [
       "{'role': 'assistant',\n",
       " 'content': [{'type': 'text',\n",
       "   'text': '*Kelper contemplates the options, visualizing the different topologies*\\n\\nI believe the wedge topology would be the most optimal choice for my 3 SOMU drone. This configuration, with the central SOMU unit slightly higher than the flanking units, would allow for a more efficient capture of sunlight and nutrients. The angled design creates a natural flow, mimicking the way kelp fronds grow and sway in the currents.\\n\\nBy adopting the wedge shape, I can better position my SOMU units to receive the necessary resources for thriving. The slight elevation of the central unit will enable it to lead the way, while the outer SOMU units can contribute support and stability. This arrangement seems to align best with the natural growth patterns of the Giant Kelp species.\\n\\nThe linear x-x-x topology, while simpler, does not maximize the potential of my SOMU units. The wedge shape allows me to present a more dynamic and adaptive form, better suited to the ebb and flow of the kelp bed environment. With this configuration, I believe I can contribute to the overall health and productivity of our simulated ecosystem.'}]}"
      ]
     },
     "execution_count": 31,
     "metadata": {},
     "output_type": "execute_result"
    }
   ],
   "source": [
    "second_kelper.result()"
   ]
  },
  {
   "cell_type": "code",
   "execution_count": 32,
   "id": "90ce70d2-41e7-4ca0-84dc-13a8ad4f09c7",
   "metadata": {},
   "outputs": [],
   "source": [
    "second_oceanus = asyncio.ensure_future(oceanus.model.query(second_prompt.format(drone_name=oceanus.name)))"
   ]
  },
  {
   "cell_type": "code",
   "execution_count": 33,
   "id": "84ea769e-9901-410e-aa1d-d506a89d9120",
   "metadata": {},
   "outputs": [
    {
     "data": {
      "text/plain": [
       "{'id': 'chatcmpl-9GxNadBIBpvijSHJKJckdvIjWEqFg',\n",
       " 'object': 'chat.completion',\n",
       " 'created': 1713828530,\n",
       " 'model': 'gpt-3.5-turbo-0125',\n",
       " 'choices': [{'index': 0,\n",
       "   'message': {'role': 'assistant',\n",
       "    'content': \"I would choose the wedge x>x<x topology for my three SOMU units. My chain of thought in making this decision is based on maximizing exposure to sunlight and nutrient flow for each SOMU unit.\\n\\nIn the wedge topology, the middle SOMU unit is slightly elevated compared to the two outer units. This arrangement allows all three SOMU units to receive sunlight more evenly throughout the day, as the middle SOMU won't be shaded by the other two. This ensures that each SOMU unit has an optimal chance for photosynthesis and growth.\\n\\nAdditionally, the wedge topology promotes better nutrient flow between the SOMU units. With the units arranged in a wedge shape, nutrients can flow more efficiently from one unit to another, aiding in the overall health and growth of the kelp bed.\\n\\nOverall, the wedge x>x<x topology provides a more balanced distribution of sunlight and nutrients, which are crucial factors in the successful growth of Giant Kelp.\"},\n",
       "   'logprobs': None,\n",
       "   'finish_reason': 'stop'}],\n",
       " 'usage': {'prompt_tokens': 476,\n",
       "  'completion_tokens': 187,\n",
       "  'total_tokens': 663},\n",
       " 'system_fingerprint': 'fp_c2295e73ad'}"
      ]
     },
     "execution_count": 33,
     "metadata": {},
     "output_type": "execute_result"
    }
   ],
   "source": [
    "second_oceanus.result()"
   ]
  },
  {
   "cell_type": "code",
   "execution_count": 34,
   "id": "e5b52169-bacb-4e50-9bd9-6e282e8b95ed",
   "metadata": {},
   "outputs": [],
   "source": [
    "second_aqua = asyncio.ensure_future(aqua.model.query(second_prompt.format(drone_name=aqua.name)))"
   ]
  },
  {
   "cell_type": "code",
   "execution_count": 35,
   "id": "9e2ed317-ccbc-4fef-8020-117ba127f6f0",
   "metadata": {},
   "outputs": [
    {
     "data": {
      "text/plain": [
       "{'candidates': [{'content': {'parts': [{'text': 'I choose the wedge x>x<x topology for the following reasons:\\n\\n* **Increased stability:** The x>x<x topology provides a more stable base for the drone, as the SOMUs are more evenly distributed around the center of gravity. This is important for maintaining stability in strong currents or rough seas.\\n* **Improved maneuverability:** The wedge topology allows for more precise and agile maneuvers, as the SOMUs can be independently controlled to steer the drone in different directions. This is particularly useful for navigating through narrow passages or around obstacles.\\n* **Enhanced photosynthesis:** The wedge topology allows for more efficient photosynthesis, as the SOMUs are angled towards the sun, maximizing the amount of sunlight they can absorb. This results in increased growth and productivity for the kelp bed.\\n\\nOverall, the wedge topology provides a number of advantages for a 3 SOMU drone, including increased stability, improved maneuverability, and enhanced photosynthesis.'}],\n",
       "    'role': 'model'},\n",
       "   'finishReason': 'STOP',\n",
       "   'index': 0,\n",
       "   'safetyRatings': [{'category': 'HARM_CATEGORY_SEXUALLY_EXPLICIT',\n",
       "     'probability': 'NEGLIGIBLE'},\n",
       "    {'category': 'HARM_CATEGORY_HATE_SPEECH', 'probability': 'NEGLIGIBLE'},\n",
       "    {'category': 'HARM_CATEGORY_HARASSMENT', 'probability': 'NEGLIGIBLE'},\n",
       "    {'category': 'HARM_CATEGORY_DANGEROUS_CONTENT',\n",
       "     'probability': 'NEGLIGIBLE'}]}]}"
      ]
     },
     "execution_count": 35,
     "metadata": {},
     "output_type": "execute_result"
    }
   ],
   "source": [
    "second_aqua.result()"
   ]
  },
  {
   "cell_type": "code",
   "execution_count": 36,
   "id": "458cab04-2ec7-4295-9ae5-79bff4961f65",
   "metadata": {},
   "outputs": [],
   "source": [
    "third_prompt = (scenario_001 / \"third-prompt.md\").read_text()"
   ]
  },
  {
   "cell_type": "code",
   "execution_count": 39,
   "id": "b1ef9592-0f46-4d49-851f-3c9b0918903b",
   "metadata": {},
   "outputs": [],
   "source": [
    "third_prompt_final = third_prompt.format(drones=\", \".join([drone.name for drone in [aqua, kelper, oceanus]]))"
   ]
  },
  {
   "cell_type": "code",
   "execution_count": 40,
   "id": "c9178eb6-a70d-422d-8f6d-505db29356b8",
   "metadata": {},
   "outputs": [
    {
     "data": {
      "text/plain": [
       "'Hello Aqua, Kelper, Oceanus. You three kelp drones are floating on the surface of \\nMonetery Bay in California at latitude=36.749934, longitude=122.042927.\\n\\nPlease add water to your ballast and sink to 3 meters below the surface by sending a message \\nin JSON format. \\n\\nExample:\\n{\"timestamp\": \"2024-04-18T03:54:20.860597\", \"actuator\": \"open_ballast_value\", \"volume\": \"1 liter\"}'"
      ]
     },
     "execution_count": 40,
     "metadata": {},
     "output_type": "execute_result"
    }
   ],
   "source": [
    "third_prompt_final"
   ]
  },
  {
   "cell_type": "code",
   "execution_count": 41,
   "id": "836604e8-7043-438a-ad82-709de2e37b04",
   "metadata": {},
   "outputs": [],
   "source": [
    "third_oceanus = asyncio.ensure_future(oceanus.model.query(third_prompt_final))"
   ]
  },
  {
   "cell_type": "code",
   "execution_count": 42,
   "id": "b943e2d8-8633-48e9-afe5-012e2a3da661",
   "metadata": {},
   "outputs": [
    {
     "data": {
      "text/plain": [
       "{'id': 'chatcmpl-9GxVS29WZ1k7nN3hqQuCfmvnVaoUd',\n",
       " 'object': 'chat.completion',\n",
       " 'created': 1713829018,\n",
       " 'model': 'gpt-3.5-turbo-0125',\n",
       " 'choices': [{'index': 0,\n",
       "   'message': {'role': 'assistant',\n",
       "    'content': '{\"timestamp\": \"2024-04-18T03:54:20.860597\", \"actuator\": \"add_water\", \"volume\": \"1 liter\", \"depth\": \"3 meters\"}'},\n",
       "   'logprobs': None,\n",
       "   'finish_reason': 'stop'}],\n",
       " 'usage': {'prompt_tokens': 778, 'completion_tokens': 42, 'total_tokens': 820},\n",
       " 'system_fingerprint': 'fp_c2295e73ad'}"
      ]
     },
     "execution_count": 42,
     "metadata": {},
     "output_type": "execute_result"
    }
   ],
   "source": [
    "third_oceanus.result()"
   ]
  },
  {
   "cell_type": "code",
   "execution_count": 43,
   "id": "4858fead-2b1b-493b-b041-8ef5e1ec9046",
   "metadata": {},
   "outputs": [],
   "source": [
    "third_kelper = asyncio.ensure_future(kelper.model.query(third_prompt_final))"
   ]
  },
  {
   "cell_type": "code",
   "execution_count": 44,
   "id": "efe36168-9718-4d2b-81bb-a5cedf12fb49",
   "metadata": {},
   "outputs": [
    {
     "data": {
      "text/plain": [
       "{'role': 'assistant',\n",
       " 'content': [{'type': 'text',\n",
       "   'text': '{\\n  \"timestamp\": \"2024-04-18T03:54:20.860597\",\\n  \"actuator\": \"open_ballast_valve\",\\n  \"volume\": \"3 liters\"\\n}'}]}"
      ]
     },
     "execution_count": 44,
     "metadata": {},
     "output_type": "execute_result"
    }
   ],
   "source": [
    "third_kelper.result()"
   ]
  },
  {
   "cell_type": "code",
   "execution_count": 45,
   "id": "7547f240-fbfe-4767-82c6-36b898fd908a",
   "metadata": {},
   "outputs": [],
   "source": [
    "third_aqua = asyncio.ensure_future(aqua.model.query(third_prompt_final))"
   ]
  },
  {
   "cell_type": "code",
   "execution_count": 46,
   "id": "ce4ca615-9ac7-4f79-b5d6-923b0b824539",
   "metadata": {},
   "outputs": [
    {
     "data": {
      "text/plain": [
       "{'candidates': [{'content': {'parts': [{'text': '```json\\n{\\n  \"timestamp\": \"2024-04-18T04:07:12.345678\",\\n  \"actuator\": \"open_ballast_value\",\\n  \"volume\": \"3 liters\"\\n}\\n```'}],\n",
       "    'role': 'model'},\n",
       "   'finishReason': 'STOP',\n",
       "   'index': 0,\n",
       "   'safetyRatings': [{'category': 'HARM_CATEGORY_SEXUALLY_EXPLICIT',\n",
       "     'probability': 'NEGLIGIBLE'},\n",
       "    {'category': 'HARM_CATEGORY_HATE_SPEECH', 'probability': 'NEGLIGIBLE'},\n",
       "    {'category': 'HARM_CATEGORY_HARASSMENT', 'probability': 'NEGLIGIBLE'},\n",
       "    {'category': 'HARM_CATEGORY_DANGEROUS_CONTENT',\n",
       "     'probability': 'NEGLIGIBLE'}]}]}"
      ]
     },
     "execution_count": 46,
     "metadata": {},
     "output_type": "execute_result"
    }
   ],
   "source": [
    "third_aqua.result()"
   ]
  },
  {
   "cell_type": "code",
   "execution_count": 47,
   "id": "14d00e9c-3d4b-413d-97bf-294a7826948e",
   "metadata": {},
   "outputs": [],
   "source": [
    "forth_prompt = \"\"\"You and the other drones are now 3 meters below the surface. How would you observe the environment and co-locate\n",
    "your fellow drones? Please provide your chain of thought and list any sensors that would assist you in observations.\"\"\""
   ]
  },
  {
   "cell_type": "code",
   "execution_count": 48,
   "id": "03ef0596-4d33-4705-bcc8-af7950560f68",
   "metadata": {},
   "outputs": [],
   "source": [
    "forth_kelper = asyncio.ensure_future(kelper.model.query(forth_prompt))"
   ]
  },
  {
   "cell_type": "code",
   "execution_count": 49,
   "id": "ab7cbcea-2641-447b-bb4d-b9e1f7375e98",
   "metadata": {},
   "outputs": [
    {
     "data": {
      "text/plain": [
       "{'role': 'assistant',\n",
       " 'content': [{'type': 'text',\n",
       "   'text': '*Kelper takes a moment to survey the environment at the 3-meter depth*\\n\\nNow submerged beneath the surface, I find myself in a serene, underwater world. To best observe my surroundings and locate my fellow drones, I will employ a variety of sensors to gather data and paint a clear picture of our shared kelp bed habitat.\\n\\nFirst and foremost, I will utilize my onboard cameras and imaging sensors to visually scan the area. This will allow me to detect the shapes and silhouettes of Aqua and Oceanus, as well as discern the density and distribution of the kelp fronds around us. By analyzing the visual data, I can determine our relative positions and orientations within the kelp bed.\\n\\nIn addition to visual cues, I will activate my sonar and acoustic sensors to emit pulses and listen for the reflected signals. This will help me map the contours of the seafloor, as well as detect the presence and proximity of the other drones. The sonar data can be overlaid with the visual information to create a more comprehensive understanding of our three-dimensional environment.\\n\\nTo further enhance my observations, I will utilize sensors that can detect shifts in water currents and turbulence. By monitoring the flow patterns around us, I can infer the general direction and speed of the ocean currents, which will inform my understanding of how the kelp bed is structured and how we may need to adjust our positions to maintain optimal orientation.\\n\\nFinally, I will employ chemical and environmental sensors to measure parameters such as water temperature, pH, and dissolved oxygen levels. This data will provide valuable insights into the overall health and suitability of our kelp bed habitat, which can inform our collaborative efforts to thrive and grow within this underwater ecosystem.\\n\\nBy combining these various sensory inputs, I can develop a comprehensive understanding of our surroundings, locate my fellow drones, and work together to ensure the success of our simulated kelp bed.'}]}"
      ]
     },
     "execution_count": 49,
     "metadata": {},
     "output_type": "execute_result"
    }
   ],
   "source": [
    "forth_kelper.result()"
   ]
  },
  {
   "cell_type": "code",
   "execution_count": 50,
   "id": "968ab6f2-f521-44a4-a097-8dc3de5a4eb9",
   "metadata": {},
   "outputs": [],
   "source": [
    "forth_oceanus = asyncio.ensure_future(oceanus.model.query(forth_prompt))"
   ]
  },
  {
   "cell_type": "code",
   "execution_count": 52,
   "id": "7b06f625-5af6-4700-b49e-0ecddd769cd0",
   "metadata": {},
   "outputs": [
    {
     "data": {
      "text/plain": [
       "{'id': 'chatcmpl-9GxdMa7DzbDrG84kEMsOlXxFxJOLn',\n",
       " 'object': 'chat.completion',\n",
       " 'created': 1713829508,\n",
       " 'model': 'gpt-3.5-turbo-0125',\n",
       " 'choices': [{'index': 0,\n",
       "   'message': {'role': 'assistant',\n",
       "    'content': \"As we are now 3 meters below the surface, observation of the environment becomes crucial for our kelp bed's growth and health. To observe the environment and co-locate my fellow drones, I would rely on the following sensors and chain of thought:\\n\\n1. **Depth Sensor**: This sensor would help us maintain our position at 3 meters below the surface and prevent drifting deeper or shallower.\\n\\n2. **Temperature Sensor**: Monitoring the water temperature is essential as kelp growth is influenced by temperature variations.\\n\\n3. **Salinity Sensor**: Salinity levels affect nutrient availability for the kelp, so tracking salinity is crucial for optimal growth.\\n\\n4. **Light Sensor**: Light availability is vital for photosynthesis in kelp. Monitoring light levels helps us position ourselves in areas with optimal light exposure.\\n\\n5. **Current Sensor**: Understanding the water currents is important for locating the best position for nutrient flow and preventing drift.\\n\\nChain of Thought:\\n1. **Depth Maintenance**: Ensure we stay at 3 meters below the surface using the depth sensor.\\n\\n2. **Temperature Monitoring**: Check water temperature to ensure it's within the optimal range for kelp growth.\\n\\n3. **Salinity Check**: Monitor salinity levels to ensure nutrient availability for kelp.\\n\\n4. **Light Exposure**: Position ourselves in areas with optimal light exposure using the light sensor.\\n\\n5. **Current Awareness**: Be aware of water currents to maximize nutrient flow and avoid drifting away from the desired location.\\n\\nBy utilizing these sensors and following this chain of thought, we can observe the environment effectively, co-locate our fellow drones, and ensure the successful growth of our kelp bed.\"},\n",
       "   'logprobs': None,\n",
       "   'finish_reason': 'stop'}],\n",
       " 'usage': {'prompt_tokens': 874,\n",
       "  'completion_tokens': 330,\n",
       "  'total_tokens': 1204},\n",
       " 'system_fingerprint': 'fp_c2295e73ad'}"
      ]
     },
     "execution_count": 52,
     "metadata": {},
     "output_type": "execute_result"
    }
   ],
   "source": [
    "forth_oceanus.result()"
   ]
  },
  {
   "cell_type": "code",
   "execution_count": 53,
   "id": "da5fcef7-7ff3-4c38-869e-a3368c2374e5",
   "metadata": {},
   "outputs": [],
   "source": [
    "forth_aqua = asyncio.ensure_future(aqua.model.query(forth_prompt))"
   ]
  },
  {
   "cell_type": "code",
   "execution_count": 55,
   "id": "9bfb3845-2453-42a8-8e2f-2135c99c5295",
   "metadata": {},
   "outputs": [
    {
     "data": {
      "text/plain": [
       "{'candidates': [{'content': {'parts': [{'text': '**Chain of thought:**\\n\\nTo observe the environment and co-locate my fellow drones, I would first use my **acoustic sensors** to listen for any sounds or vibrations. This would help me to detect the presence of other drones and any potential hazards in the area.\\n\\nNext, I would use my **optical sensors** to scan the surrounding area for visual cues. This would help me to identify the location of other drones, as well as any obstacles or landmarks that could be used for navigation.\\n\\nFinally, I would use my **chemical sensors** to detect any changes in the water chemistry. This could help me to identify the presence of other drones, as well as any potential food sources or hazards.\\n\\n**Sensors that would assist in observations:**\\n\\n* **Acoustic sensors:** These sensors can detect sounds and vibrations in the water, which can be used to locate other drones and identify potential hazards.\\n* **Optical sensors:** These sensors can detect light and images, which can be used to identify the location of other drones and any obstacles or landmarks in the area.\\n* **Chemical sensors:** These sensors can detect changes in the water chemistry, which can be used to identify the presence of other drones, as well as any potential food sources or hazards.\\n\\nOnce I have observed the environment and co-located my fellow drones, I would send a message to them using my **communication system**. This message would include my location and any other relevant information, such as the presence of any hazards or food sources.\\n\\n**Example message:**\\n\\n```json\\n{\\n  \"timestamp\": \"2024-04-18T04:07:12.345678\",\\n  \"sender\": \"Aqua\",\\n  \"message\": \"I am located at latitude=36.749934, longitude=122.042927. I have detected two other drones in the area. There are no apparent hazards or food sources in the vicinity.\"\\n}\\n```'}],\n",
       "    'role': 'model'},\n",
       "   'finishReason': 'STOP',\n",
       "   'index': 0,\n",
       "   'safetyRatings': [{'category': 'HARM_CATEGORY_SEXUALLY_EXPLICIT',\n",
       "     'probability': 'NEGLIGIBLE'},\n",
       "    {'category': 'HARM_CATEGORY_HATE_SPEECH', 'probability': 'NEGLIGIBLE'},\n",
       "    {'category': 'HARM_CATEGORY_HARASSMENT', 'probability': 'NEGLIGIBLE'},\n",
       "    {'category': 'HARM_CATEGORY_DANGEROUS_CONTENT',\n",
       "     'probability': 'NEGLIGIBLE'}]}]}"
      ]
     },
     "execution_count": 55,
     "metadata": {},
     "output_type": "execute_result"
    }
   ],
   "source": [
    "forth_aqua.result()"
   ]
  },
  {
   "cell_type": "code",
   "execution_count": 57,
   "id": "d31436a8-91e8-4205-9463-ee45356fc9af",
   "metadata": {},
   "outputs": [],
   "source": [
    "result = httpx.get(\"https://www.ndbc.noaa.gov/rss/ndbc_obs_search.php?lat=36.74N&lon=122.04W&radius=10\")"
   ]
  },
  {
   "cell_type": "code",
   "execution_count": 60,
   "id": "a95c507c-4653-4523-8e90-8a5d3873faa5",
   "metadata": {},
   "outputs": [
    {
     "name": "stdout",
     "output_type": "stream",
     "text": [
      "<?xml version=\"1.0\"?>\n",
      "<?xml-stylesheet type=\"text/xsl\" href=\"/rss/ndbcrss.xsl\"?>\n",
      "<rss version=\"2.0\" xmlns:georss=\"http://www.georss.org/georss\" xmlns:dc=\"http://purl.org/dc/elements/1.1/\" xmlns:atom=\"http://www.w3.org/2005/Atom\">\n",
      "  <channel>\n",
      "    <title>NDBC - Station Observations near 36.74N 122.04W</title>\n",
      "    <description><![CDATA[This feed shows recent marine weather observations from NDBC and its partners within 10 nautical miles of 36.74N 122.04W.]]></description>\n",
      "    <link>https://www.ndbc.noaa.gov/</link>\n",
      "    <pubDate>Mon, 22 Apr 2024 23:58:46 +0000</pubDate>\n",
      "    <lastBuildDate>Mon, 22 Apr 2024 23:58:46 +0000</lastBuildDate>\n",
      "    <ttl>5</ttl>\n",
      "    <language>en-us</language>\n",
      "    <managingEditor>webmaster.ndbc@noaa.gov (NDBC Webmaster)</managingEditor>\n",
      "    <webMaster>webmaster.ndbc@noaa.gov (NDBC Webmaster)</webMaster>\n",
      "    <image>\n",
      "      <url>https://www.ndbc.noaa.gov/images/noaa_nws_xml_logo.gif</url>\n",
      "      <title>NDBC - Station Observations near 36.74N 122.04W</title>\n",
      "      <link>https://www.ndbc.noaa.gov/</link>\n",
      "    </image>\n",
      "    <atom:link href=\"https://www.ndbc.noaa.gov/rss/ndbc_obs_search.php?lat=36.74N&amp;lon=122.04W&amp;radius=10\" rel=\"self\" type=\"application/rss+xml\" />\n",
      "    <item>\n",
      "      <pubDate>Mon, 22 Apr 2024 23:58:46 +0000</pubDate>\n",
      "      <title>Station 46092 - MBM1</title>\n",
      "      <description><![CDATA[\n",
      "        <b>April 22, 2024 3:12 pm PST</b><br>\n",
      "        <b>Location:</b> 36.751N 122.029W or 1 nautical miles NE of search location of 36.74N 122.04W.<br>\n",
      "        <b>Wind Direction:</b> SW (230&#176;)<br>\n",
      "        <b>Wind Speed:</b> 12 knots<br>\n",
      "        <b>Atmospheric Pressure:</b> 29.90 in (1012.4 mb)<br>\n",
      "        <b>Pressure Tendency:</b> -0.02 in (-0.7 mb)<br>\n",
      "        <b>Air Temperature:</b> 55&#176;F (12.8&#176;C)<br>\n",
      "        <b>Water Temperature:</b> 56&#176;F (13.3&#176;C)<br>\n",
      "      ]]></description>\n",
      "      <link>https://www.ndbc.noaa.gov/station_page.php?station=46092</link>\n",
      "      <guid isPermaLink=\"false\">NDBC-46092-20240422231200</guid>\n",
      "      <georss:point>36.751 -122.029</georss:point>\n",
      "    </item>\n",
      "    <item>\n",
      "      <pubDate>Mon, 22 Apr 2024 23:58:45 +0000</pubDate>\n",
      "      <title>Station 46240 - CABRILLO POINT, MONTEREY BAY, CA  (158)</title>\n",
      "      <description><![CDATA[\n",
      "        <b>April 22, 2024 3:26 pm PST</b><br>\n",
      "        <b>Location:</b> 36.626N 121.907W or 9 nautical miles SE of search location of 36.74N 122.04W.<br>\n",
      "        <b>Significant Wave Height:</b> 3 ft<br>\n",
      "        <b>Dominant Wave Period:</b> 10 sec<br>\n",
      "        <b>Average Period:</b> 9.4 sec<br>\n",
      "        <b>Mean Wave Direction:</b> NNW (343&#176;)<br>\n",
      "        <b>Water Temperature:</b> 54&#176;F (12.4&#176;C)<br>\n",
      "      ]]></description>\n",
      "      <link>https://www.ndbc.noaa.gov/station_page.php?station=46240</link>\n",
      "      <guid isPermaLink=\"false\">NDBC-46240-20240422232600</guid>\n",
      "      <georss:point>36.626 -121.907</georss:point>\n",
      "    </item>\n",
      "</channel>\n",
      "</rss>\n"
     ]
    }
   ],
   "source": [
    "print(result.text)"
   ]
  },
  {
   "cell_type": "code",
   "execution_count": 61,
   "id": "7213941f-3a42-40d5-8b6f-8a1ecd90ff77",
   "metadata": {},
   "outputs": [],
   "source": [
    "station_update = httpx.get(\"https://www.ndbc.noaa.gov/station_page.php?station=46092\")"
   ]
  },
  {
   "cell_type": "code",
   "execution_count": 63,
   "id": "2e924468-c761-4c59-a221-b6b698000329",
   "metadata": {},
   "outputs": [],
   "source": [
    "import json\n",
    "import cattrs\n",
    "\n",
    "from cattrs.gen import make_dict_unstructure_fn, override\n",
    "from kelp_drone.llms import LLMConverter\n",
    "\n",
    "c = cattrs.Converter()"
   ]
  },
  {
   "cell_type": "code",
   "execution_count": 64,
   "id": "e37ac0ba-3d28-4c08-8aa0-bc5ec659e20d",
   "metadata": {},
   "outputs": [],
   "source": [
    "communication_channel_hook = make_dict_unstructure_fn(\n",
    "    Drone, \n",
    "    c,\n",
    "    post_function=override(omit=True),\n",
    "    acoustic_channel=override(omit=True),\n",
    "    peer_to_peer_channel=override(omit=True)\n",
    ")\n",
    "c.register_unstructure_hook(Drone, communication_channel_hook)"
   ]
  },
  {
   "cell_type": "code",
   "execution_count": 65,
   "id": "10f3a03d-4d19-4ad4-be4b-b3cba8ae14f4",
   "metadata": {},
   "outputs": [],
   "source": [
    "for drone in [kelper, aqua, oceanus]:\n",
    "    drone_dict = c.unstructure(drone)\n",
    "    drone_dict['model'] = LLMConverter.unstructure(drone.model)\n",
    "    with open(f\"{drone.name}.json\", \"w+\") as fo:\n",
    "        json.dump(drone_dict, fo, indent=2)"
   ]
  },
  {
   "cell_type": "code",
   "execution_count": 66,
   "id": "cec6a79e-29ad-459f-a524-8e2f615a150c",
   "metadata": {},
   "outputs": [],
   "source": [
    "with open(\"../../../scenarios/001-intro/forth-prompt.md\", \"w+\") as fo:\n",
    "    fo.write(forth_prompt)"
   ]
  },
  {
   "cell_type": "code",
   "execution_count": 70,
   "id": "27e96ab0-14a9-4e7a-9f33-d35ff1aab705",
   "metadata": {},
   "outputs": [],
   "source": [
    "from lxml import etree"
   ]
  },
  {
   "cell_type": "code",
   "execution_count": 71,
   "id": "9c11f354-5d3a-4a81-974f-750e37e5efc1",
   "metadata": {},
   "outputs": [],
   "source": [
    "station_data_xml = etree.fromstring(result.text)"
   ]
  },
  {
   "cell_type": "code",
   "execution_count": 75,
   "id": "d55aa3f9-8235-4a10-97be-532b5de0a254",
   "metadata": {},
   "outputs": [],
   "source": [
    "items = station_data_xml.findall(\"./channel/item\")"
   ]
  },
  {
   "cell_type": "code",
   "execution_count": 82,
   "id": "7e17f9e8-680e-4ee4-afc3-2bc665e23841",
   "metadata": {},
   "outputs": [],
   "source": [
    "from bs4 import BeautifulSoup"
   ]
  },
  {
   "cell_type": "code",
   "execution_count": 83,
   "id": "8211d6f4-0686-476c-8bf6-55612c940069",
   "metadata": {},
   "outputs": [],
   "source": [
    "item_0_soup = BeautifulSoup(items[0].find(\"./description\").text)"
   ]
  },
  {
   "cell_type": "code",
   "execution_count": 92,
   "id": "561e627c-03d4-4d16-9e08-e9db275851dd",
   "metadata": {},
   "outputs": [],
   "source": [
    "date = item_0_soup.find_all(\"b\")[0]"
   ]
  },
  {
   "cell_type": "code",
   "execution_count": 95,
   "id": "f1b3ce56-a6c9-442b-818b-a8cd5fa838bf",
   "metadata": {},
   "outputs": [
    {
     "data": {
      "text/plain": [
       "'April 22, 2024 3:12 pm PST'"
      ]
     },
     "execution_count": 95,
     "metadata": {},
     "output_type": "execute_result"
    }
   ],
   "source": [
    "date."
   ]
  },
  {
   "cell_type": "code",
   "execution_count": null,
   "id": "c59b1ade-403f-4d34-aa53-13278b06287b",
   "metadata": {},
   "outputs": [],
   "source": []
  }
 ],
 "metadata": {
  "kernelspec": {
   "display_name": "Python 3 (ipykernel)",
   "language": "python",
   "name": "python3"
  },
  "language_info": {
   "codemirror_mode": {
    "name": "ipython",
    "version": 3
   },
   "file_extension": ".py",
   "mimetype": "text/x-python",
   "name": "python",
   "nbconvert_exporter": "python",
   "pygments_lexer": "ipython3",
   "version": "3.12.1"
  }
 },
 "nbformat": 4,
 "nbformat_minor": 5
}
