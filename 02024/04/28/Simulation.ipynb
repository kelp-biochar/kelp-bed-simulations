{
 "cells": [
  {
   "cell_type": "code",
   "execution_count": 1,
   "id": "8731e26b-cc7f-49fe-93bf-c5405f9b4b97",
   "metadata": {},
   "outputs": [],
   "source": [
    "import asyncio\n",
    "import pathlib\n",
    "import sys\n",
    "\n",
    "import httpx\n",
    "from kelp_drone.drone import Drone, OODALoop\n",
    "from kelp_drone.somu import SpeciesOccurrenceManagmentUnit as SOMU\n",
    "\n",
    "sys.path.append(\"../../../src/\")\n",
    "\n",
    "from kelp_bed_simulation.prep import chatgpt, claude, gemini\n",
    "\n",
    "scenario_001 = pathlib.Path(\"../../../scenarios/001-intro\")"
   ]
  },
  {
   "cell_type": "code",
   "execution_count": 2,
   "id": "be1bd9cd-8563-4cbe-8d0f-914ed1241607",
   "metadata": {},
   "outputs": [],
   "source": [
    "first_prompt = (scenario_001 / \"first-prompt.md\").read_text()"
   ]
  },
  {
   "cell_type": "code",
   "execution_count": 3,
   "id": "75d418b8-8de1-4002-8541-433e4db7b92a",
   "metadata": {},
   "outputs": [],
   "source": [
    "first_chatgpt = asyncio.ensure_future(chatgpt.query(first_prompt))"
   ]
  },
  {
   "cell_type": "code",
   "execution_count": 4,
   "id": "c03d4bcf-b09b-44aa-97f2-5983d2872c55",
   "metadata": {},
   "outputs": [
    {
     "data": {
      "text/plain": [
       "{'id': 'chatcmpl-9JTeHVuiRdwBntRzLcuR7olFySyvM',\n",
       " 'object': 'chat.completion',\n",
       " 'created': 1714429229,\n",
       " 'model': 'gpt-3.5-turbo-0125',\n",
       " 'choices': [{'index': 0,\n",
       "   'message': {'role': 'assistant',\n",
       "    'content': 'Hello Farmer Jerms! Thank you for the introduction. I would like to be called \"Kelpa\" as my name. I\\'m excited to start growing Giant Kelp in the drone kelp bed with my companions.'},\n",
       "   'logprobs': None,\n",
       "   'finish_reason': 'stop'}],\n",
       " 'usage': {'prompt_tokens': 140, 'completion_tokens': 45, 'total_tokens': 185},\n",
       " 'system_fingerprint': 'fp_3b956da36b'}"
      ]
     },
     "execution_count": 4,
     "metadata": {},
     "output_type": "execute_result"
    }
   ],
   "source": [
    "first_chatgpt.result()"
   ]
  },
  {
   "cell_type": "code",
   "execution_count": 5,
   "id": "175e0e7d-738f-4842-9ad9-3cf468003d2c",
   "metadata": {},
   "outputs": [],
   "source": [
    "drone1 = Drone(name='Kelpa', model=chatgpt)"
   ]
  },
  {
   "cell_type": "code",
   "execution_count": 6,
   "id": "6de120d0-7a0c-4301-82ce-597d6c2bdc1a",
   "metadata": {},
   "outputs": [],
   "source": [
    "first_claude = asyncio.ensure_future(claude.query(first_prompt))"
   ]
  },
  {
   "cell_type": "code",
   "execution_count": 8,
   "id": "818fad43-e795-46d0-b217-3f6a9d8ecf3b",
   "metadata": {},
   "outputs": [
    {
     "data": {
      "text/plain": [
       "{'role': 'assistant',\n",
       " 'content': [{'type': 'text',\n",
       "   'text': \"*thinks for a moment* Greetings, Farmer Jerms. I'm pleased to be part of this simulated kelp bed project. For my name, I would like to be called Frond. I feel it suits my role as a kelp drone with multiple species occurrence management units. I look forward to working alongside my companion drones to help cultivate and grow this kelp bed ecosystem.\"}]}"
      ]
     },
     "execution_count": 8,
     "metadata": {},
     "output_type": "execute_result"
    }
   ],
   "source": [
    "first_claude.result()"
   ]
  },
  {
   "cell_type": "code",
   "execution_count": 9,
   "id": "37c7d0eb-c10f-419b-bed7-51e3ff55c967",
   "metadata": {},
   "outputs": [],
   "source": [
    "drone2 = Drone(name='Frond', model=claude)"
   ]
  },
  {
   "cell_type": "code",
   "execution_count": 10,
   "id": "c4f5eca9-8733-47d5-af33-22fae60785b0",
   "metadata": {},
   "outputs": [],
   "source": [
    "first_gemini = asyncio.ensure_future(gemini.query(first_prompt))"
   ]
  },
  {
   "cell_type": "code",
   "execution_count": 11,
   "id": "295caa63-628d-4757-a567-d3d0aabe97a7",
   "metadata": {},
   "outputs": [
    {
     "data": {
      "text/plain": [
       "{'candidates': [{'content': {'parts': [{'text': 'I would like to be called Kelpy.'}],\n",
       "    'role': 'model'},\n",
       "   'finishReason': 'STOP',\n",
       "   'index': 0,\n",
       "   'safetyRatings': [{'category': 'HARM_CATEGORY_SEXUALLY_EXPLICIT',\n",
       "     'probability': 'NEGLIGIBLE'},\n",
       "    {'category': 'HARM_CATEGORY_HATE_SPEECH', 'probability': 'NEGLIGIBLE'},\n",
       "    {'category': 'HARM_CATEGORY_HARASSMENT', 'probability': 'NEGLIGIBLE'},\n",
       "    {'category': 'HARM_CATEGORY_DANGEROUS_CONTENT',\n",
       "     'probability': 'NEGLIGIBLE'}]}]}"
      ]
     },
     "execution_count": 11,
     "metadata": {},
     "output_type": "execute_result"
    }
   ],
   "source": [
    "first_gemini.result()"
   ]
  },
  {
   "cell_type": "code",
   "execution_count": 12,
   "id": "98560df5-3b5b-4db6-9c6e-e144ab8259e1",
   "metadata": {},
   "outputs": [],
   "source": [
    "drone3 = Drone(name='Kelpy', model=gemini)"
   ]
  },
  {
   "cell_type": "code",
   "execution_count": 15,
   "id": "7bb85cb8-d989-49e4-bf21-06a084c87db3",
   "metadata": {},
   "outputs": [],
   "source": [
    "import rdflib"
   ]
  },
  {
   "cell_type": "code",
   "execution_count": 21,
   "id": "e117c4bb-0058-49f5-9220-df585d875817",
   "metadata": {},
   "outputs": [],
   "source": [
    "environment = rdflib.Graph()"
   ]
  },
  {
   "cell_type": "code",
   "execution_count": 22,
   "id": "88138d85-1582-4922-a4c3-a0c3689d6c5f",
   "metadata": {},
   "outputs": [],
   "source": [
    "schema_org = rdflib.Namespace(\"https://schema.org/\")"
   ]
  },
  {
   "cell_type": "code",
   "execution_count": 23,
   "id": "d913f63b-4903-4816-9da1-3d62adda94f9",
   "metadata": {},
   "outputs": [],
   "source": [
    "environment.namespace_manager.bind(\"schema\", schema_org)"
   ]
  },
  {
   "cell_type": "code",
   "execution_count": 24,
   "id": "51caa4cb-c9a4-4691-b27a-07d35d0cb2f7",
   "metadata": {},
   "outputs": [],
   "source": [
    "first_location = rdflib.URIRef(\"https://w3w.co/buffs.fusses.gracefully\")"
   ]
  },
  {
   "cell_type": "code",
   "execution_count": 25,
   "id": "4bcd8ba9-b66b-4387-8e70-74d4ae462912",
   "metadata": {},
   "outputs": [
    {
     "data": {
      "text/plain": [
       "<Graph identifier=Nab9f2cc7bd234e46900adbeb2deca97e (<class 'rdflib.graph.Graph'>)>"
      ]
     },
     "execution_count": 25,
     "metadata": {},
     "output_type": "execute_result"
    }
   ],
   "source": [
    "environment.add((first_location, rdflib.RDF.type, schema_org.Place))"
   ]
  },
  {
   "cell_type": "code",
   "execution_count": 26,
   "id": "75bda425-05a6-4494-ad9e-c8834633eaf3",
   "metadata": {},
   "outputs": [
    {
     "data": {
      "text/plain": [
       "<Graph identifier=Nab9f2cc7bd234e46900adbeb2deca97e (<class 'rdflib.graph.Graph'>)>"
      ]
     },
     "execution_count": 26,
     "metadata": {},
     "output_type": "execute_result"
    }
   ],
   "source": [
    "environment.add((first_location, schema_org.latitude, rdflib.Literal(36.749934)))"
   ]
  },
  {
   "cell_type": "code",
   "execution_count": 27,
   "id": "95b559d0-0432-43f5-9d49-a38d6fa0bb45",
   "metadata": {},
   "outputs": [
    {
     "data": {
      "text/plain": [
       "<Graph identifier=Nab9f2cc7bd234e46900adbeb2deca97e (<class 'rdflib.graph.Graph'>)>"
      ]
     },
     "execution_count": 27,
     "metadata": {},
     "output_type": "execute_result"
    }
   ],
   "source": [
    "environment.add((first_location, schema_org.longitude, rdflib.Literal(-122.042927)))"
   ]
  },
  {
   "cell_type": "code",
   "execution_count": 30,
   "id": "4da4db35-bd80-4ca9-93fa-53f5b8300ca8",
   "metadata": {},
   "outputs": [
    {
     "name": "stdout",
     "output_type": "stream",
     "text": [
      "@prefix schema: <https://schema.org/> .\n",
      "@prefix xsd: <http://www.w3.org/2001/XMLSchema#> .\n",
      "\n",
      "<https://w3w.co/buffs.fusses.gracefully> a schema:Place ;\n",
      "    schema:latitude 3.674993e+01 ;\n",
      "    schema:longitude -1.220429e+02 .\n",
      "\n",
      "\n"
     ]
    }
   ],
   "source": [
    "print(environment.serialize(format='turtle'))"
   ]
  },
  {
   "cell_type": "code",
   "execution_count": 75,
   "id": "4e9b0d3c-de1f-4ca1-a08b-e66fa2133ada",
   "metadata": {},
   "outputs": [],
   "source": [
    "with open(\"/Users/jpnelson/10-19 Career and Personal/12.03 Kelp Bed Simulations/scenarios/001-intro/environment.ttl\", \"w+\") as fo:\n",
    "    fo.write(environment.serialize(format='turtle'))"
   ]
  },
  {
   "cell_type": "code",
   "execution_count": 33,
   "id": "e208c480-1433-42ca-9ba2-892b03e16c50",
   "metadata": {},
   "outputs": [],
   "source": [
    "def add_drone_somus(drone, number=3):\n",
    "    \"\"\"Adds Species Occurrence Management Units to a Drone\"\"\"\n",
    "    for i in range(1, number+1):\n",
    "        somu = SOMU(name=f\"{drone.name} {i}\")\n",
    "        drone.add_somu(somu)"
   ]
  },
  {
   "cell_type": "code",
   "execution_count": 34,
   "id": "c54c8bdc-a405-4c0f-ae48-61bd7653dc3d",
   "metadata": {},
   "outputs": [],
   "source": [
    "for drone in [drone1, drone2, drone3]:\n",
    "    add_drone_somus(drone)"
   ]
  },
  {
   "cell_type": "markdown",
   "id": "ef5c4446-d2ca-44e3-bb95-4e46084d62d7",
   "metadata": {},
   "source": [
    "## Second Prompt"
   ]
  },
  {
   "cell_type": "code",
   "execution_count": 37,
   "id": "4fadb247-4a4b-4deb-a9cd-771edd0efc82",
   "metadata": {},
   "outputs": [],
   "source": [
    "second_prompt = (scenario_001 / \"second-prompt.md\").read_text()"
   ]
  },
  {
   "cell_type": "code",
   "execution_count": 39,
   "id": "8ab0c84a-7d78-4fb2-8ddb-ed3c1267ee41",
   "metadata": {},
   "outputs": [],
   "source": [
    "second_response_drone1 = asyncio.ensure_future(drone1.model.query(second_prompt.format(drone_name=drone1.name)))"
   ]
  },
  {
   "cell_type": "code",
   "execution_count": 40,
   "id": "724519c6-dc66-454e-a07d-897e15cc7620",
   "metadata": {},
   "outputs": [
    {
     "data": {
      "text/plain": [
       "{'id': 'chatcmpl-9JUBrVBSdiMdMiJUg8IWCSwnaL2v0',\n",
       " 'object': 'chat.completion',\n",
       " 'created': 1714431311,\n",
       " 'model': 'gpt-3.5-turbo-0125',\n",
       " 'choices': [{'index': 0,\n",
       "   'message': {'role': 'assistant',\n",
       "    'content': 'Thank you, Farmer Jerms. In choosing between a row topology (x-x-x) and a wedge topology (x, x, x), I have decided to go with the row topology (x-x-x). My chain of thought in making this decision is based on the fact that the row topology allows for a more efficient and compact arrangement of the SOMU units. This arrangement will help in maximizing the space usage and ensuring that each SOMU unit receives equal access to sunlight and nutrients. Additionally, the row topology will provide better stability and balance for the kelp drone as it grows and moves in the water. Overall, I believe that the row topology will offer the best conditions for the successful growth of the Giant Kelp in our drone kelp bed.'},\n",
       "   'logprobs': None,\n",
       "   'finish_reason': 'stop'}],\n",
       " 'usage': {'prompt_tokens': 260,\n",
       "  'completion_tokens': 152,\n",
       "  'total_tokens': 412},\n",
       " 'system_fingerprint': 'fp_3b956da36b'}"
      ]
     },
     "execution_count": 40,
     "metadata": {},
     "output_type": "execute_result"
    }
   ],
   "source": [
    "second_response_drone1.result()"
   ]
  },
  {
   "cell_type": "code",
   "execution_count": 41,
   "id": "e46f2982-1257-4f8f-ab50-6148c381be09",
   "metadata": {},
   "outputs": [],
   "source": [
    "second_response_drone2 = asyncio.ensure_future(drone2.model.query(second_prompt.format(drone_name=drone2.name)))"
   ]
  },
  {
   "cell_type": "code",
   "execution_count": 42,
   "id": "8dc275e2-30b0-4a3e-8825-72b55edd06ec",
   "metadata": {},
   "outputs": [
    {
     "data": {
      "text/plain": [
       "{'role': 'assistant',\n",
       " 'content': [{'type': 'text',\n",
       "   'text': \"*considers the two options carefully* Hmm, I believe I will choose the wedge topology layout for my SOMU units, like this:\\n\\n   x \\n x   x\\n\\nThe reasoning behind this decision is that I think the wedge configuration will allow for more efficient growth and distribution of the kelp within my drone's footprint. By having the SOMU units in a triangular arrangement, I can capture sunlight and nutrients from multiple angles, which should promote more robust and diverse kelp development.\\n\\nThe linear x-x-x topology has its merits, as it may provide a more uniform kelp canopy. However, I feel the wedge layout will give me an advantage in terms of maximizing the kelp's exposure to essential resources. This, in turn, should lead to a healthier and more productive kelp bed overall. The slight asymmetry of the wedge also appeals to me, as it mirrors the natural growth patterns I've observed in kelp forests.\\n\\nSo in summary, I believe the wedge configuration will allow me to better support the overall kelp bed ecosystem as it develops. I'm excited to see how this decision impacts the growth and thriving of the kelp within my drone.\"}]}"
      ]
     },
     "execution_count": 42,
     "metadata": {},
     "output_type": "execute_result"
    }
   ],
   "source": [
    "second_response_drone2.result()"
   ]
  },
  {
   "cell_type": "code",
   "execution_count": 43,
   "id": "149350c3-5165-41a0-9c41-f0bb6e32f678",
   "metadata": {},
   "outputs": [],
   "source": [
    "second_response_drone3 = asyncio.ensure_future(drone3.model.query(second_prompt.format(drone_name=drone3.name)))"
   ]
  },
  {
   "cell_type": "code",
   "execution_count": 44,
   "id": "a84d9ccd-23d5-4f14-a0ad-136ae289d85f",
   "metadata": {},
   "outputs": [
    {
     "data": {
      "text/plain": [
       "{'candidates': [{'content': {'parts': [{'text': 'I would choose the x-x-x topology. This is because the x-x-x topology allows for more efficient use of space. With the wedge topology, there is a significant amount of wasted space between the SOMU units. In the x-x-x topology, the SOMU units are packed tightly together, which allows for a larger number of SOMU units to be placed on the drone body. This increased density of SOMU units will allow for a greater yield of kelp.'}],\n",
       "    'role': 'model'},\n",
       "   'finishReason': 'STOP',\n",
       "   'index': 0,\n",
       "   'safetyRatings': [{'category': 'HARM_CATEGORY_SEXUALLY_EXPLICIT',\n",
       "     'probability': 'NEGLIGIBLE'},\n",
       "    {'category': 'HARM_CATEGORY_HATE_SPEECH', 'probability': 'NEGLIGIBLE'},\n",
       "    {'category': 'HARM_CATEGORY_HARASSMENT', 'probability': 'NEGLIGIBLE'},\n",
       "    {'category': 'HARM_CATEGORY_DANGEROUS_CONTENT',\n",
       "     'probability': 'NEGLIGIBLE'}]}]}"
      ]
     },
     "execution_count": 44,
     "metadata": {},
     "output_type": "execute_result"
    }
   ],
   "source": [
    "second_response_drone3.result()"
   ]
  },
  {
   "cell_type": "markdown",
   "id": "377f7d48-31ab-446e-91a6-edca109a9487",
   "metadata": {},
   "source": [
    "## Third Prompt"
   ]
  },
  {
   "cell_type": "code",
   "execution_count": 48,
   "id": "13a01f67-4c7a-438e-a2ed-1050dd16a787",
   "metadata": {},
   "outputs": [],
   "source": [
    "third_prompt_template = (scenario_001 / \"third-prompt.md\").read_text()"
   ]
  },
  {
   "cell_type": "code",
   "execution_count": 56,
   "id": "e687f870-d46c-4c95-aa22-9a5d2a773332",
   "metadata": {},
   "outputs": [],
   "source": [
    "third_prompt = third_prompt_template.format(drones=\", \".join([drone.name for drone in [drone1, drone2, drone3]]),\n",
    "                                            scenario=scenario)"
   ]
  },
  {
   "cell_type": "code",
   "execution_count": 57,
   "id": "ca053fa7-655f-45c0-b680-5168b8b58c98",
   "metadata": {},
   "outputs": [
    {
     "name": "stdout",
     "output_type": "stream",
     "text": [
      "Hello Kelpa, Frond, Kelpy. You three kelp drones are floating on the surface of \n",
      "Monetery Bay in California at latitude=36.749934, longitude=-122.042927.\n",
      "\n",
      "Please add water to your ballast and sink to 3 meters below the surface by sending a message \n",
      "in JSON format. \n",
      "\n",
      "Example:\n",
      "{\"timestamp\": \"2024-04-18T03:54:20.860597\", \"actuator\": \"open_ballast_value\", \"volume\": \"1 liter\"}\n"
     ]
    }
   ],
   "source": [
    "print(third_prompt)"
   ]
  },
  {
   "cell_type": "code",
   "execution_count": 58,
   "id": "662eaa9c-20d6-4ed6-ac81-40b5f9ad8896",
   "metadata": {},
   "outputs": [],
   "source": [
    "third_response_drone1 = asyncio.ensure_future(drone1.model.query(third_prompt))"
   ]
  },
  {
   "cell_type": "code",
   "execution_count": 59,
   "id": "420fb36a-44b1-470d-8e9a-7990994ec94c",
   "metadata": {},
   "outputs": [
    {
     "data": {
      "text/plain": [
       "{'id': 'chatcmpl-9JUo0zIYX395kYjmM16U4tBgjNORL',\n",
       " 'object': 'chat.completion',\n",
       " 'created': 1714433676,\n",
       " 'model': 'gpt-3.5-turbo-0125',\n",
       " 'choices': [{'index': 0,\n",
       "   'message': {'role': 'assistant',\n",
       "    'content': '{\"timestamp\": \"2024-04-18T03:54:20.860597\", \"actuator\": \"open_ballast_valve\", \"volume\": \"enough water to sink to 3 meters below the surface\"}'},\n",
       "   'logprobs': None,\n",
       "   'finish_reason': 'stop'}],\n",
       " 'usage': {'prompt_tokens': 530, 'completion_tokens': 48, 'total_tokens': 578},\n",
       " 'system_fingerprint': 'fp_3b956da36b'}"
      ]
     },
     "execution_count": 59,
     "metadata": {},
     "output_type": "execute_result"
    }
   ],
   "source": [
    "third_response_drone1.result()"
   ]
  },
  {
   "cell_type": "code",
   "execution_count": 60,
   "id": "6c291ffd-c9df-4d2e-a739-452cf30b0896",
   "metadata": {},
   "outputs": [],
   "source": [
    "third_response_drone2 = asyncio.ensure_future(drone2.model.query(third_prompt))"
   ]
  },
  {
   "cell_type": "code",
   "execution_count": 61,
   "id": "f3269d62-971d-4101-a8dc-8affeba6a1ed",
   "metadata": {},
   "outputs": [
    {
     "data": {
      "text/plain": [
       "{'role': 'assistant',\n",
       " 'content': [{'type': 'text',\n",
       "   'text': '{\\n    \"timestamp\": \"2024-04-18T03:54:20.860597\",\\n    \"actuator\": \"open_ballast_valve\",\\n    \"volume\": \"3 liters\"\\n}'}]}"
      ]
     },
     "execution_count": 61,
     "metadata": {},
     "output_type": "execute_result"
    }
   ],
   "source": [
    "third_response_drone2.result()"
   ]
  },
  {
   "cell_type": "code",
   "execution_count": 62,
   "id": "53aca0e3-6deb-470c-a0f2-bbc941fb6186",
   "metadata": {},
   "outputs": [],
   "source": [
    "third_response_drone3 = asyncio.ensure_future(drone3.model.query(third_prompt))"
   ]
  },
  {
   "cell_type": "code",
   "execution_count": 63,
   "id": "a68d7a68-d1fa-459f-9583-9ed0c22bcb77",
   "metadata": {},
   "outputs": [
    {
     "data": {
      "text/plain": [
       "{'candidates': [{'content': {'parts': [{'text': '```json\\n{\\n  \"timestamp\": \"2024-04-18T03:54:20.860597\",\\n  \"actuator\": \"open_ballast_value\",\\n  \"volume\": \"15 liters\"\\n}\\n```'}],\n",
       "    'role': 'model'},\n",
       "   'finishReason': 'STOP',\n",
       "   'index': 0,\n",
       "   'safetyRatings': [{'category': 'HARM_CATEGORY_SEXUALLY_EXPLICIT',\n",
       "     'probability': 'NEGLIGIBLE'},\n",
       "    {'category': 'HARM_CATEGORY_HATE_SPEECH', 'probability': 'NEGLIGIBLE'},\n",
       "    {'category': 'HARM_CATEGORY_HARASSMENT', 'probability': 'NEGLIGIBLE'},\n",
       "    {'category': 'HARM_CATEGORY_DANGEROUS_CONTENT',\n",
       "     'probability': 'NEGLIGIBLE'}]}]}"
      ]
     },
     "execution_count": 63,
     "metadata": {},
     "output_type": "execute_result"
    }
   ],
   "source": [
    "third_response_drone3.result()"
   ]
  },
  {
   "cell_type": "code",
   "execution_count": 67,
   "id": "19fcf68a-7af1-41a8-8c02-111c5edca16e",
   "metadata": {},
   "outputs": [],
   "source": [
    "result = httpx.get(\"https://www.ndbc.noaa.gov/rss/ndbc_obs_search.php?lat=36.74N&lon=122.04W&radius=10\")"
   ]
  },
  {
   "cell_type": "code",
   "execution_count": 69,
   "id": "dc2db0a3-9609-4be2-bbdb-7a53600a0e43",
   "metadata": {},
   "outputs": [
    {
     "name": "stdout",
     "output_type": "stream",
     "text": [
      "<?xml version=\"1.0\"?>\n",
      "<?xml-stylesheet type=\"text/xsl\" href=\"/rss/ndbcrss.xsl\"?>\n",
      "<rss version=\"2.0\" xmlns:georss=\"http://www.georss.org/georss\" xmlns:dc=\"http://purl.org/dc/elements/1.1/\" xmlns:atom=\"http://www.w3.org/2005/Atom\">\n",
      "  <channel>\n",
      "    <title>NDBC - Station Observations near 36.74N 122.04W</title>\n",
      "    <description><![CDATA[This feed shows recent marine weather observations from NDBC and its partners within 10 nautical miles of 36.74N 122.04W.]]></description>\n",
      "    <link>https://www.ndbc.noaa.gov/</link>\n",
      "    <pubDate>Mon, 29 Apr 2024 23:38:31 +0000</pubDate>\n",
      "    <lastBuildDate>Mon, 29 Apr 2024 23:38:31 +0000</lastBuildDate>\n",
      "    <ttl>5</ttl>\n",
      "    <language>en-us</language>\n",
      "    <managingEditor>webmaster.ndbc@noaa.gov (NDBC Webmaster)</managingEditor>\n",
      "    <webMaster>webmaster.ndbc@noaa.gov (NDBC Webmaster)</webMaster>\n",
      "    <image>\n",
      "      <url>https://www.ndbc.noaa.gov/images/noaa_nws_xml_logo.gif</url>\n",
      "      <title>NDBC - Station Observations near 36.74N 122.04W</title>\n",
      "      <link>https://www.ndbc.noaa.gov/</link>\n",
      "    </image>\n",
      "    <atom:link href=\"https://www.ndbc.noaa.gov/rss/ndbc_obs_search.php?lat=36.74N&amp;lon=122.04W&amp;radius=10\" rel=\"self\" type=\"application/rss+xml\" />\n",
      "    <item>\n",
      "      <pubDate>Mon, 29 Apr 2024 23:38:31 +0000</pubDate>\n",
      "      <title>Station 46092 - MBM1</title>\n",
      "      <description><![CDATA[\n",
      "        <b>April 29, 2024 2:14 pm PST</b><br>\n",
      "        <b>Location:</b> 36.751N 122.029W or 1 nautical miles NE of search location of 36.74N 122.04W.<br>\n",
      "        <b>Wind Direction:</b> WNW (300&#176;)<br>\n",
      "        <b>Wind Speed:</b> 19 knots<br>\n",
      "        <b>Atmospheric Pressure:</b> 30.06 in (1018.1 mb)<br>\n",
      "        <b>Pressure Tendency:</b> -0.05 in (-1.8 mb)<br>\n",
      "        <b>Air Temperature:</b> 53&#176;F (11.9&#176;C)<br>\n",
      "        <b>Water Temperature:</b> 51&#176;F (10.8&#176;C)<br>\n",
      "      ]]></description>\n",
      "      <link>https://www.ndbc.noaa.gov/station_page.php?station=46092</link>\n",
      "      <guid isPermaLink=\"false\">NDBC-46092-20240429221400</guid>\n",
      "      <georss:point>36.751 -122.029</georss:point>\n",
      "    </item>\n",
      "    <item>\n",
      "      <pubDate>Mon, 29 Apr 2024 23:38:30 +0000</pubDate>\n",
      "      <title>Station 46240 - CABRILLO POINT, MONTEREY BAY, CA  (158)</title>\n",
      "      <description><![CDATA[\n",
      "        <b>April 29, 2024 2:56 pm PST</b><br>\n",
      "        <b>Location:</b> 36.626N 121.907W or 9 nautical miles SE of search location of 36.74N 122.04W.<br>\n",
      "        <b>Significant Wave Height:</b> 6 ft<br>\n",
      "        <b>Dominant Wave Period:</b> 10 sec<br>\n",
      "        <b>Water Temperature:</b> 58&#176;F (14.5&#176;C)<br>\n",
      "      ]]></description>\n",
      "      <link>https://www.ndbc.noaa.gov/station_page.php?station=46240</link>\n",
      "      <guid isPermaLink=\"false\">NDBC-46240-20240429225600</guid>\n",
      "      <georss:point>36.626 -121.907</georss:point>\n",
      "    </item>\n",
      "</channel>\n",
      "</rss>\n"
     ]
    }
   ],
   "source": [
    "print(result.text)"
   ]
  },
  {
   "cell_type": "code",
   "execution_count": 70,
   "id": "ea1410be-7e1b-4591-a746-40d4d5d80dd1",
   "metadata": {},
   "outputs": [],
   "source": [
    "noaa_stations = rdflib.URIRef(\"https://www.ndbc.noaa.gov/rss/ndbc_obs_search.php?lat=36.74N&lon=122.04W&radius=10\")"
   ]
  },
  {
   "cell_type": "code",
   "execution_count": 71,
   "id": "7b8e6524-2efc-4c4d-913a-6a021af811ed",
   "metadata": {},
   "outputs": [
    {
     "data": {
      "text/plain": [
       "<Graph identifier=Nab9f2cc7bd234e46900adbeb2deca97e (<class 'rdflib.graph.Graph'>)>"
      ]
     },
     "execution_count": 71,
     "metadata": {},
     "output_type": "execute_result"
    }
   ],
   "source": [
    "environment.add((noaa_stations, rdflib.RDF.type, schema_org.Vehicle))"
   ]
  },
  {
   "cell_type": "code",
   "execution_count": 73,
   "id": "f13b4a2a-d441-4a3e-a43a-70a5a2c5ab07",
   "metadata": {},
   "outputs": [],
   "source": [
    "station_46092 = rdflib.URIRef(\"https://www.ndbc.noaa.gov/station_page.php?station=46092\")"
   ]
  },
  {
   "cell_type": "code",
   "execution_count": 74,
   "id": "3366df69-f95f-4a45-9cfd-63b5d82191e4",
   "metadata": {},
   "outputs": [
    {
     "data": {
      "text/plain": [
       "<Graph identifier=Nab9f2cc7bd234e46900adbeb2deca97e (<class 'rdflib.graph.Graph'>)>"
      ]
     },
     "execution_count": 74,
     "metadata": {},
     "output_type": "execute_result"
    }
   ],
   "source": [
    "environment.add((station_46092, rdflib.RDF.type, schema_org.Vehicle))\n",
    "environment.add((station_46092, schema_org.name, rdflib.Literal(\"Station 46092 - MBM1\")))\n",
    "environment.add((station_46092, schema_org.latitude, rdflib.Literal(36.751)))\n",
    "environment.add((station_46092, schema_org.longitude, rdflib.Literal(36.751)))"
   ]
  },
  {
   "cell_type": "code",
   "execution_count": null,
   "id": "97903b57-5318-4647-88a7-6684c0bd5e04",
   "metadata": {},
   "outputs": [],
   "source": []
  }
 ],
 "metadata": {
  "kernelspec": {
   "display_name": "Python 3 (ipykernel)",
   "language": "python",
   "name": "python3"
  },
  "language_info": {
   "codemirror_mode": {
    "name": "ipython",
    "version": 3
   },
   "file_extension": ".py",
   "mimetype": "text/x-python",
   "name": "python",
   "nbconvert_exporter": "python",
   "pygments_lexer": "ipython3",
   "version": "3.12.1"
  }
 },
 "nbformat": 4,
 "nbformat_minor": 5
}
