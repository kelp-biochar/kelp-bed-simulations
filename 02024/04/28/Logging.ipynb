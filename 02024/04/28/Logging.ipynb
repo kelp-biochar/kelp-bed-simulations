{
 "cells": [
  {
   "cell_type": "code",
   "execution_count": 1,
   "id": "103804ec-2a3a-4ae5-81be-efaaa84b60c1",
   "metadata": {},
   "outputs": [],
   "source": [
    "import asyncio\n",
    "import logging\n",
    "import pathlib\n",
    "import sys\n",
    "\n",
    "from kelp_drone.drone import Drone\n",
    "\n",
    "sys.path.append(\"../../../src/\")\n",
    "\n",
    "from kelp_bed_simulation.prep import chatgpt, claude, gemini\n",
    "\n",
    "scenario_001 = pathlib.Path(\"../../../scenarios/001-intro\")\n",
    "\n",
    "#logging.basicConfig(filename='02024-04-28-simulation.log', \n",
    "#                    encoding='utf-8', \n",
    "#                    format='%(asctime)s %(name)s - %(message)s', \n",
    "#                    level=logging.INFO)"
   ]
  },
  {
   "cell_type": "code",
   "execution_count": 2,
   "id": "0dd3dd69-1cf7-4c2e-b981-08e14e9f0258",
   "metadata": {},
   "outputs": [],
   "source": [
    "first_prompt = (scenario_001 / \"first-prompt.md\").read_text()"
   ]
  },
  {
   "cell_type": "code",
   "execution_count": 3,
   "id": "a041155c-de4b-4bd8-b437-2bb02b75bdb5",
   "metadata": {},
   "outputs": [],
   "source": [
    "first_gemini = asyncio.ensure_future(gemini.query(first_prompt))"
   ]
  },
  {
   "cell_type": "code",
   "execution_count": 4,
   "id": "e3d4fbdd-4753-424a-aaca-ab3dfb07038f",
   "metadata": {},
   "outputs": [
    {
     "data": {
      "text/plain": [
       "{'candidates': [{'content': {'parts': [{'text': 'I would like to be called \"Guardian.\"'}],\n",
       "    'role': 'model'},\n",
       "   'finishReason': 'STOP',\n",
       "   'index': 0,\n",
       "   'safetyRatings': [{'category': 'HARM_CATEGORY_SEXUALLY_EXPLICIT',\n",
       "     'probability': 'NEGLIGIBLE'},\n",
       "    {'category': 'HARM_CATEGORY_HATE_SPEECH', 'probability': 'NEGLIGIBLE'},\n",
       "    {'category': 'HARM_CATEGORY_HARASSMENT', 'probability': 'NEGLIGIBLE'},\n",
       "    {'category': 'HARM_CATEGORY_DANGEROUS_CONTENT',\n",
       "     'probability': 'NEGLIGIBLE'}]}]}"
      ]
     },
     "execution_count": 4,
     "metadata": {},
     "output_type": "execute_result"
    }
   ],
   "source": [
    "first_gemini.result()"
   ]
  },
  {
   "cell_type": "code",
   "execution_count": 5,
   "id": "287ccca8-ae20-4da6-ae55-cd6e5fa3fed9",
   "metadata": {},
   "outputs": [],
   "source": [
    "drone1 = Drone(name=\"Guardian\", model=gemini)"
   ]
  },
  {
   "cell_type": "code",
   "execution_count": 6,
   "id": "9f63d9a5-4b55-4477-8f2b-5af20f70e4f3",
   "metadata": {},
   "outputs": [
    {
     "name": "stdout",
     "output_type": "stream",
     "text": [
      "Guardian Observe: Sensor Data {'buoyancy': 0.0, 'current': 0.0, 'depth': 0.0}\n",
      "Guardian Orient: Determined action {'candidates': [{'content': {'parts': [{'text': '**Name:** Guardian\\n\\n**Sensor Data Analysis:**\\n\\n* **Depth:** 0.00 meters - This indicates that the drone is at the surface of the water.\\n* **Current:** 0.00 knots - There is no current detected.\\n* **Temperature:** 0.00 °C - This is a low temperature, which is not ideal for kelp growth.\\n* **Light Intensity:** 0.00 - There is no light at this depth.\\n* **Nutrient Levels:** {} - This data is not available.\\n* **Dissolved Oxygen:** 0.00 - This is a low level of dissolved oxygen, which is not ideal for kelp growth.\\n\\n**Course of Action:**\\n\\n* Move to a shallower depth where there is more light and warmer temperatures.\\n* Monitor nutrient levels and dissolved oxygen levels to ensure they are within optimal ranges for kelp growth.\\n* If nutrient levels or dissolved oxygen levels are too low, consider moving to a different location.\\n* Wait for more favorable conditions, such as higher light intensity and warmer temperatures before deploying kelp seedlings.'}], 'role': 'model'}, 'finishReason': 'STOP', 'index': 0, 'safetyRatings': [{'category': 'HARM_CATEGORY_SEXUALLY_EXPLICIT', 'probability': 'NEGLIGIBLE'}, {'category': 'HARM_CATEGORY_HATE_SPEECH', 'probability': 'NEGLIGIBLE'}, {'category': 'HARM_CATEGORY_HARASSMENT', 'probability': 'NEGLIGIBLE'}, {'category': 'HARM_CATEGORY_DANGEROUS_CONTENT', 'probability': 'NEGLIGIBLE'}]}]}\n",
      "Guardian Decide: Executing command {'candidates': [{'content': {'parts': [{'text': \"```json\\n{'candidates': [{'content': {'parts': [{'text': 'Move to a shallower depth.'}], 'role': 'command'}, 'finishReason': 'STOP', 'index': 0, 'safetyRatings': [{'category': 'HARM_CATEGORY_SEXUALLY_EXPLICIT', 'probability': 'NEGLIGIBLE'}, {'category': 'HARM_CATEGORY_HATE_SPEECH', 'probability': 'NEGLIGIBLE'}, {'category': 'HARM_CATEGORY_HARASSMENT', 'probability': 'NEGLIGIBLE'}, {'category': 'HARM_CATEGORY_DANGEROUS_CONTENT', 'probability': 'NEGLIGIBLE'}]}]}\\n```\"}], 'role': 'model'}, 'finishReason': 'STOP', 'index': 0, 'safetyRatings': [{'category': 'HARM_CATEGORY_SEXUALLY_EXPLICIT', 'probability': 'LOW'}, {'category': 'HARM_CATEGORY_HATE_SPEECH', 'probability': 'NEGLIGIBLE'}, {'category': 'HARM_CATEGORY_HARASSMENT', 'probability': 'NEGLIGIBLE'}, {'category': 'HARM_CATEGORY_DANGEROUS_CONTENT', 'probability': 'NEGLIGIBLE'}]}]}\n"
     ]
    }
   ],
   "source": [
    "loop_result = asyncio.ensure_future(drone1.ooda_loop.run())"
   ]
  },
  {
   "cell_type": "code",
   "execution_count": 9,
   "id": "41539521-ab02-40c7-adb2-9e9ead37bbd9",
   "metadata": {},
   "outputs": [
    {
     "data": {
      "text/plain": [
       "<Task finished name='Task-7' coro=<OODALoop.run() done, defined at /Users/jeremynelson/20-29 Seaweed Biochar Enterprises/21.01 Kelp Drone App/src/kelp_drone/drone.py:67> exception=AttributeError(\"'Drone' object has no attribute 'activator'\")>"
      ]
     },
     "execution_count": 9,
     "metadata": {},
     "output_type": "execute_result"
    }
   ],
   "source": [
    "loop_result"
   ]
  },
  {
   "cell_type": "code",
   "execution_count": 10,
   "id": "cf9cc8a3-2056-44df-8d2c-a0c14d01d12e",
   "metadata": {},
   "outputs": [],
   "source": [
    "first_chatgpt = asyncio.ensure_future(chatgpt.query(first_prompt))"
   ]
  },
  {
   "cell_type": "code",
   "execution_count": 11,
   "id": "5bfa1d2e-cdc0-4729-93dd-36f73097cecd",
   "metadata": {},
   "outputs": [
    {
     "data": {
      "text/plain": [
       "{'id': 'chatcmpl-9JZ01NRpFEFR4KelUvx7BdWyVFd9n',\n",
       " 'object': 'chat.completion',\n",
       " 'created': 1714449797,\n",
       " 'model': 'gpt-3.5-turbo-0125',\n",
       " 'choices': [{'index': 0,\n",
       "   'message': {'role': 'assistant',\n",
       "    'content': 'Hello Farmer Jerms! I would like to be called \"Kelpa\" as my name. Thank you for introducing me to the concept of a drone kelp bed. I\\'m excited to work with my companions and help grow Giant Kelp in our SOMU.'},\n",
       "   'logprobs': None,\n",
       "   'finish_reason': 'stop'}],\n",
       " 'usage': {'prompt_tokens': 140, 'completion_tokens': 54, 'total_tokens': 194},\n",
       " 'system_fingerprint': 'fp_3b956da36b'}"
      ]
     },
     "execution_count": 11,
     "metadata": {},
     "output_type": "execute_result"
    }
   ],
   "source": [
    "first_chatgpt.result()"
   ]
  },
  {
   "cell_type": "code",
   "execution_count": 12,
   "id": "ccf03446-0d7b-4556-a244-cf4dfbd0852d",
   "metadata": {},
   "outputs": [],
   "source": [
    "drone2 = Drone(name='Kelpa', model=chatgpt)"
   ]
  },
  {
   "cell_type": "code",
   "execution_count": 13,
   "id": "f8767bcf-a77a-40ca-9d6c-a410e6696757",
   "metadata": {},
   "outputs": [
    {
     "name": "stdout",
     "output_type": "stream",
     "text": [
      "Kelpa Observe: Sensor Data {'buoyancy': 0.0, 'current': 0.0, 'depth': 0.0}\n",
      "Kelpa Orient: Determined action {'id': 'chatcmpl-9JZ0n62uLEqDH7l7GeUu2CemBHBNO', 'object': 'chat.completion', 'created': 1714449845, 'model': 'gpt-3.5-turbo-0125', 'choices': [{'index': 0, 'message': {'role': 'assistant', 'content': 'Based on the sensor data provided for the current underwater drone, it appears that the drone is not submerged in water, as the depth is 0.00 meters. Additionally, the current, temperature, light intensity, and dissolved oxygen levels are all at 0.00, indicating that the drone may not be operational or properly submerged.\\n\\nThe nutrient levels are not specified in the data. In this case, the appropriate course of action would be to ensure that the drone is properly deployed and submerged in water to collect accurate sensor data. Check the connections, equipment, and positioning of the drone to make sure everything is functioning correctly. Once the drone is properly submerged and operational, monitor the sensor data for changes and adjust as necessary for the growth of the kelp bed.'}, 'logprobs': None, 'finish_reason': 'stop'}], 'usage': {'prompt_tokens': 270, 'completion_tokens': 153, 'total_tokens': 423}, 'system_fingerprint': 'fp_3b956da36b'}\n",
      "Kelpa Decide: Executing command {'id': 'chatcmpl-9JZ0quk49j6IzKcBa1oO8S8AUQ7rW', 'object': 'chat.completion', 'created': 1714449848, 'model': 'gpt-3.5-turbo-0125', 'choices': [{'index': 0, 'message': {'role': 'assistant', 'content': 'The appropriate command for the underwater drone based on the analysis of the sensor data would be to ensure that the drone is properly deployed and submerged in water to collect accurate sensor data. Check the connections, equipment, and positioning of the drone to make sure everything is functioning correctly. Once the drone is properly submerged and operational, monitor the sensor data for changes and adjust as necessary for the growth of the kelp bed.\\n\\nIf you need further assistance or guidance on how to deploy the drone correctly, please let me know!'}, 'logprobs': None, 'finish_reason': 'stop'}], 'usage': {'prompt_tokens': 743, 'completion_tokens': 102, 'total_tokens': 845}, 'system_fingerprint': 'fp_3b956da36b'}\n"
     ]
    }
   ],
   "source": [
    "loop_result2 = asyncio.ensure_future(drone2.ooda_loop.run())"
   ]
  },
  {
   "cell_type": "code",
   "execution_count": 14,
   "id": "56daefd9-a7a4-4fcc-b242-9c723db7c3f7",
   "metadata": {},
   "outputs": [],
   "source": [
    "first_claude = asyncio.ensure_future(claude.query(first_prompt))"
   ]
  },
  {
   "cell_type": "code",
   "execution_count": 15,
   "id": "d8292702-501a-4038-bd46-f35c803c4278",
   "metadata": {},
   "outputs": [
    {
     "data": {
      "text/plain": [
       "{'role': 'assistant',\n",
       " 'content': [{'type': 'text',\n",
       "   'text': \"Hello Farmer Jerms, my name is Kelp Drone Alpha. I'm excited to be part of the simulation for the beginnings of a drone kelp bed. As a three SOMU drone, I'm looking forward to collaborating with my two companion drones to grow the Giant Kelp in our shared Species Occurrence Management Unit. Please feel free to introduce me to my companions whenever you're ready.\"}]}"
      ]
     },
     "execution_count": 15,
     "metadata": {},
     "output_type": "execute_result"
    }
   ],
   "source": [
    "first_claude.result()"
   ]
  },
  {
   "cell_type": "code",
   "execution_count": 16,
   "id": "6e05b4e4-709d-488d-b99d-6cdc6aa08445",
   "metadata": {},
   "outputs": [],
   "source": [
    "drone3 = Drone(name=\"Kelp Drone Alpha\", model=claude)"
   ]
  },
  {
   "cell_type": "code",
   "execution_count": 17,
   "id": "b289e3fb-6e16-411b-9650-c99286a955e5",
   "metadata": {},
   "outputs": [
    {
     "name": "stdout",
     "output_type": "stream",
     "text": [
      "Kelp Drone Alpha Observe: Sensor Data {'buoyancy': 0.0, 'current': 0.0, 'depth': 0.0}\n",
      "Kelp Drone Alpha Orient: Determined action {'role': 'assistant', 'content': [{'type': 'text', 'text': 'Analyzing the current sensor data for Kelp Drone Alpha:\\n\\nDepth: 0.00 meters - This indicates the drone is currently on the surface or at the very top of the water column.\\nCurrent: 0.00 knot - The water current is not moving, which is not ideal for optimal kelp growth.\\nTemperature: 0.00 °C - The temperature is too low for the Giant Kelp to thrive.\\nLight Intensity: 0.00 - There is no light reaching the drone, which is essential for photosynthesis.\\nNutrient Levels: {} - The nutrient levels are unknown, but likely low since the drone is not submerged.\\nDissolved Oxygen: 0.00 - There is no dissolved oxygen available, which the kelp requires.\\n\\nBased on this sensor data, the appropriate course of action is:\\n\\n1. Submerge the drone to a depth of 5-10 meters to ensure the kelp is in the optimal light and temperature range.\\n2. Initiate water flow around the drone to create a current of 2-3 knots to facilitate nutrient and gas exchange.\\n3. Monitor the nutrient levels and supplement with a kelp-friendly fertilizer if necessary.\\n4. Ensure the drone is positioned in an area with sufficient dissolved oxygen levels, which may require aeration or water circulation.\\n\\nThese measures will provide the Giant Kelp with the necessary environmental conditions to thrive and establish the beginnings of a healthy drone kelp bed.'}]}\n",
      "Kelp Drone Alpha Decide: Executing command {'role': 'assistant', 'content': [{'type': 'text', 'text': 'Based on the analysis and recommended course of action provided, the appropriate command for the underwater drone would be:\\n\\nCommand: {\\n    \"action\": \"submerge\",\\n    \"depth\": 5\\n}\\n\\nThis command will submerge the drone to a depth of 5 meters, which is within the recommended depth range of 5-10 meters to provide the optimal light and temperature conditions for the Giant Kelp.\\n\\nThe next step would be to issue a command to initiate water flow around the drone to create a current of 2-3 knots. This can be done with the following command:\\n\\nCommand: {\\n    \"action\": \"set_current\",\\n    \"speed\": 2.5\\n}\\n\\nThis will set the water current around the drone to 2.5 knots, which is within the recommended range of 2-3 knots to facilitate nutrient and gas exchange.\\n\\nThe other recommended actions, such as monitoring nutrient levels and ensuring sufficient dissolved oxygen, would require additional sensors and commands to be implemented. These can be addressed in subsequent commands as the simulation progresses.'}]}\n"
     ]
    }
   ],
   "source": [
    "loop_result4 = asyncio.ensure_future(drone3.ooda_loop.run())"
   ]
  },
  {
   "cell_type": "code",
   "execution_count": 18,
   "id": "00ed43d1-bc28-4d39-81c0-103a9f159344",
   "metadata": {},
   "outputs": [
    {
     "data": {
      "text/plain": [
       "<Task finished name='Task-15' coro=<OODALoop.run() done, defined at /Users/jeremynelson/20-29 Seaweed Biochar Enterprises/21.01 Kelp Drone App/src/kelp_drone/drone.py:67> exception=AttributeError(\"'Drone' object has no attribute 'activator'\")>"
      ]
     },
     "execution_count": 18,
     "metadata": {},
     "output_type": "execute_result"
    }
   ],
   "source": [
    "loop_result4"
   ]
  },
  {
   "cell_type": "code",
   "execution_count": null,
   "id": "8fc6df44-5fac-4c14-a009-57fb24e72cc1",
   "metadata": {},
   "outputs": [],
   "source": []
  }
 ],
 "metadata": {
  "kernelspec": {
   "display_name": "Python 3 (ipykernel)",
   "language": "python",
   "name": "python3"
  },
  "language_info": {
   "codemirror_mode": {
    "name": "ipython",
    "version": 3
   },
   "file_extension": ".py",
   "mimetype": "text/x-python",
   "name": "python",
   "nbconvert_exporter": "python",
   "pygments_lexer": "ipython3",
   "version": "3.12.1"
  }
 },
 "nbformat": 4,
 "nbformat_minor": 5
}
