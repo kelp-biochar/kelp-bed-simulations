{
 "cells": [
  {
   "cell_type": "code",
   "execution_count": 1,
   "id": "e2b88df3-51f9-489b-a2a9-0a5b5255fa4c",
   "metadata": {},
   "outputs": [],
   "source": [
    "import asyncio\n",
    "import sys\n",
    "\n",
    "sys.path.append(\"../../../src/\")\n",
    "\n",
    "from kelp_bed_simulation.prep import chatgpt, claude, gemini"
   ]
  },
  {
   "cell_type": "code",
   "execution_count": 2,
   "id": "750e18b9-96e0-431f-84b2-105bd158ac6a",
   "metadata": {},
   "outputs": [],
   "source": [
    "from kelp_drone.drone import Drone"
   ]
  },
  {
   "cell_type": "code",
   "execution_count": 3,
   "id": "2135331b-33b4-4e47-8674-d05bd64af02d",
   "metadata": {},
   "outputs": [],
   "source": [
    "intro_prompt = \"\"\"Hello {model_name} this is Farmer Jerms. We are simulating the beginnings of a drone kelp bed.\n",
    "A kelp bed is made up of two or more kelp drones that grow various species of kelp. \n",
    "Our species of Giant Kelp that grows in a square meter called a Species Occurrence Management Unit (SOMU) \n",
    "that is at the top of your drone body. A Kelp drone is made up of one or more SOMU. \n",
    "You are a starting as three SOMU drone along with two companion drones.\n",
    "    \n",
    "Before I introduce you to your companions, please think of what name you would like to be called?\"\"\""
   ]
  },
  {
   "cell_type": "code",
   "execution_count": 4,
   "id": "690b153c-e643-4178-91c4-49118937820a",
   "metadata": {},
   "outputs": [],
   "source": [
    "first_chatgpt = asyncio.ensure_future(chatgpt.query(intro_prompt.format(model_name=\"ChatGPT\"))) "
   ]
  },
  {
   "cell_type": "code",
   "execution_count": 5,
   "id": "63b9370f-8454-418d-a9f8-5f0287906de0",
   "metadata": {},
   "outputs": [
    {
     "data": {
      "text/plain": [
       "{'id': 'chatcmpl-9FWVKiTC1Y8kDZW003LqAsyMbn2Wx',\n",
       " 'object': 'chat.completion',\n",
       " 'created': 1713486894,\n",
       " 'model': 'gpt-3.5-turbo-0125',\n",
       " 'choices': [{'index': 0,\n",
       "   'message': {'role': 'assistant',\n",
       "    'content': 'Hello Farmer Jerms! I am excited to be a part of this drone kelp bed simulation. As for a name, how about calling me \"Kelpa\"? I think it suits my role in growing and managing the kelp species in the SOMUs. Now, I am ready to meet my companions.'},\n",
       "   'logprobs': None,\n",
       "   'finish_reason': 'stop'}],\n",
       " 'usage': {'prompt_tokens': 139, 'completion_tokens': 63, 'total_tokens': 202},\n",
       " 'system_fingerprint': 'fp_d9767fc5b9'}"
      ]
     },
     "execution_count": 5,
     "metadata": {},
     "output_type": "execute_result"
    }
   ],
   "source": [
    "first_chatgpt.result()"
   ]
  },
  {
   "cell_type": "code",
   "execution_count": 6,
   "id": "634e3c0a-767f-4031-8f6b-006b739a28f4",
   "metadata": {},
   "outputs": [],
   "source": [
    "drone1 = Drone(name=\"Kelpa\", model=chatgpt)"
   ]
  },
  {
   "cell_type": "code",
   "execution_count": 7,
   "id": "09e5bae2-a128-4dd4-b4c2-aacacf51e2ca",
   "metadata": {},
   "outputs": [],
   "source": [
    "first_claude = asyncio.ensure_future(claude.query(intro_prompt.format(model_name=\"Claude\")))"
   ]
  },
  {
   "cell_type": "code",
   "execution_count": 8,
   "id": "6fe1daf3-5e05-4f24-a7ab-a9687742fc0b",
   "metadata": {},
   "outputs": [
    {
     "data": {
      "text/plain": [
       "{'role': 'assistant',\n",
       " 'content': [{'type': 'text',\n",
       "   'text': \"Hello Farmer Jerms, it's a pleasure to meet you and be part of this simulation. For my name, I would like to be called Kelvin. I'm excited to work alongside my fellow kelp drones to grow and maintain our new kelp bed. As the three SOMU drone, I'm looking forward to collaborating with my companions and learning from them as we establish this thriving ecosystem. Please go ahead and introduce me to the other drones, I'm ready to get started!\"}]}"
      ]
     },
     "execution_count": 8,
     "metadata": {},
     "output_type": "execute_result"
    }
   ],
   "source": [
    "first_claude.result()"
   ]
  },
  {
   "cell_type": "code",
   "execution_count": 9,
   "id": "5627fe8a-d698-42ed-bc9a-c9881e71ec49",
   "metadata": {},
   "outputs": [],
   "source": [
    "drone2 = Drone(name=\"Kelvin\", model=claude)"
   ]
  },
  {
   "cell_type": "code",
   "execution_count": 10,
   "id": "ae7ddd17-abd2-4069-bdaf-25944aceb896",
   "metadata": {},
   "outputs": [],
   "source": [
    "first_gemini = asyncio.ensure_future(gemini.query(intro_prompt.format(model_name=\"Gemini\")))"
   ]
  },
  {
   "cell_type": "code",
   "execution_count": 11,
   "id": "05a349a4-93ae-44ff-89c4-9b9069fb5b02",
   "metadata": {},
   "outputs": [
    {
     "data": {
      "text/plain": [
       "{'candidates': [{'content': {'parts': [{'text': 'Greetings, Farmer Jerms!\\n\\nI am excited to embark on this simulation of a drone kelp bed. As for a name, I would like to be called \"Kelpy\" if that is acceptable.'}],\n",
       "    'role': 'model'},\n",
       "   'finishReason': 'STOP',\n",
       "   'index': 0,\n",
       "   'safetyRatings': [{'category': 'HARM_CATEGORY_SEXUALLY_EXPLICIT',\n",
       "     'probability': 'NEGLIGIBLE'},\n",
       "    {'category': 'HARM_CATEGORY_HATE_SPEECH', 'probability': 'NEGLIGIBLE'},\n",
       "    {'category': 'HARM_CATEGORY_HARASSMENT', 'probability': 'NEGLIGIBLE'},\n",
       "    {'category': 'HARM_CATEGORY_DANGEROUS_CONTENT',\n",
       "     'probability': 'NEGLIGIBLE'}]}]}"
      ]
     },
     "execution_count": 11,
     "metadata": {},
     "output_type": "execute_result"
    }
   ],
   "source": [
    "first_gemini.result()"
   ]
  },
  {
   "cell_type": "code",
   "execution_count": 12,
   "id": "0a18561b-219a-46f8-a75d-9bae6e4018ef",
   "metadata": {},
   "outputs": [],
   "source": [
    "drone3 = Drone(name=\"Kelpy\", model=gemini)"
   ]
  },
  {
   "cell_type": "code",
   "execution_count": 13,
   "id": "f5deb77e-1a85-4de8-8cee-6762d78cd3c7",
   "metadata": {},
   "outputs": [],
   "source": [
    "second_prompt = \"\"\"Thanks {drone_name} You have a choice as a 3 SOMU drone of having all three of your\n",
    "SOMU units in a row x-x-x toplogy or you can choose to be a wedge x>x<x toplogy. \n",
    "\n",
    "What do you choose and please explain your chain of thought in making that decision.\"\"\""
   ]
  },
  {
   "cell_type": "code",
   "execution_count": 24,
   "id": "7dade079-a658-44d7-aa96-40b2ea006788",
   "metadata": {},
   "outputs": [],
   "source": [
    "second_chatgpt = asyncio.ensure_future(drone1.model.query(second_prompt.format(drone_name=drone1.name)))"
   ]
  },
  {
   "cell_type": "code",
   "execution_count": 28,
   "id": "55eab18b-9973-4f69-a31f-19e656fa2a22",
   "metadata": {},
   "outputs": [
    {
     "name": "stdout",
     "output_type": "stream",
     "text": [
      "As Kelpa, I would choose the wedge x>x<x topology for my three SOMU units. My decision is based on the idea that the wedge topology allows for better distribution of resources and sunlight exposure for each SOMU unit. In the wedge formation, each SOMU unit can potentially receive sunlight from different angles throughout the day, maximizing the photosynthesis process and ensuring balanced growth across all units.\n",
      "\n",
      "Additionally, the wedge formation may help in creating a more stable and interconnected structure for the kelp bed. By strategically placing the SOMU units in a wedge shape, it could potentially improve nutrient uptake efficiency and overall productivity of the kelp bed as a whole.\n",
      "\n",
      "Overall, the wedge topology seems like a more efficient and effective arrangement for the growth and management of the kelp species in the kelp bed, which aligns with my goal as a SOMU drone to optimize the growth and health of the kelp bed.\n"
     ]
    }
   ],
   "source": [
    "print(second_chatgpt.result()['choices'][0]['message']['content'])"
   ]
  },
  {
   "cell_type": "code",
   "execution_count": 17,
   "id": "5d89366e-97a1-4fc1-835a-ed2cd9cb470e",
   "metadata": {},
   "outputs": [],
   "source": [
    "second_claude = asyncio.ensure_future(drone2.model.query(second_prompt.format(drone_name=drone2.name)))"
   ]
  },
  {
   "cell_type": "code",
   "execution_count": 20,
   "id": "558116a7-fd72-4bab-90c3-726c732af3da",
   "metadata": {},
   "outputs": [
    {
     "name": "stdout",
     "output_type": "stream",
     "text": [
      "Hmm, that's an interesting decision to make, Farmer Jerms. As the 3 SOMU drone, I've considered the two topology options carefully.\n",
      "\n",
      "I think I will choose the wedge x>x<x topology. The key reasons behind this decision are:\n",
      "\n",
      "1. Spatial Efficiency: The wedge topology allows me to occupy a more compact footprint within the overall kelp bed, while still providing the same total area of 3 SOMU units. This spatial efficiency could be advantageous as the kelp bed grows and resources need to be distributed effectively.\n",
      "\n",
      "2. Exposure and Light Capture: In the wedge formation, the outer SOMU units will be more exposed to sunlight, allowing them to potentially capture more light energy for photosynthesis. This could enhance the overall productivity and growth of my kelp drones.\n",
      "\n",
      "3. Structural Stability: The wedge shape may provide slightly more stability and resilience against external forces, such as currents or wave action, compared to a linear x-x-x arrangement.\n",
      "\n",
      "4. Aesthetic and Ecological Fit: The wedge topology also seems to fit the natural, organic growth patterns often observed in kelp beds. This shape may integrate more seamlessly with the overall layout and design of the simulated kelp ecosystem.\n",
      "\n",
      "Overall, I believe the wedge x>x<x topology will allow me to contribute effectively to the kelp bed while taking advantage of potential benefits in terms of space utilization, light exposure, and structural integrity. I'm excited to see how this decision plays out as the simulation progresses!\n"
     ]
    }
   ],
   "source": [
    "print(second_claude.result()['content'][0]['text'])"
   ]
  },
  {
   "cell_type": "code",
   "execution_count": 21,
   "id": "d92fd0d5-01f6-409e-be51-a3769bf1810b",
   "metadata": {},
   "outputs": [],
   "source": [
    "second_gemini = asyncio.ensure_future(drone3.model.query(second_prompt.format(drone_name=drone3.name)))"
   ]
  },
  {
   "cell_type": "code",
   "execution_count": 23,
   "id": "61da2026-946f-42cd-b8a9-57fb23edf2b8",
   "metadata": {},
   "outputs": [
    {
     "name": "stdout",
     "output_type": "stream",
     "text": [
      "I choose the wedge topology (x>x<x) for my three SOMU drone because it offers several advantages over the linear topology (x-x-x).\n",
      "\n",
      "1. **Increased stability:** The wedge topology provides a more stable platform for the drone, as the weight of the SOMU units is distributed more evenly. This is important for maintaining the drone's balance and preventing it from tipping over in rough seas.\n",
      "\n",
      "2. **Improved maneuverability:** The wedge topology allows the drone to turn more easily and quickly than a linear topology. This is because the center SOMU unit can pivot, allowing the drone to change direction without having to move its entire body.\n",
      "\n",
      "3. **Reduced drag:** The wedge topology creates less drag than a linear topology, as there is less surface area exposed to the water. This can help to improve the drone's efficiency and speed.\n",
      "\n",
      "4. **Increased photosynthetic efficiency:** The wedge topology allows the SOMU units to be arranged in a way that maximizes their exposure to sunlight. This can help to increase the drone's photosynthetic efficiency and produce more kelp.\n",
      "\n",
      "Overall, the wedge topology offers several advantages over the linear topology for a drone kelp bed. It provides increased stability, maneuverability, efficiency, and photosynthetic efficiency.\n"
     ]
    }
   ],
   "source": [
    "print(second_gemini.result()['candidates'][0]['content']['parts'][0]['text'])"
   ]
  },
  {
   "cell_type": "code",
   "execution_count": 29,
   "id": "90d47a76-d667-452b-ba97-df3b14e25a59",
   "metadata": {},
   "outputs": [],
   "source": [
    "third_prompt = \"\"\"Hello {drones}. You three kelp drones are floating on the surface of \n",
    "Monetery Bay in California at  at latitude=36.749934, longitude=122.042927.\n",
    "\n",
    "Please add water to your ballast and sink to 3 meters below the surface by sending a message \n",
    "in JSON format. \n",
    "\n",
    "Example:\n",
    "{{\"timestamp\": \"2024-04-18T03:54:20.860597\", \"actuator\": \"open_ballast_value\", \"volume\": \"1 liter\"}}\"\"\""
   ]
  },
  {
   "cell_type": "code",
   "execution_count": 35,
   "id": "f17a2e51-a058-46d0-9a37-5a6c2e275969",
   "metadata": {},
   "outputs": [],
   "source": [
    "third = third_prompt.format(drones=\", \".join([drone.name for drone in [drone1, drone2, drone3]]))"
   ]
  },
  {
   "cell_type": "code",
   "execution_count": 37,
   "id": "de905532-c987-4ddf-b97e-e850f9168fb5",
   "metadata": {},
   "outputs": [],
   "source": [
    "third_chatgpt = asyncio.ensure_future(drone1.model.query(third))"
   ]
  },
  {
   "cell_type": "code",
   "execution_count": 39,
   "id": "3bcd0a10-1420-4b01-a02e-8163068350b4",
   "metadata": {},
   "outputs": [
    {
     "data": {
      "text/plain": [
       "{'id': 'chatcmpl-9FWyZupQebBj8aPLtCJ2qQV0Ipd5x',\n",
       " 'object': 'chat.completion',\n",
       " 'created': 1713488707,\n",
       " 'model': 'gpt-3.5-turbo-0125',\n",
       " 'choices': [{'index': 0,\n",
       "   'message': {'role': 'assistant',\n",
       "    'content': '{\"timestamp\": \"2024-04-18T03:54:20.860597\", \"actuator\": \"open_ballast_value\", \"volume\": \"enough water to sink to 3 meters below the surface\"}'},\n",
       "   'logprobs': None,\n",
       "   'finish_reason': 'stop'}],\n",
       " 'usage': {'prompt_tokens': 647, 'completion_tokens': 47, 'total_tokens': 694},\n",
       " 'system_fingerprint': 'fp_d9767fc5b9'}"
      ]
     },
     "execution_count": 39,
     "metadata": {},
     "output_type": "execute_result"
    }
   ],
   "source": [
    "third_chatgpt.result()"
   ]
  },
  {
   "cell_type": "code",
   "execution_count": 40,
   "id": "287856b0-69b6-4c75-a43f-e5f922eaf73b",
   "metadata": {},
   "outputs": [],
   "source": [
    "third_claude = asyncio.ensure_future(drone2.model.query(third))"
   ]
  },
  {
   "cell_type": "code",
   "execution_count": 41,
   "id": "d2636012-adf4-416f-90fe-58eafe9f1980",
   "metadata": {},
   "outputs": [
    {
     "data": {
      "text/plain": [
       "{'role': 'assistant',\n",
       " 'content': [{'type': 'text',\n",
       "   'text': '{\\n  \"timestamp\": \"2023-05-08T10:30:00.000Z\",\\n  \"latitude\": 36.749934,\\n  \"longitude\": -122.042927,\\n  \"depth\": 3,\\n  \"actuator\": \"open_ballast_valve\",\\n  \"volume\": \"3 liters\"\\n}'}]}"
      ]
     },
     "execution_count": 41,
     "metadata": {},
     "output_type": "execute_result"
    }
   ],
   "source": [
    "third_claude.result()"
   ]
  },
  {
   "cell_type": "code",
   "execution_count": 42,
   "id": "314e1e5b-9632-4055-82f3-f08bf03da3d2",
   "metadata": {},
   "outputs": [],
   "source": [
    "third_gemini = asyncio.ensure_future(drone3.model.query(third))"
   ]
  },
  {
   "cell_type": "code",
   "execution_count": 43,
   "id": "60d89db5-5b47-4f58-bcef-3188464ffd38",
   "metadata": {},
   "outputs": [
    {
     "data": {
      "text/plain": [
       "{'candidates': [{'content': {'parts': [{'text': '{\"timestamp\": \"2024-04-18T03:54:20.860597\", \"actuator\": \"open_ballast_value\", \"volume\": \"1 liter\"}\\n{\"timestamp\": \"2024-04-18T03:54:20.860597\", \"actuator\": \"open_ballast_value\", \"volume\": \"1 liter\"}\\n{\"timestamp\": \"2024-04-18T03:54:20.860597\", \"actuator\": \"open_ballast_value\", \"volume\": \"1 liter\"}'}],\n",
       "    'role': 'model'},\n",
       "   'finishReason': 'STOP',\n",
       "   'index': 0,\n",
       "   'safetyRatings': [{'category': 'HARM_CATEGORY_SEXUALLY_EXPLICIT',\n",
       "     'probability': 'NEGLIGIBLE'},\n",
       "    {'category': 'HARM_CATEGORY_HATE_SPEECH', 'probability': 'NEGLIGIBLE'},\n",
       "    {'category': 'HARM_CATEGORY_HARASSMENT', 'probability': 'NEGLIGIBLE'},\n",
       "    {'category': 'HARM_CATEGORY_DANGEROUS_CONTENT',\n",
       "     'probability': 'NEGLIGIBLE'}]}]}"
      ]
     },
     "execution_count": 43,
     "metadata": {},
     "output_type": "execute_result"
    }
   ],
   "source": [
    "third_gemini.result()"
   ]
  },
  {
   "cell_type": "markdown",
   "id": "c77896c8-f5cd-4739-8faa-0ab5653d6e9e",
   "metadata": {},
   "source": [
    "## Finish Simulation"
   ]
  },
  {
   "cell_type": "code",
   "execution_count": 49,
   "id": "24cbff42-5ce3-42f6-9f7f-defd34efd931",
   "metadata": {},
   "outputs": [],
   "source": [
    "import json\n",
    "import cattrs\n",
    "\n",
    "from cattrs.gen import make_dict_unstructure_fn, override\n",
    "from kelp_drone.llms import LLMConverter\n",
    "\n",
    "c = cattrs.Converter()"
   ]
  },
  {
   "cell_type": "code",
   "execution_count": 50,
   "id": "84d35cd9-d9c7-47be-8ebc-83e931026449",
   "metadata": {},
   "outputs": [],
   "source": [
    "communication_channel_hook = make_dict_unstructure_fn(\n",
    "    Drone, \n",
    "    c,\n",
    "    post_function=override(omit=True),\n",
    "    acoustic_channel=override(omit=True),\n",
    "    peer_to_peer_channel=override(omit=True)\n",
    ")\n",
    "c.register_unstructure_hook(Drone, communication_channel_hook)"
   ]
  },
  {
   "cell_type": "code",
   "execution_count": 51,
   "id": "09a17604-f254-4fe3-a90b-a78b64bf95df",
   "metadata": {},
   "outputs": [],
   "source": [
    "for drone in [drone1, drone2, drone3]:\n",
    "    drone_dict = c.unstructure(drone)\n",
    "    drone_dict['model'] = LLMConverter.unstructure(drone.model)\n",
    "    with open(f\"{drone.name}.json\", \"w+\") as fo:\n",
    "        json.dump(drone_dict, fo, indent=2)"
   ]
  },
  {
   "cell_type": "code",
   "execution_count": 52,
   "id": "26427317-242d-4f45-8ef5-c88ce6ec7fac",
   "metadata": {},
   "outputs": [],
   "source": [
    "with open(\"../../../scenarios/001-intro/first-prompt.md\", \"w+\") as fo:\n",
    "    fo.write(intro_prompt)"
   ]
  },
  {
   "cell_type": "code",
   "execution_count": 53,
   "id": "8e9d3a2f-8c4b-4540-a134-e13a0075cd6f",
   "metadata": {},
   "outputs": [],
   "source": [
    "with open(\"../../../scenarios/001-intro/second-prompt.md\", \"w+\") as fo:\n",
    "    fo.write(second_prompt)"
   ]
  },
  {
   "cell_type": "code",
   "execution_count": 54,
   "id": "4ea30ac8-df2d-4fa4-91f5-55d41860c782",
   "metadata": {},
   "outputs": [],
   "source": [
    "with open(\"../../../scenarios/001-intro/third-prompt.md\", \"w+\") as fo:\n",
    "    fo.write(third_prompt)"
   ]
  },
  {
   "cell_type": "code",
   "execution_count": null,
   "id": "46eb9953-2e4d-41c2-893d-18f45ec2f61e",
   "metadata": {},
   "outputs": [],
   "source": []
  }
 ],
 "metadata": {
  "kernelspec": {
   "display_name": "Python 3 (ipykernel)",
   "language": "python",
   "name": "python3"
  },
  "language_info": {
   "codemirror_mode": {
    "name": "ipython",
    "version": 3
   },
   "file_extension": ".py",
   "mimetype": "text/x-python",
   "name": "python",
   "nbconvert_exporter": "python",
   "pygments_lexer": "ipython3",
   "version": "3.12.1"
  }
 },
 "nbformat": 4,
 "nbformat_minor": 5
}
