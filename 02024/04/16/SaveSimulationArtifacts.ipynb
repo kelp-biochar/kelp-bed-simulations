{
 "cells": [
  {
   "cell_type": "code",
   "execution_count": 1,
   "id": "2cea322c-5614-4ae1-b945-52e90f3586d9",
   "metadata": {},
   "outputs": [],
   "source": [
    "import asyncio\n",
    "import datetime\n",
    "import os\n",
    "import random\n",
    "\n",
    "import httpx"
   ]
  },
  {
   "cell_type": "code",
   "execution_count": 21,
   "id": "e5dd441c-d3d2-4c33-8dbc-705aae2c0054",
   "metadata": {},
   "outputs": [],
   "source": [
    "from kelp_drone.drone import Drone\n",
    "from kelp_drone.somu import SpeciesOccurrenceManagmentUnit as SOMU\n",
    "from kelp_drone.llms import (\n",
    "    ChatGPT,\n",
    "    Claude,\n",
    "    Gemini\n",
    ")\n",
    "\n",
    "httpx_client = httpx.AsyncClient()"
   ]
  },
  {
   "cell_type": "code",
   "execution_count": 7,
   "id": "23493d99-89cf-40c5-ac46-7e87c5186279",
   "metadata": {},
   "outputs": [],
   "source": [
    "import cattrs"
   ]
  },
  {
   "cell_type": "code",
   "execution_count": 10,
   "id": "f94d22d2-31ba-4b60-a287-c981b81be776",
   "metadata": {},
   "outputs": [],
   "source": [
    "chatgpt = ChatGPT(\n",
    "    name=\"ChatGPT 3.5\",\n",
    "    version=\"gpt-3.5-turbo\",\n",
    "    key=os.environ.get(\"OPENAI_KEY\"),\n",
    "    post_function=httpx_client.post\n",
    ")"
   ]
  },
  {
   "cell_type": "code",
   "execution_count": 5,
   "id": "0c97e49e-1d36-4030-a905-3a9b787acf79",
   "metadata": {},
   "outputs": [],
   "source": [
    "from cattrs.gen import make_dict_unstructure_fn, override"
   ]
  },
  {
   "cell_type": "code",
   "execution_count": 14,
   "id": "a3b7acc7-6293-46f2-bf54-9d648b9fd8eb",
   "metadata": {},
   "outputs": [
    {
     "data": {
      "text/plain": [
       "{'name': 'ChatGPT 3.5',\n",
       " 'version': 'gpt-3.5-turbo',\n",
       " 'max_tokens': 1056,\n",
       " 'messages': [],\n",
       " 'temperature': 0.8,\n",
       " 'url': 'https://api.openai.com/v1/chat/completions'}"
      ]
     },
     "execution_count": 14,
     "metadata": {},
     "output_type": "execute_result"
    }
   ],
   "source": [
    "c = cattrs.Converter()\n",
    "\n",
    "no_token_hook = make_dict_unstructure_fn(ChatGPT, c, key=override(omit=True), post_function=override(omit=True))\n",
    "\n",
    "c.register_unstructure_hook(ChatGPT, no_token_hook)\n",
    "c.unstructure(chatgpt)"
   ]
  },
  {
   "cell_type": "code",
   "execution_count": 12,
   "id": "ad57a000-1ab0-4512-b5a1-b9062a02aedf",
   "metadata": {},
   "outputs": [],
   "source": [
    "import json"
   ]
  },
  {
   "cell_type": "code",
   "execution_count": 15,
   "id": "8475d8e3-6bfc-4fa4-ac6a-11d69dedfb20",
   "metadata": {},
   "outputs": [
    {
     "data": {
      "text/plain": [
       "'{\"name\": \"ChatGPT 3.5\", \"version\": \"gpt-3.5-turbo\", \"max_tokens\": 1056, \"messages\": [], \"temperature\": 0.8, \"url\": \"https://api.openai.com/v1/chat/completions\"}'"
      ]
     },
     "execution_count": 15,
     "metadata": {},
     "output_type": "execute_result"
    }
   ],
   "source": [
    "json.dumps(c.unstructure(chatgpt))"
   ]
  },
  {
   "cell_type": "code",
   "execution_count": 17,
   "id": "21c2b20e-e491-4bd0-90a9-278f657bf48a",
   "metadata": {},
   "outputs": [],
   "source": [
    "from kelp_drone.llms.converter import LLMConverter"
   ]
  },
  {
   "cell_type": "code",
   "execution_count": 18,
   "id": "b4535d06-d250-46b0-a424-34618d6b1c57",
   "metadata": {},
   "outputs": [
    {
     "data": {
      "text/plain": [
       "{'name': 'ChatGPT 3.5',\n",
       " 'version': 'gpt-3.5-turbo',\n",
       " 'max_tokens': 1056,\n",
       " 'messages': [],\n",
       " 'temperature': 0.8,\n",
       " 'url': 'https://api.openai.com/v1/chat/completions'}"
      ]
     },
     "execution_count": 18,
     "metadata": {},
     "output_type": "execute_result"
    }
   ],
   "source": [
    "LLMConverter.unstructure(chatgpt)"
   ]
  },
  {
   "cell_type": "code",
   "execution_count": 19,
   "id": "b0971911-c6b6-4533-881e-a8011ce408ed",
   "metadata": {},
   "outputs": [],
   "source": [
    "drone1 = Drone(name='Drone 1', model=chatgpt)"
   ]
  },
  {
   "cell_type": "code",
   "execution_count": 22,
   "id": "2e820915-6851-4a96-b7e2-528b79f20399",
   "metadata": {},
   "outputs": [],
   "source": [
    "new_somu = SOMU(name='Kelp Outline')"
   ]
  },
  {
   "cell_type": "code",
   "execution_count": 24,
   "id": "caa301f0-3bb1-43e7-acd1-93ee8c5c9b5c",
   "metadata": {},
   "outputs": [],
   "source": [
    "drone1.add_somu(new_somu)"
   ]
  },
  {
   "cell_type": "code",
   "execution_count": 27,
   "id": "be6ac546-a040-43fd-8db8-83628ad6f3e1",
   "metadata": {},
   "outputs": [
    {
     "data": {
      "text/plain": [
       "{'name': 'Drone 1',\n",
       " 'model': {'name': 'ChatGPT 3.5',\n",
       "  'version': 'gpt-3.5-turbo',\n",
       "  'max_tokens': 1056,\n",
       "  'messages': [],\n",
       "  'temperature': 0.8,\n",
       "  'url': 'https://api.openai.com/v1/chat/completions'},\n",
       " 'depth': 0.0,\n",
       " 'max_buoyancy': 100.0,\n",
       " 'current_ballast': 0.0,\n",
       " 'net_buoyancy': 0.0,\n",
       " 'somu_units': [{'name': 'Kelp Outline',\n",
       "   'kelp_plants': [],\n",
       "   'sensors': [],\n",
       "   'dissolved_oxygen': 8.0,\n",
       "   'light_intensity': 100.0,\n",
       "   'nutrient_levels': 10.0,\n",
       "   'water_temperature': 20.0}],\n",
       " 'inbox': [],\n",
       " 'acoustic_channel': <kelp_drone.communications.AcousticModemChannel at 0x1131bfd40>}"
      ]
     },
     "execution_count": 27,
     "metadata": {},
     "output_type": "execute_result"
    }
   ],
   "source": [
    "c.unstructure(drone1)"
   ]
  },
  {
   "cell_type": "code",
   "execution_count": 23,
   "id": "3684c825-2377-437c-866d-79414ee1fb15",
   "metadata": {},
   "outputs": [
    {
     "data": {
      "text/plain": [
       "{'name': 'Kelp Outline',\n",
       " 'kelp_plants': [],\n",
       " 'sensors': [],\n",
       " 'dissolved_oxygen': 8.0,\n",
       " 'light_intensity': 100.0,\n",
       " 'nutrient_levels': 10.0,\n",
       " 'water_temperature': 20.0}"
      ]
     },
     "execution_count": 23,
     "metadata": {},
     "output_type": "execute_result"
    }
   ],
   "source": [
    "c.unstructure(new_somu)"
   ]
  },
  {
   "cell_type": "code",
   "execution_count": 31,
   "id": "4c926b65-c443-447b-9a2d-a6192c4bf0b9",
   "metadata": {},
   "outputs": [
    {
     "data": {
      "text/plain": [
       "'{\"name\": \"Drone 1\", \"model\": {\"name\": \"ChatGPT 3.5\", \"version\": \"gpt-3.5-turbo\", \"max_tokens\": 1056, \"messages\": [], \"temperature\": 0.8, \"url\": \"https://api.openai.com/v1/chat/completions\"}, \"depth\": 0.0, \"max_buoyancy\": 100.0, \"current_ballast\": 0.0, \"net_buoyancy\": 0.0, \"somu_units\": [{\"name\": \"Kelp Outline\", \"kelp_plants\": [], \"sensors\": [], \"dissolved_oxygen\": 8.0, \"light_intensity\": 100.0, \"nutrient_levels\": 10.0, \"water_temperature\": 20.0}], \"inbox\": []}'"
      ]
     },
     "execution_count": 31,
     "metadata": {},
     "output_type": "execute_result"
    }
   ],
   "source": [
    "json.dumps(c.unstructure(drone1))"
   ]
  },
  {
   "cell_type": "code",
   "execution_count": 29,
   "id": "88e0ba41-cbdb-4ca8-b37e-07552da4376b",
   "metadata": {},
   "outputs": [],
   "source": [
    "communication_channel_hook = make_dict_unstructure_fn(Drone, c, acoustic_channel=override(omit=True))"
   ]
  },
  {
   "cell_type": "code",
   "execution_count": 30,
   "id": "69181d00-a362-4735-a9f3-5510487d060b",
   "metadata": {},
   "outputs": [],
   "source": [
    "c.register_unstructure_hook(Drone, communication_channel_hook)"
   ]
  },
  {
   "cell_type": "code",
   "execution_count": null,
   "id": "c5e1d2f3-8a45-467d-b89c-0affc979f9a5",
   "metadata": {},
   "outputs": [],
   "source": []
  }
 ],
 "metadata": {
  "kernelspec": {
   "display_name": "Python 3 (ipykernel)",
   "language": "python",
   "name": "python3"
  },
  "language_info": {
   "codemirror_mode": {
    "name": "ipython",
    "version": 3
   },
   "file_extension": ".py",
   "mimetype": "text/x-python",
   "name": "python",
   "nbconvert_exporter": "python",
   "pygments_lexer": "ipython3",
   "version": "3.12.1"
  }
 },
 "nbformat": 4,
 "nbformat_minor": 5
}
