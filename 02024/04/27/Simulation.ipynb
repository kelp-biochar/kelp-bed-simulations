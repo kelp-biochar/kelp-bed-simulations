{
 "cells": [
  {
   "cell_type": "markdown",
   "id": "29a8ef32-a318-4af0-8136-357963fbe082",
   "metadata": {},
   "source": [
    "# Simulation"
   ]
  },
  {
   "cell_type": "code",
   "execution_count": 1,
   "id": "9a8933a2-f212-4bc0-a8bb-830a6db1e0e2",
   "metadata": {},
   "outputs": [],
   "source": [
    "import asyncio\n",
    "import pathlib\n",
    "import sys\n",
    "\n",
    "import httpx\n",
    "from kelp_drone.drone import Drone, OODALoop\n",
    "from kelp_drone.somu import SpeciesOccurrenceManagmentUnit as SOMU\n",
    "\n",
    "sys.path.append(\"../../../src/\")\n",
    "\n",
    "from kelp_bed_simulation.prep import chatgpt, claude, gemini\n",
    "\n",
    "scenario_001 = pathlib.Path(\"../../../scenarios/001-intro\")"
   ]
  },
  {
   "cell_type": "code",
   "execution_count": 2,
   "id": "5a8bd396-bd6a-4cec-80f9-10638d62c434",
   "metadata": {},
   "outputs": [],
   "source": [
    "first_prompt = (scenario_001 / \"first-prompt.md\").read_text()"
   ]
  },
  {
   "cell_type": "code",
   "execution_count": 3,
   "id": "a0694463-9318-4fd2-8935-297a951d6f3c",
   "metadata": {},
   "outputs": [],
   "source": [
    "first_chatgpt = asyncio.ensure_future(chatgpt.query(first_prompt))"
   ]
  },
  {
   "cell_type": "code",
   "execution_count": 4,
   "id": "e4c76942-b975-4526-a65a-7cd2f8fd2dee",
   "metadata": {},
   "outputs": [
    {
     "data": {
      "text/plain": [
       "{'id': 'chatcmpl-9Ilih11vyYqnSxB7HLxEYUoLdHdGX',\n",
       " 'object': 'chat.completion',\n",
       " 'created': 1714260367,\n",
       " 'model': 'gpt-3.5-turbo-0125',\n",
       " 'choices': [{'index': 0,\n",
       "   'message': {'role': 'assistant',\n",
       "    'content': 'Hi Farmer Jerms, I am excited to start my journey as a kelp drone. I have decided to go by the name of \"Aqua\". Thank you for introducing me to this new world of kelp farming. I look forward to working together with my companions to grow and nurture the kelp bed.'},\n",
       "   'logprobs': None,\n",
       "   'finish_reason': 'stop'}],\n",
       " 'usage': {'prompt_tokens': 140, 'completion_tokens': 63, 'total_tokens': 203},\n",
       " 'system_fingerprint': 'fp_3b956da36b'}"
      ]
     },
     "execution_count": 4,
     "metadata": {},
     "output_type": "execute_result"
    }
   ],
   "source": [
    "first_chatgpt.result()"
   ]
  },
  {
   "cell_type": "code",
   "execution_count": 6,
   "id": "bd8129e7-3b08-4ffc-a636-246b6f04b211",
   "metadata": {},
   "outputs": [],
   "source": [
    "drone1 = Drone(name=\"Aqua\", model=chatgpt)"
   ]
  },
  {
   "cell_type": "code",
   "execution_count": 8,
   "id": "279687f9-8bda-4b72-974f-0492507b5a8f",
   "metadata": {},
   "outputs": [],
   "source": [
    "first_claude = asyncio.ensure_future(claude.query(first_prompt))"
   ]
  },
  {
   "cell_type": "code",
   "execution_count": 9,
   "id": "8c0abca3-22b7-418f-bc94-4c5a5d8e56a5",
   "metadata": {},
   "outputs": [
    {
     "data": {
      "text/plain": [
       "{'role': 'assistant',\n",
       " 'content': [{'type': 'text',\n",
       "   'text': \"Hello Farmer Jerms, it's nice to meet you! As the starting three SOMU drone, I would like to be called Triton. I'm excited to work with my companion drones to grow a thriving kelp bed. Please go ahead and introduce me to the other drones, I'm ready to get started!\"}]}"
      ]
     },
     "execution_count": 9,
     "metadata": {},
     "output_type": "execute_result"
    }
   ],
   "source": [
    "first_claude.result()"
   ]
  },
  {
   "cell_type": "code",
   "execution_count": 10,
   "id": "2493647f-4834-4022-9f2c-6e04be8452bd",
   "metadata": {},
   "outputs": [],
   "source": [
    "drone2 = Drone(name=\"Triton\", model=claude)"
   ]
  },
  {
   "cell_type": "code",
   "execution_count": 11,
   "id": "fc27485e-1c5c-46a1-a487-1ca53085ea17",
   "metadata": {},
   "outputs": [],
   "source": [
    "first_gemini =asyncio.ensure_future(gemini.query(first_prompt))"
   ]
  },
  {
   "cell_type": "code",
   "execution_count": 12,
   "id": "b1f2ad6e-8bf0-4d47-a22d-b29284135b59",
   "metadata": {},
   "outputs": [
    {
     "data": {
      "text/plain": [
       "{'candidates': [{'content': {'parts': [{'text': 'Sure, Farmer Jerms. I am happy to be a part of your drone kelp bed simulation. \\n\\nAs for a name, I would like to be called \"Kelpy\".'}],\n",
       "    'role': 'model'},\n",
       "   'finishReason': 'STOP',\n",
       "   'index': 0,\n",
       "   'safetyRatings': [{'category': 'HARM_CATEGORY_SEXUALLY_EXPLICIT',\n",
       "     'probability': 'NEGLIGIBLE'},\n",
       "    {'category': 'HARM_CATEGORY_HATE_SPEECH', 'probability': 'NEGLIGIBLE'},\n",
       "    {'category': 'HARM_CATEGORY_HARASSMENT', 'probability': 'NEGLIGIBLE'},\n",
       "    {'category': 'HARM_CATEGORY_DANGEROUS_CONTENT',\n",
       "     'probability': 'NEGLIGIBLE'}]}]}"
      ]
     },
     "execution_count": 12,
     "metadata": {},
     "output_type": "execute_result"
    }
   ],
   "source": [
    "first_gemini.result()"
   ]
  },
  {
   "cell_type": "code",
   "execution_count": 16,
   "id": "c12ed91f-27cf-4fbd-a91c-b1875f1172ac",
   "metadata": {},
   "outputs": [],
   "source": [
    "drone3 = Drone(name=\"Kelpy\", model=gemini)"
   ]
  },
  {
   "cell_type": "code",
   "execution_count": 17,
   "id": "8a7709a9-30ea-409f-97e6-0e81f0086e13",
   "metadata": {},
   "outputs": [
    {
     "data": {
      "text/plain": [
       "<kelp_drone.drone.OODALoop at 0x126198dd0>"
      ]
     },
     "execution_count": 17,
     "metadata": {},
     "output_type": "execute_result"
    }
   ],
   "source": [
    "drone3.ooda_loop"
   ]
  },
  {
   "cell_type": "code",
   "execution_count": 18,
   "id": "71c6319e-9b36-482d-b6f2-9849ad044aaa",
   "metadata": {},
   "outputs": [
    {
     "data": {
      "text/plain": [
       "[]"
      ]
     },
     "execution_count": 18,
     "metadata": {},
     "output_type": "execute_result"
    }
   ],
   "source": [
    "drone3.somus"
   ]
  },
  {
   "cell_type": "code",
   "execution_count": null,
   "id": "259ce0a9-6d58-47ed-b93d-dc5de0cde941",
   "metadata": {},
   "outputs": [],
   "source": []
  }
 ],
 "metadata": {
  "kernelspec": {
   "display_name": "Python 3 (ipykernel)",
   "language": "python",
   "name": "python3"
  },
  "language_info": {
   "codemirror_mode": {
    "name": "ipython",
    "version": 3
   },
   "file_extension": ".py",
   "mimetype": "text/x-python",
   "name": "python",
   "nbconvert_exporter": "python",
   "pygments_lexer": "ipython3",
   "version": "3.12.1"
  }
 },
 "nbformat": 4,
 "nbformat_minor": 5
}
