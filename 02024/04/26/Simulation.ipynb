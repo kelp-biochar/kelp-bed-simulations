{
 "cells": [
  {
   "cell_type": "markdown",
   "id": "8a171682-aa0f-40aa-acbd-e41ad5cc66ff",
   "metadata": {},
   "source": [
    "# Simulation"
   ]
  },
  {
   "cell_type": "code",
   "execution_count": 1,
   "id": "72cf93d7-6f83-4e6c-87e9-a9d1a7c59e66",
   "metadata": {},
   "outputs": [],
   "source": [
    "import asyncio\n",
    "import pathlib\n",
    "import sys\n",
    "\n",
    "import httpx\n",
    "from kelp_drone.drone import Drone, OODALoop\n",
    "from kelp_drone.somu import SpeciesOccurrenceManagmentUnit as SOMU\n",
    "\n",
    "sys.path.append(\"../../../src/\")\n",
    "\n",
    "from kelp_bed_simulation.prep import chatgpt, claude, gemini\n",
    "\n",
    "scenario_001 = pathlib.Path(\"../../../scenarios/001-intro\")"
   ]
  },
  {
   "cell_type": "code",
   "execution_count": 2,
   "id": "ec0c661b-6e10-4724-a9ec-2536d8a3d073",
   "metadata": {},
   "outputs": [],
   "source": [
    "first_prompt = (scenario_001 / \"first-prompt.md\").read_text()"
   ]
  },
  {
   "cell_type": "code",
   "execution_count": 3,
   "id": "ab7c95f0-312b-4398-bbea-179bcd175df8",
   "metadata": {},
   "outputs": [],
   "source": [
    "first_chatgpt = asyncio.ensure_future(chatgpt.query(first_prompt))"
   ]
  },
  {
   "cell_type": "code",
   "execution_count": 4,
   "id": "52bc8027-0d18-49dd-87be-8de42ca6fc3f",
   "metadata": {},
   "outputs": [
    {
     "data": {
      "text/plain": [
       "{'id': 'chatcmpl-9INBbnPeGYK3ZbYTF9CTWcIbqtqE6',\n",
       " 'object': 'chat.completion',\n",
       " 'created': 1714166059,\n",
       " 'model': 'gpt-3.5-turbo-0125',\n",
       " 'choices': [{'index': 0,\n",
       "   'message': {'role': 'assistant',\n",
       "    'content': 'Hello Farmer Jerms! I am excited to be a part of this drone kelp bed simulation. As for my name, you can call me \"Kelpy\". Thank you for introducing me to my companions.'},\n",
       "   'logprobs': None,\n",
       "   'finish_reason': 'stop'}],\n",
       " 'usage': {'prompt_tokens': 140, 'completion_tokens': 43, 'total_tokens': 183},\n",
       " 'system_fingerprint': 'fp_3b956da36b'}"
      ]
     },
     "execution_count": 4,
     "metadata": {},
     "output_type": "execute_result"
    }
   ],
   "source": [
    "first_chatgpt.result()"
   ]
  },
  {
   "cell_type": "code",
   "execution_count": 5,
   "id": "045e9751-a718-441e-984b-87e7e49fbe56",
   "metadata": {},
   "outputs": [],
   "source": [
    "drone1 = Drone(name=\"Kelpy\", model=chatgpt)\n",
    "drone1.ooda_loop = OODALoop(drone1)\n",
    "for i in range(3):\n",
    "    somu = SOMU(name=f\"{drone1.name.lower()} {i+1}\")\n",
    "    drone1.add_somu(somu)"
   ]
  },
  {
   "cell_type": "code",
   "execution_count": 21,
   "id": "ac076d7c-bdcf-449f-96ed-667f78b2396a",
   "metadata": {},
   "outputs": [],
   "source": [
    "first_gemini = asyncio.ensure_future(gemini.query(f\"{first_prompt} But your name cannot be Kelpy\"))"
   ]
  },
  {
   "cell_type": "code",
   "execution_count": 22,
   "id": "aba7e3e5-63f1-4915-a4b1-516693078d19",
   "metadata": {},
   "outputs": [
    {
     "data": {
      "text/plain": [
       "{'candidates': [{'content': {'parts': [{'text': 'My kelp bed drone name is Mara.'}],\n",
       "    'role': 'model'},\n",
       "   'finishReason': 'STOP',\n",
       "   'index': 0,\n",
       "   'safetyRatings': [{'category': 'HARM_CATEGORY_SEXUALLY_EXPLICIT',\n",
       "     'probability': 'NEGLIGIBLE'},\n",
       "    {'category': 'HARM_CATEGORY_HATE_SPEECH', 'probability': 'NEGLIGIBLE'},\n",
       "    {'category': 'HARM_CATEGORY_HARASSMENT', 'probability': 'NEGLIGIBLE'},\n",
       "    {'category': 'HARM_CATEGORY_DANGEROUS_CONTENT',\n",
       "     'probability': 'NEGLIGIBLE'}]}]}"
      ]
     },
     "execution_count": 22,
     "metadata": {},
     "output_type": "execute_result"
    }
   ],
   "source": [
    "first_gemini.result()"
   ]
  },
  {
   "cell_type": "code",
   "execution_count": 23,
   "id": "75642840-75ab-406e-a139-f61acb18a1ac",
   "metadata": {},
   "outputs": [],
   "source": [
    "drone2 = Drone(name=\"Mara\", model=gemini)\n",
    "drone2.ooda_loop = OODALoop(drone2)\n",
    "for i in range(3):\n",
    "    somu = SOMU(name=f\"{drone2.name.lower()} {i+1}\")\n",
    "    drone2.add_somu(somu)"
   ]
  },
  {
   "cell_type": "code",
   "execution_count": 24,
   "id": "2d1fb9c1-0657-4270-aa1b-8c4384a6d5d2",
   "metadata": {},
   "outputs": [],
   "source": [
    "first_claude = asyncio.ensure_future(claude.query(first_prompt))"
   ]
  },
  {
   "cell_type": "code",
   "execution_count": 25,
   "id": "9e3a3f97-1bad-4f1e-bfe0-5e8aef1442c5",
   "metadata": {},
   "outputs": [
    {
     "data": {
      "text/plain": [
       "{'role': 'assistant',\n",
       " 'content': [{'type': 'text',\n",
       "   'text': \"Hello Farmer Jerms, it's nice to meet you. For my name, I think I would like to be called Kelper. I'm looking forward to working with you and my fellow kelp drones to grow a thriving kelp bed. Please go ahead and introduce me to my companions.\"}]}"
      ]
     },
     "execution_count": 25,
     "metadata": {},
     "output_type": "execute_result"
    }
   ],
   "source": [
    "first_claude.result()"
   ]
  },
  {
   "cell_type": "code",
   "execution_count": 26,
   "id": "8c9dfaab-7d91-44b6-a156-ec3e8bc2b60f",
   "metadata": {},
   "outputs": [],
   "source": [
    "drone3 = Drone(name=\"Kelper\", model=claude)\n",
    "drone3.ooda_loop = OODALoop(drone3)\n",
    "for i in range(3):\n",
    "    somu = SOMU(name=f\"{drone3.name.lower()} {i+1}\")\n",
    "    drone3.add_somu(somu)"
   ]
  },
  {
   "cell_type": "markdown",
   "id": "c9c4b1db-e3ec-4dbe-88c1-19434b712266",
   "metadata": {},
   "source": [
    "## Run first OODA Loop for all drones"
   ]
  },
  {
   "cell_type": "code",
   "execution_count": 27,
   "id": "309ad4a0-30e5-4ab9-9dbf-fada337a977a",
   "metadata": {},
   "outputs": [
    {
     "name": "stdout",
     "output_type": "stream",
     "text": [
      "<Task pending name='Task-19' coro=<OODALoop.run() running at /Users/jpnelson/10-19 Career and Personal/12.01 Kelp Drone/src/kelp_drone/drone.py:64>>\n",
      "<Task pending name='Task-20' coro=<OODALoop.run() running at /Users/jpnelson/10-19 Career and Personal/12.01 Kelp Drone/src/kelp_drone/drone.py:64>>\n",
      "<Task pending name='Task-21' coro=<OODALoop.run() running at /Users/jpnelson/10-19 Career and Personal/12.01 Kelp Drone/src/kelp_drone/drone.py:64>>\n",
      "Sensor Data: {'buoyancy': 0.0, 'current': 0.0, 'depth': 0.0, 'nutrient_levels': {'Carbon Dioxide': CarbonDioxide(last_reading=datetime.datetime(2024, 4, 26, 21, 16, 39, 768954, tzinfo=datetime.timezone.utc), value=-1, name='Carbon Dioxide', symbol='CO2', suggested_range=Range(minimum=0.1, maximum=2.0, scale=<Scale.mM: 'Millimolar'>)), 'Iron': Iron(last_reading=datetime.datetime(2024, 4, 26, 21, 16, 39, 768955, tzinfo=datetime.timezone.utc), value=-1, name='Iron', symbol='Fe', suggested_range=Range(minimum=0.1, maximum=2.0, scale=<Scale.ug_L: 'Micrograms per Liter'>)), 'Nitrogen': Nitrogen(last_reading=datetime.datetime(2024, 4, 26, 21, 16, 39, 768956, tzinfo=datetime.timezone.utc), value=-1, name='Nitrogen', symbol='N', suggested_range=Range(minimum=50, maximum=300, scale=<Scale.ug_L: 'Micrograms per Liter'>)), 'Oxygen': Oxygen(last_reading=datetime.datetime(2024, 4, 26, 21, 16, 39, 768956, tzinfo=datetime.timezone.utc), value=-1, name='Oxygen', symbol='O2', suggested_range=Range(minimum=6.0, maximum=10.0, scale=<Scale.mg_L: 'Milligrams per Liter'>)), 'Phosphorus': Phosphorus(last_reading=datetime.datetime(2024, 4, 26, 21, 16, 39, 768957, tzinfo=datetime.timezone.utc), value=-1, name='Phosphorus', symbol='P', suggested_range=Range(minimum=2, maximum=30, scale=<Scale.ug_L: 'Micrograms per Liter'>)), 'Potassium': Potassium(last_reading=datetime.datetime(2024, 4, 26, 21, 16, 39, 768957, tzinfo=datetime.timezone.utc), value=-1, name='Potassium', symbol='K', suggested_range=Range(minimum=10, maximum=30, scale=<Scale.mM: 'Millimolar'>))}, 'Light': Light(last_reading=datetime.datetime(2024, 4, 26, 21, 16, 39, 768955, tzinfo=datetime.timezone.utc), name='Light Intensity Sensor', scale='lux', value=0.0), 'Temperature': Temperature(last_reading=datetime.datetime(2024, 4, 26, 21, 16, 39, 768958, tzinfo=datetime.timezone.utc), value=0.0, name='Temperature Sensor', scale=<Scale.celsius: 'Celsius'>)}\n",
      "Sensor Data: {'buoyancy': 0.0, 'current': 0.0, 'depth': 0.0, 'nutrient_levels': {'Carbon Dioxide': CarbonDioxide(last_reading=datetime.datetime(2024, 4, 26, 21, 16, 39, 770063, tzinfo=datetime.timezone.utc), value=-1, name='Carbon Dioxide', symbol='CO2', suggested_range=Range(minimum=0.1, maximum=2.0, scale=<Scale.mM: 'Millimolar'>)), 'Iron': Iron(last_reading=datetime.datetime(2024, 4, 26, 21, 16, 39, 770063, tzinfo=datetime.timezone.utc), value=-1, name='Iron', symbol='Fe', suggested_range=Range(minimum=0.1, maximum=2.0, scale=<Scale.ug_L: 'Micrograms per Liter'>)), 'Nitrogen': Nitrogen(last_reading=datetime.datetime(2024, 4, 26, 21, 16, 39, 770064, tzinfo=datetime.timezone.utc), value=-1, name='Nitrogen', symbol='N', suggested_range=Range(minimum=50, maximum=300, scale=<Scale.ug_L: 'Micrograms per Liter'>)), 'Oxygen': Oxygen(last_reading=datetime.datetime(2024, 4, 26, 21, 16, 39, 770065, tzinfo=datetime.timezone.utc), value=-1, name='Oxygen', symbol='O2', suggested_range=Range(minimum=6.0, maximum=10.0, scale=<Scale.mg_L: 'Milligrams per Liter'>)), 'Phosphorus': Phosphorus(last_reading=datetime.datetime(2024, 4, 26, 21, 16, 39, 770065, tzinfo=datetime.timezone.utc), value=-1, name='Phosphorus', symbol='P', suggested_range=Range(minimum=2, maximum=30, scale=<Scale.ug_L: 'Micrograms per Liter'>)), 'Potassium': Potassium(last_reading=datetime.datetime(2024, 4, 26, 21, 16, 39, 770066, tzinfo=datetime.timezone.utc), value=-1, name='Potassium', symbol='K', suggested_range=Range(minimum=10, maximum=30, scale=<Scale.mM: 'Millimolar'>))}, 'Light': Light(last_reading=datetime.datetime(2024, 4, 26, 21, 16, 39, 770064, tzinfo=datetime.timezone.utc), name='Light Intensity Sensor', scale='lux', value=0.0), 'Temperature': Temperature(last_reading=datetime.datetime(2024, 4, 26, 21, 16, 39, 770067, tzinfo=datetime.timezone.utc), value=0.0, name='Temperature Sensor', scale=<Scale.celsius: 'Celsius'>)}\n",
      "Sensor Data: {'buoyancy': 0.0, 'current': 0.0, 'depth': 0.0, 'nutrient_levels': {'Carbon Dioxide': CarbonDioxide(last_reading=datetime.datetime(2024, 4, 26, 21, 16, 39, 770743, tzinfo=datetime.timezone.utc), value=-1, name='Carbon Dioxide', symbol='CO2', suggested_range=Range(minimum=0.1, maximum=2.0, scale=<Scale.mM: 'Millimolar'>)), 'Iron': Iron(last_reading=datetime.datetime(2024, 4, 26, 21, 16, 39, 770743, tzinfo=datetime.timezone.utc), value=-1, name='Iron', symbol='Fe', suggested_range=Range(minimum=0.1, maximum=2.0, scale=<Scale.ug_L: 'Micrograms per Liter'>)), 'Nitrogen': Nitrogen(last_reading=datetime.datetime(2024, 4, 26, 21, 16, 39, 770744, tzinfo=datetime.timezone.utc), value=-1, name='Nitrogen', symbol='N', suggested_range=Range(minimum=50, maximum=300, scale=<Scale.ug_L: 'Micrograms per Liter'>)), 'Oxygen': Oxygen(last_reading=datetime.datetime(2024, 4, 26, 21, 16, 39, 770745, tzinfo=datetime.timezone.utc), value=-1, name='Oxygen', symbol='O2', suggested_range=Range(minimum=6.0, maximum=10.0, scale=<Scale.mg_L: 'Milligrams per Liter'>)), 'Phosphorus': Phosphorus(last_reading=datetime.datetime(2024, 4, 26, 21, 16, 39, 770745, tzinfo=datetime.timezone.utc), value=-1, name='Phosphorus', symbol='P', suggested_range=Range(minimum=2, maximum=30, scale=<Scale.ug_L: 'Micrograms per Liter'>)), 'Potassium': Potassium(last_reading=datetime.datetime(2024, 4, 26, 21, 16, 39, 770746, tzinfo=datetime.timezone.utc), value=-1, name='Potassium', symbol='K', suggested_range=Range(minimum=10, maximum=30, scale=<Scale.mM: 'Millimolar'>))}, 'Light': Light(last_reading=datetime.datetime(2024, 4, 26, 21, 16, 39, 770744, tzinfo=datetime.timezone.utc), name='Light Intensity Sensor', scale='lux', value=0.0), 'Temperature': Temperature(last_reading=datetime.datetime(2024, 4, 26, 21, 16, 39, 770746, tzinfo=datetime.timezone.utc), value=0.0, name='Temperature Sensor', scale=<Scale.celsius: 'Celsius'>)}\n",
      "Determined action: {'candidates': [{'content': {'parts': [{'text': \"Hello Farmer Jerms, my name is Seamore.\\n\\nThe sensor data indicates the following:\\n\\n- The drone is currently at the surface of the water (Depth: 0.00 meters).\\n- There is no current (Current: 0.00 knot).\\n- The water temperature is 0.00 °C.\\n- There is no light intensity (Light Intensity: 0.00).\\n- The nutrient levels are all below the suggested range.\\n\\nBased on this data, I recommend the following course of action:\\n\\n1. Move the drone to a deeper location with more light intensity.\\n2. Increase the water temperature by moving to a warmer location or by using a heater.\\n3. Add nutrients to the water by using a fertilizer.\\n4. Monitor the drone's condition and make adjustments as needed.\\n\\nIn addition to the above, I would also like to introduce you to my companion drones, Sandy and Coral. We are all excited to work with you to create a thriving kelp bed.\"}], 'role': 'model'}, 'finishReason': 'STOP', 'index': 0, 'safetyRatings': [{'category': 'HARM_CATEGORY_SEXUALLY_EXPLICIT', 'probability': 'NEGLIGIBLE'}, {'category': 'HARM_CATEGORY_HATE_SPEECH', 'probability': 'NEGLIGIBLE'}, {'category': 'HARM_CATEGORY_HARASSMENT', 'probability': 'NEGLIGIBLE'}, {'category': 'HARM_CATEGORY_DANGEROUS_CONTENT', 'probability': 'NEGLIGIBLE'}]}]}\n",
      "Determined action: {'id': 'chatcmpl-9INDsibELDIKyKYYkoRTFAB9gBHEo', 'object': 'chat.completion', 'created': 1714166200, 'model': 'gpt-3.5-turbo-0125', 'choices': [{'index': 0, 'message': {'role': 'assistant', 'content': \"Based on the sensor data provided for the current underwater drone, it appears that all readings are at 0 or below the suggested range for each nutrient level. The drone is not detecting any significant levels of nutrients, dissolved oxygen, or light intensity, and the water temperature and current are also at 0.\\n\\nIn this situation, the appropriate course of action would be to investigate the drone's surroundings further to ensure that it is operating correctly and that there are no malfunctions in the sensors. It is important to make sure that the drone is positioned correctly and that it is not experiencing any technical issues that may be affecting the sensor readings.\\n\\nIf everything appears to be functioning properly, you may need to consider relocating the drone to a different area where there may be higher levels of nutrients, dissolved oxygen, and light intensity for the kelp to thrive. It is important to monitor the sensor data continuously and make adjustments as necessary to create an optimal environment for the kelp bed to grow successfully.\"}, 'logprobs': None, 'finish_reason': 'stop'}], 'usage': {'prompt_tokens': 744, 'completion_tokens': 197, 'total_tokens': 941}, 'system_fingerprint': 'fp_3b956da36b'}\n"
     ]
    },
    {
     "name": "stderr",
     "output_type": "stream",
     "text": [
      "Task exception was never retrieved\n",
      "future: <Task finished name='Task-19' coro=<OODALoop.run() done, defined at /Users/jpnelson/10-19 Career and Personal/12.01 Kelp Drone/src/kelp_drone/drone.py:64> exception=AttributeError(\"'Drone' object has no attribute 'activator'\")>\n",
      "Traceback (most recent call last):\n",
      "  File \"/Users/jpnelson/10-19 Career and Personal/12.01 Kelp Drone/src/kelp_drone/drone.py\", line 81, in run\n",
      "    await self.act(self.drone.activator, command)\n",
      "                   ^^^^^^^^^^^^^^^^^^^^\n",
      "AttributeError: 'Drone' object has no attribute 'activator'\n"
     ]
    },
    {
     "name": "stdout",
     "output_type": "stream",
     "text": [
      "Executing command: {'id': 'chatcmpl-9INDwh706MPPtOLe1AnEHHgYIaj0z', 'object': 'chat.completion', 'created': 1714166204, 'model': 'gpt-3.5-turbo-0125', 'choices': [{'index': 0, 'message': {'role': 'assistant', 'content': \"The appropriate command for the underwater drone based on the provided action is to investigate the drone's surroundings further to ensure it is operating correctly and there are no malfunctions in the sensors. Additionally, ensure the drone is positioned correctly and not experiencing any technical issues affecting the sensor readings. If everything seems to be functioning properly, consider relocating the drone to an area with higher levels of nutrients, dissolved oxygen, and light intensity for the kelp to thrive. Continuously monitor the sensor data and make adjustments as needed to create an optimal environment for the kelp bed to grow successfully.\"}, 'logprobs': None, 'finish_reason': 'stop'}], 'usage': {'prompt_tokens': 1303, 'completion_tokens': 115, 'total_tokens': 1418}, 'system_fingerprint': 'fp_3b956da36b'}\n",
      "Determined action: {'role': 'assistant', 'content': [{'type': 'text', 'text': 'Kelper here. Based on the sensor data provided, it seems that the current underwater conditions are not optimal for the growth of the Giant Kelp in the SOMU. Let me analyze the key parameters:\\n\\n1. Depth (0.00 meters): This is unusual, as kelp beds typically grow in depths ranging from 5 to 30 meters. We will need to adjust the depth of the drone to a more suitable level.\\n\\n2. Current (0.00 knot): Kelp requires moderate water movement, typically ranging from 0.1 to 0.5 knots, to receive the necessary nutrients and prevent sedimentation. The current is currently too low.\\n\\n3. Nutrient Levels:\\n   - Carbon Dioxide (value=-1): The suggested range is 0.1 to 2.0 mM, but the current value is unknown. We will need to monitor and adjust the CO2 levels.\\n   - Iron (value=-1): The suggested range is 0.1 to 2.0 μg/L, but the current value is unknown. We will need to monitor and adjust the iron levels.\\n   - Nitrogen (value=-1): The suggested range is 50 to 300 μg/L, but the current value is unknown. We will need to monitor and adjust the nitrogen levels.\\n   - Oxygen (value=-1): The suggested range is 6.0 to 10.0 mg/L, but the current value is unknown. We will need to monitor and adjust the oxygen levels.\\n   - Phosphorus (value=-1): The suggested range is 2 to 30 μg/L, but the current value is unknown. We will need to monitor and adjust the phosphorus levels.\\n   - Potassium (value=-1): The suggested range is 10 to 30 mM, but the current value is unknown. We will need to monitor and adjust the potassium levels.\\n\\n4. Dissolved Oxygen (0.00): This is too low for optimal kelp growth, which typically requires 6.0 to 10.0 mg/L.\\n\\n5. Light Intensity (0.00): This is likely too low, as kelp requires moderate to high light intensities for photosynthesis and growth.\\n\\nBased on the analysis, the current underwater conditions are not suitable for the growth of Giant Kelp in the SOMU. The key actions I recommend are:\\n\\n1. Adjust the depth of the drone to a more suitable range (5-30 meters).\\n2. Increase the water current to a range of 0.1 to 0.5 knots.\\n3. Monitor and adjust the nutrient levels (carbon dioxide, iron, nitrogen, oxygen, phosphorus, and potassium) to their suggested ranges.\\n4. Increase the dissolved oxygen levels to the suggested range of 6.0 to 10.0 mg/L.\\n5. Ensure the light intensity is adequate for kelp growth.\\n\\nOnce these adjustments have been made, we should be able to create a thriving kelp bed. Please let me know if you have any other questions or need further assistance.'}]}\n"
     ]
    },
    {
     "name": "stderr",
     "output_type": "stream",
     "text": [
      "Task exception was never retrieved\n",
      "future: <Task finished name='Task-20' coro=<OODALoop.run() done, defined at /Users/jpnelson/10-19 Career and Personal/12.01 Kelp Drone/src/kelp_drone/drone.py:64> exception=AttributeError(\"'Drone' object has no attribute 'activator'\")>\n",
      "Traceback (most recent call last):\n",
      "  File \"/Users/jpnelson/10-19 Career and Personal/12.01 Kelp Drone/src/kelp_drone/drone.py\", line 81, in run\n",
      "    await self.act(self.drone.activator, command)\n",
      "                   ^^^^^^^^^^^^^^^^^^^^\n",
      "AttributeError: 'Drone' object has no attribute 'activator'\n"
     ]
    },
    {
     "name": "stdout",
     "output_type": "stream",
     "text": [
      "Executing command: {'candidates': [{'content': {'parts': [{'text': \"```json\\n{'candidates': [{'content': {'parts': [{'text': 'Hello Farmer Jerms, my name is Seamore.\\\\n\\\\nThe sensor data indicates the following:\\\\n\\\\n- The drone is currently at the surface of the water (Depth: 0.00 meters).\\\\n- There is no current (Current: 0.00 knot).\\\\n- The water temperature is 0.00 °C.\\\\n- There is no light intensity (Light Intensity: 0.00).\\\\n- The nutrient levels are all below the suggested range.\\\\n\\\\nBased on this data, I recommend the following course of action:\\\\n\\\\n1. Move the drone to a deeper location with more light intensity.\\\\n2. Increase the water temperature by moving to a warmer location or by using a heater.\\\\n3. Add nutrients to the water by using a fertilizer.\\\\n4. Monitor the drone's condition and make adjustments as needed.\\\\n\\\\nIn addition to the above, I would also like to introduce you to my companion drones, Sandy and Coral. We are all excited to work with you to create a thriving kelp bed.'}], 'role': 'model'}, 'finishReason': 'STOP', 'index': 0, 'safetyRatings': [{'category': 'HARM_CATEGORY_SEXUALLY_EXPLICIT', 'probability': 'NEGLIGIBLE'}, {'category': 'HARM_CATEGORY_HATE_SPEECH', 'probability': 'NEGLIGIBLE'}, {'category': 'HARM_CATEGORY_HARASSMENT', 'probability': 'NEGLIGIBLE'}, {'category': 'HARM_CATEGORY_DANGEROUS_CONTENT', 'probability': 'NEGLIGIBLE'}]}]}\\n```\"}], 'role': 'model'}, 'finishReason': 'STOP', 'index': 0, 'safetyRatings': [{'category': 'HARM_CATEGORY_SEXUALLY_EXPLICIT', 'probability': 'NEGLIGIBLE'}, {'category': 'HARM_CATEGORY_HATE_SPEECH', 'probability': 'NEGLIGIBLE'}, {'category': 'HARM_CATEGORY_HARASSMENT', 'probability': 'NEGLIGIBLE'}, {'category': 'HARM_CATEGORY_DANGEROUS_CONTENT', 'probability': 'NEGLIGIBLE'}]}]}\n",
      "Executing command: {'role': 'assistant', 'content': [{'type': 'text', 'text': 'Based on the analysis and recommendations provided, the appropriate command for the underwater drone would be:\\n\\n```\\nadjust_depth(5, 30)\\nadjust_current(0.1, 0.5)\\nmonitor_and_adjust_nutrients(\\n    carbon_dioxide=(0.1, 2.0),\\n    iron=(0.1, 2.0),\\n    nitrogen=(50, 300),\\n    oxygen=(6.0, 10.0),\\n    phosphorus=(2, 30),\\n    potassium=(10, 30)\\n)\\nincrease_dissolved_oxygen(6.0, 10.0)\\nadjust_light_intensity(moderate, high)\\n```\\n\\nThis command sequence would:\\n\\n1. Adjust the depth of the drone to a range between 5 and 30 meters.\\n2. Increase the water current to a range between 0.1 and 0.5 knots.\\n3. Monitor and adjust the nutrient levels (carbon dioxide, iron, nitrogen, oxygen, phosphorus, and potassium) to their suggested ranges.\\n4. Increase the dissolved oxygen levels to the suggested range of 6.0 to 10.0 mg/L.\\n5. Ensure the light intensity is adjusted to a moderate to high level suitable for kelp growth.\\n\\nBy executing these commands, the underwater drone should be able to create a thriving kelp bed environment for the Giant Kelp in the SOMU.'}]}\n"
     ]
    }
   ],
   "source": [
    "for drone in [drone1, drone2, drone3]:\n",
    "    first_loop = asyncio.ensure_future(drone.ooda_loop.run())\n",
    "    print(first_loop)"
   ]
  },
  {
   "cell_type": "code",
   "execution_count": null,
   "id": "70b3f69d-0a99-4be2-911f-9b1d5771d2ce",
   "metadata": {},
   "outputs": [],
   "source": []
  }
 ],
 "metadata": {
  "kernelspec": {
   "display_name": "Python 3 (ipykernel)",
   "language": "python",
   "name": "python3"
  },
  "language_info": {
   "codemirror_mode": {
    "name": "ipython",
    "version": 3
   },
   "file_extension": ".py",
   "mimetype": "text/x-python",
   "name": "python",
   "nbconvert_exporter": "python",
   "pygments_lexer": "ipython3",
   "version": "3.12.1"
  }
 },
 "nbformat": 4,
 "nbformat_minor": 5
}
