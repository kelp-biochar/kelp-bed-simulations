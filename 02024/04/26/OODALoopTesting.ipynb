{
 "cells": [
  {
   "cell_type": "code",
   "execution_count": 1,
   "id": "8953bde4-be97-4b5e-a0bd-ebfca1623d37",
   "metadata": {},
   "outputs": [],
   "source": [
    "import asyncio\n",
    "import pathlib\n",
    "import sys\n",
    "\n",
    "import httpx\n",
    "from kelp_drone.drone import Drone, OODALoop\n",
    "from kelp_drone.somu import SpeciesOccurrenceManagmentUnit as SOMU\n",
    "\n",
    "sys.path.append(\"../../../src/\")\n",
    "\n",
    "from kelp_bed_simulation.prep import chatgpt, claude"
   ]
  },
  {
   "cell_type": "code",
   "execution_count": 2,
   "id": "f959f0e0-a44b-491a-84a3-35b876787801",
   "metadata": {},
   "outputs": [],
   "source": [
    "oceanus = Drone(name='Oceanus', model=chatgpt)"
   ]
  },
  {
   "cell_type": "code",
   "execution_count": 3,
   "id": "e1e9c6b0-06be-4620-9b7e-de8450ddcb1d",
   "metadata": {},
   "outputs": [],
   "source": [
    "oceanus.ooda_loop = OODALoop(drone=oceanus)"
   ]
  },
  {
   "cell_type": "code",
   "execution_count": 4,
   "id": "a818fc1d-521a-4c3b-920f-7972fcf27a3b",
   "metadata": {},
   "outputs": [
    {
     "name": "stdout",
     "output_type": "stream",
     "text": [
      "Sensor Data: {'buoyancy': 0.0, 'current': 0.0, 'depth': 0.0}\n"
     ]
    }
   ],
   "source": [
    "first_loop = asyncio.ensure_future(oceanus.ooda_loop.run())"
   ]
  },
  {
   "cell_type": "code",
   "execution_count": 5,
   "id": "8fd59289-e40f-42cb-bab4-138b81efaa6d",
   "metadata": {},
   "outputs": [
    {
     "data": {
      "text/plain": [
       "<Task cancelling name='Task-5' coro=<OODALoop.run() running at /Users/jpnelson/10-19 Career and Personal/12.01 Kelp Drone/src/kelp_drone/drone.py:74> wait_for=<Future pending cb=[Task.task_wakeup()]>>"
      ]
     },
     "execution_count": 5,
     "metadata": {},
     "output_type": "execute_result"
    },
    {
     "name": "stdout",
     "output_type": "stream",
     "text": [
      "Determined action: {'id': 'chatcmpl-9IMj6DNqGCyqqQoKPpTWTTvcw5KFw', 'object': 'chat.completion', 'created': 1714164292, 'model': 'gpt-3.5-turbo-0125', 'choices': [{'index': 0, 'message': {'role': 'assistant', 'content': \"Based on the sensor data provided, it appears that the underwater drone is currently at the surface of the water as the depth is 0 meters. The current, temperature, light intensity, and dissolved oxygen levels are all at 0, which may indicate that the drone is not submerged and may not be functioning properly.\\n\\nThe appropriate course of action would be to investigate why the drone is not submerged and why the sensors are all reading 0. It is possible that there is a malfunction with the drone's systems or that it is not correctly calibrated. \\n\\nIf the drone is meant to be submerged, it should be carefully checked and potentially recalibrated before being deployed again. If there are any visible issues or malfunctions, they should be addressed before attempting to use the drone in the water.\"}, 'logprobs': None, 'finish_reason': 'stop'}], 'usage': {'prompt_tokens': 75, 'completion_tokens': 157, 'total_tokens': 232}, 'system_fingerprint': 'fp_3b956da36b'}\n",
      "Executing command: {'id': 'chatcmpl-9IMj9vMDZFzSTyysByL37WyGNvfch', 'object': 'chat.completion', 'created': 1714164295, 'model': 'gpt-3.5-turbo-0125', 'choices': [{'index': 0, 'message': {'role': 'assistant', 'content': \"The appropriate command for the underwater drone based on the analysis of the sensor data is to investigate why the drone is not submerged and why all the sensors are reading 0. Check for any malfunctions with the drone's systems or potential calibration issues. If the drone is meant to be submerged, carefully check and potentially recalibrate it before deploying it again. Address any visible issues or malfunctions before attempting to use the drone in the water.\"}, 'logprobs': None, 'finish_reason': 'stop'}], 'usage': {'prompt_tokens': 556, 'completion_tokens': 87, 'total_tokens': 643}, 'system_fingerprint': 'fp_3b956da36b'}\n"
     ]
    }
   ],
   "source": [
    "first_loop"
   ]
  },
  {
   "cell_type": "code",
   "execution_count": 6,
   "id": "3c4171c3-9ec2-459a-9b99-ad802b09cc26",
   "metadata": {},
   "outputs": [],
   "source": [
    "kelper = Drone(name='Kelper', model=claude)"
   ]
  },
  {
   "cell_type": "code",
   "execution_count": 7,
   "id": "2b2788b5-66d8-44fc-9456-7b5bd5897dff",
   "metadata": {},
   "outputs": [],
   "source": [
    "kelper.ooda_loop = OODALoop(drone=kelper)"
   ]
  },
  {
   "cell_type": "code",
   "execution_count": 8,
   "id": "e3043887-f32a-4e5e-bee9-db20380f3968",
   "metadata": {},
   "outputs": [
    {
     "name": "stdout",
     "output_type": "stream",
     "text": [
      "Sensor Data: {'buoyancy': 0.0, 'current': 0.0, 'depth': 0.0}\n"
     ]
    }
   ],
   "source": [
    "first_kelper_loop = asyncio.ensure_future(kelper.ooda_loop.run())"
   ]
  },
  {
   "cell_type": "code",
   "execution_count": 9,
   "id": "da9ee37a-2b88-4df7-b599-9e569cd8544c",
   "metadata": {},
   "outputs": [
    {
     "data": {
      "text/plain": [
       "<Task cancelling name='Task-7' coro=<OODALoop.run() running at /Users/jpnelson/10-19 Career and Personal/12.01 Kelp Drone/src/kelp_drone/drone.py:74> wait_for=<Future pending cb=[Task.task_wakeup()]>>"
      ]
     },
     "execution_count": 9,
     "metadata": {},
     "output_type": "execute_result"
    },
    {
     "name": "stdout",
     "output_type": "stream",
     "text": [
      "Determined action: {'role': 'assistant', 'content': [{'type': 'text', 'text': \"Based on the sensor data provided, the current underwater drone is operating in the following conditions:\\n\\n1. Depth: 0.00 meters - This indicates the drone is at the surface or very close to it.\\n2. Current: 0.00 knot - This suggests there is no significant current at the drone's location.\\n3. Temperature: 0.00 °C - This temperature reading is very low, potentially indicating the drone is in a cold environment.\\n4. Light Intensity: 0.00 - This low light intensity reading suggests the drone is either in a dark environment or at a depth where sunlight is not reaching.\\n5. Nutrient Levels: {} - The data shows no nutrients being detected, which could indicate a lack of biological activity or a nutrient-poor environment.\\n6. Dissolved Oxygen: 0.00 - This very low dissolved oxygen reading indicates a potentially hypoxic or anoxic environment, which can be hazardous for aquatic life.\\n\\nGiven this sensor data, the appropriate course of action would be:\\n\\n1. Assess the drone's location and environment. The low temperature, light, and oxygen levels suggest the drone may be in a deep, cold, and potentially oxygen-depleted area.\\n2. Consider adjusting the drone's depth to reach a more favorable environment with higher temperatures, light, and dissolved oxygen levels. This could involve gradually ascending the drone to the surface or to a depth with more suitable conditions.\\n3. Monitor the drone's systems and sensor data closely to ensure it is operating within safe parameters. Prepare for potential challenges, such as changes in water pressure, as the drone adjusts its depth.\\n4. If the drone is in a particularly challenging environment, consider initiating an emergency return to the surface or a pre-determined safe location, depending on the drone's capabilities and the team's assessment of the situation.\\n5. Analyze the data further to understand the underwater environment and make necessary adjustments to the drone's mission or operational parameters for future deployments.\\n\\nThe key priorities should be ensuring the safety of the drone, while also gathering valuable data about the underwater environment and making informed decisions to optimize the drone's performance and mission success.\"}]}\n",
      "Executing command: {'role': 'assistant', 'content': [{'type': 'text', 'text': 'Based on the analysis provided, the appropriate command for the underwater drone would be:\\n\\nAscend Drone\\n\\nThe sensor data indicates that the drone is currently in a challenging environment with low temperature, light, and dissolved oxygen levels. This suggests the drone may be at a significant depth, potentially in a deep, cold, and oxygen-depleted area.\\n\\nThe recommended course of action is to initiate a gradual ascent of the drone, bringing it closer to the surface where the environment is likely to be more favorable. This will help the drone reach a depth with higher temperatures, light, and dissolved oxygen levels, improving the operating conditions and ensuring the safety of the drone.\\n\\nBy ascending the drone, the team can also better assess the drone\\'s location and the surrounding underwater environment, and make further adjustments to the mission or operational parameters as needed. Monitoring the drone\\'s systems and sensor data closely during the ascent is crucial to manage any potential challenges, such as changes in water pressure.\\n\\nIn a situation where the drone is in a particularly challenging environment, the team may also need to consider initiating an emergency return to the surface or a pre-determined safe location, depending on the drone\\'s capabilities and the team\\'s assessment of the situation.\\n\\nOverall, the \"Ascend Drone\" command is the appropriate action based on the provided sensor data and the analysis, with the goal of ensuring the safety of the drone and optimizing its performance in a more favorable underwater environment.'}]}\n"
     ]
    }
   ],
   "source": [
    "first_kelper_loop"
   ]
  },
  {
   "cell_type": "code",
   "execution_count": null,
   "id": "64539628-bebd-4b11-ad01-12c27b7e1e25",
   "metadata": {},
   "outputs": [],
   "source": [
    "kelper.model.messages"
   ]
  },
  {
   "cell_type": "code",
   "execution_count": null,
   "id": "0409d61f-9f4c-4972-94a6-b06536c87431",
   "metadata": {},
   "outputs": [],
   "source": []
  }
 ],
 "metadata": {
  "kernelspec": {
   "display_name": "Python 3 (ipykernel)",
   "language": "python",
   "name": "python3"
  },
  "language_info": {
   "codemirror_mode": {
    "name": "ipython",
    "version": 3
   },
   "file_extension": ".py",
   "mimetype": "text/x-python",
   "name": "python",
   "nbconvert_exporter": "python",
   "pygments_lexer": "ipython3",
   "version": "3.12.1"
  }
 },
 "nbformat": 4,
 "nbformat_minor": 5
}
